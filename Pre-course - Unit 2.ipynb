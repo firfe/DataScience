{
 "cells": [
  {
   "cell_type": "code",
   "execution_count": 23,
   "metadata": {},
   "outputs": [
    {
     "ename": "SyntaxError",
     "evalue": "invalid syntax (<ipython-input-23-d43194a85321>, line 19)",
     "output_type": "error",
     "traceback": [
      "\u001b[1;36m  File \u001b[1;32m\"<ipython-input-23-d43194a85321>\"\u001b[1;36m, line \u001b[1;32m19\u001b[0m\n\u001b[1;33m    plt.hist([df['lifeMale'])\u001b[0m\n\u001b[1;37m                            ^\u001b[0m\n\u001b[1;31mSyntaxError\u001b[0m\u001b[1;31m:\u001b[0m invalid syntax\n"
     ]
    }
   ],
   "source": [
    "import pandas as pd\n",
    "import math\n",
    "import numpy as np\n",
    "import matplotlib.pyplot as plt\n",
    "#https://www.kaggle.com/city-of-seattle/seattle-use-of-force#use-of-force.csv\n",
    "#https://www.kaggle.com/lava18/google-play-store-apps#googleplaystore.csv\n",
    "def convert_installs(cell):\n",
    "    cell = cell[:-1]\n",
    "    return cell\n",
    "\n",
    "df = pd.read_csv('un.csv')\n",
    "\n",
    "#use to get rid of NaN\n",
    "#df.dropna(inplace=True)\n",
    "\n",
    "#histogram=df['Rating']\n",
    "#histogram.hist(range=(2,5), bins = 50, rwidth=.5)\n",
    "df.head()\n",
    "#\n",
    "#"
   ]
  },
  {
   "cell_type": "code",
   "execution_count": 25,
   "metadata": {},
   "outputs": [
    {
     "data": {
      "text/plain": [
       "(array([ 1.,  3.,  1.,  0.,  1.,  1.,  6., 12.,  8.,  6.]),\n",
       " array([40.3 , 43.88, 47.46, 51.04, 54.62, 58.2 , 61.78, 65.36, 68.94,\n",
       "        72.52, 76.1 ]),\n",
       " <a list of 10 Patch objects>)"
      ]
     },
     "execution_count": 25,
     "metadata": {},
     "output_type": "execute_result"
    },
    {
     "data": {
      "image/png": "[encoded data removed]",
      "text/plain": [
       "<Figure size 432x288 with 1 Axes>"
      ]
     },
     "metadata": {
      "needs_background": "light"
     },
     "output_type": "display_data"
    }
   ],
   "source": [
    "#plt.plot(df['Installs'], df['Rating'] )\n",
    "#plt.xticks(df['Installs'], rotation='vertical')\n",
    "#plt.scatter(x=df['Installs'],y=df['Rating'])\n",
    "#Using a scatter plot for installs and ratings lets us see if a higher review results in more installs,\n",
    "#or if a higher review would result in more installs.\n",
    "plt.hist(df['lifeMale'])"
   ]
  },
  {
   "cell_type": "code",
   "execution_count": 21,
   "metadata": {},
   "outputs": [
    {
     "data": {
      "text/plain": [
       "<BarContainer object of 500 artists>"
      ]
     },
     "execution_count": 21,
     "metadata": {},
     "output_type": "execute_result"
    },
    {
     "data": {
      "image/png": "[encoded data removed]",
      "text/plain": [
       "<Figure size 432x288 with 1 Axes>"
      ]
     },
     "metadata": {
      "needs_background": "light"
     },
     "output_type": "display_data"
    }
   ],
   "source": [
    "#categories=df['Category']\n",
    "plt.bar(df['Category'], 1500)\n",
    "#This chart is used to show the # of occurences for each type of phone application. \n",
    "#This will allow us to see if there is a particular type of application that is more popular\n",
    "#then another, and also allow us to how successful it is. "
   ]
  },
  {
   "cell_type": "code",
   "execution_count": null,
   "metadata": {},
   "outputs": [],
   "source": []
  },
  {
   "cell_type": "code",
   "execution_count": null,
   "metadata": {},
   "outputs": [],
   "source": []
  }
 ],
 "metadata": {
  "kernelspec": {
   "display_name": "Python 3",
   "language": "python",
   "name": "python3"
  },
  "language_info": {
   "codemirror_mode": {
    "name": "ipython",
    "version": 3
   },
   "file_extension": ".py",
   "mimetype": "text/x-python",
   "name": "python",
   "nbconvert_exporter": "python",
   "pygments_lexer": "ipython3",
   "version": "3.7.0"
  }
 },
 "nbformat": 4,
 "nbformat_minor": 2
}
