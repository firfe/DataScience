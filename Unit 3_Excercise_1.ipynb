{
 "cells": [
  {
   "cell_type": "code",
   "execution_count": 20,
   "metadata": {},
   "outputs": [
    {
     "data": {
      "text/html": [
       "<div>\n",
       "<style scoped>\n",
       "    .dataframe tbody tr th:only-of-type {\n",
       "        vertical-align: middle;\n",
       "    }\n",
       "\n",
       "    .dataframe tbody tr th {\n",
       "        vertical-align: top;\n",
       "    }\n",
       "\n",
       "    .dataframe thead th {\n",
       "        text-align: right;\n",
       "    }\n",
       "</style>\n",
       "<table border=\"1\" class=\"dataframe\">\n",
       "  <thead>\n",
       "    <tr style=\"text-align: right;\">\n",
       "      <th></th>\n",
       "      <th>name</th>\n",
       "      <th>age</th>\n",
       "    </tr>\n",
       "  </thead>\n",
       "  <tbody>\n",
       "    <tr>\n",
       "      <th>0</th>\n",
       "      <td>Greg</td>\n",
       "      <td>14</td>\n",
       "    </tr>\n",
       "    <tr>\n",
       "      <th>1</th>\n",
       "      <td>Marcia</td>\n",
       "      <td>12</td>\n",
       "    </tr>\n",
       "    <tr>\n",
       "      <th>2</th>\n",
       "      <td>Peter</td>\n",
       "      <td>11</td>\n",
       "    </tr>\n",
       "    <tr>\n",
       "      <th>3</th>\n",
       "      <td>Jan</td>\n",
       "      <td>10</td>\n",
       "    </tr>\n",
       "    <tr>\n",
       "      <th>4</th>\n",
       "      <td>Bobby</td>\n",
       "      <td>8</td>\n",
       "    </tr>\n",
       "    <tr>\n",
       "      <th>5</th>\n",
       "      <td>Cindy</td>\n",
       "      <td>6</td>\n",
       "    </tr>\n",
       "    <tr>\n",
       "      <th>6</th>\n",
       "      <td>Cousin Olive</td>\n",
       "      <td>8</td>\n",
       "    </tr>\n",
       "  </tbody>\n",
       "</table>\n",
       "</div>"
      ],
      "text/plain": [
       "           name age\n",
       "0          Greg  14\n",
       "1        Marcia  12\n",
       "2         Peter  11\n",
       "3           Jan  10\n",
       "4         Bobby   8\n",
       "5         Cindy   6\n",
       "6  Cousin Olive   8"
      ]
     },
     "execution_count": 20,
     "metadata": {},
     "output_type": "execute_result"
    }
   ],
   "source": [
    "import numpy as np\n",
    "import pandas as pd\n",
    "\n",
    "my_Array = np.array([['Greg',14],['Marcia',12],['Peter',11],['Jan',10],['Bobby',8],['Cindy',6],['Cousin Olive',8]])\n",
    "df=pd.DataFrame(my_Array)\n",
    "df.columns = ['name','age']\n",
    "df"
   ]
  },
  {
   "cell_type": "code",
   "execution_count": 29,
   "metadata": {},
   "outputs": [
    {
     "data": {
      "text/plain": [
       "count     7.000000\n",
       "mean      9.857143\n",
       "std       2.734262\n",
       "min       6.000000\n",
       "25%       8.000000\n",
       "50%      10.000000\n",
       "75%      11.500000\n",
       "max      14.000000\n",
       "dtype: float64"
      ]
     },
     "execution_count": 29,
     "metadata": {},
     "output_type": "execute_result"
    }
   ],
   "source": [
    "#Apologies for not using my previous array, I tried using df.age.describe() on it but I never got a instance where\n",
    "#it would provide me with the mean/std/min etc) so I created a small array since the data set was small\n",
    "s=pd.Series([14,12,11,10,8,6,8])\n",
    "s.describe()"
   ]
  },
  {
   "cell_type": "code",
   "execution_count": 36,
   "metadata": {},
   "outputs": [
    {
     "name": "stdout",
     "output_type": "stream",
     "text": [
      "Variance is 7.4761904761904985\n",
      "Standard Deviation is 2.734262327610593\n",
      "Standard Error is 1.1162579209267676\n"
     ]
    }
   ],
   "source": [
    "Variance = sum((s-9.857143)**2)/(7-1)\n",
    "print('Variance is', Variance)\n",
    "StdD = Variance**0.5\n",
    "print('Standard Deviation is', StdD)\n",
    "StdE = StdD/(6**0.5)\n",
    "print('Standard Error is', StdE)\n",
    "#For question 1, the mean is 9.857, median is 10, mode is 8 and the variance, standard deviation and error are shown below."
   ]
  },
  {
   "cell_type": "code",
   "execution_count": 50,
   "metadata": {
    "scrolled": true
   },
   "outputs": [
    {
     "data": {
      "text/plain": [
       "count     7.000000\n",
       "mean     10.000000\n",
       "std       2.516611\n",
       "min       7.000000\n",
       "25%       8.000000\n",
       "50%      10.000000\n",
       "75%      11.500000\n",
       "max      14.000000\n",
       "dtype: float64"
      ]
     },
     "execution_count": 50,
     "metadata": {},
     "output_type": "execute_result"
    }
   ],
   "source": [
    "#For question 2, I would use Mean and Standard Deviation, this is because mean would allow you to tell what is the general age of all\n",
    "#the casts and Standard Deviation will tell you how far apart the cast is from that age.\n",
    "\n",
    "#Changed 6->7 to update Cindy's age\n",
    "d=pd.Series([14,12,11,10,8,7,8])\n",
    "d.describe()"
   ]
  },
  {
   "cell_type": "code",
   "execution_count": 49,
   "metadata": {},
   "outputs": [
    {
     "name": "stdout",
     "output_type": "stream",
     "text": [
      "Variance is 6.357142809523832\n",
      "Standard Deviation is 2.52133750408862\n",
      "Standard Error is 1.0293317257266026\n"
     ]
    }
   ],
   "source": [
    "Variance = sum((d-9.857143)**2)/(7-1)\n",
    "print('Variance is', Variance)\n",
    "StdD = Variance**0.5\n",
    "print('Standard Deviation is', StdD)\n",
    "StdE = StdD/(6**0.5)\n",
    "print('Standard Error is', StdE)"
   ]
  },
  {
   "cell_type": "code",
   "execution_count": 47,
   "metadata": {},
   "outputs": [
    {
     "data": {
      "text/plain": [
       "<bound method NDFrame.describe of 0    14\n",
       "1    12\n",
       "2    11\n",
       "3    10\n",
       "4     8\n",
       "5     7\n",
       "6     1\n",
       "dtype: int64>"
      ]
     },
     "execution_count": 47,
     "metadata": {},
     "output_type": "execute_result"
    }
   ],
   "source": [
    "#For question 3, the median and mode has not changed, the std deviation and error has changed to be lower \n",
    "#(because 7 is closer to the previous std) and the mean has changed to be higher (due to the increase of age from 6 to 7)\n",
    "y=pd.Series([14,12,11,10,8,7,1])\n",
    "y.describe"
   ]
  },
  {
   "cell_type": "code",
   "execution_count": 43,
   "metadata": {},
   "outputs": [
    {
     "name": "stdout",
     "output_type": "stream",
     "text": [
      "Variance is 18.857143142857165\n",
      "Standard Deviation is 4.342481219632062\n",
      "Standard Error is 1.7728105342862204\n"
     ]
    }
   ],
   "source": [
    "Variance = sum((x-9.857143)**2)/(7-1)\n",
    "print('Variance is', Variance)\n",
    "StdD = Variance**0.5\n",
    "print('Standard Deviation is', StdD)\n",
    "StdE = StdD/(6**0.5)\n",
    "print('Standard Error is', StdE)\n",
    "\n",
    "#For question 4, because jessica is the age of 1, there is now an extreme outlier in the age group,\n",
    "#this would mean that my choices of Mean and stddeviation would be less accurate. I\n",
    "#would change to the choices of stderror and Median to get a better understanding of how big of a gap\n",
    "#there is between ages. "
   ]
  },
  {
   "cell_type": "code",
   "execution_count": null,
   "metadata": {},
   "outputs": [],
   "source": [
    "#For question 5, I would say 65% of the adult Americans are fans of the 50th anniversary but based purely on\n",
    "#gut feeling. I am assuming that you just add the % of fans from all the surveys, but I don't really see\n",
    "#how that would help conclude that how many people that did the survey or are fans of the show are adults"
   ]
  }
 ],
 "metadata": {
  "kernelspec": {
   "display_name": "Python 3",
   "language": "python",
   "name": "python3"
  },
  "language_info": {
   "codemirror_mode": {
    "name": "ipython",
    "version": 3
   },
   "file_extension": ".py",
   "mimetype": "text/x-python",
   "name": "python",
   "nbconvert_exporter": "python",
   "pygments_lexer": "ipython3",
   "version": "3.7.0"
  }
 },
 "nbformat": 4,
 "nbformat_minor": 2
}
