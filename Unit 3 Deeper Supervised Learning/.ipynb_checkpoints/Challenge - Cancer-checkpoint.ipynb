{
 "cells": [
  {
   "cell_type": "code",
   "execution_count": 56,
   "metadata": {},
   "outputs": [
    {
     "data": {
      "text/html": [
       "<div>\n",
       "<style scoped>\n",
       "    .dataframe tbody tr th:only-of-type {\n",
       "        vertical-align: middle;\n",
       "    }\n",
       "\n",
       "    .dataframe tbody tr th {\n",
       "        vertical-align: top;\n",
       "    }\n",
       "\n",
       "    .dataframe thead th {\n",
       "        text-align: right;\n",
       "    }\n",
       "</style>\n",
       "<table border=\"1\" class=\"dataframe\">\n",
       "  <thead>\n",
       "    <tr style=\"text-align: right;\">\n",
       "      <th></th>\n",
       "      <th>id number</th>\n",
       "      <th>Clump Thickness</th>\n",
       "      <th>Cell Size</th>\n",
       "      <th>Cell Shape</th>\n",
       "      <th>Marginal Adhesion</th>\n",
       "      <th>SE Cell Size</th>\n",
       "      <th>Bare Nuclei</th>\n",
       "      <th>Bland Chromatin</th>\n",
       "      <th>Normal Nucleoli</th>\n",
       "      <th>Mitoses</th>\n",
       "      <th>Class</th>\n",
       "    </tr>\n",
       "  </thead>\n",
       "  <tbody>\n",
       "    <tr>\n",
       "      <th>0</th>\n",
       "      <td>1002945</td>\n",
       "      <td>5</td>\n",
       "      <td>4</td>\n",
       "      <td>4</td>\n",
       "      <td>5</td>\n",
       "      <td>7</td>\n",
       "      <td>10</td>\n",
       "      <td>3</td>\n",
       "      <td>2</td>\n",
       "      <td>1</td>\n",
       "      <td>2</td>\n",
       "    </tr>\n",
       "    <tr>\n",
       "      <th>1</th>\n",
       "      <td>1015425</td>\n",
       "      <td>3</td>\n",
       "      <td>1</td>\n",
       "      <td>1</td>\n",
       "      <td>1</td>\n",
       "      <td>2</td>\n",
       "      <td>2</td>\n",
       "      <td>3</td>\n",
       "      <td>1</td>\n",
       "      <td>1</td>\n",
       "      <td>2</td>\n",
       "    </tr>\n",
       "    <tr>\n",
       "      <th>2</th>\n",
       "      <td>1016277</td>\n",
       "      <td>6</td>\n",
       "      <td>8</td>\n",
       "      <td>8</td>\n",
       "      <td>1</td>\n",
       "      <td>3</td>\n",
       "      <td>4</td>\n",
       "      <td>3</td>\n",
       "      <td>7</td>\n",
       "      <td>1</td>\n",
       "      <td>2</td>\n",
       "    </tr>\n",
       "    <tr>\n",
       "      <th>3</th>\n",
       "      <td>1017023</td>\n",
       "      <td>4</td>\n",
       "      <td>1</td>\n",
       "      <td>1</td>\n",
       "      <td>3</td>\n",
       "      <td>2</td>\n",
       "      <td>1</td>\n",
       "      <td>3</td>\n",
       "      <td>1</td>\n",
       "      <td>1</td>\n",
       "      <td>2</td>\n",
       "    </tr>\n",
       "    <tr>\n",
       "      <th>4</th>\n",
       "      <td>1017122</td>\n",
       "      <td>8</td>\n",
       "      <td>10</td>\n",
       "      <td>10</td>\n",
       "      <td>8</td>\n",
       "      <td>7</td>\n",
       "      <td>10</td>\n",
       "      <td>9</td>\n",
       "      <td>7</td>\n",
       "      <td>1</td>\n",
       "      <td>4</td>\n",
       "    </tr>\n",
       "    <tr>\n",
       "      <th>5</th>\n",
       "      <td>1018099</td>\n",
       "      <td>1</td>\n",
       "      <td>1</td>\n",
       "      <td>1</td>\n",
       "      <td>1</td>\n",
       "      <td>2</td>\n",
       "      <td>10</td>\n",
       "      <td>3</td>\n",
       "      <td>1</td>\n",
       "      <td>1</td>\n",
       "      <td>2</td>\n",
       "    </tr>\n",
       "    <tr>\n",
       "      <th>6</th>\n",
       "      <td>1018561</td>\n",
       "      <td>2</td>\n",
       "      <td>1</td>\n",
       "      <td>2</td>\n",
       "      <td>1</td>\n",
       "      <td>2</td>\n",
       "      <td>1</td>\n",
       "      <td>3</td>\n",
       "      <td>1</td>\n",
       "      <td>1</td>\n",
       "      <td>2</td>\n",
       "    </tr>\n",
       "    <tr>\n",
       "      <th>7</th>\n",
       "      <td>1033078</td>\n",
       "      <td>2</td>\n",
       "      <td>1</td>\n",
       "      <td>1</td>\n",
       "      <td>1</td>\n",
       "      <td>2</td>\n",
       "      <td>1</td>\n",
       "      <td>1</td>\n",
       "      <td>1</td>\n",
       "      <td>5</td>\n",
       "      <td>2</td>\n",
       "    </tr>\n",
       "    <tr>\n",
       "      <th>8</th>\n",
       "      <td>1033078</td>\n",
       "      <td>4</td>\n",
       "      <td>2</td>\n",
       "      <td>1</td>\n",
       "      <td>1</td>\n",
       "      <td>2</td>\n",
       "      <td>1</td>\n",
       "      <td>2</td>\n",
       "      <td>1</td>\n",
       "      <td>1</td>\n",
       "      <td>2</td>\n",
       "    </tr>\n",
       "    <tr>\n",
       "      <th>9</th>\n",
       "      <td>1035283</td>\n",
       "      <td>1</td>\n",
       "      <td>1</td>\n",
       "      <td>1</td>\n",
       "      <td>1</td>\n",
       "      <td>1</td>\n",
       "      <td>1</td>\n",
       "      <td>3</td>\n",
       "      <td>1</td>\n",
       "      <td>1</td>\n",
       "      <td>2</td>\n",
       "    </tr>\n",
       "  </tbody>\n",
       "</table>\n",
       "</div>"
      ],
      "text/plain": [
       "   id number  Clump Thickness  Cell Size  Cell Shape  Marginal Adhesion  \\\n",
       "0    1002945                5          4           4                  5   \n",
       "1    1015425                3          1           1                  1   \n",
       "2    1016277                6          8           8                  1   \n",
       "3    1017023                4          1           1                  3   \n",
       "4    1017122                8         10          10                  8   \n",
       "5    1018099                1          1           1                  1   \n",
       "6    1018561                2          1           2                  1   \n",
       "7    1033078                2          1           1                  1   \n",
       "8    1033078                4          2           1                  1   \n",
       "9    1035283                1          1           1                  1   \n",
       "\n",
       "   SE Cell Size Bare Nuclei  Bland Chromatin  Normal Nucleoli  Mitoses  Class  \n",
       "0             7          10                3                2        1      2  \n",
       "1             2           2                3                1        1      2  \n",
       "2             3           4                3                7        1      2  \n",
       "3             2           1                3                1        1      2  \n",
       "4             7          10                9                7        1      4  \n",
       "5             2          10                3                1        1      2  \n",
       "6             2           1                3                1        1      2  \n",
       "7             2           1                1                1        5      2  \n",
       "8             2           1                2                1        1      2  \n",
       "9             1           1                3                1        1      2  "
      ]
     },
     "execution_count": 56,
     "metadata": {},
     "output_type": "execute_result"
    }
   ],
   "source": [
    "import pandas as pd\n",
    "import numpy as np\n",
    "import scipy\n",
    "import matplotlib.pyplot as plt\n",
    "import seaborn as sb\n",
    "\n",
    "# This is the model we'll be using.\n",
    "from sklearn import tree\n",
    "\n",
    "# A convenience for displaying visualizations.\n",
    "from IPython.display import Image\n",
    "\n",
    "# Packages for rendering our tree.\n",
    "import pydotplus\n",
    "import graphviz\n",
    "\n",
    "%matplotlib inline\n",
    "\n",
    "data = pd.read_csv('breast-cancer-wisconsin.csv')\n",
    "data.columns = ['id number', 'Clump Thickness', 'Cell Size', 'Cell Shape', 'Marginal Adhesion', 'SE Cell Size', 'Bare Nuclei', 'Bland Chromatin', 'Normal Nucleoli', 'Mitoses', 'Class']\n",
    "data.dropna(inplace=True)\n",
    "data.head(10)"
   ]
  },
  {
   "cell_type": "markdown",
   "metadata": {},
   "source": [
    "# Information Provided from the Site\n",
    "\n",
    "Attribute Information:\n",
    "1. Sample code number: id number \n",
    "2. Clump Thickness: 1 - 10 \n",
    "3. Uniformity of Cell Size: 1 - 10 \n",
    "4. Uniformity of Cell Shape: 1 - 10 \n",
    "5. Marginal Adhesion: 1 - 10 \n",
    "6. Single Epithelial Cell Size: 1 - 10 \n",
    "7. Bare Nuclei: 1 - 10 \n",
    "8. Bland Chromatin: 1 - 10 \n",
    "9. Normal Nucleoli: 1 - 10 \n",
    "10. Mitoses: 1 - 10 \n",
    "11. Class: (2 for benign, 4 for malignant)"
   ]
  },
  {
   "cell_type": "markdown",
   "metadata": {},
   "source": [
    "# Problem "
   ]
  },
  {
   "cell_type": "markdown",
   "metadata": {},
   "source": [
    "We want to detect cancer based on the info given. As of the raw data set a Class value of 2 means cancer is not present, and a class value of 4 means that cancer is present."
   ]
  },
  {
   "cell_type": "markdown",
   "metadata": {},
   "source": [
    "# Explore Data"
   ]
  },
  {
   "cell_type": "code",
   "execution_count": 52,
   "metadata": {},
   "outputs": [
    {
     "data": {
      "text/plain": [
       "Text(0.5, 1.0, 'Variable Correlation')"
      ]
     },
     "execution_count": 52,
     "metadata": {},
     "output_type": "execute_result"
    },
    {
     "data": {
      "image/png": "[encoded data removed]",
      "text/plain": [
       "<Figure size 720x432 with 2 Axes>"
      ]
     },
     "metadata": {
      "needs_background": "light"
     },
     "output_type": "display_data"
    }
   ],
   "source": [
    "#corrmat = data.corr()\n",
    "#f, ax = plt.subplots(figsize=(12, 9))\n",
    "#sb.heatmap(corrmat, vmax=.8,square=True)\n",
    "#plt.show()\n",
    "plt.figure(figsize=(10,6))\n",
    "sb.heatmap(data.corr(),cmap = 'coolwarm',linewidth = 1,annot= True, annot_kws={\"size\": 9})\n",
    "plt.title('Variable Correlation')"
   ]
  },
  {
   "cell_type": "markdown",
   "metadata": {},
   "source": [
    "Right off the bat we can tell that there is a large amount co-linearity among some of the data points. This means there is room for us to do feature selection in order to reduce the run time on our model. This will help when we attempt to do models such as gradient boosting and random forest trees because we will not need to incorporate all of the features to maintain variance."
   ]
  },
  {
   "cell_type": "code",
   "execution_count": 3,
   "metadata": {},
   "outputs": [
    {
     "name": "stdout",
     "output_type": "stream",
     "text": [
      "1182404    6\n",
      "1276091    5\n",
      "1198641    3\n",
      "466906     2\n",
      "1116116    2\n",
      "1070935    2\n",
      "385103     2\n",
      "1293439    2\n",
      "1240603    2\n",
      "1277792    2\n",
      "1168736    2\n",
      "560680     2\n",
      "1174057    2\n",
      "822829     2\n",
      "320675     2\n",
      "897471     2\n",
      "1114570    2\n",
      "704097     2\n",
      "1339781    2\n",
      "654546     2\n",
      "734111     2\n",
      "1017023    2\n",
      "1354840    2\n",
      "411453     2\n",
      "769612     2\n",
      "1158247    2\n",
      "1321942    2\n",
      "1061990    2\n",
      "733639     2\n",
      "1218860    2\n",
      "          ..\n",
      "1096352    1\n",
      "1171845    1\n",
      "255644     1\n",
      "1169049    1\n",
      "1041043    1\n",
      "1190546    1\n",
      "1071760    1\n",
      "797327     1\n",
      "1293966    1\n",
      "1214092    1\n",
      "709287     1\n",
      "432809     1\n",
      "888523     1\n",
      "1201834    1\n",
      "1182410    1\n",
      "640712     1\n",
      "1018561    1\n",
      "1336798    1\n",
      "1091262    1\n",
      "1173216    1\n",
      "1286943    1\n",
      "1319609    1\n",
      "1172152    1\n",
      "558538     1\n",
      "1207986    1\n",
      "1302428    1\n",
      "857774     1\n",
      "1181356    1\n",
      "1125035    1\n",
      "625201     1\n",
      "Name: id number, Length: 644, dtype: int64\n",
      "1     145\n",
      "5     129\n",
      "3     108\n",
      "4      80\n",
      "10     69\n",
      "2      50\n",
      "8      46\n",
      "6      34\n",
      "7      23\n",
      "9      14\n",
      "Name: Clump Thickness, dtype: int64\n",
      "1     383\n",
      "10     67\n",
      "3      52\n",
      "2      45\n",
      "4      40\n",
      "5      30\n",
      "8      29\n",
      "6      27\n",
      "7      19\n",
      "9       6\n",
      "Name: Cell Size, dtype: int64\n",
      "1     352\n",
      "2      59\n",
      "10     58\n",
      "3      56\n",
      "4      44\n",
      "5      34\n",
      "7      30\n",
      "6      30\n",
      "8      28\n",
      "9       7\n",
      "Name: Cell Shape, dtype: int64\n",
      "1     406\n",
      "3      58\n",
      "2      58\n",
      "10     55\n",
      "4      33\n",
      "8      25\n",
      "5      23\n",
      "6      22\n",
      "7      13\n",
      "9       5\n",
      "Name: Marginal Adhesion, dtype: int64\n",
      "2     385\n",
      "3      72\n",
      "4      48\n",
      "1      47\n",
      "6      41\n",
      "5      39\n",
      "10     31\n",
      "8      21\n",
      "7      12\n",
      "9       2\n",
      "Name: SE Cell Size, dtype: int64\n",
      "1     401\n",
      "10    132\n",
      "5      30\n",
      "2      30\n",
      "3      28\n",
      "8      21\n",
      "4      19\n",
      "?      16\n",
      "9       9\n",
      "7       8\n",
      "6       4\n",
      "Name: Bare Nuclei, dtype: int64\n",
      "2     166\n",
      "3     164\n",
      "1     152\n",
      "7      73\n",
      "4      40\n",
      "5      34\n",
      "8      28\n",
      "10     20\n",
      "9      11\n",
      "6      10\n",
      "Name: Bland Chromatin, dtype: int64\n",
      "1     442\n",
      "10     61\n",
      "3      44\n",
      "2      36\n",
      "8      24\n",
      "6      22\n",
      "5      19\n",
      "4      18\n",
      "9      16\n",
      "7      16\n",
      "Name: Normal Nucleoli, dtype: int64\n",
      "1     578\n",
      "2      35\n",
      "3      33\n",
      "10     14\n",
      "4      12\n",
      "7       9\n",
      "8       8\n",
      "5       6\n",
      "6       3\n",
      "Name: Mitoses, dtype: int64\n",
      "2    457\n",
      "4    241\n",
      "Name: Class, dtype: int64\n"
     ]
    }
   ],
   "source": [
    "for i in data.columns:\n",
    "    print(data[i].value_counts())"
   ]
  },
  {
   "cell_type": "markdown",
   "metadata": {},
   "source": [
    "One of the more glaring issues in this data set is that 'Bare Nuclei' has a '?' value, which I will convert into a 11 so that feature selection and modeling later on doesn't become confused when a number isn't detected. I will also be changing Class values of 2/4 to 0/1, as a quality of life change to make it easier to visualize."
   ]
  },
  {
   "cell_type": "code",
   "execution_count": 4,
   "metadata": {},
   "outputs": [
    {
     "name": "stdout",
     "output_type": "stream",
     "text": [
      "0    457\n",
      "1    241\n",
      "Name: Class, dtype: int64\n",
      "1     401\n",
      "10    132\n",
      "5      30\n",
      "2      30\n",
      "3      28\n",
      "8      21\n",
      "4      19\n",
      "11     16\n",
      "9       9\n",
      "7       8\n",
      "6       4\n",
      "Name: Bare Nuclei, dtype: int64\n"
     ]
    }
   ],
   "source": [
    "data['Class'] = data['Class'].apply(lambda x: 0 if x==2 else 1)\n",
    "print(data['Class'].value_counts())\n",
    "data['Bare Nuclei'] = data['Bare Nuclei'].apply(lambda x: 11 if x == \"?\" else x)\n",
    "print(data['Bare Nuclei'].value_counts())"
   ]
  },
  {
   "cell_type": "markdown",
   "metadata": {},
   "source": [
    "A closer examination of the Class type reveals that there is a difference to the number of Class 0 to Class 1s, so we will need to perform resampling in ordeer to have a even dataset for testing. "
   ]
  },
  {
   "cell_type": "code",
   "execution_count": 5,
   "metadata": {},
   "outputs": [
    {
     "name": "stdout",
     "output_type": "stream",
     "text": [
      "No Cancer: 457\n",
      "Cancer: 241\n",
      "Proportion: 1.9 : 1\n"
     ]
    },
    {
     "data": {
      "image/png": "[encoded data removed]",
      "text/plain": [
       "<Figure size 432x288 with 1 Axes>"
      ]
     },
     "metadata": {
      "needs_background": "light"
     },
     "output_type": "display_data"
    }
   ],
   "source": [
    "#Create a var graog that displays the number of class 0 and 1s in our data set\n",
    "class_size = data.Class.value_counts()\n",
    "print('No Cancer:', class_size[0])\n",
    "print('Cancer:', class_size[1])\n",
    "print('Proportion:', round(class_size[0] / class_size[1], 2), ': 1')\n",
    "\n",
    "class_size.plot(kind='bar', title='Cancer Spread');"
   ]
  },
  {
   "cell_type": "markdown",
   "metadata": {},
   "source": [
    "Here we are evaluating how skewed our data is in terms of data that have no cancer and cancer. There is roughly double the amount of no cancer vs cancer examples and thus we will need to perform resampling before we attempt to model."
   ]
  },
  {
   "cell_type": "markdown",
   "metadata": {},
   "source": [
    "# Resample"
   ]
  },
  {
   "cell_type": "code",
   "execution_count": 6,
   "metadata": {},
   "outputs": [
    {
     "data": {
      "text/plain": [
       "1    457\n",
       "0    457\n",
       "Name: Class, dtype: int64"
      ]
     },
     "execution_count": 6,
     "metadata": {},
     "output_type": "execute_result"
    }
   ],
   "source": [
    "from sklearn.utils import resample\n",
    "# Separate majority and minority classes\n",
    "data_majority = data[data.Class==0]\n",
    "data_minority = data[data.Class==1]\n",
    " \n",
    "# Upsample minority class\n",
    "data_minority_upsampled = resample(data_minority, \n",
    "                                 replace=True,     # sample with replacement\n",
    "                                 n_samples=457)    # to match majority class\n",
    " \n",
    "# Combine majority class with upsampled minority class\n",
    "data_upsampled = pd.concat([data_majority, data_minority_upsampled])\n",
    " \n",
    "# Display new class counts\n",
    "data_upsampled.Class.value_counts()"
   ]
  },
  {
   "cell_type": "markdown",
   "metadata": {},
   "source": [
    "Now that our resampling is complete, it is time to create our X and Y data set for testing. We will be dropping the id-number column completely as that column brings no real useful information to our data."
   ]
  },
  {
   "cell_type": "markdown",
   "metadata": {},
   "source": [
    "# Create X/Y"
   ]
  },
  {
   "cell_type": "code",
   "execution_count": 7,
   "metadata": {},
   "outputs": [],
   "source": [
    "#Create our target and data set\n",
    "target = data_upsampled.Class.copy()\n",
    "selected_data = data_upsampled.drop(['Class','id number'], axis=1)"
   ]
  },
  {
   "cell_type": "markdown",
   "metadata": {},
   "source": [
    "Here we will perform some 2 different types of feature selection, Select K Best and PCA, in order to detect if having feature selection is helpful to our modeling and if it'll improve the accuracy."
   ]
  },
  {
   "cell_type": "markdown",
   "metadata": {},
   "source": [
    "# Feature Selection: Select K Best"
   ]
  },
  {
   "cell_type": "code",
   "execution_count": 8,
   "metadata": {},
   "outputs": [
    {
     "name": "stdout",
     "output_type": "stream",
     "text": [
      "(914, 4)\n"
     ]
    },
    {
     "data": {
      "text/html": [
       "<div>\n",
       "<style scoped>\n",
       "    .dataframe tbody tr th:only-of-type {\n",
       "        vertical-align: middle;\n",
       "    }\n",
       "\n",
       "    .dataframe tbody tr th {\n",
       "        vertical-align: top;\n",
       "    }\n",
       "\n",
       "    .dataframe thead th {\n",
       "        text-align: right;\n",
       "    }\n",
       "</style>\n",
       "<table border=\"1\" class=\"dataframe\">\n",
       "  <thead>\n",
       "    <tr style=\"text-align: right;\">\n",
       "      <th></th>\n",
       "      <th>Cell Size</th>\n",
       "      <th>Cell Shape</th>\n",
       "      <th>Bare Nuclei</th>\n",
       "      <th>Normal Nucleoli</th>\n",
       "    </tr>\n",
       "  </thead>\n",
       "  <tbody>\n",
       "    <tr>\n",
       "      <th>0</th>\n",
       "      <td>4</td>\n",
       "      <td>4</td>\n",
       "      <td>10</td>\n",
       "      <td>2</td>\n",
       "    </tr>\n",
       "    <tr>\n",
       "      <th>1</th>\n",
       "      <td>1</td>\n",
       "      <td>1</td>\n",
       "      <td>2</td>\n",
       "      <td>1</td>\n",
       "    </tr>\n",
       "    <tr>\n",
       "      <th>2</th>\n",
       "      <td>8</td>\n",
       "      <td>8</td>\n",
       "      <td>4</td>\n",
       "      <td>7</td>\n",
       "    </tr>\n",
       "    <tr>\n",
       "      <th>3</th>\n",
       "      <td>1</td>\n",
       "      <td>1</td>\n",
       "      <td>1</td>\n",
       "      <td>1</td>\n",
       "    </tr>\n",
       "    <tr>\n",
       "      <th>5</th>\n",
       "      <td>1</td>\n",
       "      <td>1</td>\n",
       "      <td>10</td>\n",
       "      <td>1</td>\n",
       "    </tr>\n",
       "    <tr>\n",
       "      <th>6</th>\n",
       "      <td>1</td>\n",
       "      <td>2</td>\n",
       "      <td>1</td>\n",
       "      <td>1</td>\n",
       "    </tr>\n",
       "    <tr>\n",
       "      <th>7</th>\n",
       "      <td>1</td>\n",
       "      <td>1</td>\n",
       "      <td>1</td>\n",
       "      <td>1</td>\n",
       "    </tr>\n",
       "    <tr>\n",
       "      <th>8</th>\n",
       "      <td>2</td>\n",
       "      <td>1</td>\n",
       "      <td>1</td>\n",
       "      <td>1</td>\n",
       "    </tr>\n",
       "    <tr>\n",
       "      <th>9</th>\n",
       "      <td>1</td>\n",
       "      <td>1</td>\n",
       "      <td>1</td>\n",
       "      <td>1</td>\n",
       "    </tr>\n",
       "    <tr>\n",
       "      <th>10</th>\n",
       "      <td>1</td>\n",
       "      <td>1</td>\n",
       "      <td>1</td>\n",
       "      <td>1</td>\n",
       "    </tr>\n",
       "  </tbody>\n",
       "</table>\n",
       "</div>"
      ],
      "text/plain": [
       "    Cell Size  Cell Shape Bare Nuclei  Normal Nucleoli\n",
       "0           4           4          10                2\n",
       "1           1           1           2                1\n",
       "2           8           8           4                7\n",
       "3           1           1           1                1\n",
       "5           1           1          10                1\n",
       "6           1           2           1                1\n",
       "7           1           1           1                1\n",
       "8           2           1           1                1\n",
       "9           1           1           1                1\n",
       "10          1           1           1                1"
      ]
     },
     "execution_count": 8,
     "metadata": {},
     "output_type": "execute_result"
    }
   ],
   "source": [
    "#Use Select K Best after using PCA to determine the number of dimensions to achieve the 2 features that have the greatest variance\n",
    "from sklearn.feature_selection import SelectKBest\n",
    "from sklearn.feature_selection import chi2\n",
    "\n",
    "selector = SelectKBest(chi2, k=4)\n",
    "selector.fit(selected_data, target)\n",
    "\n",
    "X_new = selector.transform(selected_data)\n",
    "print(X_new.shape)\n",
    "\n",
    "selected_data.columns[selector.get_support(indices=True)]\n",
    "selected_data.columns[selector.get_support(indices=True)].tolist()\n",
    "#sets newdata to only contain the two features that will give us the most variance\n",
    "skb_data = selected_data[selected_data.columns[selector.get_support(indices=True)].tolist()].copy()\n",
    "skb_data.head(10)"
   ]
  },
  {
   "cell_type": "markdown",
   "metadata": {},
   "source": [
    "# Feature Selection: PCA"
   ]
  },
  {
   "cell_type": "code",
   "execution_count": 9,
   "metadata": {},
   "outputs": [
    {
     "name": "stdout",
     "output_type": "stream",
     "text": [
      "[0.65997076 0.08598386 0.06367149 0.0549064 ]\n",
      "[0.65997076 0.74595462 0.80962611 0.86453251]\n"
     ]
    }
   ],
   "source": [
    "from sklearn.decomposition import PCA\n",
    "#Here we are setting pca to be fitted with n_components = 2, this is because after the 2 largest variables the amount of variance\n",
    "#increase is much less significant\n",
    "pca = PCA(n_components=4)\n",
    "pca_data = pca.fit_transform(selected_data) \n",
    "\n",
    "print(pca.explained_variance_ratio_) #Shows how much variance the first and second dimensional space has\n",
    "print(pca.explained_variance_ratio_.cumsum())  #Shows that with n_components=2, I retain .98% of the variance cumaltively"
   ]
  },
  {
   "cell_type": "markdown",
   "metadata": {},
   "source": [
    "# Create Training and Test Set"
   ]
  },
  {
   "cell_type": "code",
   "execution_count": 10,
   "metadata": {},
   "outputs": [],
   "source": [
    "#Create our testing and training data set, with spread of 70% in training and 30% in testing\n",
    "from sklearn.model_selection import train_test_split\n",
    "X_train, X_test, y_train, y_test = train_test_split(selected_data, target, test_size=0.3, random_state=20)\n",
    "sX_train, sX_test, sy_train, sy_test = train_test_split(skb_data, target, test_size=0.3, random_state=20)\n",
    "pX_train, pX_test, py_train, py_test = train_test_split(pca_data, target, test_size=0.3, random_state=20)"
   ]
  },
  {
   "cell_type": "markdown",
   "metadata": {},
   "source": [
    "# Random Decision Tree: No Feature Selection"
   ]
  },
  {
   "cell_type": "code",
   "execution_count": 11,
   "metadata": {},
   "outputs": [
    {
     "name": "stdout",
     "output_type": "stream",
     "text": [
      "Best Accuracy:  0.9687010954616588\n",
      "--- 14.223567724227905 seconds ---\n"
     ]
    }
   ],
   "source": [
    "import time\n",
    "\n",
    "start_time = time.time()\n",
    "reset_time = time.time() - start_time\n",
    "\n",
    "import warnings\n",
    "warnings.filterwarnings(\"ignore\")\n",
    "\n",
    "from sklearn import ensemble\n",
    "#Create a generic random forest tree\n",
    "rfc = ensemble.RandomForestClassifier(\n",
    "    criterion='entropy',\n",
    "    max_features = 'auto',\n",
    "    max_depth = 2 ,\n",
    "    n_estimators = 2,\n",
    "    n_jobs=-1\n",
    "    )\n",
    "\n",
    "from sklearn.model_selection import GridSearchCV\n",
    "parameters = {\n",
    "    'n_estimators': [1, 2, 3],\n",
    "    'max_features': ['auto', 'sqrt', 'log2'],\n",
    "    'max_depth' : [1, 2, 3],\n",
    "    'criterion': ['gini', 'entropy'],\n",
    "    'bootstrap': [True, False]\n",
    "}\n",
    "gd_sr = GridSearchCV(estimator=rfc,  \n",
    "                     param_grid=parameters,\n",
    "                     scoring='accuracy',\n",
    "                     cv=5,\n",
    "                     n_jobs=-1)\n",
    "\n",
    "gd_sr.fit(X_train, y_train)  \n",
    "best_result = gd_sr.best_score_  \n",
    "print(\"Best Accuracy: \", best_result)  \n",
    "print(\"--- %s seconds ---\" % (time.time() - start_time - reset_time))\n",
    "reset_time = time.time() - start_time"
   ]
  },
  {
   "cell_type": "code",
   "execution_count": 12,
   "metadata": {},
   "outputs": [
    {
     "name": "stdout",
     "output_type": "stream",
     "text": [
      "With 20% Holdout: 0.96\n",
      "Testing on Sample: 0.973741794310722\n",
      "\n",
      " Cross Validation\n",
      "[0.95652174 0.97826087 0.9673913  0.90217391 0.93478261 0.95652174\n",
      " 0.97826087 0.98888889 0.97777778 0.97777778]\n",
      "\n",
      " Confusion Matrix\n",
      "[[143   7]\n",
      " [  0 125]]\n",
      "\n",
      " Classification Report\n",
      "              precision    recall  f1-score   support\n",
      "\n",
      "           0       1.00      0.95      0.98       150\n",
      "           1       0.95      1.00      0.97       125\n",
      "\n",
      "   micro avg       0.97      0.97      0.97       275\n",
      "   macro avg       0.97      0.98      0.97       275\n",
      "weighted avg       0.98      0.97      0.97       275\n",
      "\n",
      "\n",
      " Roc Auc Score\n",
      "0.9766666666666667\n",
      "--- 136.7828586101532 seconds ---\n"
     ]
    }
   ],
   "source": [
    "model_name = gd_sr\n",
    "print('With 20% Holdout: ' + str(model_name.fit(X_train, y_train).score(X_test, y_test)))\n",
    "print('Testing on Sample: ' + str(model_name.fit(selected_data, target).score(selected_data, target)))\n",
    "\n",
    "from sklearn.model_selection import cross_val_score \n",
    "print('\\n Cross Validation')\n",
    "print(cross_val_score(model_name, selected_data, target, cv=10))\n",
    "\n",
    "prediction = model_name.predict(X_test)\n",
    "from sklearn.metrics import confusion_matrix\n",
    "cnf_matrix = confusion_matrix(y_test, prediction)\n",
    "print('\\n Confusion Matrix')\n",
    "print(cnf_matrix)\n",
    "\n",
    "from sklearn.metrics import classification_report\n",
    "print('\\n Classification Report')\n",
    "print(classification_report(y_test, prediction))\n",
    "\n",
    "from sklearn.metrics import roc_auc_score\n",
    "print('\\n Roc Auc Score')\n",
    "print(roc_auc_score(y_test, prediction))\n",
    "print(\"--- %s seconds ---\" % (time.time() - start_time - reset_time))\n",
    "reset_time = time.time() - start_time"
   ]
  },
  {
   "cell_type": "markdown",
   "metadata": {},
   "source": [
    "# Random Decision Tree: Select K Best"
   ]
  },
  {
   "cell_type": "code",
   "execution_count": 13,
   "metadata": {},
   "outputs": [
    {
     "name": "stdout",
     "output_type": "stream",
     "text": [
      "Best Accuracy:  0.9640062597809077\n",
      "--- 11.35402512550354 seconds ---\n"
     ]
    }
   ],
   "source": [
    "from sklearn import ensemble\n",
    "#Create a generic random forest tree\n",
    "rfc = ensemble.RandomForestClassifier(\n",
    "    criterion='entropy',\n",
    "    max_features = 'auto',\n",
    "    max_depth = 2 ,\n",
    "    n_estimators = 2,\n",
    "    n_jobs=-1\n",
    "    )\n",
    "\n",
    "from sklearn.model_selection import GridSearchCV\n",
    "parameters = {\n",
    "    'n_estimators': [1, 2, 3],\n",
    "    'max_features': ['auto', 'sqrt', 'log2'],\n",
    "    'max_depth' : [1, 2, 3],\n",
    "    'criterion': ['gini', 'entropy'],\n",
    "    'bootstrap': [True, False]\n",
    "}\n",
    "skb_gd_sr = GridSearchCV(estimator=rfc,  \n",
    "                     param_grid=parameters,\n",
    "                     scoring='accuracy',\n",
    "                     cv=5,\n",
    "                     n_jobs=-1)\n",
    "\n",
    "skb_gd_sr.fit(sX_train, sy_train)  \n",
    "best_result = skb_gd_sr.best_score_  \n",
    "print(\"Best Accuracy: \", best_result)  \n",
    "print(\"--- %s seconds ---\" % (time.time() - start_time - reset_time))\n",
    "reset_time = time.time() - start_time"
   ]
  },
  {
   "cell_type": "code",
   "execution_count": 14,
   "metadata": {},
   "outputs": [
    {
     "name": "stdout",
     "output_type": "stream",
     "text": [
      "\n",
      " Cross Validation\n",
      "[0.95652174 0.97826087 0.97826087 0.92391304 0.97826087 0.91304348\n",
      " 0.98913043 0.96666667 0.96666667 0.95555556]\n",
      "\n",
      " Confusion Matrix\n",
      "[[141   9]\n",
      " [  3 122]]\n",
      "\n",
      " Classification Report\n",
      "              precision    recall  f1-score   support\n",
      "\n",
      "           0       0.98      0.94      0.96       150\n",
      "           1       0.93      0.98      0.95       125\n",
      "\n",
      "   micro avg       0.96      0.96      0.96       275\n",
      "   macro avg       0.96      0.96      0.96       275\n",
      "weighted avg       0.96      0.96      0.96       275\n",
      "\n",
      "\n",
      " Roc Auc Score\n",
      "0.958\n",
      "--- 113.75021886825562 seconds ---\n"
     ]
    }
   ],
   "source": [
    "model_name = skb_gd_sr\n",
    "\n",
    "from sklearn.model_selection import cross_val_score \n",
    "print('\\n Cross Validation')\n",
    "print(cross_val_score(model_name, skb_data, target, cv=10))\n",
    "\n",
    "prediction = model_name.predict(sX_test)\n",
    "from sklearn.metrics import confusion_matrix\n",
    "cnf_matrix = confusion_matrix(sy_test, prediction)\n",
    "print('\\n Confusion Matrix')\n",
    "print(cnf_matrix)\n",
    "\n",
    "from sklearn.metrics import classification_report\n",
    "print('\\n Classification Report')\n",
    "print(classification_report(sy_test, prediction))\n",
    "\n",
    "from sklearn.metrics import roc_auc_score\n",
    "print('\\n Roc Auc Score')\n",
    "print(roc_auc_score(sy_test, prediction))\n",
    "print(\"--- %s seconds ---\" % (time.time() - start_time - reset_time))\n",
    "reset_time = time.time() - start_time"
   ]
  },
  {
   "cell_type": "markdown",
   "metadata": {},
   "source": [
    "# Random Decision Tree: PCA"
   ]
  },
  {
   "cell_type": "code",
   "execution_count": 15,
   "metadata": {},
   "outputs": [
    {
     "name": "stdout",
     "output_type": "stream",
     "text": [
      "Best Accuracy:  0.97339593114241\n",
      "--- 11.271921396255493 seconds ---\n"
     ]
    }
   ],
   "source": [
    "from sklearn import ensemble\n",
    "#Create a generic random forest tree\n",
    "rfc = ensemble.RandomForestClassifier(\n",
    "    criterion='entropy',\n",
    "    max_features = 'auto',\n",
    "    max_depth = 2 ,\n",
    "    n_estimators = 2,\n",
    "    n_jobs=-1\n",
    "    )\n",
    "\n",
    "from sklearn.model_selection import GridSearchCV\n",
    "parameters = {\n",
    "    'n_estimators': [1, 2, 3],\n",
    "    'max_features': ['auto', 'sqrt', 'log2'],\n",
    "    'max_depth' : [1, 2, 3],\n",
    "    'criterion': ['gini', 'entropy'],\n",
    "    'bootstrap': [True, False]\n",
    "}\n",
    "pca_gd_sr = GridSearchCV(estimator=rfc,  \n",
    "                     param_grid=parameters,\n",
    "                     scoring='accuracy',\n",
    "                     cv=5,\n",
    "                     n_jobs=-1)\n",
    "\n",
    "pca_gd_sr.fit(pX_train, py_train)  \n",
    "best_result = pca_gd_sr.best_score_  \n",
    "print(\"Best Accuracy: \", best_result)  \n",
    "print(\"--- %s seconds ---\" % (time.time() - start_time - reset_time))\n",
    "reset_time = time.time() - start_time"
   ]
  },
  {
   "cell_type": "code",
   "execution_count": 16,
   "metadata": {},
   "outputs": [
    {
     "name": "stdout",
     "output_type": "stream",
     "text": [
      "\n",
      " Cross Validation\n",
      "[0.91304348 0.9673913  0.97826087 0.93478261 0.98913043 0.97826087\n",
      " 0.98913043 0.98888889 1.         0.98888889]\n",
      "\n",
      " Confusion Matrix\n",
      "[[145   5]\n",
      " [  4 121]]\n",
      "\n",
      " Classification Report\n",
      "              precision    recall  f1-score   support\n",
      "\n",
      "           0       0.97      0.97      0.97       150\n",
      "           1       0.96      0.97      0.96       125\n",
      "\n",
      "   micro avg       0.97      0.97      0.97       275\n",
      "   macro avg       0.97      0.97      0.97       275\n",
      "weighted avg       0.97      0.97      0.97       275\n",
      "\n",
      "\n",
      " Roc Auc Score\n",
      "0.9673333333333334\n",
      "--- 112.83786797523499 seconds ---\n"
     ]
    }
   ],
   "source": [
    "model_name = pca_gd_sr\n",
    "\n",
    "from sklearn.model_selection import cross_val_score \n",
    "print('\\n Cross Validation')\n",
    "print(cross_val_score(model_name, pca_data, target, cv=10))\n",
    "\n",
    "prediction = model_name.predict(pX_test)\n",
    "from sklearn.metrics import confusion_matrix\n",
    "cnf_matrix = confusion_matrix(py_test, prediction)\n",
    "print('\\n Confusion Matrix')\n",
    "print(cnf_matrix)\n",
    "\n",
    "from sklearn.metrics import classification_report\n",
    "print('\\n Classification Report')\n",
    "print(classification_report(py_test, prediction))\n",
    "\n",
    "from sklearn.metrics import roc_auc_score\n",
    "print('\\n Roc Auc Score')\n",
    "print(roc_auc_score(py_test, prediction))\n",
    "print(\"--- %s seconds ---\" % (time.time() - start_time - reset_time))\n",
    "reset_time = time.time() - start_time"
   ]
  },
  {
   "cell_type": "markdown",
   "metadata": {},
   "source": [
    "With our random decision tree, we can observe that all of them take roughly 12 seconds to compute and model, with the evaluation taking upwards to around 2 minutes. \n",
    "Out of the three feature selection types, PCA had the best accuracy in it's cross validation at around 97%. However in terms of the classification report, having no feature selection garnered a higher f1-score. This means having no feature selection has a higher accuracy in terms of correctly identifying the class instead of falsly identifying the class.\n",
    "Overall this model does a very good job in terms of accuracy, but will be rather slow in run time compared a non-boosting/clustering data model. Random Forest Trees takes exponential amounts of time when dealing with larger and larger data sets. Because our data set is so small however, it becomes a very efficient and powerful modeling type to use in this scenerio and will probably end up being one of the most accurate model types in this situation."
   ]
  },
  {
   "cell_type": "markdown",
   "metadata": {},
   "source": [
    "# Logistic Regression: No Feature Selection"
   ]
  },
  {
   "cell_type": "code",
   "execution_count": 17,
   "metadata": {},
   "outputs": [
    {
     "name": "stdout",
     "output_type": "stream",
     "text": [
      "--- 0.06401395797729492 seconds ---\n"
     ]
    }
   ],
   "source": [
    "from sklearn import linear_model\n",
    "from sklearn.linear_model import LogisticRegression\n",
    "# Set up the regression model to predict defaults using all other\n",
    "# variables as features.\n",
    "regr = LogisticRegression(solver='lbfgs')\n",
    "regrfit = regr.fit(X_train, y_train)\n",
    "\n",
    "# Calculate accuracy. First, get probability that each row will be admitted.\n",
    "pred_statsmod = regrfit.predict(X_train)\n",
    "\n",
    "# Code admission as 1 if probability is greater than .5.\n",
    "pred_y_statsmod = np.where(pred_statsmod < .5, 0, 1)\n",
    "\n",
    "# Accuracy table.\n",
    "table = pd.crosstab(y_train, pred_y_statsmod)\n",
    "\n",
    "print(\"--- %s seconds ---\" % (time.time() - start_time - reset_time))\n",
    "reset_time = time.time() - start_time"
   ]
  },
  {
   "cell_type": "code",
   "execution_count": 18,
   "metadata": {},
   "outputs": [
    {
     "name": "stdout",
     "output_type": "stream",
     "text": [
      "With 20% Holdout: 0.9745454545454545\n",
      "Testing on Sample: 0.9671772428884027\n",
      "\n",
      " Cross Validation\n",
      "[0.95652174 0.97826087 0.97826087 0.92391304 0.98913043 0.97826087\n",
      " 0.97826087 0.92222222 0.97777778 0.98888889]\n",
      "\n",
      " Confusion Matrix\n",
      "[[146   4]\n",
      " [  3 122]]\n",
      "\n",
      " Classification Report\n",
      "              precision    recall  f1-score   support\n",
      "\n",
      "           0       0.98      0.97      0.98       150\n",
      "           1       0.97      0.98      0.97       125\n",
      "\n",
      "   micro avg       0.97      0.97      0.97       275\n",
      "   macro avg       0.97      0.97      0.97       275\n",
      "weighted avg       0.97      0.97      0.97       275\n",
      "\n",
      "\n",
      " Roc Auc Score\n",
      "0.9746666666666667\n",
      "--- 0.11602568626403809 seconds ---\n"
     ]
    }
   ],
   "source": [
    "import warnings\n",
    "warnings.filterwarnings(\"ignore\")\n",
    "\n",
    "model_name = regr\n",
    "print('With 20% Holdout: ' + str(model_name.fit(X_train, y_train).score(X_test, y_test)))\n",
    "print('Testing on Sample: ' + str(model_name.fit(selected_data, target).score(selected_data, target)))\n",
    "\n",
    "from sklearn.model_selection import cross_val_score \n",
    "print('\\n Cross Validation')\n",
    "print(cross_val_score(model_name, selected_data, target, cv=10))\n",
    "\n",
    "prediction = model_name.predict(X_test)\n",
    "from sklearn.metrics import confusion_matrix\n",
    "cnf_matrix = confusion_matrix(y_test, prediction)\n",
    "print('\\n Confusion Matrix')\n",
    "print(cnf_matrix)\n",
    "\n",
    "from sklearn.metrics import classification_report\n",
    "print('\\n Classification Report')\n",
    "print(classification_report(y_test, prediction))\n",
    "\n",
    "from sklearn.metrics import roc_auc_score\n",
    "print('\\n Roc Auc Score')\n",
    "print(roc_auc_score(y_test, prediction))\n",
    "print(\"--- %s seconds ---\" % (time.time() - start_time - reset_time))\n",
    "reset_time = time.time() - start_time"
   ]
  },
  {
   "cell_type": "markdown",
   "metadata": {},
   "source": []
  },
  {
   "cell_type": "markdown",
   "metadata": {},
   "source": [
    "# Logistic Regression: SKB"
   ]
  },
  {
   "cell_type": "code",
   "execution_count": 19,
   "metadata": {},
   "outputs": [
    {
     "name": "stdout",
     "output_type": "stream",
     "text": [
      "col_0    0    1\n",
      "Class          \n",
      "0      297   10\n",
      "1       15  317\n",
      "--- 0.021004676818847656 seconds ---\n"
     ]
    }
   ],
   "source": [
    "from sklearn import linear_model\n",
    "from sklearn.linear_model import LogisticRegression\n",
    "# Set up the regression model to predict defaults using all other\n",
    "# variables as features.\n",
    "skbregr = LogisticRegression(solver='lbfgs')\n",
    "skbregrfit = skbregr.fit(sX_train, sy_train)\n",
    "\n",
    "# Calculate accuracy. First, get probability that each row will be admitted.\n",
    "pred_statsmod = skbregrfit.predict(sX_train)\n",
    "\n",
    "# Code admission as 1 if probability is greater than .5.\n",
    "pred_y_statsmod = np.where(pred_statsmod < .5, 0, 1)\n",
    "\n",
    "# Accuracy table.\n",
    "table = pd.crosstab(sy_train, pred_y_statsmod)\n",
    "print(table)\n",
    "\n",
    "print(\"--- %s seconds ---\" % (time.time() - start_time - reset_time))\n",
    "reset_time = time.time() - start_time"
   ]
  },
  {
   "cell_type": "code",
   "execution_count": 20,
   "metadata": {},
   "outputs": [
    {
     "name": "stdout",
     "output_type": "stream",
     "text": [
      "\n",
      " Cross Validation\n",
      "[0.94565217 0.97826087 0.9673913  0.91304348 0.9673913  0.94565217\n",
      " 0.95652174 0.93333333 0.97777778 0.95555556]\n",
      "\n",
      " Confusion Matrix\n",
      "[[145   5]\n",
      " [  4 121]]\n",
      "\n",
      " Classification Report\n",
      "              precision    recall  f1-score   support\n",
      "\n",
      "           0       0.97      0.97      0.97       150\n",
      "           1       0.96      0.97      0.96       125\n",
      "\n",
      "   micro avg       0.97      0.97      0.97       275\n",
      "   macro avg       0.97      0.97      0.97       275\n",
      "weighted avg       0.97      0.97      0.97       275\n",
      "\n",
      "\n",
      " Roc Auc Score\n",
      "0.9673333333333334\n",
      "--- 0.0790257453918457 seconds ---\n"
     ]
    }
   ],
   "source": [
    "model_name = skbregr\n",
    "\n",
    "from sklearn.model_selection import cross_val_score \n",
    "print('\\n Cross Validation')\n",
    "print(cross_val_score(model_name, skb_data, target, cv=10))\n",
    "\n",
    "prediction = model_name.predict(sX_test)\n",
    "from sklearn.metrics import confusion_matrix\n",
    "cnf_matrix = confusion_matrix(sy_test, prediction)\n",
    "print('\\n Confusion Matrix')\n",
    "print(cnf_matrix)\n",
    "\n",
    "from sklearn.metrics import classification_report\n",
    "print('\\n Classification Report')\n",
    "print(classification_report(sy_test, prediction))\n",
    "\n",
    "from sklearn.metrics import roc_auc_score\n",
    "print('\\n Roc Auc Score')\n",
    "print(roc_auc_score(sy_test, prediction))\n",
    "print(\"--- %s seconds ---\" % (time.time() - start_time - reset_time))\n",
    "reset_time = time.time() - start_time"
   ]
  },
  {
   "cell_type": "markdown",
   "metadata": {},
   "source": [
    "# Logistic Regression: PCA"
   ]
  },
  {
   "cell_type": "code",
   "execution_count": 21,
   "metadata": {},
   "outputs": [
    {
     "name": "stdout",
     "output_type": "stream",
     "text": [
      "col_0    0    1\n",
      "Class          \n",
      "0      298    9\n",
      "1       11  321\n",
      "--- 0.016996383666992188 seconds ---\n"
     ]
    }
   ],
   "source": [
    "from sklearn import linear_model\n",
    "from sklearn.linear_model import LogisticRegression\n",
    "# Set up the regression model to predict defaults using all other\n",
    "# variables as features.\n",
    "pcaregr = LogisticRegression(solver='lbfgs')\n",
    "pcaregrfit = pcaregr.fit(pX_train, py_train)\n",
    "\n",
    "# Calculate accuracy. First, get probability that each row will be admitted.\n",
    "pred_statsmod = pcaregrfit.predict(pX_train)\n",
    "\n",
    "# Code admission as 1 if probability is greater than .5.\n",
    "pred_y_statsmod = np.where(pred_statsmod < .5, 0, 1)\n",
    "\n",
    "# Accuracy table.\n",
    "table = pd.crosstab(py_train, pred_y_statsmod)\n",
    "print(table)\n",
    "\n",
    "print(\"--- %s seconds ---\" % (time.time() - start_time - reset_time))\n",
    "reset_time = time.time() - start_time"
   ]
  },
  {
   "cell_type": "code",
   "execution_count": 22,
   "metadata": {},
   "outputs": [
    {
     "name": "stdout",
     "output_type": "stream",
     "text": [
      "\n",
      " Cross Validation\n",
      "[0.95652174 0.98913043 0.97826087 0.93478261 0.98913043 0.97826087\n",
      " 0.98913043 0.92222222 0.98888889 0.97777778]\n",
      "\n",
      " Confusion Matrix\n",
      "[[145   5]\n",
      " [  1 124]]\n",
      "\n",
      " Classification Report\n",
      "              precision    recall  f1-score   support\n",
      "\n",
      "           0       0.99      0.97      0.98       150\n",
      "           1       0.96      0.99      0.98       125\n",
      "\n",
      "   micro avg       0.98      0.98      0.98       275\n",
      "   macro avg       0.98      0.98      0.98       275\n",
      "weighted avg       0.98      0.98      0.98       275\n",
      "\n",
      "\n",
      " Roc Auc Score\n",
      "0.9793333333333333\n",
      "--- 0.044017791748046875 seconds ---\n"
     ]
    }
   ],
   "source": [
    "model_name = pcaregr\n",
    "\n",
    "from sklearn.model_selection import cross_val_score \n",
    "print('\\n Cross Validation')\n",
    "print(cross_val_score(model_name, pca_data, target, cv=10))\n",
    "\n",
    "prediction = model_name.predict(pX_test)\n",
    "from sklearn.metrics import confusion_matrix\n",
    "cnf_matrix = confusion_matrix(py_test, prediction)\n",
    "print('\\n Confusion Matrix')\n",
    "print(cnf_matrix)\n",
    "\n",
    "from sklearn.metrics import classification_report\n",
    "print('\\n Classification Report')\n",
    "print(classification_report(py_test, prediction))\n",
    "\n",
    "from sklearn.metrics import roc_auc_score\n",
    "print('\\n Roc Auc Score')\n",
    "print(roc_auc_score(py_test, prediction))\n",
    "print(\"--- %s seconds ---\" % (time.time() - start_time - reset_time))\n",
    "reset_time = time.time() - start_time"
   ]
  },
  {
   "cell_type": "markdown",
   "metadata": {},
   "source": [
    "With logistic regression we can observe that in terms of accuracy PCA > Regular > SKB. This is most likely due to the fact that with the choice of setting SKB to the size of 4, it ends up losing too much variance when creating its data. This made it harder to create a accurate data model especially since the model wasn't created multiple times then averaged out (which happens in random forest trees). In terms of the f1-score, the PCA logistic regression model also scored the highest, however overall they are roughly the same with no real major fluctuations between their precision and recall. \n",
    "Compared to the random forest tree, the logisitic model is overall less accurate, however in terms of correctly identifying the class, it does comparatively as good as the random forest tree."
   ]
  },
  {
   "cell_type": "markdown",
   "metadata": {},
   "source": [
    "# Gradient Boosting: Regular"
   ]
  },
  {
   "cell_type": "code",
   "execution_count": 23,
   "metadata": {},
   "outputs": [
    {
     "name": "stdout",
     "output_type": "stream",
     "text": [
      "Best Accuracy:  0.974960876369327\n",
      "--- 0.3990805149078369 seconds ---\n"
     ]
    }
   ],
   "source": [
    "params = {'n_estimators': 10,\n",
    "          'max_depth': 2,\n",
    "          'loss': 'deviance'}\n",
    "\n",
    "# Initialize and fit the model.\n",
    "clf = ensemble.GradientBoostingClassifier(**params)\n",
    "clf.fit(X_train, y_train)\n",
    "\n",
    "from sklearn.model_selection import GridSearchCV\n",
    "parameters = {\n",
    "    'n_estimators': [5, 10, 15, 20],\n",
    "    'max_features': ['auto', 'sqrt', 'log2'],\n",
    "    'max_depth' : [1, 2, 3],\n",
    "}\n",
    "gd_clf = GridSearchCV(estimator=clf,  \n",
    "                     param_grid=parameters,\n",
    "                     scoring='accuracy',\n",
    "                     cv=5,\n",
    "                     n_jobs=-1)\n",
    "\n",
    "gd_clf.fit(X_train, y_train)  \n",
    "best_result = gd_clf.best_score_  \n",
    "print(\"Best Accuracy: \", best_result)  \n",
    "print(\"--- %s seconds ---\" % (time.time() - start_time - reset_time))\n",
    "reset_time = time.time() - start_time"
   ]
  },
  {
   "cell_type": "code",
   "execution_count": 24,
   "metadata": {},
   "outputs": [
    {
     "name": "stdout",
     "output_type": "stream",
     "text": [
      "With 20% Holdout: 0.9709090909090909\n",
      "Testing on Sample: 0.9814004376367614\n",
      "\n",
      " Cross Validation\n",
      "[0.9673913  0.98913043 0.97826087 0.93478261 0.94565217 0.95652174\n",
      " 0.98913043 0.98888889 0.98888889 0.98888889]\n",
      "\n",
      " Confusion Matrix\n",
      "[[145   5]\n",
      " [  0 125]]\n",
      "\n",
      " Classification Report\n",
      "              precision    recall  f1-score   support\n",
      "\n",
      "           0       1.00      0.97      0.98       150\n",
      "           1       0.96      1.00      0.98       125\n",
      "\n",
      "   micro avg       0.98      0.98      0.98       275\n",
      "   macro avg       0.98      0.98      0.98       275\n",
      "weighted avg       0.98      0.98      0.98       275\n",
      "\n",
      "\n",
      " Roc Auc Score\n",
      "0.9833333333333334\n",
      "--- 4.433001279830933 seconds ---\n"
     ]
    }
   ],
   "source": [
    "import warnings\n",
    "warnings.filterwarnings(\"ignore\")\n",
    "\n",
    "model_name = gd_clf\n",
    "print('With 20% Holdout: ' + str(model_name.fit(X_train, y_train).score(X_test, y_test)))\n",
    "print('Testing on Sample: ' + str(model_name.fit(selected_data, target).score(selected_data, target)))\n",
    "\n",
    "from sklearn.model_selection import cross_val_score \n",
    "print('\\n Cross Validation')\n",
    "print(cross_val_score(model_name, selected_data, target, cv=10))\n",
    "\n",
    "prediction = model_name.predict(X_test)\n",
    "from sklearn.metrics import confusion_matrix\n",
    "cnf_matrix = confusion_matrix(y_test, prediction)\n",
    "print('\\n Confusion Matrix')\n",
    "print(cnf_matrix)\n",
    "\n",
    "from sklearn.metrics import classification_report\n",
    "print('\\n Classification Report')\n",
    "print(classification_report(y_test, prediction))\n",
    "\n",
    "from sklearn.metrics import roc_auc_score\n",
    "print('\\n Roc Auc Score')\n",
    "print(roc_auc_score(y_test, prediction))\n",
    "print(\"--- %s seconds ---\" % (time.time() - start_time - reset_time))\n",
    "reset_time = time.time() - start_time"
   ]
  },
  {
   "cell_type": "markdown",
   "metadata": {},
   "source": [
    "# Gradient Boosting: Select K Best"
   ]
  },
  {
   "cell_type": "code",
   "execution_count": 25,
   "metadata": {},
   "outputs": [
    {
     "name": "stdout",
     "output_type": "stream",
     "text": [
      "Best Accuracy:  0.9687010954616588\n",
      "--- 0.35407066345214844 seconds ---\n"
     ]
    }
   ],
   "source": [
    "params = {'n_estimators': 10,\n",
    "          'max_depth': 2,\n",
    "          'loss': 'deviance'}\n",
    "\n",
    "# Initialize and fit the model.\n",
    "skbclf = ensemble.GradientBoostingClassifier(**params)\n",
    "skbclf.fit(sX_train, sy_train)\n",
    "\n",
    "from sklearn.model_selection import GridSearchCV\n",
    "parameters = {\n",
    "    'n_estimators': [5, 10, 15, 20],\n",
    "    'max_features': ['auto', 'sqrt', 'log2'],\n",
    "    'max_depth' : [1, 2, 3],\n",
    "}\n",
    "sgd_clf = GridSearchCV(estimator=skbclf,  \n",
    "                     param_grid=parameters,\n",
    "                     scoring='accuracy',\n",
    "                     cv=5,\n",
    "                     n_jobs=-1)\n",
    "\n",
    "sgd_clf.fit(sX_train, sy_train)  \n",
    "best_result = sgd_clf.best_score_  \n",
    "print(\"Best Accuracy: \", best_result)  \n",
    "print(\"--- %s seconds ---\" % (time.time() - start_time - reset_time))\n",
    "reset_time = time.time() - start_time"
   ]
  },
  {
   "cell_type": "code",
   "execution_count": 26,
   "metadata": {},
   "outputs": [
    {
     "name": "stdout",
     "output_type": "stream",
     "text": [
      "\n",
      " Cross Validation\n",
      "[0.9673913  0.98913043 0.97826087 0.92391304 0.95652174 0.92391304\n",
      " 0.98913043 0.97777778 0.97777778 0.97777778]\n",
      "\n",
      " Confusion Matrix\n",
      "[[140  10]\n",
      " [  0 125]]\n",
      "\n",
      " Classification Report\n",
      "              precision    recall  f1-score   support\n",
      "\n",
      "           0       1.00      0.93      0.97       150\n",
      "           1       0.93      1.00      0.96       125\n",
      "\n",
      "   micro avg       0.96      0.96      0.96       275\n",
      "   macro avg       0.96      0.97      0.96       275\n",
      "weighted avg       0.97      0.96      0.96       275\n",
      "\n",
      "\n",
      " Roc Auc Score\n",
      "0.9666666666666667\n",
      "--- 3.6678221225738525 seconds ---\n"
     ]
    }
   ],
   "source": [
    "import warnings\n",
    "warnings.filterwarnings(\"ignore\")\n",
    "\n",
    "model_name = sgd_clf\n",
    "from sklearn.model_selection import cross_val_score \n",
    "print('\\n Cross Validation')\n",
    "print(cross_val_score(model_name, skb_data, target, cv=10))\n",
    "\n",
    "prediction = model_name.predict(sX_test)\n",
    "from sklearn.metrics import confusion_matrix\n",
    "cnf_matrix = confusion_matrix(sy_test, prediction)\n",
    "print('\\n Confusion Matrix')\n",
    "print(cnf_matrix)\n",
    "\n",
    "from sklearn.metrics import classification_report\n",
    "print('\\n Classification Report')\n",
    "print(classification_report(sy_test, prediction))\n",
    "\n",
    "from sklearn.metrics import roc_auc_score\n",
    "print('\\n Roc Auc Score')\n",
    "print(roc_auc_score(sy_test, prediction))\n",
    "print(\"--- %s seconds ---\" % (time.time() - start_time - reset_time))\n",
    "reset_time = time.time() - start_time"
   ]
  },
  {
   "cell_type": "markdown",
   "metadata": {},
   "source": [
    "# Gradient Boosting: PCA"
   ]
  },
  {
   "cell_type": "code",
   "execution_count": 27,
   "metadata": {},
   "outputs": [
    {
     "name": "stdout",
     "output_type": "stream",
     "text": [
      "Best Accuracy:  0.9687010954616588\n",
      "--- 0.3310737609863281 seconds ---\n"
     ]
    }
   ],
   "source": [
    "params = {'n_estimators': 10,\n",
    "          'max_depth': 2,\n",
    "          'loss': 'deviance'}\n",
    "\n",
    "# Initialize and fit the model.\n",
    "pcaclf = ensemble.GradientBoostingClassifier(**params)\n",
    "pcaclf.fit(sX_train, sy_train)\n",
    "\n",
    "from sklearn.model_selection import GridSearchCV\n",
    "parameters = {\n",
    "    'n_estimators': [5, 10, 15, 20],\n",
    "    'max_features': ['auto', 'sqrt', 'log2'],\n",
    "    'max_depth' : [1, 2, 3],\n",
    "}\n",
    "pca_clf = GridSearchCV(estimator=pcaclf,  \n",
    "                     param_grid=parameters,\n",
    "                     scoring='accuracy',\n",
    "                     cv=5,\n",
    "                     n_jobs=-1)\n",
    "\n",
    "pca_clf.fit(sX_train, sy_train)  \n",
    "best_result = sgd_clf.best_score_  \n",
    "print(\"Best Accuracy: \", best_result)  \n",
    "print(\"--- %s seconds ---\" % (time.time() - start_time - reset_time))\n",
    "reset_time = time.time() - start_time"
   ]
  },
  {
   "cell_type": "code",
   "execution_count": 28,
   "metadata": {},
   "outputs": [
    {
     "name": "stdout",
     "output_type": "stream",
     "text": [
      "\n",
      " Cross Validation\n",
      "[0.9673913  0.97826087 0.9673913  0.93478261 0.98913043 0.9673913\n",
      " 0.97826087 0.97777778 0.98888889 0.98888889]\n",
      "\n",
      " Confusion Matrix\n",
      "[[149   1]\n",
      " [ 30  95]]\n",
      "\n",
      " Classification Report\n",
      "              precision    recall  f1-score   support\n",
      "\n",
      "           0       0.83      0.99      0.91       150\n",
      "           1       0.99      0.76      0.86       125\n",
      "\n",
      "   micro avg       0.89      0.89      0.89       275\n",
      "   macro avg       0.91      0.88      0.88       275\n",
      "weighted avg       0.90      0.89      0.88       275\n",
      "\n",
      "\n",
      " Roc Auc Score\n",
      "0.8766666666666667\n",
      "--- 3.279733896255493 seconds ---\n"
     ]
    }
   ],
   "source": [
    "model_name = pca_clf\n",
    "\n",
    "from sklearn.model_selection import cross_val_score \n",
    "print('\\n Cross Validation')\n",
    "print(cross_val_score(model_name, pca_data, target, cv=10))\n",
    "\n",
    "prediction = model_name.predict(pX_test)\n",
    "from sklearn.metrics import confusion_matrix\n",
    "cnf_matrix = confusion_matrix(py_test, prediction)\n",
    "print('\\n Confusion Matrix')\n",
    "print(cnf_matrix)\n",
    "\n",
    "from sklearn.metrics import classification_report\n",
    "print('\\n Classification Report')\n",
    "print(classification_report(py_test, prediction))\n",
    "\n",
    "from sklearn.metrics import roc_auc_score\n",
    "print('\\n Roc Auc Score')\n",
    "print(roc_auc_score(py_test, prediction))\n",
    "print(\"--- %s seconds ---\" % (time.time() - start_time - reset_time))\n",
    "reset_time = time.time() - start_time"
   ]
  },
  {
   "cell_type": "markdown",
   "metadata": {},
   "source": [
    "For gradient boosting, we can observe that having no feature selection resulted in the highest accuracy as well as highest f1-score out of the 3 feature selection methods. This is most likely due to the fact that our data set is small and that reducing the number of features that our boosting model uses, drastically reduces its accuracy. In terms of the creation of the gradient boost model, it is slightly slower then the logstic regression model but still much faster then the random forest tree. However it's f1-score is much lower and more varied then the other two model types. This again is due to the low sample size of our data set and that any outliers or lack of, will cause the boosting model to fluctuate greatly. Having PCA have the most varied f1-score shows that eliminating alot of the variance caused the worse amount of correctly identified classes."
   ]
  },
  {
   "cell_type": "markdown",
   "metadata": {},
   "source": [
    "# Ridge Regression : Regular "
   ]
  },
  {
   "cell_type": "code",
   "execution_count": 29,
   "metadata": {},
   "outputs": [
    {
     "name": "stdout",
     "output_type": "stream",
     "text": [
      "--- 0.08002686500549316 seconds ---\n"
     ]
    }
   ],
   "source": [
    "ridgeregr = linear_model.Ridge(alpha=500, fit_intercept=False) \n",
    "ridgeregrfit = ridgeregr.fit(X_train, y_train)\n",
    "\n",
    "# Calculate accuracy. First, get probability that each row will be admitted.\n",
    "pred_statsmod = ridgeregrfit.predict(X_train)\n",
    "\n",
    "# Code admission as 1 if probability is greater than .5.\n",
    "pred_y_statsmod = np.where(pred_statsmod < .5, 0, 1)\n",
    "\n",
    "# Accuracy table.\n",
    "ridgetable = pd.crosstab(y_train, pred_y_statsmod)\n",
    "print(\"--- %s seconds ---\" % (time.time() - start_time - reset_time))\n",
    "reset_time = time.time() - start_time"
   ]
  },
  {
   "cell_type": "code",
   "execution_count": 30,
   "metadata": {},
   "outputs": [
    {
     "name": "stdout",
     "output_type": "stream",
     "text": [
      "Ridge Regression Score\n",
      "0.795425221754552\n",
      "\n",
      "With 20% Holdout: 0.795425221754552\n",
      "Testing on Sample: 0.777777929296997\n",
      "\n",
      " Accuracy by admission status\n",
      "col_0    0    1\n",
      "Class          \n",
      "0      293   14\n",
      "1       19  313\n",
      "\n",
      " Roc Auc Score\n",
      "0.8766666666666667\n",
      "--- 0.014995813369750977 seconds ---\n"
     ]
    }
   ],
   "source": [
    "import warnings\n",
    "warnings.filterwarnings(\"ignore\")\n",
    "\n",
    "print('Ridge Regression Score')\n",
    "print(ridgeregrfit.score(X_test, y_test))\n",
    "\n",
    "model_name = ridgeregr\n",
    "print('\\nWith 20% Holdout: ' + str(model_name.fit(X_train, y_train).score(X_test, y_test)))\n",
    "print('Testing on Sample: ' + str(model_name.fit(selected_data, target).score(selected_data, target)))\n",
    "\n",
    "print('\\n Accuracy by admission status')\n",
    "print(ridgetable)\n",
    "\n",
    "from sklearn.metrics import roc_auc_score\n",
    "print('\\n Roc Auc Score')\n",
    "print(roc_auc_score(y_test, prediction))\n",
    "print(\"--- %s seconds ---\" % (time.time() - start_time - reset_time))\n",
    "reset_time = time.time() - start_time"
   ]
  },
  {
   "cell_type": "markdown",
   "metadata": {},
   "source": [
    "# Ridge Regression: SKB"
   ]
  },
  {
   "cell_type": "code",
   "execution_count": 31,
   "metadata": {},
   "outputs": [
    {
     "name": "stdout",
     "output_type": "stream",
     "text": [
      "--- 0.015004873275756836 seconds ---\n"
     ]
    }
   ],
   "source": [
    "ridgeregr = linear_model.Ridge(alpha=500, fit_intercept=False) \n",
    "ridgeregrfit = ridgeregr.fit(sX_train, sy_train)\n",
    "\n",
    "# Calculate accuracy. First, get probability that each row will be admitted.\n",
    "pred_statsmod = ridgeregrfit.predict(sX_train)\n",
    "\n",
    "# Code admission as 1 if probability is greater than .5.\n",
    "pred_y_statsmod = np.where(pred_statsmod < .5, 0, 1)\n",
    "\n",
    "# Accuracy table.\n",
    "ridgetable = pd.crosstab(sy_train, pred_y_statsmod)\n",
    "print(\"--- %s seconds ---\" % (time.time() - start_time - reset_time))\n",
    "reset_time = time.time() - start_time"
   ]
  },
  {
   "cell_type": "code",
   "execution_count": 32,
   "metadata": {},
   "outputs": [
    {
     "name": "stdout",
     "output_type": "stream",
     "text": [
      "Ridge Regression Score\n",
      "0.7939238155455772\n",
      "\n",
      "With 20% Holdout: 0.7939238155455772\n",
      "Testing on Sample: 0.777777929296997\n",
      "\n",
      " Accuracy by admission status\n",
      "col_0    0    1\n",
      "Class          \n",
      "0      289   18\n",
      "1       24  308\n",
      "\n",
      " Roc Auc Score\n",
      "0.8766666666666667\n",
      "--- 0.015001535415649414 seconds ---\n"
     ]
    }
   ],
   "source": [
    "import warnings\n",
    "warnings.filterwarnings(\"ignore\")\n",
    "\n",
    "print('Ridge Regression Score')\n",
    "print(ridgeregrfit.score(sX_test, sy_test))\n",
    "\n",
    "model_name = ridgeregr\n",
    "print('\\nWith 20% Holdout: ' + str(model_name.fit(sX_train, sy_train).score(sX_test, sy_test)))\n",
    "print('Testing on Sample: ' + str(model_name.fit(selected_data, target).score(selected_data, target)))\n",
    "\n",
    "print('\\n Accuracy by admission status')\n",
    "print(ridgetable)\n",
    "\n",
    "from sklearn.metrics import roc_auc_score\n",
    "print('\\n Roc Auc Score')\n",
    "print(roc_auc_score(y_test, prediction))\n",
    "print(\"--- %s seconds ---\" % (time.time() - start_time - reset_time))\n",
    "reset_time = time.time() - start_time"
   ]
  },
  {
   "cell_type": "markdown",
   "metadata": {},
   "source": [
    "# Ridge Regression: PCA"
   ]
  },
  {
   "cell_type": "code",
   "execution_count": 53,
   "metadata": {},
   "outputs": [
    {
     "name": "stdout",
     "output_type": "stream",
     "text": [
      "--- 4481.71164226532 seconds ---\n"
     ]
    }
   ],
   "source": [
    "ridgeregr = linear_model.Ridge(alpha=500, fit_intercept=False) \n",
    "ridgeregrfit = ridgeregr.fit(pX_train, py_train)\n",
    "\n",
    "# Calculate accuracy. First, get probability that each row will be admitted.\n",
    "pred_statsmod = ridgeregrfit.predict(pX_train)\n",
    "\n",
    "# Code admission as 1 if probability is greater than .5.\n",
    "pred_y_statsmod = np.where(pred_statsmod < .5, 0, 1)\n",
    "\n",
    "# Accuracy table.\n",
    "ridgetable = pd.crosstab(sy_train, pred_y_statsmod)\n",
    "print(\"--- %s seconds ---\" % (time.time() - start_time - reset_time))\n",
    "reset_time = time.time() - start_time"
   ]
  },
  {
   "cell_type": "code",
   "execution_count": 54,
   "metadata": {},
   "outputs": [
    {
     "name": "stdout",
     "output_type": "stream",
     "text": [
      "Ridge Regression Score\n",
      "-0.14752428457148392\n",
      "\n",
      "With 20% Holdout: -0.14752428457148392\n",
      "Testing on Sample: 0.777777929296997\n",
      "\n",
      " Accuracy by admission status\n",
      "col_0    0    1\n",
      "Class          \n",
      "0      306    1\n",
      "1      205  127\n",
      "\n",
      " Roc Auc Score\n",
      "0.9985066666666667\n",
      "--- 1.2474894523620605 seconds ---\n"
     ]
    }
   ],
   "source": [
    "import warnings\n",
    "warnings.filterwarnings(\"ignore\")\n",
    "\n",
    "print('Ridge Regression Score')\n",
    "print(ridgeregrfit.score(pX_test, py_test))\n",
    "\n",
    "model_name = ridgeregr\n",
    "print('\\nWith 20% Holdout: ' + str(model_name.fit(pX_train, py_train).score(pX_test, py_test)))\n",
    "print('Testing on Sample: ' + str(model_name.fit(selected_data, target).score(selected_data, target)))\n",
    "\n",
    "print('\\n Accuracy by admission status')\n",
    "print(ridgetable)\n",
    "\n",
    "from sklearn.metrics import roc_auc_score\n",
    "print('\\n Roc Auc Score')\n",
    "print(roc_auc_score(y_test, prediction))\n",
    "print(\"--- %s seconds ---\" % (time.time() - start_time - reset_time))\n",
    "reset_time = time.time() - start_time"
   ]
  },
  {
   "cell_type": "markdown",
   "metadata": {},
   "source": [
    "With Ridge Regression, it's model type automatically applies it's own form of feature selection using the given alpha value as a filter to add coefficients or weights to outliers from the model to improve accuracy. In this way, applying more feature selection onto a Ridge Regression model can negatively affect it's effectiveness. This can be observed in the PCA ridge regression model where the score appeared negative, and the confusion matrix displays a larger miss then hit for it's Class 1 (205/127). Ridge Regression models also require a fairly large amount of features to be more effective and thus in this case where both the row size and feature size is relatively small its effectivness is far worse then that of the other model types that we have used so far. \n",
    "Between the regular and skb ridge regression models however, they both performed similarly well, but the regular ridge regression model has less errors in its confusion matrix showing a higher accuracy in correctly identifying classes."
   ]
  },
  {
   "cell_type": "markdown",
   "metadata": {},
   "source": [
    "# Lasso Regression: Regular"
   ]
  },
  {
   "cell_type": "code",
   "execution_count": 35,
   "metadata": {},
   "outputs": [
    {
     "name": "stdout",
     "output_type": "stream",
     "text": [
      "--- 0.017003774642944336 seconds ---\n"
     ]
    }
   ],
   "source": [
    "lassregr = linear_model.Lasso(alpha=.35)\n",
    "lassregrfit = lassregr.fit(X_train, y_train)\n",
    "\n",
    "# Calculate accuracy. First, get probability that each row will be admitted.\n",
    "pred_statsmod = lassregrfit.predict(X_train)\n",
    "\n",
    "# Code admission as 1 if probability is greater than .5.\n",
    "pred_y_statsmod = np.where(pred_statsmod < .5, 0, 1)\n",
    "\n",
    "# Accuracy table.\n",
    "lasstable = pd.crosstab(y_train, pred_y_statsmod)\n",
    "print(\"--- %s seconds ---\" % (time.time() - start_time - reset_time))\n",
    "reset_time = time.time() - start_time"
   ]
  },
  {
   "cell_type": "code",
   "execution_count": 36,
   "metadata": {},
   "outputs": [
    {
     "name": "stdout",
     "output_type": "stream",
     "text": [
      "Lasso Regression Score\n",
      "0.7682285716502877\n",
      "\n",
      "With 20% Holdout: 0.7682285716502877\n",
      "Testing on Sample: 0.7490733861183765\n",
      "\n",
      " Accuracy by admission status\n",
      "col_0    0    1\n",
      "Class          \n",
      "0      290   17\n",
      "1       26  306\n",
      "\n",
      " Roc Auc Score\n",
      "0.8766666666666667\n",
      "--- 0.03600001335144043 seconds ---\n"
     ]
    }
   ],
   "source": [
    "import warnings\n",
    "warnings.filterwarnings(\"ignore\")\n",
    "\n",
    "print('Lasso Regression Score')\n",
    "print(lassregrfit.score(X_test, y_test))\n",
    "\n",
    "model_name = lassregr\n",
    "print('\\nWith 20% Holdout: ' + str(model_name.fit(X_train, y_train).score(X_test, y_test)))\n",
    "print('Testing on Sample: ' + str(model_name.fit(selected_data, target).score(selected_data, target)))\n",
    "\n",
    "print('\\n Accuracy by admission status')\n",
    "print(lasstable)\n",
    "\n",
    "from sklearn.metrics import roc_auc_score\n",
    "print('\\n Roc Auc Score')\n",
    "print(roc_auc_score(y_test, prediction))\n",
    "print(\"--- %s seconds ---\" % (time.time() - start_time - reset_time))\n",
    "reset_time = time.time() - start_time"
   ]
  },
  {
   "cell_type": "markdown",
   "metadata": {},
   "source": [
    "# Lasso Regression: SKB"
   ]
  },
  {
   "cell_type": "code",
   "execution_count": 37,
   "metadata": {},
   "outputs": [
    {
     "name": "stdout",
     "output_type": "stream",
     "text": [
      "--- 0.016003131866455078 seconds ---\n"
     ]
    }
   ],
   "source": [
    "lassregr = linear_model.Lasso(alpha=.35)\n",
    "lassregrfit = lassregr.fit(sX_train, sy_train)\n",
    "\n",
    "# Calculate accuracy. First, get probability that each row will be admitted.\n",
    "pred_statsmod = lassregrfit.predict(sX_train)\n",
    "\n",
    "# Code admission as 1 if probability is greater than .5.\n",
    "pred_y_statsmod = np.where(pred_statsmod < .5, 0, 1)\n",
    "\n",
    "# Accuracy table.\n",
    "lasstable = pd.crosstab(sy_train, pred_y_statsmod)\n",
    "print(\"--- %s seconds ---\" % (time.time() - start_time - reset_time))\n",
    "reset_time = time.time() - start_time"
   ]
  },
  {
   "cell_type": "code",
   "execution_count": 38,
   "metadata": {},
   "outputs": [
    {
     "name": "stdout",
     "output_type": "stream",
     "text": [
      "Lasso Regression Score\n",
      "0.746319817202039\n",
      "\n",
      "With 20% Holdout: 0.746319817202039\n",
      "Testing on Sample: 0.7490733861183765\n",
      "\n",
      " Accuracy by admission status\n",
      "col_0    0    1\n",
      "Class          \n",
      "0      289   18\n",
      "1       29  303\n",
      "\n",
      " Roc Auc Score\n",
      "0.8766666666666667\n",
      "--- 0.014003276824951172 seconds ---\n"
     ]
    }
   ],
   "source": [
    "import warnings\n",
    "warnings.filterwarnings(\"ignore\")\n",
    "\n",
    "print('Lasso Regression Score')\n",
    "print(lassregrfit.score(sX_test, sy_test))\n",
    "\n",
    "model_name = lassregr\n",
    "print('\\nWith 20% Holdout: ' + str(model_name.fit(sX_train, sy_train).score(sX_test, sy_test)))\n",
    "print('Testing on Sample: ' + str(model_name.fit(selected_data, target).score(selected_data, target)))\n",
    "\n",
    "print('\\n Accuracy by admission status')\n",
    "print(lasstable)\n",
    "\n",
    "from sklearn.metrics import roc_auc_score\n",
    "print('\\n Roc Auc Score')\n",
    "print(roc_auc_score(y_test, prediction))\n",
    "print(\"--- %s seconds ---\" % (time.time() - start_time - reset_time))\n",
    "reset_time = time.time() - start_time"
   ]
  },
  {
   "cell_type": "markdown",
   "metadata": {},
   "source": [
    "# Lasso Regression: PCA"
   ]
  },
  {
   "cell_type": "code",
   "execution_count": 39,
   "metadata": {},
   "outputs": [
    {
     "name": "stdout",
     "output_type": "stream",
     "text": [
      "--- 0.014003276824951172 seconds ---\n"
     ]
    }
   ],
   "source": [
    "lassregr = linear_model.Lasso(alpha=.35)\n",
    "lassregrfit = lassregr.fit(pX_train, py_train)\n",
    "\n",
    "# Calculate accuracy. First, get probability that each row will be admitted.\n",
    "pred_statsmod = lassregrfit.predict(pX_train)\n",
    "\n",
    "# Code admission as 1 if probability is greater than .5.\n",
    "pred_y_statsmod = np.where(pred_statsmod < .5, 0, 1)\n",
    "\n",
    "# Accuracy table.\n",
    "lasstable = pd.crosstab(py_train, pred_y_statsmod)\n",
    "print(\"--- %s seconds ---\" % (time.time() - start_time - reset_time))\n",
    "reset_time = time.time() - start_time"
   ]
  },
  {
   "cell_type": "code",
   "execution_count": 40,
   "metadata": {},
   "outputs": [
    {
     "name": "stdout",
     "output_type": "stream",
     "text": [
      "Lasso Regression Score\n",
      "0.815297790851177\n",
      "\n",
      "With 20% Holdout: 0.815297790851177\n",
      "Testing on Sample: 0.7490733861183765\n",
      "\n",
      " Accuracy by admission status\n",
      "col_0    0    1\n",
      "Class          \n",
      "0      298    9\n",
      "1       27  305\n",
      "\n",
      " Roc Auc Score\n",
      "0.8766666666666667\n",
      "--- 0.014003753662109375 seconds ---\n"
     ]
    }
   ],
   "source": [
    "import warnings\n",
    "warnings.filterwarnings(\"ignore\")\n",
    "\n",
    "print('Lasso Regression Score')\n",
    "print(lassregrfit.score(pX_test, py_test))\n",
    "\n",
    "model_name = lassregr\n",
    "print('\\nWith 20% Holdout: ' + str(model_name.fit(pX_train, py_train).score(pX_test, py_test)))\n",
    "print('Testing on Sample: ' + str(model_name.fit(selected_data, target).score(selected_data, target)))\n",
    "\n",
    "print('\\n Accuracy by admission status')\n",
    "print(lasstable)\n",
    "\n",
    "from sklearn.metrics import roc_auc_score\n",
    "print('\\n Roc Auc Score')\n",
    "print(roc_auc_score(y_test, prediction))\n",
    "print(\"--- %s seconds ---\" % (time.time() - start_time - reset_time))\n",
    "reset_time = time.time() - start_time"
   ]
  },
  {
   "cell_type": "markdown",
   "metadata": {},
   "source": [
    "Lasso Regression is similar to that of Ridge Regression, however because of the way it deals with it's independent feature selection it suffers less then that of Ridge Regression in this scenerio. In terms of accurracy it is greater then that of ridge regression but still less then that of the other models such as random forest and gradient boosting. It has less errors in it's confusion matrix then that in Ridge Regression but more then in random forest and gradient boosting. It has a similar run time to that of ridge regression and logistic regression. Out of the feature selection methods, curiously PCA worked the best in this scenerio. This is most likely due to PCA condensing most of the variance into a smaller feature size that allowed for lasso regression to work more optimally. "
   ]
  },
  {
   "cell_type": "markdown",
   "metadata": {},
   "source": [
    "# SVM: Regular"
   ]
  },
  {
   "cell_type": "code",
   "execution_count": 41,
   "metadata": {},
   "outputs": [
    {
     "data": {
      "text/plain": [
       "SVC(C=1.0, cache_size=200, class_weight=None, coef0=0.0,\n",
       "  decision_function_shape='ovr', degree=3, gamma='auto_deprecated',\n",
       "  kernel='linear', max_iter=-1, probability=False, random_state=None,\n",
       "  shrinking=True, tol=0.001, verbose=False)"
      ]
     },
     "execution_count": 41,
     "metadata": {},
     "output_type": "execute_result"
    }
   ],
   "source": [
    "from sklearn.svm import SVC  \n",
    "svclassifier = SVC(kernel='linear')\n",
    "svclassifier.fit(X_train, y_train)\n",
    "print(\"--- %s seconds ---\" % (time.time() - start_time - reset_time))\n",
    "reset_time = time.time() - start_time"
   ]
  },
  {
   "cell_type": "code",
   "execution_count": 42,
   "metadata": {},
   "outputs": [
    {
     "name": "stdout",
     "output_type": "stream",
     "text": [
      "With 20% Holdout: 0.9745454545454545\n",
      "Testing on Sample: 0.9715536105032823\n",
      "\n",
      " Cross Validation\n",
      "[0.95652174 0.9673913  0.95652174 0.93478261 0.97826087 0.97826087\n",
      " 0.97826087 0.92222222 0.98888889 0.97777778]\n",
      "\n",
      " Confusion Matrix\n",
      "[[145   5]\n",
      " [  1 124]]\n",
      "\n",
      " Classification Report\n",
      "              precision    recall  f1-score   support\n",
      "\n",
      "           0       0.99      0.97      0.98       150\n",
      "           1       0.96      0.99      0.98       125\n",
      "\n",
      "   micro avg       0.98      0.98      0.98       275\n",
      "   macro avg       0.98      0.98      0.98       275\n",
      "weighted avg       0.98      0.98      0.98       275\n",
      "\n",
      "\n",
      " Roc Auc Score\n",
      "0.9793333333333333\n",
      "--- 0.13602972030639648 seconds ---\n"
     ]
    }
   ],
   "source": [
    "model_name = svclassifier\n",
    "print('With 20% Holdout: ' + str(model_name.fit(X_train, y_train).score(X_test, y_test)))\n",
    "print('Testing on Sample: ' + str(model_name.fit(selected_data, target).score(selected_data, target)))\n",
    "\n",
    "from sklearn.model_selection import cross_val_score \n",
    "print('\\n Cross Validation')\n",
    "print(cross_val_score(model_name, selected_data, target, cv=10))\n",
    "\n",
    "prediction = model_name.predict(X_test)\n",
    "from sklearn.metrics import confusion_matrix\n",
    "cnf_matrix = confusion_matrix(y_test, prediction)\n",
    "print('\\n Confusion Matrix')\n",
    "print(cnf_matrix)\n",
    "\n",
    "from sklearn.metrics import classification_report\n",
    "print('\\n Classification Report')\n",
    "print(classification_report(y_test, prediction))\n",
    "\n",
    "from sklearn.metrics import roc_auc_score\n",
    "print('\\n Roc Auc Score')\n",
    "print(roc_auc_score(y_test, prediction))\n",
    "print(\"--- %s seconds ---\" % (time.time() - start_time - reset_time))\n",
    "reset_time = time.time() - start_time"
   ]
  },
  {
   "cell_type": "markdown",
   "metadata": {},
   "source": [
    "# SVM: Select K Best"
   ]
  },
  {
   "cell_type": "code",
   "execution_count": 43,
   "metadata": {},
   "outputs": [
    {
     "data": {
      "text/plain": [
       "SVC(C=1.0, cache_size=200, class_weight=None, coef0=0.0,\n",
       "  decision_function_shape='ovr', degree=3, gamma='auto_deprecated',\n",
       "  kernel='linear', max_iter=-1, probability=False, random_state=None,\n",
       "  shrinking=True, tol=0.001, verbose=False)"
      ]
     },
     "execution_count": 43,
     "metadata": {},
     "output_type": "execute_result"
    }
   ],
   "source": [
    "from sklearn.svm import SVC  \n",
    "svclassifier = SVC(kernel='linear')\n",
    "svclassifier.fit(sX_train, sy_train)\n",
    "print(\"--- %s seconds ---\" % (time.time() - start_time - reset_time))\n",
    "reset_time = time.time() - start_time"
   ]
  },
  {
   "cell_type": "code",
   "execution_count": 44,
   "metadata": {},
   "outputs": [
    {
     "name": "stdout",
     "output_type": "stream",
     "text": [
      "\n",
      " Cross Validation\n",
      "[0.94565217 0.97826087 0.9673913  0.88043478 0.95652174 0.94565217\n",
      " 0.9673913  0.94444444 0.98888889 0.96666667]\n",
      "\n",
      " Confusion Matrix\n",
      "[[143   7]\n",
      " [  4 121]]\n",
      "\n",
      " Classification Report\n",
      "              precision    recall  f1-score   support\n",
      "\n",
      "           0       0.97      0.95      0.96       150\n",
      "           1       0.95      0.97      0.96       125\n",
      "\n",
      "   micro avg       0.96      0.96      0.96       275\n",
      "   macro avg       0.96      0.96      0.96       275\n",
      "weighted avg       0.96      0.96      0.96       275\n",
      "\n",
      "\n",
      " Roc Auc Score\n",
      "0.9606666666666667\n",
      "--- 0.09502077102661133 seconds ---\n"
     ]
    }
   ],
   "source": [
    "model_name = svclassifier\n",
    "from sklearn.model_selection import cross_val_score \n",
    "print('\\n Cross Validation')\n",
    "print(cross_val_score(model_name, skb_data, target, cv=10))\n",
    "\n",
    "prediction = model_name.predict(sX_test)\n",
    "from sklearn.metrics import confusion_matrix\n",
    "cnf_matrix = confusion_matrix(sy_test, prediction)\n",
    "print('\\n Confusion Matrix')\n",
    "print(cnf_matrix)\n",
    "\n",
    "from sklearn.metrics import classification_report\n",
    "print('\\n Classification Report')\n",
    "print(classification_report(sy_test, prediction))\n",
    "\n",
    "from sklearn.metrics import roc_auc_score\n",
    "print('\\n Roc Auc Score')\n",
    "print(roc_auc_score(sy_test, prediction))\n",
    "print(\"--- %s seconds ---\" % (time.time() - start_time - reset_time))\n",
    "reset_time = time.time() - start_time"
   ]
  },
  {
   "cell_type": "markdown",
   "metadata": {},
   "source": [
    "# SVM: PCA"
   ]
  },
  {
   "cell_type": "code",
   "execution_count": 45,
   "metadata": {},
   "outputs": [
    {
     "data": {
      "text/plain": [
       "SVC(C=1.0, cache_size=200, class_weight=None, coef0=0.0,\n",
       "  decision_function_shape='ovr', degree=3, gamma='auto_deprecated',\n",
       "  kernel='linear', max_iter=-1, probability=False, random_state=None,\n",
       "  shrinking=True, tol=0.001, verbose=False)"
      ]
     },
     "execution_count": 45,
     "metadata": {},
     "output_type": "execute_result"
    }
   ],
   "source": [
    "from sklearn.svm import SVC  \n",
    "svclassifier = SVC(kernel='linear')\n",
    "svclassifier.fit(pX_train, py_train)\n",
    "print(\"--- %s seconds ---\" % (time.time() - start_time - reset_time))\n",
    "reset_time = time.time() - start_time"
   ]
  },
  {
   "cell_type": "code",
   "execution_count": 46,
   "metadata": {},
   "outputs": [
    {
     "name": "stdout",
     "output_type": "stream",
     "text": [
      "\n",
      " Cross Validation\n",
      "[0.95652174 0.98913043 0.95652174 0.92391304 0.98913043 0.97826087\n",
      " 0.98913043 0.93333333 1.         0.97777778]\n",
      "\n",
      " Confusion Matrix\n",
      "[[145   5]\n",
      " [  1 124]]\n",
      "\n",
      " Classification Report\n",
      "              precision    recall  f1-score   support\n",
      "\n",
      "           0       0.99      0.97      0.98       150\n",
      "           1       0.96      0.99      0.98       125\n",
      "\n",
      "   micro avg       0.98      0.98      0.98       275\n",
      "   macro avg       0.98      0.98      0.98       275\n",
      "weighted avg       0.98      0.98      0.98       275\n",
      "\n",
      "\n",
      " Roc Auc Score\n",
      "0.9793333333333333\n",
      "--- 0.08402776718139648 seconds ---\n"
     ]
    }
   ],
   "source": [
    "model_name = svclassifier\n",
    "\n",
    "from sklearn.model_selection import cross_val_score \n",
    "print('\\n Cross Validation')\n",
    "print(cross_val_score(model_name, pca_data, target, cv=10))\n",
    "\n",
    "prediction = model_name.predict(pX_test)\n",
    "from sklearn.metrics import confusion_matrix\n",
    "cnf_matrix = confusion_matrix(py_test, prediction)\n",
    "print('\\n Confusion Matrix')\n",
    "print(cnf_matrix)\n",
    "\n",
    "from sklearn.metrics import classification_report\n",
    "print('\\n Classification Report')\n",
    "print(classification_report(py_test, prediction))\n",
    "\n",
    "from sklearn.metrics import roc_auc_score\n",
    "print('\\n Roc Auc Score')\n",
    "print(roc_auc_score(py_test, prediction))\n",
    "print(\"--- %s seconds ---\" % (time.time() - start_time - reset_time))\n",
    "reset_time = time.time() - start_time"
   ]
  },
  {
   "cell_type": "markdown",
   "metadata": {},
   "source": [
    "With SVM we can observe a change that the PCA feature selection provides the highest amount of accuracy, with a comparable f1-score to having no feature selection. In terms of run time, SVM runs faster then random forest and grid boosting and as logistic regression. "
   ]
  },
  {
   "cell_type": "markdown",
   "metadata": {},
   "source": [
    "# Conclusion"
   ]
  },
  {
   "cell_type": "markdown",
   "metadata": {},
   "source": [
    "Overall, SVM worked the best in terms of accuracy, run time and f1-score. The disadvantage of SVM however is that it is hard to tell exactly what is happening or way the model came out as accurate as it did. "
   ]
  }
 ],
 "metadata": {
  "kernelspec": {
   "display_name": "Python 3",
   "language": "python",
   "name": "python3"
  },
  "language_info": {
   "codemirror_mode": {
    "name": "ipython",
    "version": 3
   },
   "file_extension": ".py",
   "mimetype": "text/x-python",
   "name": "python",
   "nbconvert_exporter": "python",
   "pygments_lexer": "ipython3",
   "version": "3.7.0"
  }
 },
 "nbformat": 4,
 "nbformat_minor": 2
}
