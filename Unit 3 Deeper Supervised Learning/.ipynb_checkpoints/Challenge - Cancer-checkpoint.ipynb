{
 "cells": [
  {
   "cell_type": "code",
   "execution_count": 83,
   "metadata": {},
   "outputs": [
    {
     "data": {
      "text/html": [
       "<div>\n",
       "<style scoped>\n",
       "    .dataframe tbody tr th:only-of-type {\n",
       "        vertical-align: middle;\n",
       "    }\n",
       "\n",
       "    .dataframe tbody tr th {\n",
       "        vertical-align: top;\n",
       "    }\n",
       "\n",
       "    .dataframe thead th {\n",
       "        text-align: right;\n",
       "    }\n",
       "</style>\n",
       "<table border=\"1\" class=\"dataframe\">\n",
       "  <thead>\n",
       "    <tr style=\"text-align: right;\">\n",
       "      <th></th>\n",
       "      <th>id number</th>\n",
       "      <th>Clump Thickness</th>\n",
       "      <th>Cell Size</th>\n",
       "      <th>Cell Shape</th>\n",
       "      <th>Marginal Adhesion</th>\n",
       "      <th>SE Cell Size</th>\n",
       "      <th>Bare Nuclei</th>\n",
       "      <th>Bland Chromatin</th>\n",
       "      <th>Normal Nucleoli</th>\n",
       "      <th>Mitoses</th>\n",
       "      <th>Class</th>\n",
       "    </tr>\n",
       "  </thead>\n",
       "  <tbody>\n",
       "    <tr>\n",
       "      <th>0</th>\n",
       "      <td>1002945</td>\n",
       "      <td>5</td>\n",
       "      <td>4</td>\n",
       "      <td>4</td>\n",
       "      <td>5</td>\n",
       "      <td>7</td>\n",
       "      <td>10</td>\n",
       "      <td>3</td>\n",
       "      <td>2</td>\n",
       "      <td>1</td>\n",
       "      <td>2</td>\n",
       "    </tr>\n",
       "    <tr>\n",
       "      <th>1</th>\n",
       "      <td>1015425</td>\n",
       "      <td>3</td>\n",
       "      <td>1</td>\n",
       "      <td>1</td>\n",
       "      <td>1</td>\n",
       "      <td>2</td>\n",
       "      <td>2</td>\n",
       "      <td>3</td>\n",
       "      <td>1</td>\n",
       "      <td>1</td>\n",
       "      <td>2</td>\n",
       "    </tr>\n",
       "    <tr>\n",
       "      <th>2</th>\n",
       "      <td>1016277</td>\n",
       "      <td>6</td>\n",
       "      <td>8</td>\n",
       "      <td>8</td>\n",
       "      <td>1</td>\n",
       "      <td>3</td>\n",
       "      <td>4</td>\n",
       "      <td>3</td>\n",
       "      <td>7</td>\n",
       "      <td>1</td>\n",
       "      <td>2</td>\n",
       "    </tr>\n",
       "    <tr>\n",
       "      <th>3</th>\n",
       "      <td>1017023</td>\n",
       "      <td>4</td>\n",
       "      <td>1</td>\n",
       "      <td>1</td>\n",
       "      <td>3</td>\n",
       "      <td>2</td>\n",
       "      <td>1</td>\n",
       "      <td>3</td>\n",
       "      <td>1</td>\n",
       "      <td>1</td>\n",
       "      <td>2</td>\n",
       "    </tr>\n",
       "    <tr>\n",
       "      <th>4</th>\n",
       "      <td>1017122</td>\n",
       "      <td>8</td>\n",
       "      <td>10</td>\n",
       "      <td>10</td>\n",
       "      <td>8</td>\n",
       "      <td>7</td>\n",
       "      <td>10</td>\n",
       "      <td>9</td>\n",
       "      <td>7</td>\n",
       "      <td>1</td>\n",
       "      <td>4</td>\n",
       "    </tr>\n",
       "    <tr>\n",
       "      <th>5</th>\n",
       "      <td>1018099</td>\n",
       "      <td>1</td>\n",
       "      <td>1</td>\n",
       "      <td>1</td>\n",
       "      <td>1</td>\n",
       "      <td>2</td>\n",
       "      <td>10</td>\n",
       "      <td>3</td>\n",
       "      <td>1</td>\n",
       "      <td>1</td>\n",
       "      <td>2</td>\n",
       "    </tr>\n",
       "    <tr>\n",
       "      <th>6</th>\n",
       "      <td>1018561</td>\n",
       "      <td>2</td>\n",
       "      <td>1</td>\n",
       "      <td>2</td>\n",
       "      <td>1</td>\n",
       "      <td>2</td>\n",
       "      <td>1</td>\n",
       "      <td>3</td>\n",
       "      <td>1</td>\n",
       "      <td>1</td>\n",
       "      <td>2</td>\n",
       "    </tr>\n",
       "    <tr>\n",
       "      <th>7</th>\n",
       "      <td>1033078</td>\n",
       "      <td>2</td>\n",
       "      <td>1</td>\n",
       "      <td>1</td>\n",
       "      <td>1</td>\n",
       "      <td>2</td>\n",
       "      <td>1</td>\n",
       "      <td>1</td>\n",
       "      <td>1</td>\n",
       "      <td>5</td>\n",
       "      <td>2</td>\n",
       "    </tr>\n",
       "    <tr>\n",
       "      <th>8</th>\n",
       "      <td>1033078</td>\n",
       "      <td>4</td>\n",
       "      <td>2</td>\n",
       "      <td>1</td>\n",
       "      <td>1</td>\n",
       "      <td>2</td>\n",
       "      <td>1</td>\n",
       "      <td>2</td>\n",
       "      <td>1</td>\n",
       "      <td>1</td>\n",
       "      <td>2</td>\n",
       "    </tr>\n",
       "    <tr>\n",
       "      <th>9</th>\n",
       "      <td>1035283</td>\n",
       "      <td>1</td>\n",
       "      <td>1</td>\n",
       "      <td>1</td>\n",
       "      <td>1</td>\n",
       "      <td>1</td>\n",
       "      <td>1</td>\n",
       "      <td>3</td>\n",
       "      <td>1</td>\n",
       "      <td>1</td>\n",
       "      <td>2</td>\n",
       "    </tr>\n",
       "  </tbody>\n",
       "</table>\n",
       "</div>"
      ],
      "text/plain": [
       "   id number  Clump Thickness  Cell Size  Cell Shape  Marginal Adhesion  \\\n",
       "0    1002945                5          4           4                  5   \n",
       "1    1015425                3          1           1                  1   \n",
       "2    1016277                6          8           8                  1   \n",
       "3    1017023                4          1           1                  3   \n",
       "4    1017122                8         10          10                  8   \n",
       "5    1018099                1          1           1                  1   \n",
       "6    1018561                2          1           2                  1   \n",
       "7    1033078                2          1           1                  1   \n",
       "8    1033078                4          2           1                  1   \n",
       "9    1035283                1          1           1                  1   \n",
       "\n",
       "   SE Cell Size Bare Nuclei  Bland Chromatin  Normal Nucleoli  Mitoses  Class  \n",
       "0             7          10                3                2        1      2  \n",
       "1             2           2                3                1        1      2  \n",
       "2             3           4                3                7        1      2  \n",
       "3             2           1                3                1        1      2  \n",
       "4             7          10                9                7        1      4  \n",
       "5             2          10                3                1        1      2  \n",
       "6             2           1                3                1        1      2  \n",
       "7             2           1                1                1        5      2  \n",
       "8             2           1                2                1        1      2  \n",
       "9             1           1                3                1        1      2  "
      ]
     },
     "execution_count": 83,
     "metadata": {},
     "output_type": "execute_result"
    }
   ],
   "source": [
    "import pandas as pd\n",
    "import numpy as np\n",
    "import scipy\n",
    "import matplotlib.pyplot as plt\n",
    "import seaborn as sb\n",
    "\n",
    "# This is the model we'll be using.\n",
    "from sklearn import tree\n",
    "\n",
    "# A convenience for displaying visualizations.\n",
    "from IPython.display import Image\n",
    "\n",
    "# Packages for rendering our tree.\n",
    "import pydotplus\n",
    "import graphviz\n",
    "\n",
    "%matplotlib inline\n",
    "\n",
    "data = pd.read_csv('breast-cancer-wisconsin.csv')\n",
    "data.columns = ['id number', 'Clump Thickness', 'Cell Size', 'Cell Shape', 'Marginal Adhesion', 'SE Cell Size', 'Bare Nuclei', 'Bland Chromatin', 'Normal Nucleoli', 'Mitoses', 'Class']\n",
    "data.dropna(inplace=True)\n",
    "data.head(10)"
   ]
  },
  {
   "cell_type": "markdown",
   "metadata": {},
   "source": [
    "# Information Provided from the Site\n",
    "\n",
    "Attribute Information:\n",
    "1. Sample code number: id number \n",
    "2. Clump Thickness: 1 - 10 \n",
    "3. Uniformity of Cell Size: 1 - 10 \n",
    "4. Uniformity of Cell Shape: 1 - 10 \n",
    "5. Marginal Adhesion: 1 - 10 \n",
    "6. Single Epithelial Cell Size: 1 - 10 \n",
    "7. Bare Nuclei: 1 - 10 \n",
    "8. Bland Chromatin: 1 - 10 \n",
    "9. Normal Nucleoli: 1 - 10 \n",
    "10. Mitoses: 1 - 10 \n",
    "11. Class: (2 for benign, 4 for malignant)"
   ]
  },
  {
   "cell_type": "markdown",
   "metadata": {},
   "source": [
    "# Problem "
   ]
  },
  {
   "cell_type": "markdown",
   "metadata": {},
   "source": [
    "We want to detect cancer based on the info given. As of the raw data set a Class value of 2 means cancer is not present, and a class value of 4 means that cancer is present."
   ]
  },
  {
   "cell_type": "markdown",
   "metadata": {},
   "source": [
    "# Explore Data"
   ]
  },
  {
   "cell_type": "code",
   "execution_count": 2,
   "metadata": {},
   "outputs": [
    {
     "data": {
      "image/png": "[encoded data removed]",
      "text/plain": [
       "<Figure size 864x648 with 2 Axes>"
      ]
     },
     "metadata": {
      "needs_background": "light"
     },
     "output_type": "display_data"
    }
   ],
   "source": [
    "corrmat = data.corr()\n",
    "f, ax = plt.subplots(figsize=(12, 9))\n",
    "sb.heatmap(corrmat, vmax=.8,square=True)\n",
    "plt.show()"
   ]
  },
  {
   "cell_type": "markdown",
   "metadata": {},
   "source": [
    "Right off the bat we can tell that there is a large amount co-linearity among some of the data points. This means there is room for us to do feature selection in order to reduce the run time on our model. This will help when we attempt to do models such as gradient boosting and random forest trees because we will not need to incorporate all of the features to maintain variance."
   ]
  },
  {
   "cell_type": "code",
   "execution_count": 3,
   "metadata": {},
   "outputs": [
    {
     "name": "stdout",
     "output_type": "stream",
     "text": [
      "1182404    6\n",
      "1276091    5\n",
      "1198641    3\n",
      "466906     2\n",
      "1116116    2\n",
      "1070935    2\n",
      "385103     2\n",
      "1293439    2\n",
      "1240603    2\n",
      "1277792    2\n",
      "1168736    2\n",
      "560680     2\n",
      "1174057    2\n",
      "822829     2\n",
      "320675     2\n",
      "897471     2\n",
      "1114570    2\n",
      "704097     2\n",
      "1339781    2\n",
      "654546     2\n",
      "734111     2\n",
      "1017023    2\n",
      "1354840    2\n",
      "411453     2\n",
      "769612     2\n",
      "1158247    2\n",
      "1321942    2\n",
      "1061990    2\n",
      "733639     2\n",
      "1218860    2\n",
      "          ..\n",
      "1096352    1\n",
      "1171845    1\n",
      "255644     1\n",
      "1169049    1\n",
      "1041043    1\n",
      "1190546    1\n",
      "1071760    1\n",
      "797327     1\n",
      "1293966    1\n",
      "1214092    1\n",
      "709287     1\n",
      "432809     1\n",
      "888523     1\n",
      "1201834    1\n",
      "1182410    1\n",
      "640712     1\n",
      "1018561    1\n",
      "1336798    1\n",
      "1091262    1\n",
      "1173216    1\n",
      "1286943    1\n",
      "1319609    1\n",
      "1172152    1\n",
      "558538     1\n",
      "1207986    1\n",
      "1302428    1\n",
      "857774     1\n",
      "1181356    1\n",
      "1125035    1\n",
      "625201     1\n",
      "Name: id number, Length: 644, dtype: int64\n",
      "1     145\n",
      "5     129\n",
      "3     108\n",
      "4      80\n",
      "10     69\n",
      "2      50\n",
      "8      46\n",
      "6      34\n",
      "7      23\n",
      "9      14\n",
      "Name: Clump Thickness, dtype: int64\n",
      "1     383\n",
      "10     67\n",
      "3      52\n",
      "2      45\n",
      "4      40\n",
      "5      30\n",
      "8      29\n",
      "6      27\n",
      "7      19\n",
      "9       6\n",
      "Name: Cell Size, dtype: int64\n",
      "1     352\n",
      "2      59\n",
      "10     58\n",
      "3      56\n",
      "4      44\n",
      "5      34\n",
      "7      30\n",
      "6      30\n",
      "8      28\n",
      "9       7\n",
      "Name: Cell Shape, dtype: int64\n",
      "1     406\n",
      "3      58\n",
      "2      58\n",
      "10     55\n",
      "4      33\n",
      "8      25\n",
      "5      23\n",
      "6      22\n",
      "7      13\n",
      "9       5\n",
      "Name: Marginal Adhesion, dtype: int64\n",
      "2     385\n",
      "3      72\n",
      "4      48\n",
      "1      47\n",
      "6      41\n",
      "5      39\n",
      "10     31\n",
      "8      21\n",
      "7      12\n",
      "9       2\n",
      "Name: SE Cell Size, dtype: int64\n",
      "1     401\n",
      "10    132\n",
      "2      30\n",
      "5      30\n",
      "3      28\n",
      "8      21\n",
      "4      19\n",
      "?      16\n",
      "9       9\n",
      "7       8\n",
      "6       4\n",
      "Name: Bare Nuclei, dtype: int64\n",
      "2     166\n",
      "3     164\n",
      "1     152\n",
      "7      73\n",
      "4      40\n",
      "5      34\n",
      "8      28\n",
      "10     20\n",
      "9      11\n",
      "6      10\n",
      "Name: Bland Chromatin, dtype: int64\n",
      "1     442\n",
      "10     61\n",
      "3      44\n",
      "2      36\n",
      "8      24\n",
      "6      22\n",
      "5      19\n",
      "4      18\n",
      "9      16\n",
      "7      16\n",
      "Name: Normal Nucleoli, dtype: int64\n",
      "1     578\n",
      "2      35\n",
      "3      33\n",
      "10     14\n",
      "4      12\n",
      "7       9\n",
      "8       8\n",
      "5       6\n",
      "6       3\n",
      "Name: Mitoses, dtype: int64\n",
      "2    457\n",
      "4    241\n",
      "Name: Class, dtype: int64\n"
     ]
    }
   ],
   "source": [
    "for i in data.columns:\n",
    "    print(data[i].value_counts())"
   ]
  },
  {
   "cell_type": "code",
   "execution_count": 84,
   "metadata": {},
   "outputs": [
    {
     "name": "stdout",
     "output_type": "stream",
     "text": [
      "2    457\n",
      "4    241\n",
      "Name: Class, dtype: int64\n",
      "0    457\n",
      "1    241\n",
      "Name: Class, dtype: int64\n",
      "1     401\n",
      "10    132\n",
      "2      30\n",
      "5      30\n",
      "3      28\n",
      "8      21\n",
      "4      19\n",
      "11     16\n",
      "9       9\n",
      "7       8\n",
      "6       4\n",
      "Name: Bare Nuclei, dtype: int64\n"
     ]
    }
   ],
   "source": [
    "data['Class'] = data['Class'].apply(lambda x: 0 if x==2 else 1)\n",
    "print(data['Class'].value_counts())\n",
    "data['Bare Nuclei'] = data['Bare Nuclei'].apply(lambda x: 11 if x == \"?\" else x)\n",
    "print(data['Bare Nuclei'].value_counts())"
   ]
  },
  {
   "cell_type": "markdown",
   "metadata": {},
   "source": [
    "Bare Nuclei has a \"?\" value, so we will need to get rid of that before we can proceed with resampling and modeling. From this we can also observe that sometimes the same patient is tested multiple times, and that we will need to resample. "
   ]
  },
  {
   "cell_type": "code",
   "execution_count": 86,
   "metadata": {},
   "outputs": [
    {
     "name": "stdout",
     "output_type": "stream",
     "text": [
      "No Cancer: 457\n",
      "Cancer: 241\n",
      "Proportion: 1.9 : 1\n"
     ]
    },
    {
     "data": {
      "image/png": "[encoded data removed]",
      "text/plain": [
       "<Figure size 432x288 with 1 Axes>"
      ]
     },
     "metadata": {
      "needs_background": "light"
     },
     "output_type": "display_data"
    }
   ],
   "source": [
    "#Create a var graog that displays the number of class 0 and 1s in our data set\n",
    "class_size = data.Class.value_counts()\n",
    "print('No Cancer:', class_size[0])\n",
    "print('Cancer:', class_size[1])\n",
    "print('Proportion:', round(class_size[0] / class_size[1], 2), ': 1')\n",
    "\n",
    "class_size.plot(kind='bar', title='Cancer Spread');"
   ]
  },
  {
   "cell_type": "markdown",
   "metadata": {},
   "source": [
    "Here we are evaluating how skewed our data is in terms of data that have no cancer and cancer. There is roughly double the amount of no cancer vs cancer examples and thus we will need to perform resampling before we attempt to model."
   ]
  },
  {
   "cell_type": "markdown",
   "metadata": {},
   "source": [
    "# Resample"
   ]
  },
  {
   "cell_type": "code",
   "execution_count": 88,
   "metadata": {},
   "outputs": [
    {
     "data": {
      "text/plain": [
       "1    457\n",
       "0    457\n",
       "Name: Class, dtype: int64"
      ]
     },
     "execution_count": 88,
     "metadata": {},
     "output_type": "execute_result"
    }
   ],
   "source": [
    "from sklearn.utils import resample\n",
    "# Separate majority and minority classes\n",
    "data_majority = data[data.Class==0]\n",
    "data_minority = data[data.Class==1]\n",
    " \n",
    "# Upsample minority class\n",
    "data_minority_upsampled = resample(data_minority, \n",
    "                                 replace=True,     # sample with replacement\n",
    "                                 n_samples=457)    # to match majority class\n",
    " \n",
    "# Combine majority class with upsampled minority class\n",
    "data_upsampled = pd.concat([data_majority, data_minority_upsampled])\n",
    " \n",
    "# Display new class counts\n",
    "data_upsampled.Class.value_counts()"
   ]
  },
  {
   "cell_type": "markdown",
   "metadata": {},
   "source": [
    "# Create X/Y"
   ]
  },
  {
   "cell_type": "code",
   "execution_count": 7,
   "metadata": {},
   "outputs": [],
   "source": [
    "#Create our target and data set\n",
    "target = data_upsampled.Class.copy()\n",
    "selected_data = data_upsampled.drop(['Class','id number'], axis=1)"
   ]
  },
  {
   "cell_type": "markdown",
   "metadata": {},
   "source": [
    "# Feature Selection: Select K Best"
   ]
  },
  {
   "cell_type": "code",
   "execution_count": 8,
   "metadata": {},
   "outputs": [
    {
     "name": "stdout",
     "output_type": "stream",
     "text": [
      "(914, 4)\n"
     ]
    },
    {
     "data": {
      "text/html": [
       "<div>\n",
       "<style scoped>\n",
       "    .dataframe tbody tr th:only-of-type {\n",
       "        vertical-align: middle;\n",
       "    }\n",
       "\n",
       "    .dataframe tbody tr th {\n",
       "        vertical-align: top;\n",
       "    }\n",
       "\n",
       "    .dataframe thead th {\n",
       "        text-align: right;\n",
       "    }\n",
       "</style>\n",
       "<table border=\"1\" class=\"dataframe\">\n",
       "  <thead>\n",
       "    <tr style=\"text-align: right;\">\n",
       "      <th></th>\n",
       "      <th>Cell Size</th>\n",
       "      <th>Cell Shape</th>\n",
       "      <th>Bare Nuclei</th>\n",
       "      <th>Normal Nucleoli</th>\n",
       "    </tr>\n",
       "  </thead>\n",
       "  <tbody>\n",
       "    <tr>\n",
       "      <th>0</th>\n",
       "      <td>4</td>\n",
       "      <td>4</td>\n",
       "      <td>10</td>\n",
       "      <td>2</td>\n",
       "    </tr>\n",
       "    <tr>\n",
       "      <th>1</th>\n",
       "      <td>1</td>\n",
       "      <td>1</td>\n",
       "      <td>2</td>\n",
       "      <td>1</td>\n",
       "    </tr>\n",
       "    <tr>\n",
       "      <th>2</th>\n",
       "      <td>8</td>\n",
       "      <td>8</td>\n",
       "      <td>4</td>\n",
       "      <td>7</td>\n",
       "    </tr>\n",
       "    <tr>\n",
       "      <th>3</th>\n",
       "      <td>1</td>\n",
       "      <td>1</td>\n",
       "      <td>1</td>\n",
       "      <td>1</td>\n",
       "    </tr>\n",
       "    <tr>\n",
       "      <th>5</th>\n",
       "      <td>1</td>\n",
       "      <td>1</td>\n",
       "      <td>10</td>\n",
       "      <td>1</td>\n",
       "    </tr>\n",
       "    <tr>\n",
       "      <th>6</th>\n",
       "      <td>1</td>\n",
       "      <td>2</td>\n",
       "      <td>1</td>\n",
       "      <td>1</td>\n",
       "    </tr>\n",
       "    <tr>\n",
       "      <th>7</th>\n",
       "      <td>1</td>\n",
       "      <td>1</td>\n",
       "      <td>1</td>\n",
       "      <td>1</td>\n",
       "    </tr>\n",
       "    <tr>\n",
       "      <th>8</th>\n",
       "      <td>2</td>\n",
       "      <td>1</td>\n",
       "      <td>1</td>\n",
       "      <td>1</td>\n",
       "    </tr>\n",
       "    <tr>\n",
       "      <th>9</th>\n",
       "      <td>1</td>\n",
       "      <td>1</td>\n",
       "      <td>1</td>\n",
       "      <td>1</td>\n",
       "    </tr>\n",
       "    <tr>\n",
       "      <th>10</th>\n",
       "      <td>1</td>\n",
       "      <td>1</td>\n",
       "      <td>1</td>\n",
       "      <td>1</td>\n",
       "    </tr>\n",
       "  </tbody>\n",
       "</table>\n",
       "</div>"
      ],
      "text/plain": [
       "    Cell Size  Cell Shape Bare Nuclei  Normal Nucleoli\n",
       "0           4           4          10                2\n",
       "1           1           1           2                1\n",
       "2           8           8           4                7\n",
       "3           1           1           1                1\n",
       "5           1           1          10                1\n",
       "6           1           2           1                1\n",
       "7           1           1           1                1\n",
       "8           2           1           1                1\n",
       "9           1           1           1                1\n",
       "10          1           1           1                1"
      ]
     },
     "execution_count": 8,
     "metadata": {},
     "output_type": "execute_result"
    }
   ],
   "source": [
    "#Use Select K Best after using PCA to determine the number of dimensions to achieve the 2 features that have the greatest variance\n",
    "from sklearn.feature_selection import SelectKBest\n",
    "from sklearn.feature_selection import chi2\n",
    "\n",
    "selector = SelectKBest(chi2, k=4)\n",
    "selector.fit(selected_data, target)\n",
    "\n",
    "X_new = selector.transform(selected_data)\n",
    "print(X_new.shape)\n",
    "\n",
    "selected_data.columns[selector.get_support(indices=True)]\n",
    "selected_data.columns[selector.get_support(indices=True)].tolist()\n",
    "#sets newdata to only contain the two features that will give us the most variance\n",
    "skb_data = selected_data[selected_data.columns[selector.get_support(indices=True)].tolist()].copy()\n",
    "skb_data.head(10)"
   ]
  },
  {
   "cell_type": "markdown",
   "metadata": {},
   "source": [
    "# Feature Selection: PCA"
   ]
  },
  {
   "cell_type": "code",
   "execution_count": 9,
   "metadata": {},
   "outputs": [
    {
     "name": "stdout",
     "output_type": "stream",
     "text": [
      "[0.64150064 0.09780001 0.06697122 0.05435625]\n",
      "[0.64150064 0.73930065 0.80627186 0.86062811]\n"
     ]
    }
   ],
   "source": [
    "from sklearn.decomposition import PCA\n",
    "#Here we are setting pca to be fitted with n_components = 2, this is because after the 2 largest variables the amount of variance\n",
    "#increase is much less significant\n",
    "pca = PCA(n_components=4)\n",
    "pca_data = pca.fit_transform(selected_data) \n",
    "\n",
    "print(pca.explained_variance_ratio_) #Shows how much variance the first and second dimensional space has\n",
    "print(pca.explained_variance_ratio_.cumsum())  #Shows that with n_components=2, I retain .98% of the variance cumaltively"
   ]
  },
  {
   "cell_type": "markdown",
   "metadata": {},
   "source": [
    "# Create Training and Test Set"
   ]
  },
  {
   "cell_type": "code",
   "execution_count": 10,
   "metadata": {},
   "outputs": [],
   "source": [
    "#Create our testing and training data set, with spread of 70% in training and 30% in testing\n",
    "from sklearn.model_selection import train_test_split\n",
    "X_train, X_test, y_train, y_test = train_test_split(selected_data, target, test_size=0.3, random_state=20)\n",
    "sX_train, sX_test, sy_train, sy_test = train_test_split(skb_data, target, test_size=0.3, random_state=20)\n",
    "pX_train, pX_test, py_train, py_test = train_test_split(pca_data, target, test_size=0.3, random_state=20)"
   ]
  },
  {
   "cell_type": "markdown",
   "metadata": {},
   "source": [
    "# Random Decision Tree: No Feature Selection"
   ]
  },
  {
   "cell_type": "code",
   "execution_count": 11,
   "metadata": {},
   "outputs": [
    {
     "name": "stdout",
     "output_type": "stream",
     "text": [
      "Best Accuracy:  0.9765258215962441\n",
      "--- 34.551259994506836 seconds ---\n"
     ]
    }
   ],
   "source": [
    "import time\n",
    "\n",
    "start_time = time.time()\n",
    "reset_time = time.time() - start_time\n",
    "\n",
    "import warnings\n",
    "warnings.filterwarnings(\"ignore\")\n",
    "\n",
    "from sklearn import ensemble\n",
    "#Create a generic random forest tree\n",
    "rfc = ensemble.RandomForestClassifier(\n",
    "    criterion='entropy',\n",
    "    max_features = 'auto',\n",
    "    max_depth = 2 ,\n",
    "    n_estimators = 2,\n",
    "    n_jobs=-1\n",
    "    )\n",
    "\n",
    "from sklearn.model_selection import GridSearchCV\n",
    "parameters = {\n",
    "    'n_estimators': [1, 2, 3],\n",
    "    'max_features': ['auto', 'sqrt', 'log2'],\n",
    "    'max_depth' : [1, 2, 3],\n",
    "    'criterion': ['gini', 'entropy'],\n",
    "    'bootstrap': [True, False]\n",
    "}\n",
    "gd_sr = GridSearchCV(estimator=rfc,  \n",
    "                     param_grid=parameters,\n",
    "                     scoring='accuracy',\n",
    "                     cv=5,\n",
    "                     n_jobs=-1)\n",
    "\n",
    "gd_sr.fit(X_train, y_train)  \n",
    "best_result = gd_sr.best_score_  \n",
    "print(\"Best Accuracy: \", best_result)  \n",
    "print(\"--- %s seconds ---\" % (time.time() - start_time - reset_time))\n",
    "reset_time = time.time() - start_time"
   ]
  },
  {
   "cell_type": "code",
   "execution_count": 12,
   "metadata": {},
   "outputs": [
    {
     "name": "stdout",
     "output_type": "stream",
     "text": [
      "With 20% Holdout: 0.9418181818181818\n",
      "Testing on Sample: 0.9693654266958425\n",
      "\n",
      " Cross Validation\n",
      "[0.92391304 0.97826087 0.93478261 0.92391304 0.95652174 0.94565217\n",
      " 1.         0.98888889 0.98888889 0.98888889]\n",
      "\n",
      " Confusion Matrix\n",
      "[[141   9]\n",
      " [  0 125]]\n",
      "\n",
      " Classification Report\n",
      "              precision    recall  f1-score   support\n",
      "\n",
      "           2       1.00      0.94      0.97       150\n",
      "           4       0.93      1.00      0.97       125\n",
      "\n",
      "   micro avg       0.97      0.97      0.97       275\n",
      "   macro avg       0.97      0.97      0.97       275\n",
      "weighted avg       0.97      0.97      0.97       275\n",
      "\n",
      "\n",
      " Roc Auc Score\n",
      "0.97\n",
      "--- 439.5742235183716 seconds ---\n"
     ]
    }
   ],
   "source": [
    "model_name = gd_sr\n",
    "print('With 20% Holdout: ' + str(model_name.fit(X_train, y_train).score(X_test, y_test)))\n",
    "print('Testing on Sample: ' + str(model_name.fit(selected_data, target).score(selected_data, target)))\n",
    "\n",
    "from sklearn.model_selection import cross_val_score \n",
    "print('\\n Cross Validation')\n",
    "print(cross_val_score(model_name, selected_data, target, cv=10))\n",
    "\n",
    "prediction = model_name.predict(X_test)\n",
    "from sklearn.metrics import confusion_matrix\n",
    "cnf_matrix = confusion_matrix(y_test, prediction)\n",
    "print('\\n Confusion Matrix')\n",
    "print(cnf_matrix)\n",
    "\n",
    "from sklearn.metrics import classification_report\n",
    "print('\\n Classification Report')\n",
    "print(classification_report(y_test, prediction))\n",
    "\n",
    "from sklearn.metrics import roc_auc_score\n",
    "print('\\n Roc Auc Score')\n",
    "print(roc_auc_score(y_test, prediction))\n",
    "print(\"--- %s seconds ---\" % (time.time() - start_time - reset_time))\n",
    "reset_time = time.time() - start_time"
   ]
  },
  {
   "cell_type": "markdown",
   "metadata": {},
   "source": [
    "# Random Decision Tree: Select K Best"
   ]
  },
  {
   "cell_type": "code",
   "execution_count": 13,
   "metadata": {},
   "outputs": [
    {
     "name": "stdout",
     "output_type": "stream",
     "text": [
      "Best Accuracy:  0.971830985915493\n",
      "--- 42.25921893119812 seconds ---\n"
     ]
    }
   ],
   "source": [
    "from sklearn import ensemble\n",
    "#Create a generic random forest tree\n",
    "rfc = ensemble.RandomForestClassifier(\n",
    "    criterion='entropy',\n",
    "    max_features = 'auto',\n",
    "    max_depth = 2 ,\n",
    "    n_estimators = 2,\n",
    "    n_jobs=-1\n",
    "    )\n",
    "\n",
    "from sklearn.model_selection import GridSearchCV\n",
    "parameters = {\n",
    "    'n_estimators': [1, 2, 3],\n",
    "    'max_features': ['auto', 'sqrt', 'log2'],\n",
    "    'max_depth' : [1, 2, 3],\n",
    "    'criterion': ['gini', 'entropy'],\n",
    "    'bootstrap': [True, False]\n",
    "}\n",
    "skb_gd_sr = GridSearchCV(estimator=rfc,  \n",
    "                     param_grid=parameters,\n",
    "                     scoring='accuracy',\n",
    "                     cv=5,\n",
    "                     n_jobs=-1)\n",
    "\n",
    "skb_gd_sr.fit(sX_train, sy_train)  \n",
    "best_result = skb_gd_sr.best_score_  \n",
    "print(\"Best Accuracy: \", best_result)  \n",
    "print(\"--- %s seconds ---\" % (time.time() - start_time - reset_time))\n",
    "reset_time = time.time() - start_time"
   ]
  },
  {
   "cell_type": "code",
   "execution_count": 14,
   "metadata": {},
   "outputs": [
    {
     "name": "stdout",
     "output_type": "stream",
     "text": [
      "\n",
      " Cross Validation\n",
      "[0.91304348 0.9673913  0.95652174 0.92391304 0.94565217 0.95652174\n",
      " 0.97826087 0.98888889 0.95555556 0.98888889]\n",
      "\n",
      " Confusion Matrix\n",
      "[[141   9]\n",
      " [  3 122]]\n",
      "\n",
      " Classification Report\n",
      "              precision    recall  f1-score   support\n",
      "\n",
      "           2       0.98      0.94      0.96       150\n",
      "           4       0.93      0.98      0.95       125\n",
      "\n",
      "   micro avg       0.96      0.96      0.96       275\n",
      "   macro avg       0.96      0.96      0.96       275\n",
      "weighted avg       0.96      0.96      0.96       275\n",
      "\n",
      "\n",
      " Roc Auc Score\n",
      "0.958\n",
      "--- 351.1043915748596 seconds ---\n"
     ]
    }
   ],
   "source": [
    "model_name = skb_gd_sr\n",
    "\n",
    "from sklearn.model_selection import cross_val_score \n",
    "print('\\n Cross Validation')\n",
    "print(cross_val_score(model_name, skb_data, target, cv=10))\n",
    "\n",
    "prediction = model_name.predict(sX_test)\n",
    "from sklearn.metrics import confusion_matrix\n",
    "cnf_matrix = confusion_matrix(sy_test, prediction)\n",
    "print('\\n Confusion Matrix')\n",
    "print(cnf_matrix)\n",
    "\n",
    "from sklearn.metrics import classification_report\n",
    "print('\\n Classification Report')\n",
    "print(classification_report(sy_test, prediction))\n",
    "\n",
    "from sklearn.metrics import roc_auc_score\n",
    "print('\\n Roc Auc Score')\n",
    "print(roc_auc_score(sy_test, prediction))\n",
    "print(\"--- %s seconds ---\" % (time.time() - start_time - reset_time))\n",
    "reset_time = time.time() - start_time"
   ]
  },
  {
   "cell_type": "markdown",
   "metadata": {},
   "source": [
    "# Random Decision Tree: PCA"
   ]
  },
  {
   "cell_type": "code",
   "execution_count": 15,
   "metadata": {},
   "outputs": [
    {
     "name": "stdout",
     "output_type": "stream",
     "text": [
      "Best Accuracy:  0.9780907668231612\n",
      "--- 31.914457082748413 seconds ---\n"
     ]
    }
   ],
   "source": [
    "from sklearn import ensemble\n",
    "#Create a generic random forest tree\n",
    "rfc = ensemble.RandomForestClassifier(\n",
    "    criterion='entropy',\n",
    "    max_features = 'auto',\n",
    "    max_depth = 2 ,\n",
    "    n_estimators = 2,\n",
    "    n_jobs=-1\n",
    "    )\n",
    "\n",
    "from sklearn.model_selection import GridSearchCV\n",
    "parameters = {\n",
    "    'n_estimators': [1, 2, 3],\n",
    "    'max_features': ['auto', 'sqrt', 'log2'],\n",
    "    'max_depth' : [1, 2, 3],\n",
    "    'criterion': ['gini', 'entropy'],\n",
    "    'bootstrap': [True, False]\n",
    "}\n",
    "pca_gd_sr = GridSearchCV(estimator=rfc,  \n",
    "                     param_grid=parameters,\n",
    "                     scoring='accuracy',\n",
    "                     cv=5,\n",
    "                     n_jobs=-1)\n",
    "\n",
    "pca_gd_sr.fit(pX_train, py_train)  \n",
    "best_result = pca_gd_sr.best_score_  \n",
    "print(\"Best Accuracy: \", best_result)  \n",
    "print(\"--- %s seconds ---\" % (time.time() - start_time - reset_time))\n",
    "reset_time = time.time() - start_time"
   ]
  },
  {
   "cell_type": "code",
   "execution_count": 16,
   "metadata": {},
   "outputs": [
    {
     "name": "stdout",
     "output_type": "stream",
     "text": [
      "\n",
      " Cross Validation\n",
      "[0.95652174 1.         0.9673913  0.93478261 0.98913043 0.97826087\n",
      " 0.92391304 1.         1.         0.98888889]\n",
      "\n",
      " Confusion Matrix\n",
      "[[145   5]\n",
      " [  1 124]]\n",
      "\n",
      " Classification Report\n",
      "              precision    recall  f1-score   support\n",
      "\n",
      "           2       0.99      0.97      0.98       150\n",
      "           4       0.96      0.99      0.98       125\n",
      "\n",
      "   micro avg       0.98      0.98      0.98       275\n",
      "   macro avg       0.98      0.98      0.98       275\n",
      "weighted avg       0.98      0.98      0.98       275\n",
      "\n",
      "\n",
      " Roc Auc Score\n",
      "0.9793333333333333\n",
      "--- 278.9342155456543 seconds ---\n"
     ]
    }
   ],
   "source": [
    "model_name = pca_gd_sr\n",
    "\n",
    "from sklearn.model_selection import cross_val_score \n",
    "print('\\n Cross Validation')\n",
    "print(cross_val_score(model_name, pca_data, target, cv=10))\n",
    "\n",
    "prediction = model_name.predict(pX_test)\n",
    "from sklearn.metrics import confusion_matrix\n",
    "cnf_matrix = confusion_matrix(py_test, prediction)\n",
    "print('\\n Confusion Matrix')\n",
    "print(cnf_matrix)\n",
    "\n",
    "from sklearn.metrics import classification_report\n",
    "print('\\n Classification Report')\n",
    "print(classification_report(py_test, prediction))\n",
    "\n",
    "from sklearn.metrics import roc_auc_score\n",
    "print('\\n Roc Auc Score')\n",
    "print(roc_auc_score(py_test, prediction))\n",
    "print(\"--- %s seconds ---\" % (time.time() - start_time - reset_time))\n",
    "reset_time = time.time() - start_time"
   ]
  },
  {
   "cell_type": "markdown",
   "metadata": {},
   "source": [
    "# Logistic Regression: No Feature Selection"
   ]
  },
  {
   "cell_type": "code",
   "execution_count": 17,
   "metadata": {},
   "outputs": [
    {
     "name": "stdout",
     "output_type": "stream",
     "text": [
      "--- 0.02300548553466797 seconds ---\n"
     ]
    }
   ],
   "source": [
    "from sklearn import linear_model\n",
    "from sklearn.linear_model import LogisticRegression\n",
    "# Set up the regression model to predict defaults using all other\n",
    "# variables as features.\n",
    "regr = LogisticRegression(solver='lbfgs')\n",
    "regrfit = regr.fit(X_train, y_train)\n",
    "\n",
    "# Calculate accuracy. First, get probability that each row will be admitted.\n",
    "pred_statsmod = regrfit.predict(X_train)\n",
    "\n",
    "# Code admission as 1 if probability is greater than .5.\n",
    "pred_y_statsmod = np.where(pred_statsmod < .5, 0, 1)\n",
    "\n",
    "# Accuracy table.\n",
    "table = pd.crosstab(y_train, pred_y_statsmod)\n",
    "\n",
    "print(\"--- %s seconds ---\" % (time.time() - start_time - reset_time))\n",
    "reset_time = time.time() - start_time"
   ]
  },
  {
   "cell_type": "code",
   "execution_count": 18,
   "metadata": {},
   "outputs": [
    {
     "name": "stdout",
     "output_type": "stream",
     "text": [
      "With 20% Holdout: 0.96\n",
      "Testing on Sample: 0.9704595185995624\n",
      "\n",
      " Cross Validation\n",
      "[0.92391304 1.         0.93478261 0.93478261 0.97826087 0.97826087\n",
      " 0.95652174 0.98888889 0.97777778 0.98888889]\n",
      "\n",
      " Confusion Matrix\n",
      "[[146   4]\n",
      " [  4 121]]\n",
      "\n",
      " Classification Report\n",
      "              precision    recall  f1-score   support\n",
      "\n",
      "           2       0.97      0.97      0.97       150\n",
      "           4       0.97      0.97      0.97       125\n",
      "\n",
      "   micro avg       0.97      0.97      0.97       275\n",
      "   macro avg       0.97      0.97      0.97       275\n",
      "weighted avg       0.97      0.97      0.97       275\n",
      "\n",
      "\n",
      " Roc Auc Score\n",
      "0.9706666666666667\n",
      "--- 0.12402844429016113 seconds ---\n"
     ]
    }
   ],
   "source": [
    "import warnings\n",
    "warnings.filterwarnings(\"ignore\")\n",
    "\n",
    "model_name = regr\n",
    "print('With 20% Holdout: ' + str(model_name.fit(X_train, y_train).score(X_test, y_test)))\n",
    "print('Testing on Sample: ' + str(model_name.fit(selected_data, target).score(selected_data, target)))\n",
    "\n",
    "from sklearn.model_selection import cross_val_score \n",
    "print('\\n Cross Validation')\n",
    "print(cross_val_score(model_name, selected_data, target, cv=10))\n",
    "\n",
    "prediction = model_name.predict(X_test)\n",
    "from sklearn.metrics import confusion_matrix\n",
    "cnf_matrix = confusion_matrix(y_test, prediction)\n",
    "print('\\n Confusion Matrix')\n",
    "print(cnf_matrix)\n",
    "\n",
    "from sklearn.metrics import classification_report\n",
    "print('\\n Classification Report')\n",
    "print(classification_report(y_test, prediction))\n",
    "\n",
    "from sklearn.metrics import roc_auc_score\n",
    "print('\\n Roc Auc Score')\n",
    "print(roc_auc_score(y_test, prediction))\n",
    "print(\"--- %s seconds ---\" % (time.time() - start_time - reset_time))\n",
    "reset_time = time.time() - start_time"
   ]
  },
  {
   "cell_type": "markdown",
   "metadata": {},
   "source": []
  },
  {
   "cell_type": "markdown",
   "metadata": {},
   "source": [
    "# Logistic Regression: SKB"
   ]
  },
  {
   "cell_type": "code",
   "execution_count": 43,
   "metadata": {},
   "outputs": [
    {
     "name": "stdout",
     "output_type": "stream",
     "text": [
      "col_0    1\n",
      "Class     \n",
      "2      307\n",
      "4      332\n",
      "--- 88.07062363624573 seconds ---\n"
     ]
    }
   ],
   "source": [
    "from sklearn import linear_model\n",
    "from sklearn.linear_model import LogisticRegression\n",
    "# Set up the regression model to predict defaults using all other\n",
    "# variables as features.\n",
    "skbregr = LogisticRegression(solver='lbfgs')\n",
    "skbregrfit = skbregr.fit(sX_train, sy_train)\n",
    "\n",
    "# Calculate accuracy. First, get probability that each row will be admitted.\n",
    "pred_statsmod = skbregrfit.predict(sX_train)\n",
    "\n",
    "# Code admission as 1 if probability is greater than .5.\n",
    "pred_y_statsmod = np.where(pred_statsmod < .5, 0, 1)\n",
    "\n",
    "# Accuracy table.\n",
    "table = pd.crosstab(sy_train, pred_y_statsmod)\n",
    "print(table)\n",
    "\n",
    "print(\"--- %s seconds ---\" % (time.time() - start_time - reset_time))\n",
    "reset_time = time.time() - start_time"
   ]
  },
  {
   "cell_type": "code",
   "execution_count": 44,
   "metadata": {},
   "outputs": [
    {
     "name": "stdout",
     "output_type": "stream",
     "text": [
      "\n",
      " Cross Validation\n",
      "[0.93478261 0.98913043 0.92391304 0.86956522 0.9673913  0.95652174\n",
      " 0.98913043 0.97777778 0.98888889 0.97777778]\n",
      "\n",
      " Confusion Matrix\n",
      "[[144   6]\n",
      " [  5 120]]\n",
      "\n",
      " Classification Report\n",
      "              precision    recall  f1-score   support\n",
      "\n",
      "           2       0.97      0.96      0.96       150\n",
      "           4       0.95      0.96      0.96       125\n",
      "\n",
      "   micro avg       0.96      0.96      0.96       275\n",
      "   macro avg       0.96      0.96      0.96       275\n",
      "weighted avg       0.96      0.96      0.96       275\n",
      "\n",
      "\n",
      " Roc Auc Score\n",
      "0.96\n",
      "--- 1.8948633670806885 seconds ---\n"
     ]
    }
   ],
   "source": [
    "model_name = skbregr\n",
    "\n",
    "from sklearn.model_selection import cross_val_score \n",
    "print('\\n Cross Validation')\n",
    "print(cross_val_score(model_name, skb_data, target, cv=10))\n",
    "\n",
    "prediction = model_name.predict(sX_test)\n",
    "from sklearn.metrics import confusion_matrix\n",
    "cnf_matrix = confusion_matrix(sy_test, prediction)\n",
    "print('\\n Confusion Matrix')\n",
    "print(cnf_matrix)\n",
    "\n",
    "from sklearn.metrics import classification_report\n",
    "print('\\n Classification Report')\n",
    "print(classification_report(sy_test, prediction))\n",
    "\n",
    "from sklearn.metrics import roc_auc_score\n",
    "print('\\n Roc Auc Score')\n",
    "print(roc_auc_score(sy_test, prediction))\n",
    "print(\"--- %s seconds ---\" % (time.time() - start_time - reset_time))\n",
    "reset_time = time.time() - start_time"
   ]
  },
  {
   "cell_type": "markdown",
   "metadata": {},
   "source": [
    "# Logistic Regression: PCA"
   ]
  },
  {
   "cell_type": "code",
   "execution_count": 22,
   "metadata": {},
   "outputs": [
    {
     "name": "stdout",
     "output_type": "stream",
     "text": [
      "col_0    1\n",
      "Class     \n",
      "2      307\n",
      "4      332\n",
      "--- 33.403879165649414 seconds ---\n"
     ]
    }
   ],
   "source": [
    "from sklearn import linear_model\n",
    "from sklearn.linear_model import LogisticRegression\n",
    "# Set up the regression model to predict defaults using all other\n",
    "# variables as features.\n",
    "pcaregr = LogisticRegression(solver='lbfgs')\n",
    "pcaregrfit = pcaregr.fit(pX_train, py_train)\n",
    "\n",
    "# Calculate accuracy. First, get probability that each row will be admitted.\n",
    "pred_statsmod = pcaregrfit.predict(pX_train)\n",
    "\n",
    "# Code admission as 1 if probability is greater than .5.\n",
    "pred_y_statsmod = np.where(pred_statsmod < .5, 0, 1)\n",
    "\n",
    "# Accuracy table.\n",
    "table = pd.crosstab(py_train, pred_y_statsmod)\n",
    "print(table)\n",
    "\n",
    "print(\"--- %s seconds ---\" % (time.time() - start_time - reset_time))\n",
    "reset_time = time.time() - start_time"
   ]
  },
  {
   "cell_type": "code",
   "execution_count": 41,
   "metadata": {},
   "outputs": [
    {
     "name": "stdout",
     "output_type": "stream",
     "text": [
      "\n",
      " Cross Validation\n",
      "[0.92391304 1.         0.93478261 0.92391304 0.98913043 0.97826087\n",
      " 0.9673913  0.98888889 0.98888889 0.97777778]\n",
      "\n",
      " Confusion Matrix\n",
      "[[145   5]\n",
      " [  4 121]]\n",
      "\n",
      " Classification Report\n",
      "              precision    recall  f1-score   support\n",
      "\n",
      "           2       0.97      0.97      0.97       150\n",
      "           4       0.96      0.97      0.96       125\n",
      "\n",
      "   micro avg       0.97      0.97      0.97       275\n",
      "   macro avg       0.97      0.97      0.97       275\n",
      "weighted avg       0.97      0.97      0.97       275\n",
      "\n",
      "\n",
      " Roc Auc Score\n",
      "0.9673333333333334\n",
      "--- 43.99524784088135 seconds ---\n"
     ]
    }
   ],
   "source": [
    "model_name = pcaregr\n",
    "\n",
    "from sklearn.model_selection import cross_val_score \n",
    "print('\\n Cross Validation')\n",
    "print(cross_val_score(model_name, pca_data, target, cv=10))\n",
    "\n",
    "prediction = model_name.predict(pX_test)\n",
    "from sklearn.metrics import confusion_matrix\n",
    "cnf_matrix = confusion_matrix(py_test, prediction)\n",
    "print('\\n Confusion Matrix')\n",
    "print(cnf_matrix)\n",
    "\n",
    "from sklearn.metrics import classification_report\n",
    "print('\\n Classification Report')\n",
    "print(classification_report(py_test, prediction))\n",
    "\n",
    "from sklearn.metrics import roc_auc_score\n",
    "print('\\n Roc Auc Score')\n",
    "print(roc_auc_score(py_test, prediction))\n",
    "print(\"--- %s seconds ---\" % (time.time() - start_time - reset_time))\n",
    "reset_time = time.time() - start_time"
   ]
  },
  {
   "cell_type": "markdown",
   "metadata": {},
   "source": [
    "# Gradient Boosting: Regular"
   ]
  },
  {
   "cell_type": "code",
   "execution_count": 34,
   "metadata": {},
   "outputs": [
    {
     "name": "stdout",
     "output_type": "stream",
     "text": [
      "Best Accuracy:  0.9765258215962441\n",
      "--- 39.17125391960144 seconds ---\n"
     ]
    }
   ],
   "source": [
    "params = {'n_estimators': 10,\n",
    "          'max_depth': 2,\n",
    "          'loss': 'deviance'}\n",
    "\n",
    "# Initialize and fit the model.\n",
    "clf = ensemble.GradientBoostingClassifier(**params)\n",
    "clf.fit(X_train, y_train)\n",
    "\n",
    "from sklearn.model_selection import GridSearchCV\n",
    "parameters = {\n",
    "    'n_estimators': [5, 10, 15, 20],\n",
    "    'max_features': ['auto', 'sqrt', 'log2'],\n",
    "    'max_depth' : [1, 2, 3],\n",
    "}\n",
    "gd_clf = GridSearchCV(estimator=clf,  \n",
    "                     param_grid=parameters,\n",
    "                     scoring='accuracy',\n",
    "                     cv=5,\n",
    "                     n_jobs=-1)\n",
    "\n",
    "gd_clf.fit(X_train, y_train)  \n",
    "best_result = gd_clf.best_score_  \n",
    "print(\"Best Accuracy: \", best_result)  \n",
    "print(\"--- %s seconds ---\" % (time.time() - start_time - reset_time))\n",
    "reset_time = time.time() - start_time"
   ]
  },
  {
   "cell_type": "code",
   "execution_count": 35,
   "metadata": {},
   "outputs": [
    {
     "name": "stdout",
     "output_type": "stream",
     "text": [
      "With 20% Holdout: 0.9781818181818182\n",
      "Testing on Sample: 0.9792122538293216\n",
      "\n",
      " Cross Validation\n",
      "[0.95652174 0.98913043 0.97826087 0.93478261 0.95652174 0.98913043\n",
      " 1.         1.         0.98888889 0.98888889]\n",
      "\n",
      " Confusion Matrix\n",
      "[[145   5]\n",
      " [  0 125]]\n",
      "\n",
      " Classification Report\n",
      "              precision    recall  f1-score   support\n",
      "\n",
      "           2       1.00      0.97      0.98       150\n",
      "           4       0.96      1.00      0.98       125\n",
      "\n",
      "   micro avg       0.98      0.98      0.98       275\n",
      "   macro avg       0.98      0.98      0.98       275\n",
      "weighted avg       0.98      0.98      0.98       275\n",
      "\n",
      "\n",
      " Roc Auc Score\n",
      "0.9833333333333334\n",
      "--- 6.02235746383667 seconds ---\n"
     ]
    }
   ],
   "source": [
    "import warnings\n",
    "warnings.filterwarnings(\"ignore\")\n",
    "\n",
    "model_name = gd_clf\n",
    "print('With 20% Holdout: ' + str(model_name.fit(X_train, y_train).score(X_test, y_test)))\n",
    "print('Testing on Sample: ' + str(model_name.fit(selected_data, target).score(selected_data, target)))\n",
    "\n",
    "from sklearn.model_selection import cross_val_score \n",
    "print('\\n Cross Validation')\n",
    "print(cross_val_score(model_name, selected_data, target, cv=10))\n",
    "\n",
    "prediction = model_name.predict(X_test)\n",
    "from sklearn.metrics import confusion_matrix\n",
    "cnf_matrix = confusion_matrix(y_test, prediction)\n",
    "print('\\n Confusion Matrix')\n",
    "print(cnf_matrix)\n",
    "\n",
    "from sklearn.metrics import classification_report\n",
    "print('\\n Classification Report')\n",
    "print(classification_report(y_test, prediction))\n",
    "\n",
    "from sklearn.metrics import roc_auc_score\n",
    "print('\\n Roc Auc Score')\n",
    "print(roc_auc_score(y_test, prediction))\n",
    "print(\"--- %s seconds ---\" % (time.time() - start_time - reset_time))\n",
    "reset_time = time.time() - start_time"
   ]
  },
  {
   "cell_type": "markdown",
   "metadata": {},
   "source": [
    "# Gradient Boosting: Select K Best"
   ]
  },
  {
   "cell_type": "code",
   "execution_count": 37,
   "metadata": {},
   "outputs": [
    {
     "name": "stdout",
     "output_type": "stream",
     "text": [
      "Best Accuracy:  0.974960876369327\n",
      "--- 82.63614130020142 seconds ---\n"
     ]
    }
   ],
   "source": [
    "params = {'n_estimators': 10,\n",
    "          'max_depth': 2,\n",
    "          'loss': 'deviance'}\n",
    "\n",
    "# Initialize and fit the model.\n",
    "skbclf = ensemble.GradientBoostingClassifier(**params)\n",
    "skbclf.fit(sX_train, sy_train)\n",
    "\n",
    "from sklearn.model_selection import GridSearchCV\n",
    "parameters = {\n",
    "    'n_estimators': [5, 10, 15, 20],\n",
    "    'max_features': ['auto', 'sqrt', 'log2'],\n",
    "    'max_depth' : [1, 2, 3],\n",
    "}\n",
    "sgd_clf = GridSearchCV(estimator=skbclf,  \n",
    "                     param_grid=parameters,\n",
    "                     scoring='accuracy',\n",
    "                     cv=5,\n",
    "                     n_jobs=-1)\n",
    "\n",
    "sgd_clf.fit(sX_train, sy_train)  \n",
    "best_result = sgd_clf.best_score_  \n",
    "print(\"Best Accuracy: \", best_result)  \n",
    "print(\"--- %s seconds ---\" % (time.time() - start_time - reset_time))\n",
    "reset_time = time.time() - start_time"
   ]
  },
  {
   "cell_type": "code",
   "execution_count": 38,
   "metadata": {},
   "outputs": [
    {
     "name": "stdout",
     "output_type": "stream",
     "text": [
      "\n",
      " Cross Validation\n",
      "[0.95652174 0.97826087 0.95652174 0.92391304 0.9673913  0.9673913\n",
      " 1.         0.98888889 0.96666667 0.98888889]\n",
      "\n",
      " Confusion Matrix\n",
      "[[143   7]\n",
      " [  3 122]]\n",
      "\n",
      " Classification Report\n",
      "              precision    recall  f1-score   support\n",
      "\n",
      "           2       0.98      0.95      0.97       150\n",
      "           4       0.95      0.98      0.96       125\n",
      "\n",
      "   micro avg       0.96      0.96      0.96       275\n",
      "   macro avg       0.96      0.96      0.96       275\n",
      "weighted avg       0.96      0.96      0.96       275\n",
      "\n",
      "\n",
      " Roc Auc Score\n",
      "0.9646666666666667\n",
      "--- 773.1918811798096 seconds ---\n"
     ]
    }
   ],
   "source": [
    "import warnings\n",
    "warnings.filterwarnings(\"ignore\")\n",
    "\n",
    "model_name = sgd_clf\n",
    "from sklearn.model_selection import cross_val_score \n",
    "print('\\n Cross Validation')\n",
    "print(cross_val_score(model_name, skb_data, target, cv=10))\n",
    "\n",
    "prediction = model_name.predict(sX_test)\n",
    "from sklearn.metrics import confusion_matrix\n",
    "cnf_matrix = confusion_matrix(sy_test, prediction)\n",
    "print('\\n Confusion Matrix')\n",
    "print(cnf_matrix)\n",
    "\n",
    "from sklearn.metrics import classification_report\n",
    "print('\\n Classification Report')\n",
    "print(classification_report(sy_test, prediction))\n",
    "\n",
    "from sklearn.metrics import roc_auc_score\n",
    "print('\\n Roc Auc Score')\n",
    "print(roc_auc_score(sy_test, prediction))\n",
    "print(\"--- %s seconds ---\" % (time.time() - start_time - reset_time))\n",
    "reset_time = time.time() - start_time"
   ]
  },
  {
   "cell_type": "markdown",
   "metadata": {},
   "source": [
    "# Gradient Boosting: PCA"
   ]
  },
  {
   "cell_type": "code",
   "execution_count": 40,
   "metadata": {},
   "outputs": [
    {
     "name": "stdout",
     "output_type": "stream",
     "text": [
      "Best Accuracy:  0.974960876369327\n",
      "--- 92.69249606132507 seconds ---\n"
     ]
    }
   ],
   "source": [
    "params = {'n_estimators': 10,\n",
    "          'max_depth': 2,\n",
    "          'loss': 'deviance'}\n",
    "\n",
    "# Initialize and fit the model.\n",
    "pcaclf = ensemble.GradientBoostingClassifier(**params)\n",
    "pcaclf.fit(sX_train, sy_train)\n",
    "\n",
    "from sklearn.model_selection import GridSearchCV\n",
    "parameters = {\n",
    "    'n_estimators': [5, 10, 15, 20],\n",
    "    'max_features': ['auto', 'sqrt', 'log2'],\n",
    "    'max_depth' : [1, 2, 3],\n",
    "}\n",
    "pca_clf = GridSearchCV(estimator=pcaclf,  \n",
    "                     param_grid=parameters,\n",
    "                     scoring='accuracy',\n",
    "                     cv=5,\n",
    "                     n_jobs=-1)\n",
    "\n",
    "pca_clf.fit(sX_train, sy_train)  \n",
    "best_result = sgd_clf.best_score_  \n",
    "print(\"Best Accuracy: \", best_result)  \n",
    "print(\"--- %s seconds ---\" % (time.time() - start_time - reset_time))\n",
    "reset_time = time.time() - start_time"
   ]
  },
  {
   "cell_type": "code",
   "execution_count": 45,
   "metadata": {},
   "outputs": [
    {
     "name": "stdout",
     "output_type": "stream",
     "text": [
      "\n",
      " Cross Validation\n",
      "[0.95652174 0.98913043 0.95652174 0.93478261 0.98913043 0.97826087\n",
      " 0.98913043 0.98888889 1.         0.98888889]\n",
      "\n",
      " Confusion Matrix\n",
      "[[149   1]\n",
      " [ 34  91]]\n",
      "\n",
      " Classification Report\n",
      "              precision    recall  f1-score   support\n",
      "\n",
      "           2       0.81      0.99      0.89       150\n",
      "           4       0.99      0.73      0.84       125\n",
      "\n",
      "   micro avg       0.87      0.87      0.87       275\n",
      "   macro avg       0.90      0.86      0.87       275\n",
      "weighted avg       0.89      0.87      0.87       275\n",
      "\n",
      "\n",
      " Roc Auc Score\n",
      "0.8606666666666667\n",
      "--- 46.18616557121277 seconds ---\n"
     ]
    }
   ],
   "source": [
    "model_name = pca_clf\n",
    "\n",
    "from sklearn.model_selection import cross_val_score \n",
    "print('\\n Cross Validation')\n",
    "print(cross_val_score(model_name, pca_data, target, cv=10))\n",
    "\n",
    "prediction = model_name.predict(pX_test)\n",
    "from sklearn.metrics import confusion_matrix\n",
    "cnf_matrix = confusion_matrix(py_test, prediction)\n",
    "print('\\n Confusion Matrix')\n",
    "print(cnf_matrix)\n",
    "\n",
    "from sklearn.metrics import classification_report\n",
    "print('\\n Classification Report')\n",
    "print(classification_report(py_test, prediction))\n",
    "\n",
    "from sklearn.metrics import roc_auc_score\n",
    "print('\\n Roc Auc Score')\n",
    "print(roc_auc_score(py_test, prediction))\n",
    "print(\"--- %s seconds ---\" % (time.time() - start_time - reset_time))\n",
    "reset_time = time.time() - start_time"
   ]
  },
  {
   "cell_type": "markdown",
   "metadata": {},
   "source": [
    "# Ridge Regression : Regular "
   ]
  },
  {
   "cell_type": "code",
   "execution_count": 97,
   "metadata": {},
   "outputs": [
    {
     "name": "stdout",
     "output_type": "stream",
     "text": [
      "--- 22.46206521987915 seconds ---\n"
     ]
    }
   ],
   "source": [
    "ridgeregr = linear_model.Ridge(alpha=500, fit_intercept=False) \n",
    "ridgeregrfit = ridgeregr.fit(X_train, y_train)\n",
    "\n",
    "# Calculate accuracy. First, get probability that each row will be admitted.\n",
    "pred_statsmod = ridgeregrfit.predict(X_train)\n",
    "\n",
    "# Code admission as 1 if probability is greater than .5.\n",
    "pred_y_statsmod = np.where(pred_statsmod < .5, 0, 1)\n",
    "\n",
    "# Accuracy table.\n",
    "ridgetable = pd.crosstab(y_train, pred_y_statsmod)\n",
    "print(\"--- %s seconds ---\" % (time.time() - start_time - reset_time))\n",
    "reset_time = time.time() - start_time"
   ]
  },
  {
   "cell_type": "code",
   "execution_count": 98,
   "metadata": {},
   "outputs": [
    {
     "name": "stdout",
     "output_type": "stream",
     "text": [
      "Ridge Regression Score\n",
      "0.3078988236704585\n",
      "\n",
      "With 20% Holdout: 0.3078988236704585\n",
      "Testing on Sample: 0.33184253632494864\n",
      "\n",
      " Accuracy by admission status\n",
      "col_0    1\n",
      "Class     \n",
      "2      307\n",
      "4      332\n",
      "\n",
      " Roc Auc Score\n",
      "0.9898133333333333\n",
      "--- 1.4663312435150146 seconds ---\n"
     ]
    }
   ],
   "source": [
    "import warnings\n",
    "warnings.filterwarnings(\"ignore\")\n",
    "\n",
    "print('Ridge Regression Score')\n",
    "print(ridgeregrfit.score(X_test, y_test))\n",
    "\n",
    "model_name = ridgeregr\n",
    "print('\\nWith 20% Holdout: ' + str(model_name.fit(X_train, y_train).score(X_test, y_test)))\n",
    "print('Testing on Sample: ' + str(model_name.fit(selected_data, target).score(selected_data, target)))\n",
    "\n",
    "print('\\n Accuracy by admission status')\n",
    "print(ridgetable)\n",
    "\n",
    "from sklearn.metrics import roc_auc_score\n",
    "print('\\n Roc Auc Score')\n",
    "print(roc_auc_score(y_test, prediction))\n",
    "print(\"--- %s seconds ---\" % (time.time() - start_time - reset_time))\n",
    "reset_time = time.time() - start_time"
   ]
  },
  {
   "cell_type": "markdown",
   "metadata": {},
   "source": [
    "# Ridge Regression: SKB"
   ]
  },
  {
   "cell_type": "code",
   "execution_count": 91,
   "metadata": {},
   "outputs": [
    {
     "name": "stdout",
     "output_type": "stream",
     "text": [
      "--- 4.643059968948364 seconds ---\n"
     ]
    }
   ],
   "source": [
    "ridgeregr = linear_model.Ridge(alpha=500, fit_intercept=False) \n",
    "ridgeregrfit = ridgeregr.fit(sX_train, sy_train)\n",
    "\n",
    "# Calculate accuracy. First, get probability that each row will be admitted.\n",
    "pred_statsmod = ridgeregrfit.predict(sX_train)\n",
    "\n",
    "# Code admission as 1 if probability is greater than .5.\n",
    "pred_y_statsmod = np.where(pred_statsmod < .5, 0, 1)\n",
    "\n",
    "# Accuracy table.\n",
    "ridgetable = pd.crosstab(sy_train, pred_y_statsmod)\n",
    "print(\"--- %s seconds ---\" % (time.time() - start_time - reset_time))\n",
    "reset_time = time.time() - start_time"
   ]
  },
  {
   "cell_type": "code",
   "execution_count": 92,
   "metadata": {},
   "outputs": [
    {
     "name": "stdout",
     "output_type": "stream",
     "text": [
      "Ridge Regression Score\n",
      "-0.4094615074011265\n",
      "\n",
      "With 20% Holdout: -0.4094615074011265\n",
      "Testing on Sample: 0.33184253632494864\n",
      "\n",
      " Accuracy by admission status\n",
      "col_0    1\n",
      "Class     \n",
      "2      307\n",
      "4      332\n",
      "\n",
      " Roc Auc Score\n",
      "0.9898133333333333\n",
      "--- 1.4103174209594727 seconds ---\n"
     ]
    }
   ],
   "source": [
    "import warnings\n",
    "warnings.filterwarnings(\"ignore\")\n",
    "\n",
    "print('Ridge Regression Score')\n",
    "print(ridgeregrfit.score(sX_test, sy_test))\n",
    "\n",
    "model_name = ridgeregr\n",
    "print('\\nWith 20% Holdout: ' + str(model_name.fit(sX_train, sy_train).score(sX_test, sy_test)))\n",
    "print('Testing on Sample: ' + str(model_name.fit(selected_data, target).score(selected_data, target)))\n",
    "\n",
    "print('\\n Accuracy by admission status')\n",
    "print(ridgetable)\n",
    "\n",
    "from sklearn.metrics import roc_auc_score\n",
    "print('\\n Roc Auc Score')\n",
    "print(roc_auc_score(y_test, prediction))\n",
    "print(\"--- %s seconds ---\" % (time.time() - start_time - reset_time))\n",
    "reset_time = time.time() - start_time"
   ]
  },
  {
   "cell_type": "markdown",
   "metadata": {},
   "source": [
    "# Ridge Regression: PCA"
   ]
  },
  {
   "cell_type": "code",
   "execution_count": 89,
   "metadata": {},
   "outputs": [
    {
     "name": "stdout",
     "output_type": "stream",
     "text": [
      "--- 1220.9424815177917 seconds ---\n"
     ]
    }
   ],
   "source": [
    "ridgeregr = linear_model.Ridge(alpha=500, fit_intercept=False) \n",
    "ridgeregrfit = ridgeregr.fit(pX_train, py_train)\n",
    "\n",
    "# Calculate accuracy. First, get probability that each row will be admitted.\n",
    "pred_statsmod = ridgeregrfit.predict(pX_train)\n",
    "\n",
    "# Code admission as 1 if probability is greater than .5.\n",
    "pred_y_statsmod = np.where(pred_statsmod < .5, 0, 1)\n",
    "\n",
    "# Accuracy table.\n",
    "ridgetable = pd.crosstab(sy_train, pred_y_statsmod)\n",
    "print(\"--- %s seconds ---\" % (time.time() - start_time - reset_time))\n",
    "reset_time = time.time() - start_time"
   ]
  },
  {
   "cell_type": "code",
   "execution_count": 90,
   "metadata": {},
   "outputs": [
    {
     "name": "stdout",
     "output_type": "stream",
     "text": [
      "Ridge Regression Score\n",
      "-8.338396760696437\n",
      "\n",
      "With 20% Holdout: -8.338396760696437\n",
      "Testing on Sample: 0.33184253632494864\n",
      "\n",
      " Accuracy by admission status\n",
      "col_0    0    1\n",
      "Class          \n",
      "2      302    5\n",
      "4       72  260\n",
      "\n",
      " Roc Auc Score\n",
      "0.9898133333333333\n",
      "--- 1.13726806640625 seconds ---\n"
     ]
    }
   ],
   "source": [
    "import warnings\n",
    "warnings.filterwarnings(\"ignore\")\n",
    "\n",
    "print('Ridge Regression Score')\n",
    "print(ridgeregrfit.score(pX_test, py_test))\n",
    "\n",
    "model_name = ridgeregr\n",
    "print('\\nWith 20% Holdout: ' + str(model_name.fit(pX_train, py_train).score(pX_test, py_test)))\n",
    "print('Testing on Sample: ' + str(model_name.fit(selected_data, target).score(selected_data, target)))\n",
    "\n",
    "print('\\n Accuracy by admission status')\n",
    "print(ridgetable)\n",
    "\n",
    "from sklearn.metrics import roc_auc_score\n",
    "print('\\n Roc Auc Score')\n",
    "print(roc_auc_score(y_test, prediction))\n",
    "print(\"--- %s seconds ---\" % (time.time() - start_time - reset_time))\n",
    "reset_time = time.time() - start_time"
   ]
  },
  {
   "cell_type": "markdown",
   "metadata": {},
   "source": [
    "# Lasso Regression: Regular"
   ]
  },
  {
   "cell_type": "code",
   "execution_count": 95,
   "metadata": {},
   "outputs": [
    {
     "name": "stdout",
     "output_type": "stream",
     "text": [
      "--- 678.8802919387817 seconds ---\n"
     ]
    }
   ],
   "source": [
    "lassregr = linear_model.Lasso(alpha=.35)\n",
    "lassregrfit = lassregr.fit(X_train, y_train)\n",
    "\n",
    "# Calculate accuracy. First, get probability that each row will be admitted.\n",
    "pred_statsmod = lassregrfit.predict(X_train)\n",
    "\n",
    "# Code admission as 1 if probability is greater than .5.\n",
    "pred_y_statsmod = np.where(pred_statsmod < .5, 0, 1)\n",
    "\n",
    "# Accuracy table.\n",
    "lasstable = pd.crosstab(y_train, pred_y_statsmod)\n",
    "print(\"--- %s seconds ---\" % (time.time() - start_time - reset_time))\n",
    "reset_time = time.time() - start_time"
   ]
  },
  {
   "cell_type": "code",
   "execution_count": 96,
   "metadata": {},
   "outputs": [
    {
     "name": "stdout",
     "output_type": "stream",
     "text": [
      "Lasso Regression Score\n",
      "0.7989369118844419\n",
      "\n",
      "With 20% Holdout: 0.7989369118844419\n",
      "Testing on Sample: 0.7793611238173326\n",
      "\n",
      " Accuracy by admission status\n",
      "col_0    1\n",
      "Class     \n",
      "2      307\n",
      "4      332\n",
      "\n",
      " Roc Auc Score\n",
      "0.9898133333333333\n",
      "--- 2.7346177101135254 seconds ---\n"
     ]
    }
   ],
   "source": [
    "import warnings\n",
    "warnings.filterwarnings(\"ignore\")\n",
    "\n",
    "print('Lasso Regression Score')\n",
    "print(lassregrfit.score(X_test, y_test))\n",
    "\n",
    "model_name = lassregr\n",
    "print('\\nWith 20% Holdout: ' + str(model_name.fit(X_train, y_train).score(X_test, y_test)))\n",
    "print('Testing on Sample: ' + str(model_name.fit(selected_data, target).score(selected_data, target)))\n",
    "\n",
    "print('\\n Accuracy by admission status')\n",
    "print(lasstable)\n",
    "\n",
    "from sklearn.metrics import roc_auc_score\n",
    "print('\\n Roc Auc Score')\n",
    "print(roc_auc_score(y_test, prediction))\n",
    "print(\"--- %s seconds ---\" % (time.time() - start_time - reset_time))\n",
    "reset_time = time.time() - start_time"
   ]
  },
  {
   "cell_type": "markdown",
   "metadata": {},
   "source": [
    "# Lasso Regression: SKB"
   ]
  },
  {
   "cell_type": "code",
   "execution_count": 99,
   "metadata": {},
   "outputs": [
    {
     "name": "stdout",
     "output_type": "stream",
     "text": [
      "--- 2158.731187582016 seconds ---\n"
     ]
    }
   ],
   "source": [
    "lassregr = linear_model.Lasso(alpha=.35)\n",
    "lassregrfit = lassregr.fit(sX_train, sy_train)\n",
    "\n",
    "# Calculate accuracy. First, get probability that each row will be admitted.\n",
    "pred_statsmod = lassregrfit.predict(sX_train)\n",
    "\n",
    "# Code admission as 1 if probability is greater than .5.\n",
    "pred_y_statsmod = np.where(pred_statsmod < .5, 0, 1)\n",
    "\n",
    "# Accuracy table.\n",
    "lasstable = pd.crosstab(sy_train, pred_y_statsmod)\n",
    "print(\"--- %s seconds ---\" % (time.time() - start_time - reset_time))\n",
    "reset_time = time.time() - start_time"
   ]
  },
  {
   "cell_type": "code",
   "execution_count": 100,
   "metadata": {},
   "outputs": [
    {
     "name": "stdout",
     "output_type": "stream",
     "text": [
      "Lasso Regression Score\n",
      "0.7614259402331588\n",
      "\n",
      "With 20% Holdout: 0.7614259402331588\n",
      "Testing on Sample: 0.7793611238173326\n",
      "\n",
      " Accuracy by admission status\n",
      "col_0    1\n",
      "Class     \n",
      "2      307\n",
      "4      332\n",
      "\n",
      " Roc Auc Score\n",
      "0.9898133333333333\n",
      "--- 1.319289207458496 seconds ---\n"
     ]
    }
   ],
   "source": [
    "import warnings\n",
    "warnings.filterwarnings(\"ignore\")\n",
    "\n",
    "print('Lasso Regression Score')\n",
    "print(lassregrfit.score(sX_test, sy_test))\n",
    "\n",
    "model_name = lassregr\n",
    "print('\\nWith 20% Holdout: ' + str(model_name.fit(sX_train, sy_train).score(sX_test, sy_test)))\n",
    "print('Testing on Sample: ' + str(model_name.fit(selected_data, target).score(selected_data, target)))\n",
    "\n",
    "print('\\n Accuracy by admission status')\n",
    "print(lasstable)\n",
    "\n",
    "from sklearn.metrics import roc_auc_score\n",
    "print('\\n Roc Auc Score')\n",
    "print(roc_auc_score(y_test, prediction))\n",
    "print(\"--- %s seconds ---\" % (time.time() - start_time - reset_time))\n",
    "reset_time = time.time() - start_time"
   ]
  },
  {
   "cell_type": "markdown",
   "metadata": {},
   "source": [
    "# Lasso Regression: PCA"
   ]
  },
  {
   "cell_type": "code",
   "execution_count": 101,
   "metadata": {},
   "outputs": [
    {
     "name": "stdout",
     "output_type": "stream",
     "text": [
      "--- 57.0998911857605 seconds ---\n"
     ]
    }
   ],
   "source": [
    "lassregr = linear_model.Lasso(alpha=.35)\n",
    "lassregrfit = lassregr.fit(pX_train, py_train)\n",
    "\n",
    "# Calculate accuracy. First, get probability that each row will be admitted.\n",
    "pred_statsmod = lassregrfit.predict(pX_train)\n",
    "\n",
    "# Code admission as 1 if probability is greater than .5.\n",
    "pred_y_statsmod = np.where(pred_statsmod < .5, 0, 1)\n",
    "\n",
    "# Accuracy table.\n",
    "lasstable = pd.crosstab(py_train, pred_y_statsmod)\n",
    "print(\"--- %s seconds ---\" % (time.time() - start_time - reset_time))\n",
    "reset_time = time.time() - start_time"
   ]
  },
  {
   "cell_type": "code",
   "execution_count": 102,
   "metadata": {},
   "outputs": [
    {
     "name": "stdout",
     "output_type": "stream",
     "text": [
      "Lasso Regression Score\n",
      "0.8050113088179783\n",
      "\n",
      "With 20% Holdout: 0.8050113088179783\n",
      "Testing on Sample: 0.7793611238173326\n",
      "\n",
      " Accuracy by admission status\n",
      "col_0    1\n",
      "Class     \n",
      "2      307\n",
      "4      332\n",
      "\n",
      " Roc Auc Score\n",
      "0.9898133333333333\n",
      "--- 1.2272851467132568 seconds ---\n"
     ]
    }
   ],
   "source": [
    "import warnings\n",
    "warnings.filterwarnings(\"ignore\")\n",
    "\n",
    "print('Lasso Regression Score')\n",
    "print(lassregrfit.score(pX_test, py_test))\n",
    "\n",
    "model_name = lassregr\n",
    "print('\\nWith 20% Holdout: ' + str(model_name.fit(pX_train, py_train).score(pX_test, py_test)))\n",
    "print('Testing on Sample: ' + str(model_name.fit(selected_data, target).score(selected_data, target)))\n",
    "\n",
    "print('\\n Accuracy by admission status')\n",
    "print(lasstable)\n",
    "\n",
    "from sklearn.metrics import roc_auc_score\n",
    "print('\\n Roc Auc Score')\n",
    "print(roc_auc_score(y_test, prediction))\n",
    "print(\"--- %s seconds ---\" % (time.time() - start_time - reset_time))\n",
    "reset_time = time.time() - start_time"
   ]
  },
  {
   "cell_type": "markdown",
   "metadata": {},
   "source": [
    "# SVM: Regular"
   ]
  },
  {
   "cell_type": "code",
   "execution_count": 103,
   "metadata": {},
   "outputs": [
    {
     "data": {
      "text/plain": [
       "SVC(C=1.0, cache_size=200, class_weight=None, coef0=0.0,\n",
       "  decision_function_shape='ovr', degree=3, gamma='auto_deprecated',\n",
       "  kernel='linear', max_iter=-1, probability=False, random_state=None,\n",
       "  shrinking=True, tol=0.001, verbose=False)"
      ]
     },
     "execution_count": 103,
     "metadata": {},
     "output_type": "execute_result"
    }
   ],
   "source": [
    "from sklearn.svm import SVC  \n",
    "svclassifier = SVC(kernel='linear')\n",
    "svclassifier.fit(X_train, y_train)"
   ]
  },
  {
   "cell_type": "code",
   "execution_count": 105,
   "metadata": {},
   "outputs": [
    {
     "name": "stdout",
     "output_type": "stream",
     "text": [
      "With 20% Holdout: 0.9672727272727273\n",
      "Testing on Sample: 0.9715536105032823\n",
      "\n",
      " Cross Validation\n",
      "[0.93478261 0.98913043 0.95652174 0.93478261 0.98913043 0.97826087\n",
      " 0.9673913  0.98888889 0.97777778 0.97777778]\n",
      "\n",
      " Confusion Matrix\n",
      "[[145   5]\n",
      " [  3 122]]\n",
      "\n",
      " Classification Report\n",
      "              precision    recall  f1-score   support\n",
      "\n",
      "           2       0.98      0.97      0.97       150\n",
      "           4       0.96      0.98      0.97       125\n",
      "\n",
      "   micro avg       0.97      0.97      0.97       275\n",
      "   macro avg       0.97      0.97      0.97       275\n",
      "weighted avg       0.97      0.97      0.97       275\n",
      "\n",
      "\n",
      " Roc Auc Score\n",
      "0.9713333333333333\n",
      "--- 93.50570130348206 seconds ---\n"
     ]
    }
   ],
   "source": [
    "model_name = svclassifier\n",
    "print('With 20% Holdout: ' + str(model_name.fit(X_train, y_train).score(X_test, y_test)))\n",
    "print('Testing on Sample: ' + str(model_name.fit(selected_data, target).score(selected_data, target)))\n",
    "\n",
    "from sklearn.model_selection import cross_val_score \n",
    "print('\\n Cross Validation')\n",
    "print(cross_val_score(model_name, selected_data, target, cv=10))\n",
    "\n",
    "prediction = model_name.predict(X_test)\n",
    "from sklearn.metrics import confusion_matrix\n",
    "cnf_matrix = confusion_matrix(y_test, prediction)\n",
    "print('\\n Confusion Matrix')\n",
    "print(cnf_matrix)\n",
    "\n",
    "from sklearn.metrics import classification_report\n",
    "print('\\n Classification Report')\n",
    "print(classification_report(y_test, prediction))\n",
    "\n",
    "from sklearn.metrics import roc_auc_score\n",
    "print('\\n Roc Auc Score')\n",
    "print(roc_auc_score(y_test, prediction))\n",
    "print(\"--- %s seconds ---\" % (time.time() - start_time - reset_time))\n",
    "reset_time = time.time() - start_time"
   ]
  },
  {
   "cell_type": "markdown",
   "metadata": {},
   "source": [
    "# SVM: Select K Best"
   ]
  },
  {
   "cell_type": "code",
   "execution_count": 112,
   "metadata": {},
   "outputs": [
    {
     "data": {
      "text/plain": [
       "SVC(C=1.0, cache_size=200, class_weight=None, coef0=0.0,\n",
       "  decision_function_shape='ovr', degree=3, gamma='auto_deprecated',\n",
       "  kernel='linear', max_iter=-1, probability=False, random_state=None,\n",
       "  shrinking=True, tol=0.001, verbose=False)"
      ]
     },
     "execution_count": 112,
     "metadata": {},
     "output_type": "execute_result"
    }
   ],
   "source": [
    "from sklearn.svm import SVC  \n",
    "svclassifier = SVC(kernel='linear')\n",
    "svclassifier.fit(sX_train, sy_train)"
   ]
  },
  {
   "cell_type": "code",
   "execution_count": 113,
   "metadata": {},
   "outputs": [
    {
     "name": "stdout",
     "output_type": "stream",
     "text": [
      "\n",
      " Cross Validation\n",
      "[0.93478261 0.98913043 0.92391304 0.89130435 0.97826087 0.94565217\n",
      " 1.         0.97777778 1.         0.98888889]\n",
      "\n",
      " Confusion Matrix\n",
      "[[144   6]\n",
      " [  3 122]]\n",
      "\n",
      " Classification Report\n",
      "              precision    recall  f1-score   support\n",
      "\n",
      "           2       0.98      0.96      0.97       150\n",
      "           4       0.95      0.98      0.96       125\n",
      "\n",
      "   micro avg       0.97      0.97      0.97       275\n",
      "   macro avg       0.97      0.97      0.97       275\n",
      "weighted avg       0.97      0.97      0.97       275\n",
      "\n",
      "\n",
      " Roc Auc Score\n",
      "0.968\n",
      "--- 55.937424659729004 seconds ---\n"
     ]
    }
   ],
   "source": [
    "model_name = svclassifier\n",
    "\n",
    "from sklearn.model_selection import cross_val_score \n",
    "print('\\n Cross Validation')\n",
    "print(cross_val_score(model_name, skb_data, target, cv=10))\n",
    "\n",
    "prediction = model_name.predict(sX_test)\n",
    "from sklearn.metrics import confusion_matrix\n",
    "cnf_matrix = confusion_matrix(sy_test, prediction)\n",
    "print('\\n Confusion Matrix')\n",
    "print(cnf_matrix)\n",
    "\n",
    "from sklearn.metrics import classification_report\n",
    "print('\\n Classification Report')\n",
    "print(classification_report(sy_test, prediction))\n",
    "\n",
    "from sklearn.metrics import roc_auc_score\n",
    "print('\\n Roc Auc Score')\n",
    "print(roc_auc_score(sy_test, prediction))\n",
    "print(\"--- %s seconds ---\" % (time.time() - start_time - reset_time))\n",
    "reset_time = time.time() - start_time"
   ]
  },
  {
   "cell_type": "markdown",
   "metadata": {},
   "source": [
    "# SVM: PCA"
   ]
  },
  {
   "cell_type": "code",
   "execution_count": 114,
   "metadata": {},
   "outputs": [
    {
     "data": {
      "text/plain": [
       "SVC(C=1.0, cache_size=200, class_weight=None, coef0=0.0,\n",
       "  decision_function_shape='ovr', degree=3, gamma='auto_deprecated',\n",
       "  kernel='linear', max_iter=-1, probability=False, random_state=None,\n",
       "  shrinking=True, tol=0.001, verbose=False)"
      ]
     },
     "execution_count": 114,
     "metadata": {},
     "output_type": "execute_result"
    }
   ],
   "source": [
    "from sklearn.svm import SVC  \n",
    "svclassifier = SVC(kernel='linear')\n",
    "svclassifier.fit(pX_train, py_train)"
   ]
  },
  {
   "cell_type": "code",
   "execution_count": 116,
   "metadata": {},
   "outputs": [
    {
     "name": "stdout",
     "output_type": "stream",
     "text": [
      "\n",
      " Cross Validation\n",
      "[0.93478261 0.98913043 0.95652174 0.93478261 0.98913043 0.97826087\n",
      " 0.98913043 0.98888889 0.97777778 0.97777778]\n",
      "\n",
      " Confusion Matrix\n",
      "[[145   5]\n",
      " [  3 122]]\n",
      "\n",
      " Classification Report\n",
      "              precision    recall  f1-score   support\n",
      "\n",
      "           2       0.98      0.97      0.97       150\n",
      "           4       0.96      0.98      0.97       125\n",
      "\n",
      "   micro avg       0.97      0.97      0.97       275\n",
      "   macro avg       0.97      0.97      0.97       275\n",
      "weighted avg       0.97      0.97      0.97       275\n",
      "\n",
      "\n",
      " Roc Auc Score\n",
      "0.9713333333333333\n",
      "--- 24.223003387451172 seconds ---\n"
     ]
    }
   ],
   "source": [
    "model_name = svclassifier\n",
    "\n",
    "from sklearn.model_selection import cross_val_score \n",
    "print('\\n Cross Validation')\n",
    "print(cross_val_score(model_name, pca_data, target, cv=10))\n",
    "\n",
    "prediction = model_name.predict(pX_test)\n",
    "from sklearn.metrics import confusion_matrix\n",
    "cnf_matrix = confusion_matrix(py_test, prediction)\n",
    "print('\\n Confusion Matrix')\n",
    "print(cnf_matrix)\n",
    "\n",
    "from sklearn.metrics import classification_report\n",
    "print('\\n Classification Report')\n",
    "print(classification_report(py_test, prediction))\n",
    "\n",
    "from sklearn.metrics import roc_auc_score\n",
    "print('\\n Roc Auc Score')\n",
    "print(roc_auc_score(py_test, prediction))\n",
    "print(\"--- %s seconds ---\" % (time.time() - start_time - reset_time))\n",
    "reset_time = time.time() - start_time"
   ]
  },
  {
   "cell_type": "markdown",
   "metadata": {},
   "source": [
    "# KNN Classifier: Regular"
   ]
  },
  {
   "cell_type": "code",
   "execution_count": 118,
   "metadata": {},
   "outputs": [
    {
     "data": {
      "text/plain": [
       "KNeighborsRegressor(algorithm='auto', leaf_size=30, metric='minkowski',\n",
       "          metric_params=None, n_jobs=None, n_neighbors=7, p=2,\n",
       "          weights='uniform')"
      ]
     },
     "execution_count": 118,
     "metadata": {},
     "output_type": "execute_result"
    }
   ],
   "source": [
    "from sklearn import neighbors\n",
    "knn = neighbors.KNeighborsRegressor(n_neighbors=7)\n",
    "knn.fit(X_train, y_train)"
   ]
  },
  {
   "cell_type": "code",
   "execution_count": 123,
   "metadata": {},
   "outputs": [
    {
     "name": "stdout",
     "output_type": "stream",
     "text": [
      "With 20% Holdout: 0.9269659863945579\n",
      "Testing on Sample: 0.9394453623900325\n",
      "\n",
      " Cross Validation\n",
      "[0.         0.         0.         0.         0.64526485 0.\n",
      " 0.         0.         0.         0.        ]\n"
     ]
    },
    {
     "ename": "ValueError",
     "evalue": "Classification metrics can't handle a mix of binary and continuous targets",
     "output_type": "error",
     "traceback": [
      "\u001b[1;31m---------------------------------------------------------------------------\u001b[0m",
      "\u001b[1;31mValueError\u001b[0m                                Traceback (most recent call last)",
      "\u001b[1;32m<ipython-input-123-2abbebeb22af>\u001b[0m in \u001b[0;36m<module>\u001b[1;34m()\u001b[0m\n\u001b[0;32m      9\u001b[0m \u001b[0mprediction\u001b[0m \u001b[1;33m=\u001b[0m \u001b[0mmodel_name\u001b[0m\u001b[1;33m.\u001b[0m\u001b[0mpredict\u001b[0m\u001b[1;33m(\u001b[0m\u001b[0mX_test\u001b[0m\u001b[1;33m)\u001b[0m\u001b[1;33m\u001b[0m\u001b[0m\n\u001b[0;32m     10\u001b[0m \u001b[1;32mfrom\u001b[0m \u001b[0msklearn\u001b[0m\u001b[1;33m.\u001b[0m\u001b[0mmetrics\u001b[0m \u001b[1;32mimport\u001b[0m \u001b[0mconfusion_matrix\u001b[0m\u001b[1;33m\u001b[0m\u001b[0m\n\u001b[1;32m---> 11\u001b[1;33m \u001b[0mcnf_matrix\u001b[0m \u001b[1;33m=\u001b[0m \u001b[0mconfusion_matrix\u001b[0m\u001b[1;33m(\u001b[0m\u001b[0my_test\u001b[0m\u001b[1;33m,\u001b[0m \u001b[0mprediction\u001b[0m\u001b[1;33m)\u001b[0m\u001b[1;33m\u001b[0m\u001b[0m\n\u001b[0m\u001b[0;32m     12\u001b[0m \u001b[0mprint\u001b[0m\u001b[1;33m(\u001b[0m\u001b[1;34m'\\n Confusion Matrix'\u001b[0m\u001b[1;33m)\u001b[0m\u001b[1;33m\u001b[0m\u001b[0m\n\u001b[0;32m     13\u001b[0m \u001b[0mprint\u001b[0m\u001b[1;33m(\u001b[0m\u001b[0mcnf_matrix\u001b[0m\u001b[1;33m)\u001b[0m\u001b[1;33m\u001b[0m\u001b[0m\n",
      "\u001b[1;32m~\\AppData\\Roaming\\Python\\Python37\\site-packages\\sklearn\\metrics\\classification.py\u001b[0m in \u001b[0;36mconfusion_matrix\u001b[1;34m(y_true, y_pred, labels, sample_weight)\u001b[0m\n\u001b[0;32m    251\u001b[0m \u001b[1;33m\u001b[0m\u001b[0m\n\u001b[0;32m    252\u001b[0m     \"\"\"\n\u001b[1;32m--> 253\u001b[1;33m     \u001b[0my_type\u001b[0m\u001b[1;33m,\u001b[0m \u001b[0my_true\u001b[0m\u001b[1;33m,\u001b[0m \u001b[0my_pred\u001b[0m \u001b[1;33m=\u001b[0m \u001b[0m_check_targets\u001b[0m\u001b[1;33m(\u001b[0m\u001b[0my_true\u001b[0m\u001b[1;33m,\u001b[0m \u001b[0my_pred\u001b[0m\u001b[1;33m)\u001b[0m\u001b[1;33m\u001b[0m\u001b[0m\n\u001b[0m\u001b[0;32m    254\u001b[0m     \u001b[1;32mif\u001b[0m \u001b[0my_type\u001b[0m \u001b[1;32mnot\u001b[0m \u001b[1;32min\u001b[0m \u001b[1;33m(\u001b[0m\u001b[1;34m\"binary\"\u001b[0m\u001b[1;33m,\u001b[0m \u001b[1;34m\"multiclass\"\u001b[0m\u001b[1;33m)\u001b[0m\u001b[1;33m:\u001b[0m\u001b[1;33m\u001b[0m\u001b[0m\n\u001b[0;32m    255\u001b[0m         \u001b[1;32mraise\u001b[0m \u001b[0mValueError\u001b[0m\u001b[1;33m(\u001b[0m\u001b[1;34m\"%s is not supported\"\u001b[0m \u001b[1;33m%\u001b[0m \u001b[0my_type\u001b[0m\u001b[1;33m)\u001b[0m\u001b[1;33m\u001b[0m\u001b[0m\n",
      "\u001b[1;32m~\\AppData\\Roaming\\Python\\Python37\\site-packages\\sklearn\\metrics\\classification.py\u001b[0m in \u001b[0;36m_check_targets\u001b[1;34m(y_true, y_pred)\u001b[0m\n\u001b[0;32m     79\u001b[0m     \u001b[1;32mif\u001b[0m \u001b[0mlen\u001b[0m\u001b[1;33m(\u001b[0m\u001b[0my_type\u001b[0m\u001b[1;33m)\u001b[0m \u001b[1;33m>\u001b[0m \u001b[1;36m1\u001b[0m\u001b[1;33m:\u001b[0m\u001b[1;33m\u001b[0m\u001b[0m\n\u001b[0;32m     80\u001b[0m         raise ValueError(\"Classification metrics can't handle a mix of {0} \"\n\u001b[1;32m---> 81\u001b[1;33m                          \"and {1} targets\".format(type_true, type_pred))\n\u001b[0m\u001b[0;32m     82\u001b[0m \u001b[1;33m\u001b[0m\u001b[0m\n\u001b[0;32m     83\u001b[0m     \u001b[1;31m# We can't have more than one value on y_type => The set is no more needed\u001b[0m\u001b[1;33m\u001b[0m\u001b[1;33m\u001b[0m\u001b[0m\n",
      "\u001b[1;31mValueError\u001b[0m: Classification metrics can't handle a mix of binary and continuous targets"
     ]
    }
   ],
   "source": [
    "model_name = knn\n",
    "print('With 20% Holdout: ' + str(model_name.fit(X_train, y_train).score(X_test, y_test)))\n",
    "print('Testing on Sample: ' + str(model_name.fit(selected_data, target).score(selected_data, target)))\n",
    "\n",
    "from sklearn.model_selection import cross_val_score \n",
    "print('\\n Cross Validation')\n",
    "print(cross_val_score(model_name, selected_data, target, cv=10))\n",
    "\n",
    "prediction = model_name.predict(X_test)\n",
    "from sklearn.metrics import confusion_matrix\n",
    "cnf_matrix = confusion_matrix(y_test, prediction)\n",
    "print('\\n Confusion Matrix')\n",
    "print(cnf_matrix)\n",
    "\n",
    "from sklearn.metrics import classification_report\n",
    "print('\\n Classification Report')\n",
    "print(classification_report(y_test, prediction))\n",
    "\n",
    "from sklearn.metrics import roc_auc_score\n",
    "print('\\n Roc Auc Score')\n",
    "print(roc_auc_score(y_test, prediction))\n",
    "print(\"--- %s seconds ---\" % (time.time() - start_time - reset_time))\n",
    "reset_time = time.time() - start_time"
   ]
  },
  {
   "cell_type": "code",
   "execution_count": null,
   "metadata": {},
   "outputs": [],
   "source": []
  }
 ],
 "metadata": {
  "kernelspec": {
   "display_name": "Python 3",
   "language": "python",
   "name": "python3"
  },
  "language_info": {
   "codemirror_mode": {
    "name": "ipython",
    "version": 3
   },
   "file_extension": ".py",
   "mimetype": "text/x-python",
   "name": "python",
   "nbconvert_exporter": "python",
   "pygments_lexer": "ipython3",
   "version": "3.7.0"
  }
 },
 "nbformat": 4,
 "nbformat_minor": 2
}
