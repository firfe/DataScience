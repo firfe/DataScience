{
 "cells": [
  {
   "cell_type": "code",
   "execution_count": 1,
   "metadata": {},
   "outputs": [
    {
     "data": {
      "text/html": [
       "<div>\n",
       "<style scoped>\n",
       "    .dataframe tbody tr th:only-of-type {\n",
       "        vertical-align: middle;\n",
       "    }\n",
       "\n",
       "    .dataframe tbody tr th {\n",
       "        vertical-align: top;\n",
       "    }\n",
       "\n",
       "    .dataframe thead th {\n",
       "        text-align: right;\n",
       "    }\n",
       "</style>\n",
       "<table border=\"1\" class=\"dataframe\">\n",
       "  <thead>\n",
       "    <tr style=\"text-align: right;\">\n",
       "      <th></th>\n",
       "      <th>Time</th>\n",
       "      <th>V1</th>\n",
       "      <th>V2</th>\n",
       "      <th>V3</th>\n",
       "      <th>V4</th>\n",
       "      <th>V5</th>\n",
       "      <th>V6</th>\n",
       "      <th>V7</th>\n",
       "      <th>V8</th>\n",
       "      <th>V9</th>\n",
       "      <th>...</th>\n",
       "      <th>V21</th>\n",
       "      <th>V22</th>\n",
       "      <th>V23</th>\n",
       "      <th>V24</th>\n",
       "      <th>V25</th>\n",
       "      <th>V26</th>\n",
       "      <th>V27</th>\n",
       "      <th>V28</th>\n",
       "      <th>Amount</th>\n",
       "      <th>Class</th>\n",
       "    </tr>\n",
       "  </thead>\n",
       "  <tbody>\n",
       "    <tr>\n",
       "      <th>0</th>\n",
       "      <td>0.0</td>\n",
       "      <td>-1.359807</td>\n",
       "      <td>-0.072781</td>\n",
       "      <td>2.536347</td>\n",
       "      <td>1.378155</td>\n",
       "      <td>-0.338321</td>\n",
       "      <td>0.462388</td>\n",
       "      <td>0.239599</td>\n",
       "      <td>0.098698</td>\n",
       "      <td>0.363787</td>\n",
       "      <td>...</td>\n",
       "      <td>-0.018307</td>\n",
       "      <td>0.277838</td>\n",
       "      <td>-0.110474</td>\n",
       "      <td>0.066928</td>\n",
       "      <td>0.128539</td>\n",
       "      <td>-0.189115</td>\n",
       "      <td>0.133558</td>\n",
       "      <td>-0.021053</td>\n",
       "      <td>149.62</td>\n",
       "      <td>0</td>\n",
       "    </tr>\n",
       "    <tr>\n",
       "      <th>1</th>\n",
       "      <td>0.0</td>\n",
       "      <td>1.191857</td>\n",
       "      <td>0.266151</td>\n",
       "      <td>0.166480</td>\n",
       "      <td>0.448154</td>\n",
       "      <td>0.060018</td>\n",
       "      <td>-0.082361</td>\n",
       "      <td>-0.078803</td>\n",
       "      <td>0.085102</td>\n",
       "      <td>-0.255425</td>\n",
       "      <td>...</td>\n",
       "      <td>-0.225775</td>\n",
       "      <td>-0.638672</td>\n",
       "      <td>0.101288</td>\n",
       "      <td>-0.339846</td>\n",
       "      <td>0.167170</td>\n",
       "      <td>0.125895</td>\n",
       "      <td>-0.008983</td>\n",
       "      <td>0.014724</td>\n",
       "      <td>2.69</td>\n",
       "      <td>0</td>\n",
       "    </tr>\n",
       "    <tr>\n",
       "      <th>2</th>\n",
       "      <td>1.0</td>\n",
       "      <td>-1.358354</td>\n",
       "      <td>-1.340163</td>\n",
       "      <td>1.773209</td>\n",
       "      <td>0.379780</td>\n",
       "      <td>-0.503198</td>\n",
       "      <td>1.800499</td>\n",
       "      <td>0.791461</td>\n",
       "      <td>0.247676</td>\n",
       "      <td>-1.514654</td>\n",
       "      <td>...</td>\n",
       "      <td>0.247998</td>\n",
       "      <td>0.771679</td>\n",
       "      <td>0.909412</td>\n",
       "      <td>-0.689281</td>\n",
       "      <td>-0.327642</td>\n",
       "      <td>-0.139097</td>\n",
       "      <td>-0.055353</td>\n",
       "      <td>-0.059752</td>\n",
       "      <td>378.66</td>\n",
       "      <td>0</td>\n",
       "    </tr>\n",
       "    <tr>\n",
       "      <th>3</th>\n",
       "      <td>1.0</td>\n",
       "      <td>-0.966272</td>\n",
       "      <td>-0.185226</td>\n",
       "      <td>1.792993</td>\n",
       "      <td>-0.863291</td>\n",
       "      <td>-0.010309</td>\n",
       "      <td>1.247203</td>\n",
       "      <td>0.237609</td>\n",
       "      <td>0.377436</td>\n",
       "      <td>-1.387024</td>\n",
       "      <td>...</td>\n",
       "      <td>-0.108300</td>\n",
       "      <td>0.005274</td>\n",
       "      <td>-0.190321</td>\n",
       "      <td>-1.175575</td>\n",
       "      <td>0.647376</td>\n",
       "      <td>-0.221929</td>\n",
       "      <td>0.062723</td>\n",
       "      <td>0.061458</td>\n",
       "      <td>123.50</td>\n",
       "      <td>0</td>\n",
       "    </tr>\n",
       "    <tr>\n",
       "      <th>4</th>\n",
       "      <td>2.0</td>\n",
       "      <td>-1.158233</td>\n",
       "      <td>0.877737</td>\n",
       "      <td>1.548718</td>\n",
       "      <td>0.403034</td>\n",
       "      <td>-0.407193</td>\n",
       "      <td>0.095921</td>\n",
       "      <td>0.592941</td>\n",
       "      <td>-0.270533</td>\n",
       "      <td>0.817739</td>\n",
       "      <td>...</td>\n",
       "      <td>-0.009431</td>\n",
       "      <td>0.798278</td>\n",
       "      <td>-0.137458</td>\n",
       "      <td>0.141267</td>\n",
       "      <td>-0.206010</td>\n",
       "      <td>0.502292</td>\n",
       "      <td>0.219422</td>\n",
       "      <td>0.215153</td>\n",
       "      <td>69.99</td>\n",
       "      <td>0</td>\n",
       "    </tr>\n",
       "    <tr>\n",
       "      <th>5</th>\n",
       "      <td>2.0</td>\n",
       "      <td>-0.425966</td>\n",
       "      <td>0.960523</td>\n",
       "      <td>1.141109</td>\n",
       "      <td>-0.168252</td>\n",
       "      <td>0.420987</td>\n",
       "      <td>-0.029728</td>\n",
       "      <td>0.476201</td>\n",
       "      <td>0.260314</td>\n",
       "      <td>-0.568671</td>\n",
       "      <td>...</td>\n",
       "      <td>-0.208254</td>\n",
       "      <td>-0.559825</td>\n",
       "      <td>-0.026398</td>\n",
       "      <td>-0.371427</td>\n",
       "      <td>-0.232794</td>\n",
       "      <td>0.105915</td>\n",
       "      <td>0.253844</td>\n",
       "      <td>0.081080</td>\n",
       "      <td>3.67</td>\n",
       "      <td>0</td>\n",
       "    </tr>\n",
       "    <tr>\n",
       "      <th>6</th>\n",
       "      <td>4.0</td>\n",
       "      <td>1.229658</td>\n",
       "      <td>0.141004</td>\n",
       "      <td>0.045371</td>\n",
       "      <td>1.202613</td>\n",
       "      <td>0.191881</td>\n",
       "      <td>0.272708</td>\n",
       "      <td>-0.005159</td>\n",
       "      <td>0.081213</td>\n",
       "      <td>0.464960</td>\n",
       "      <td>...</td>\n",
       "      <td>-0.167716</td>\n",
       "      <td>-0.270710</td>\n",
       "      <td>-0.154104</td>\n",
       "      <td>-0.780055</td>\n",
       "      <td>0.750137</td>\n",
       "      <td>-0.257237</td>\n",
       "      <td>0.034507</td>\n",
       "      <td>0.005168</td>\n",
       "      <td>4.99</td>\n",
       "      <td>0</td>\n",
       "    </tr>\n",
       "    <tr>\n",
       "      <th>7</th>\n",
       "      <td>7.0</td>\n",
       "      <td>-0.644269</td>\n",
       "      <td>1.417964</td>\n",
       "      <td>1.074380</td>\n",
       "      <td>-0.492199</td>\n",
       "      <td>0.948934</td>\n",
       "      <td>0.428118</td>\n",
       "      <td>1.120631</td>\n",
       "      <td>-3.807864</td>\n",
       "      <td>0.615375</td>\n",
       "      <td>...</td>\n",
       "      <td>1.943465</td>\n",
       "      <td>-1.015455</td>\n",
       "      <td>0.057504</td>\n",
       "      <td>-0.649709</td>\n",
       "      <td>-0.415267</td>\n",
       "      <td>-0.051634</td>\n",
       "      <td>-1.206921</td>\n",
       "      <td>-1.085339</td>\n",
       "      <td>40.80</td>\n",
       "      <td>0</td>\n",
       "    </tr>\n",
       "    <tr>\n",
       "      <th>8</th>\n",
       "      <td>7.0</td>\n",
       "      <td>-0.894286</td>\n",
       "      <td>0.286157</td>\n",
       "      <td>-0.113192</td>\n",
       "      <td>-0.271526</td>\n",
       "      <td>2.669599</td>\n",
       "      <td>3.721818</td>\n",
       "      <td>0.370145</td>\n",
       "      <td>0.851084</td>\n",
       "      <td>-0.392048</td>\n",
       "      <td>...</td>\n",
       "      <td>-0.073425</td>\n",
       "      <td>-0.268092</td>\n",
       "      <td>-0.204233</td>\n",
       "      <td>1.011592</td>\n",
       "      <td>0.373205</td>\n",
       "      <td>-0.384157</td>\n",
       "      <td>0.011747</td>\n",
       "      <td>0.142404</td>\n",
       "      <td>93.20</td>\n",
       "      <td>0</td>\n",
       "    </tr>\n",
       "    <tr>\n",
       "      <th>9</th>\n",
       "      <td>9.0</td>\n",
       "      <td>-0.338262</td>\n",
       "      <td>1.119593</td>\n",
       "      <td>1.044367</td>\n",
       "      <td>-0.222187</td>\n",
       "      <td>0.499361</td>\n",
       "      <td>-0.246761</td>\n",
       "      <td>0.651583</td>\n",
       "      <td>0.069539</td>\n",
       "      <td>-0.736727</td>\n",
       "      <td>...</td>\n",
       "      <td>-0.246914</td>\n",
       "      <td>-0.633753</td>\n",
       "      <td>-0.120794</td>\n",
       "      <td>-0.385050</td>\n",
       "      <td>-0.069733</td>\n",
       "      <td>0.094199</td>\n",
       "      <td>0.246219</td>\n",
       "      <td>0.083076</td>\n",
       "      <td>3.68</td>\n",
       "      <td>0</td>\n",
       "    </tr>\n",
       "  </tbody>\n",
       "</table>\n",
       "<p>10 rows × 31 columns</p>\n",
       "</div>"
      ],
      "text/plain": [
       "   Time        V1        V2        V3        V4        V5        V6        V7  \\\n",
       "0   0.0 -1.359807 -0.072781  2.536347  1.378155 -0.338321  0.462388  0.239599   \n",
       "1   0.0  1.191857  0.266151  0.166480  0.448154  0.060018 -0.082361 -0.078803   \n",
       "2   1.0 -1.358354 -1.340163  1.773209  0.379780 -0.503198  1.800499  0.791461   \n",
       "3   1.0 -0.966272 -0.185226  1.792993 -0.863291 -0.010309  1.247203  0.237609   \n",
       "4   2.0 -1.158233  0.877737  1.548718  0.403034 -0.407193  0.095921  0.592941   \n",
       "5   2.0 -0.425966  0.960523  1.141109 -0.168252  0.420987 -0.029728  0.476201   \n",
       "6   4.0  1.229658  0.141004  0.045371  1.202613  0.191881  0.272708 -0.005159   \n",
       "7   7.0 -0.644269  1.417964  1.074380 -0.492199  0.948934  0.428118  1.120631   \n",
       "8   7.0 -0.894286  0.286157 -0.113192 -0.271526  2.669599  3.721818  0.370145   \n",
       "9   9.0 -0.338262  1.119593  1.044367 -0.222187  0.499361 -0.246761  0.651583   \n",
       "\n",
       "         V8        V9  ...         V21       V22       V23       V24  \\\n",
       "0  0.098698  0.363787  ...   -0.018307  0.277838 -0.110474  0.066928   \n",
       "1  0.085102 -0.255425  ...   -0.225775 -0.638672  0.101288 -0.339846   \n",
       "2  0.247676 -1.514654  ...    0.247998  0.771679  0.909412 -0.689281   \n",
       "3  0.377436 -1.387024  ...   -0.108300  0.005274 -0.190321 -1.175575   \n",
       "4 -0.270533  0.817739  ...   -0.009431  0.798278 -0.137458  0.141267   \n",
       "5  0.260314 -0.568671  ...   -0.208254 -0.559825 -0.026398 -0.371427   \n",
       "6  0.081213  0.464960  ...   -0.167716 -0.270710 -0.154104 -0.780055   \n",
       "7 -3.807864  0.615375  ...    1.943465 -1.015455  0.057504 -0.649709   \n",
       "8  0.851084 -0.392048  ...   -0.073425 -0.268092 -0.204233  1.011592   \n",
       "9  0.069539 -0.736727  ...   -0.246914 -0.633753 -0.120794 -0.385050   \n",
       "\n",
       "        V25       V26       V27       V28  Amount  Class  \n",
       "0  0.128539 -0.189115  0.133558 -0.021053  149.62      0  \n",
       "1  0.167170  0.125895 -0.008983  0.014724    2.69      0  \n",
       "2 -0.327642 -0.139097 -0.055353 -0.059752  378.66      0  \n",
       "3  0.647376 -0.221929  0.062723  0.061458  123.50      0  \n",
       "4 -0.206010  0.502292  0.219422  0.215153   69.99      0  \n",
       "5 -0.232794  0.105915  0.253844  0.081080    3.67      0  \n",
       "6  0.750137 -0.257237  0.034507  0.005168    4.99      0  \n",
       "7 -0.415267 -0.051634 -1.206921 -1.085339   40.80      0  \n",
       "8  0.373205 -0.384157  0.011747  0.142404   93.20      0  \n",
       "9 -0.069733  0.094199  0.246219  0.083076    3.68      0  \n",
       "\n",
       "[10 rows x 31 columns]"
      ]
     },
     "execution_count": 1,
     "metadata": {},
     "output_type": "execute_result"
    }
   ],
   "source": [
    "import pandas as pd\n",
    "import numpy as np\n",
    "import scipy\n",
    "import matplotlib.pyplot as plt\n",
    "\n",
    "# This is the model we'll be using.\n",
    "from sklearn import tree\n",
    "\n",
    "# A convenience for displaying visualizations.\n",
    "from IPython.display import Image\n",
    "\n",
    "# Packages for rendering our tree.\n",
    "import pydotplus\n",
    "import graphviz\n",
    "\n",
    "%matplotlib inline\n",
    "\n",
    "data = pd.read_csv(\"creditcard.csv\")\n",
    "data.dropna(inplace=True)\n",
    "data.head(10)"
   ]
  },
  {
   "cell_type": "markdown",
   "metadata": {},
   "source": [
    "What is given to us:\n",
    "    Time: The different times in which transaction took place since the first transaction in the month\n",
    "    V1-28: PCA data based on some unknown variable that displays differences in behaviours of the client \n",
    "    Amount: How much money is transferred\n",
    "    Classs: 1 is fraud, 0 is no fraud\n",
    "    \n",
    "Purpose: Create a model that will allow the greatest accuracy in using said data to detect fraud"
   ]
  },
  {
   "cell_type": "markdown",
   "metadata": {},
   "source": [
    "# Explore Data\n",
    "\n",
    "We will be looking through some aspects of the data in order to detect what we need to transform about the data such as:\n",
    "\n",
    "    -The differences between the number of frauds and non-fraud transaction to see if we need to resample\n",
    "    \n",
    "    -If the amount transfered is directly cor-related to fraud (e.g. higher numbers has a higher chance of fraud)\n",
    "    \n",
    "    -Heat map of the V1-28 data to check if ther eis any co-linearlity of them, and thus may allow us to cherry pick features for more variance without using all the data (because the data set is huge, and we can shorten the run time)"
   ]
  },
  {
   "cell_type": "code",
   "execution_count": 2,
   "metadata": {},
   "outputs": [
    {
     "name": "stdout",
     "output_type": "stream",
     "text": [
      "Non-Fraud: 284315\n",
      "Fraud: 492\n",
      "Proportion: 577.88 : 1\n"
     ]
    },
    {
     "data": {
      "image/png": "[encoded data removed]",
      "text/plain": [
       "<Figure size 432x288 with 1 Axes>"
      ]
     },
     "metadata": {
      "needs_background": "light"
     },
     "output_type": "display_data"
    }
   ],
   "source": [
    "#Create a var graog that displays the number of class 0 and 1s in our data set\n",
    "class_size = data.Class.value_counts()\n",
    "print('Non-Fraud:', class_size[0])\n",
    "print('Fraud:', class_size[1])\n",
    "print('Proportion:', round(class_size[0] / class_size[1], 2), ': 1')\n",
    "\n",
    "class_size.plot(kind='bar', title='Fraud Spread');"
   ]
  },
  {
   "cell_type": "markdown",
   "metadata": {},
   "source": [
    "The difference between fradulent and non-fradulent transactions is humongous, this indicates that we will need to resample our data afterwards via. SMOTE, oversample or undersampling to get it towards a even number of fradulent and non-fradulent transactions for modeling purposes."
   ]
  },
  {
   "cell_type": "code",
   "execution_count": 3,
   "metadata": {},
   "outputs": [
    {
     "data": {
      "text/plain": [
       "Text(0, 0.5, 'Amount')"
      ]
     },
     "execution_count": 3,
     "metadata": {},
     "output_type": "execute_result"
    },
    {
     "data": {
      "image/png": "[encoded data removed]",
      "text/plain": [
       "<Figure size 432x288 with 1 Axes>"
      ]
     },
     "metadata": {
      "needs_background": "light"
     },
     "output_type": "display_data"
    }
   ],
   "source": [
    "#Display the amount and whether or not the transaction was fraud/non-fraud based on time\n",
    "plt.scatter(\n",
    "    data[data['Class'] == 0].Time,\n",
    "    data[data['Class'] == 0].Amount,\n",
    "    color='blue'\n",
    ")\n",
    "plt.scatter(\n",
    "    data[data['Class'] == 1].Time,\n",
    "    data[data['Class'] == 1].Amount,\n",
    "    color='red'\n",
    ")\n",
    "plt.legend(['Non-Fraud', 'Fraud'])\n",
    "plt.title('Fradulent based on Amount/Time')\n",
    "plt.xlabel('Time')\n",
    "plt.ylabel('Amount')"
   ]
  },
  {
   "cell_type": "markdown",
   "metadata": {},
   "source": [
    "Surprisingly, most fradulent transactions are of non-outlandish sums and are easily mixed with seemingly normal transactions. Personally I was expecting larger values of withdrawals for fradulent transactions but that does not seem to be the case."
   ]
  },
  {
   "cell_type": "code",
   "execution_count": 4,
   "metadata": {},
   "outputs": [
    {
     "data": {
      "image/png": "[encoded data removed]",
      "text/plain": [
       "<Figure size 864x648 with 2 Axes>"
      ]
     },
     "metadata": {
      "needs_background": "light"
     },
     "output_type": "display_data"
    }
   ],
   "source": [
    "import seaborn as sb\n",
    "#Create a heatmap to show general co-linearlity between features to see variance distribution\n",
    "corrmat = data.corr()\n",
    "f, ax = plt.subplots(figsize=(12, 9))\n",
    "sb.heatmap(corrmat, vmax=.8, vmin = 0, square=True)\n",
    "plt.show()"
   ]
  },
  {
   "cell_type": "markdown",
   "metadata": {},
   "source": [
    "This map shows that there is little to no cor-relation to the data, so each feature is important and contains alot of variance. This is good in terms of creating our model as with more variance, it is easier to achieve a more accurate model. "
   ]
  },
  {
   "cell_type": "markdown",
   "metadata": {},
   "source": [
    "# Resample"
   ]
  },
  {
   "cell_type": "code",
   "execution_count": 5,
   "metadata": {},
   "outputs": [
    {
     "data": {
      "text/plain": [
       "1    284315\n",
       "0    284315\n",
       "Name: Class, dtype: int64"
      ]
     },
     "execution_count": 5,
     "metadata": {},
     "output_type": "execute_result"
    }
   ],
   "source": [
    "from sklearn.utils import resample\n",
    "# Separate majority and minority classes\n",
    "data_majority = data[data.Class==0]\n",
    "data_minority = data[data.Class==1]\n",
    " \n",
    "# Upsample minority class\n",
    "data_minority_upsampled = resample(data_minority, \n",
    "                                 replace=True,     # sample with replacement\n",
    "                                 n_samples=284315)    # to match majority class\n",
    " \n",
    "# Combine majority class with upsampled minority class\n",
    "data_upsampled = pd.concat([data_majority, data_minority_upsampled])\n",
    " \n",
    "# Display new class counts\n",
    "data_upsampled.Class.value_counts()"
   ]
  },
  {
   "cell_type": "markdown",
   "metadata": {},
   "source": [
    "# Create our Test Data"
   ]
  },
  {
   "cell_type": "code",
   "execution_count": 6,
   "metadata": {},
   "outputs": [],
   "source": [
    "#Create our target and data set\n",
    "target = data_upsampled.Class.copy()\n",
    "selected_data = data_upsampled.drop(['Class'], axis=1)"
   ]
  },
  {
   "cell_type": "code",
   "execution_count": 7,
   "metadata": {},
   "outputs": [],
   "source": [
    "#Create our testing and training data set, with spread of 70% in training and 30% in testing\n",
    "from sklearn.model_selection import train_test_split\n",
    "X_train, X_test, y_train, y_test = train_test_split(selected_data, target, test_size=0.3, random_state=20)"
   ]
  },
  {
   "cell_type": "markdown",
   "metadata": {},
   "source": [
    "# Decision Tree"
   ]
  },
  {
   "cell_type": "code",
   "execution_count": 8,
   "metadata": {},
   "outputs": [
    {
     "name": "stdout",
     "output_type": "stream",
     "text": [
      "--- 0.8541889190673828 seconds ---\n"
     ]
    }
   ],
   "source": [
    "import warnings\n",
    "warnings.simplefilter(action='ignore', category=FutureWarning)\n",
    "\n",
    "import time\n",
    "start_time = time.time()\n",
    "reset_time = time.time() - start_time\n",
    "\n",
    "#This initiates the DecisionTreeClassifier with the attributes that we want\n",
    "decision_tree = tree.DecisionTreeClassifier(\n",
    "    criterion='entropy',\n",
    "    max_features = 3, #Use 3 of the features\n",
    "    max_depth = 3 #Tree goes 3 branches down\n",
    ")\n",
    "#Fits the decisiontree onto the data\n",
    "decision_tree.fit(X_train,y_train)\n",
    "\n",
    "dot_data = tree.export_graphviz(\n",
    "    decision_tree, out_file=None,\n",
    "    feature_names=X_train.columns,\n",
    "    class_names=['Fraud: Yes', 'Fraud: No'],\n",
    "    filled=True\n",
    ")\n",
    "graph = pydotplus.graph_from_dot_data(dot_data)\n",
    "Image(graph.create_png())\n",
    "print(\"--- %s seconds ---\" % (time.time() - start_time - reset_time))\n",
    "reset_time = time.time() - start_time"
   ]
  },
  {
   "cell_type": "markdown",
   "metadata": {},
   "source": [
    "# Examine Decision Tree"
   ]
  },
  {
   "cell_type": "code",
   "execution_count": 9,
   "metadata": {},
   "outputs": [
    {
     "name": "stdout",
     "output_type": "stream",
     "text": [
      "With 20% Holdout: 0.9190686386578267\n",
      "Testing on Sample: 0.9172889224979336\n",
      "\n",
      " Cross Validation\n",
      "[0.89205824 0.90804375 0.9164146  0.92654403 0.91062887 0.92724491\n",
      " 0.9151982  0.87620907 0.9088495  0.92126552]\n",
      "\n",
      " Confusion Matrix\n",
      "[[78280  7230]\n",
      " [ 6797 78282]]\n",
      "\n",
      " Classification Report\n",
      "              precision    recall  f1-score   support\n",
      "\n",
      "           0       0.92      0.92      0.92     85510\n",
      "           1       0.92      0.92      0.92     85079\n",
      "\n",
      "   micro avg       0.92      0.92      0.92    170589\n",
      "   macro avg       0.92      0.92      0.92    170589\n",
      "weighted avg       0.92      0.92      0.92    170589\n",
      "\n",
      "\n",
      " Roc Auc Score\n",
      "0.9177790154017139\n",
      "--- 10.012850284576416 seconds ---\n"
     ]
    }
   ],
   "source": [
    "model_name = decision_tree\n",
    "print('With 20% Holdout: ' + str(model_name.fit(X_train, y_train).score(X_test, y_test)))\n",
    "print('Testing on Sample: ' + str(model_name.fit(selected_data, target).score(selected_data, target)))\n",
    "\n",
    "from sklearn.model_selection import cross_val_score \n",
    "print('\\n Cross Validation')\n",
    "print(cross_val_score(model_name, selected_data, target, cv=10))\n",
    "\n",
    "prediction = model_name.predict(X_test)\n",
    "from sklearn.metrics import confusion_matrix\n",
    "cnf_matrix = confusion_matrix(y_test, prediction)\n",
    "print('\\n Confusion Matrix')\n",
    "print(cnf_matrix)\n",
    "\n",
    "from sklearn.metrics import classification_report\n",
    "print('\\n Classification Report')\n",
    "print(classification_report(y_test, prediction))\n",
    "\n",
    "from sklearn.metrics import roc_auc_score\n",
    "print('\\n Roc Auc Score')\n",
    "print(roc_auc_score(y_test, prediction))\n",
    "print(\"--- %s seconds ---\" % (time.time() - start_time - reset_time))\n",
    "reset_time = time.time() - start_time"
   ]
  },
  {
   "cell_type": "markdown",
   "metadata": {},
   "source": [
    "With making our decision tree, we were able to achieve a accuracy of roughly 91%. This is really good given the run time 0.78 seconds and a evaluation time of around 10 seconds. \n",
    "The cross validation result is also fairly consistent, hovering around 90-91% average. However there is one small outlier at about 87% which is a small indicator that our model may be overfitting slightly. The recall and precision score of 92% are both good indicators that there is a low amount of false positive/negative errors in our data set. \n",
    "The slight inconsistencies in the accuracy of our corss validation makes sense because by manually creating a deicision tree, it becomes very difficult to gauge where the best boundries are in terms of features used and tree depths. With such a large data set, it is especially more difficult to gauge how much should be set to create a accurate result, and as can be seen it causes many problems. Let us now see if the random forest tree will provide a better result."
   ]
  },
  {
   "cell_type": "markdown",
   "metadata": {},
   "source": [
    "# Random Decision Tree"
   ]
  },
  {
   "cell_type": "code",
   "execution_count": 10,
   "metadata": {},
   "outputs": [
    {
     "name": "stdout",
     "output_type": "stream",
     "text": [
      "Best Accuracy:  0.9392750998012768\n",
      "--- 108.70168972015381 seconds ---\n"
     ]
    }
   ],
   "source": [
    "from sklearn import ensemble\n",
    "#Create a generic random forest tree\n",
    "rfc = ensemble.RandomForestClassifier(\n",
    "    criterion='entropy',\n",
    "    max_features = 'auto',\n",
    "    max_depth = 2 ,\n",
    "    n_estimators = 2,\n",
    "    n_jobs=-1\n",
    "    )\n",
    "\n",
    "from sklearn.model_selection import GridSearchCV\n",
    "parameters = {\n",
    "    'n_estimators': [1, 2, 3],\n",
    "    'max_features': ['auto', 'sqrt', 'log2'],\n",
    "    'max_depth' : [1, 2, 3],\n",
    "    'criterion': ['gini', 'entropy'],\n",
    "    'bootstrap': [True, False]\n",
    "}\n",
    "gd_sr = GridSearchCV(estimator=rfc,  \n",
    "                     param_grid=parameters,\n",
    "                     scoring='accuracy',\n",
    "                     cv=5,\n",
    "                     n_jobs=-1)\n",
    "\n",
    "gd_sr.fit(X_train, y_train)  \n",
    "best_result = gd_sr.best_score_  \n",
    "print(\"Best Accuracy: \", best_result)  \n",
    "print(\"--- %s seconds ---\" % (time.time() - start_time - reset_time))\n",
    "reset_time = time.time() - start_time"
   ]
  },
  {
   "cell_type": "markdown",
   "metadata": {},
   "source": [
    "# Examine Random Decision Tree"
   ]
  },
  {
   "cell_type": "code",
   "execution_count": 11,
   "metadata": {},
   "outputs": [
    {
     "name": "stdout",
     "output_type": "stream",
     "text": [
      "With 20% Holdout: 0.9333134023881962\n",
      "Testing on Sample: 0.9353692207586656\n",
      "\n",
      " Cross Validation\n",
      "[0.8971933  0.93839688 0.92738815 0.93837929 0.94479811 0.93255601\n",
      " 0.9347719  0.92237347 0.92888045 0.93582709]\n",
      "\n",
      " Confusion Matrix\n",
      "[[84599   911]\n",
      " [ 9958 75121]]\n",
      "\n",
      " Classification Report\n",
      "              precision    recall  f1-score   support\n",
      "\n",
      "           0       0.89      0.99      0.94     85510\n",
      "           1       0.99      0.88      0.93     85079\n",
      "\n",
      "   micro avg       0.94      0.94      0.94    170589\n",
      "   macro avg       0.94      0.94      0.94    170589\n",
      "weighted avg       0.94      0.94      0.94    170589\n",
      "\n",
      "\n",
      " Roc Auc Score\n",
      "0.9361510581656476\n",
      "--- 1540.4576680660248 seconds ---\n"
     ]
    }
   ],
   "source": [
    "model_name = gd_sr\n",
    "print('With 20% Holdout: ' + str(model_name.fit(X_train, y_train).score(X_test, y_test)))\n",
    "print('Testing on Sample: ' + str(model_name.fit(selected_data, target).score(selected_data, target)))\n",
    "\n",
    "from sklearn.model_selection import cross_val_score \n",
    "print('\\n Cross Validation')\n",
    "print(cross_val_score(model_name, selected_data, target, cv=10))\n",
    "\n",
    "prediction = model_name.predict(X_test)\n",
    "from sklearn.metrics import confusion_matrix\n",
    "cnf_matrix = confusion_matrix(y_test, prediction)\n",
    "print('\\n Confusion Matrix')\n",
    "print(cnf_matrix)\n",
    "\n",
    "from sklearn.metrics import classification_report\n",
    "print('\\n Classification Report')\n",
    "print(classification_report(y_test, prediction))\n",
    "\n",
    "from sklearn.metrics import roc_auc_score\n",
    "print('\\n Roc Auc Score')\n",
    "print(roc_auc_score(y_test, prediction))\n",
    "print(\"--- %s seconds ---\" % (time.time() - start_time - reset_time))\n",
    "reset_time = time.time() - start_time"
   ]
  },
  {
   "cell_type": "markdown",
   "metadata": {},
   "source": [
    "With this random forest tree we can observe a higher accuracy then the decision tree at 93.5%. However in terms of running time, the random forest required roughly 1000x the time of the decision tree we first created. \n",
    "Although it did take longer to compute however, we can see that there is less overfitting (based on the cross val score) as the accuracy range are all above 92% except for one instance of 89%. We can also note that there is also alot less errors in our confusion matrix and a notably higher f1-score. There is however a fluctuation of false positive/negative errors where the precision score of '0' becomes the recall score of '1'. This means that our random forest tree is overfitting a bit.\n",
    "It is possible to make this accuracy even stronger if I put in larger parameters (such as a larger depth and a higher n-estimator) but due to the already large run time we are observing with generally lowish settings, the amount of time it would take to run it on my machine would become unrealistic."
   ]
  },
  {
   "cell_type": "markdown",
   "metadata": {},
   "source": [
    "# Logistic Regression"
   ]
  },
  {
   "cell_type": "code",
   "execution_count": 12,
   "metadata": {},
   "outputs": [
    {
     "name": "stdout",
     "output_type": "stream",
     "text": [
      "\n",
      " Accuracy by fraud status\n",
      "col_0       0       1\n",
      "Class                \n",
      "0      190190    8615\n",
      "1       24134  175102\n",
      "\n",
      " Percentage accuracy\n",
      "0.917724556013074\n",
      "\n",
      " Model accuracy\n",
      "0.9183065731084654\n",
      "--- 3.843242645263672 seconds ---\n"
     ]
    }
   ],
   "source": [
    "from sklearn import linear_model\n",
    "from sklearn.linear_model import LogisticRegression\n",
    "# Set up the regression model to predict defaults using all other\n",
    "# variables as features.\n",
    "regr = LogisticRegression(solver='lbfgs')\n",
    "regrfit = regr.fit(X_train, y_train)\n",
    "\n",
    "# Calculate accuracy. First, get probability that each row will be admitted.\n",
    "pred_statsmod = regrfit.predict(X_train)\n",
    "\n",
    "# Code admission as 1 if probability is greater than .5.\n",
    "pred_y_statsmod = np.where(pred_statsmod < .5, 0, 1)\n",
    "\n",
    "# Accuracy table.\n",
    "table = pd.crosstab(y_train, pred_y_statsmod)\n",
    "\n",
    "print('\\n Accuracy by fraud status')\n",
    "print(table)\n",
    "print('\\n Percentage accuracy')\n",
    "print((table.iloc[0,0] + table.iloc[1,1]) / (table.sum().sum()))\n",
    "\n",
    "# Use score method to get accuracy of model\n",
    "print('\\n Model accuracy')\n",
    "score = regr.score(X_test, y_test)\n",
    "print(score)\n",
    "print(\"--- %s seconds ---\" % (time.time() - start_time - reset_time))\n",
    "reset_time = time.time() - start_time"
   ]
  },
  {
   "cell_type": "markdown",
   "metadata": {},
   "source": [
    "# Examine Logistic Regression"
   ]
  },
  {
   "cell_type": "code",
   "execution_count": 13,
   "metadata": {},
   "outputs": [
    {
     "name": "stdout",
     "output_type": "stream",
     "text": [
      "With 20% Holdout: 0.9183065731084654\n",
      "Testing on Sample: 0.9179571953642967\n",
      "\n",
      " Cross Validation\n",
      "[0.87315349 0.92664955 0.93693725 0.91703011 0.94511466 0.92979494\n",
      " 0.94101509 0.94615033 0.94792656 0.95832014]\n",
      "\n",
      " Confusion Matrix\n",
      "[[81770  3740]\n",
      " [10184 74895]]\n",
      "\n",
      " Classification Report\n",
      "              precision    recall  f1-score   support\n",
      "\n",
      "           0       0.89      0.96      0.92     85510\n",
      "           1       0.95      0.88      0.91     85079\n",
      "\n",
      "   micro avg       0.92      0.92      0.92    170589\n",
      "   macro avg       0.92      0.92      0.92    170589\n",
      "weighted avg       0.92      0.92      0.92    170589\n",
      "\n",
      "\n",
      " Roc Auc Score\n",
      "0.9182809559035261\n",
      "--- 59.982433557510376 seconds ---\n"
     ]
    }
   ],
   "source": [
    "import warnings\n",
    "warnings.filterwarnings(\"ignore\")\n",
    "\n",
    "model_name = regrfit\n",
    "print('With 20% Holdout: ' + str(model_name.fit(X_train, y_train).score(X_test, y_test)))\n",
    "print('Testing on Sample: ' + str(model_name.fit(selected_data, target).score(selected_data, target)))\n",
    "\n",
    "from sklearn.model_selection import cross_val_score \n",
    "print('\\n Cross Validation')\n",
    "print(cross_val_score(model_name, selected_data, target, cv=10))\n",
    "\n",
    "prediction = model_name.predict(X_test)\n",
    "from sklearn.metrics import confusion_matrix\n",
    "cnf_matrix = confusion_matrix(y_test, prediction)\n",
    "print('\\n Confusion Matrix')\n",
    "print(cnf_matrix)\n",
    "\n",
    "from sklearn.metrics import classification_report\n",
    "print('\\n Classification Report')\n",
    "print(classification_report(y_test, prediction))\n",
    "\n",
    "from sklearn.metrics import roc_auc_score\n",
    "print('\\n Roc Auc Score')\n",
    "print(roc_auc_score(y_test, prediction))\n",
    "print(\"--- %s seconds ---\" % (time.time() - start_time - reset_time))\n",
    "reset_time = time.time() - start_time"
   ]
  },
  {
   "cell_type": "markdown",
   "metadata": {},
   "source": [
    "Using cross evaluation we can test for how much overfitting there is in our data based on how varied the results are. Out of the 10 tests, there is one instance where there is 87% accuracy while the rest are around 95%. The precision and recall values also display similar behavior as witnessed in the random forest tree, which shows a bit more overfitting problems. In terms of run time, while it is more then the deicision tree while also being much lower then the random forest tree while retaining just as much accuracy and less overfitting making this the better model between the two.\n",
    "The confusion matrix shows us that while there are a larger amount of misses in comparison to the decision tree and random forest tree, the classification report shows us a f1 score similar to the decision tree. So there are similar amounts of false positives and false negatives overall between the two models. "
   ]
  },
  {
   "cell_type": "markdown",
   "metadata": {},
   "source": [
    "# Gradient Boosting"
   ]
  },
  {
   "cell_type": "code",
   "execution_count": 14,
   "metadata": {},
   "outputs": [
    {
     "data": {
      "text/plain": [
       "GradientBoostingClassifier(criterion='friedman_mse', init=None,\n",
       "              learning_rate=0.1, loss='deviance', max_depth=2,\n",
       "              max_features=None, max_leaf_nodes=None,\n",
       "              min_impurity_decrease=0.0, min_impurity_split=None,\n",
       "              min_samples_leaf=1, min_samples_split=2,\n",
       "              min_weight_fraction_leaf=0.0, n_estimators=10,\n",
       "              n_iter_no_change=None, presort='auto', random_state=None,\n",
       "              subsample=1.0, tol=0.0001, validation_fraction=0.1,\n",
       "              verbose=0, warm_start=False)"
      ]
     },
     "execution_count": 14,
     "metadata": {},
     "output_type": "execute_result"
    }
   ],
   "source": [
    "params = {'n_estimators': 10,\n",
    "          'max_depth': 2,\n",
    "          'loss': 'deviance'}\n",
    "\n",
    "# Initialize and fit the model.\n",
    "clf = ensemble.GradientBoostingClassifier(**params)\n",
    "clf.fit(X_train, y_train)"
   ]
  },
  {
   "cell_type": "code",
   "execution_count": 15,
   "metadata": {},
   "outputs": [
    {
     "name": "stdout",
     "output_type": "stream",
     "text": [
      "With 20% Holdout: 0.9363030441587675\n",
      "Testing on Sample: 0.936475388213777\n",
      "\n",
      " Cross Validation\n",
      "[0.93521384 0.94008512 0.94075338 0.94131612 0.9399796  0.93816609\n",
      " 0.9316591  0.9281594  0.93187014 0.93394534]\n",
      "\n",
      " Confusion Matrix\n",
      "[[83784  1726]\n",
      " [ 8957 76122]]\n",
      "\n",
      " Classification Report\n",
      "              precision    recall  f1-score   support\n",
      "\n",
      "           0       0.90      0.98      0.94     85510\n",
      "           1       0.98      0.89      0.93     85079\n",
      "\n",
      "   micro avg       0.94      0.94      0.94    170589\n",
      "   macro avg       0.94      0.94      0.94    170589\n",
      "weighted avg       0.94      0.94      0.94    170589\n",
      "\n",
      "\n",
      " Roc Auc Score\n",
      "0.9372683014461225\n",
      "--- 143.7502462863922 seconds ---\n"
     ]
    }
   ],
   "source": [
    "import warnings\n",
    "warnings.filterwarnings(\"ignore\")\n",
    "\n",
    "model_name = clf\n",
    "print('With 20% Holdout: ' + str(model_name.fit(X_train, y_train).score(X_test, y_test)))\n",
    "print('Testing on Sample: ' + str(model_name.fit(selected_data, target).score(selected_data, target)))\n",
    "\n",
    "from sklearn.model_selection import cross_val_score \n",
    "print('\\n Cross Validation')\n",
    "print(cross_val_score(model_name, selected_data, target, cv=10))\n",
    "\n",
    "prediction = model_name.predict(X_test)\n",
    "from sklearn.metrics import confusion_matrix\n",
    "cnf_matrix = confusion_matrix(y_test, prediction)\n",
    "print('\\n Confusion Matrix')\n",
    "print(cnf_matrix)\n",
    "\n",
    "from sklearn.metrics import classification_report\n",
    "print('\\n Classification Report')\n",
    "print(classification_report(y_test, prediction))\n",
    "\n",
    "from sklearn.metrics import roc_auc_score\n",
    "print('\\n Roc Auc Score')\n",
    "print(roc_auc_score(y_test, prediction))\n",
    "print(\"--- %s seconds ---\" % (time.time() - start_time - reset_time))\n",
    "reset_time = time.time() - start_time"
   ]
  },
  {
   "cell_type": "markdown",
   "metadata": {},
   "source": [
    "Using simple Gradient Boosting we can see a accuracy of 93%. We can also obeserve little to no overfitting on our test set, as compared to the previous three models this is by far the most consistent in terms of accuracy. The time it takes to run this model is roughly the same as the random forest tree and while it fits this data correctly, there danger of using a boosted model is that there is a chance that the model overfits this data set. So we will not know of its performance until we test it on data that is outside of this data set. \n",
    "Despite that, the confusion matrix and classification report both show that there is less false positive and false negative errors then in logistic regression and the decision tree, and similar results to the random forest model.\n",
    "Just like the random forest model, it is possible to make this model even more accurate, however at the cost of more run time."
   ]
  },
  {
   "cell_type": "markdown",
   "metadata": {},
   "source": [
    "# Ridge Regression"
   ]
  },
  {
   "cell_type": "code",
   "execution_count": 16,
   "metadata": {},
   "outputs": [
    {
     "name": "stdout",
     "output_type": "stream",
     "text": [
      "--- 0.28607988357543945 seconds ---\n"
     ]
    }
   ],
   "source": [
    "ridgeregr = linear_model.Ridge(alpha=20, fit_intercept=False) \n",
    "ridgeregrfit = ridgeregr.fit(X_train, y_train)\n",
    "\n",
    "# Calculate accuracy. First, get probability that each row will be admitted.\n",
    "pred_statsmod = ridgeregrfit.predict(X_train)\n",
    "\n",
    "# Code admission as 1 if probability is greater than .5.\n",
    "pred_y_statsmod = np.where(pred_statsmod < .5, 0, 1)\n",
    "\n",
    "# Accuracy table.\n",
    "ridgetable = pd.crosstab(y_train, pred_y_statsmod)\n",
    "print(\"--- %s seconds ---\" % (time.time() - start_time - reset_time))\n",
    "reset_time = time.time() - start_time"
   ]
  },
  {
   "cell_type": "markdown",
   "metadata": {},
   "source": [
    "# Examine Ridge Regression"
   ]
  },
  {
   "cell_type": "code",
   "execution_count": 17,
   "metadata": {},
   "outputs": [
    {
     "name": "stdout",
     "output_type": "stream",
     "text": [
      "Ridge Regression Score\n",
      "0.6276890476060728\n",
      "\n",
      "With 20% Holdout: 0.6276890476060728\n",
      "Testing on Sample: 0.6240146967404072\n",
      "\n",
      " Accuracy by admission status\n",
      "col_0       0       1\n",
      "Class                \n",
      "0      196321    2484\n",
      "1       35433  163803\n",
      "\n",
      " Roc Auc Score\n",
      "0.9372683014461225\n",
      "--- 0.4411029815673828 seconds ---\n"
     ]
    }
   ],
   "source": [
    "import warnings\n",
    "warnings.filterwarnings(\"ignore\")\n",
    "\n",
    "print('Ridge Regression Score')\n",
    "print(ridgeregrfit.score(X_test, y_test))\n",
    "\n",
    "model_name = ridgeregr\n",
    "print('\\nWith 20% Holdout: ' + str(model_name.fit(X_train, y_train).score(X_test, y_test)))\n",
    "print('Testing on Sample: ' + str(model_name.fit(selected_data, target).score(selected_data, target)))\n",
    "\n",
    "print('\\n Accuracy by admission status')\n",
    "print(ridgetable)\n",
    "\n",
    "from sklearn.metrics import roc_auc_score\n",
    "print('\\n Roc Auc Score')\n",
    "print(roc_auc_score(y_test, prediction))\n",
    "print(\"--- %s seconds ---\" % (time.time() - start_time - reset_time))\n",
    "reset_time = time.time() - start_time"
   ]
  },
  {
   "cell_type": "markdown",
   "metadata": {},
   "source": [
    "In Ridge Regression we can observe a much lower accuracy and a low runtime. There is also a larger amount of false postive and negative errors in the confusion matrix. \n",
    "This is most likely due to the regularization that Ridge Regression applies to the model. Because all of our data is relevatively independent from each other and carriess alot of variance, trying to get rid of the variance through regularization actually gets rid alot of detail necessary for our model to make correct assumptions. Thus Ridge Regression isn't the best model to use in this situation as we want to use all the features given to us. "
   ]
  },
  {
   "cell_type": "markdown",
   "metadata": {},
   "source": [
    "# Lasso Regression"
   ]
  },
  {
   "cell_type": "code",
   "execution_count": 18,
   "metadata": {},
   "outputs": [
    {
     "name": "stdout",
     "output_type": "stream",
     "text": [
      "--- 0.4551270008087158 seconds ---\n"
     ]
    }
   ],
   "source": [
    "lassregr = linear_model.Lasso(alpha=.35)\n",
    "lassregrfit = lassregr.fit(X_train, y_train)\n",
    "\n",
    "# Calculate accuracy. First, get probability that each row will be admitted.\n",
    "pred_statsmod = lassregrfit.predict(X_train)\n",
    "\n",
    "# Code admission as 1 if probability is greater than .5.\n",
    "pred_y_statsmod = np.where(pred_statsmod < .5, 0, 1)\n",
    "\n",
    "# Accuracy table.\n",
    "lasstable = pd.crosstab(y_train, pred_y_statsmod)\n",
    "print(\"--- %s seconds ---\" % (time.time() - start_time - reset_time))\n",
    "reset_time = time.time() - start_time"
   ]
  },
  {
   "cell_type": "markdown",
   "metadata": {},
   "source": [
    "# Examine Lasso Regresssion"
   ]
  },
  {
   "cell_type": "code",
   "execution_count": 19,
   "metadata": {},
   "outputs": [
    {
     "name": "stdout",
     "output_type": "stream",
     "text": [
      "Lasso Regression Score\n",
      "0.5581186953722763\n",
      "\n",
      "With 20% Holdout: 0.5581186953722763\n",
      "Testing on Sample: 0.5564964008865674\n",
      "\n",
      " Accuracy by admission status\n",
      "col_0       0       1\n",
      "Class                \n",
      "0      197390    1415\n",
      "1       38736  160500\n",
      "\n",
      " Roc Auc Score\n",
      "0.9372683014461225\n",
      "--- 1.0882413387298584 seconds ---\n"
     ]
    }
   ],
   "source": [
    "import warnings\n",
    "warnings.filterwarnings(\"ignore\")\n",
    "\n",
    "print('Lasso Regression Score')\n",
    "print(lassregrfit.score(X_test, y_test))\n",
    "\n",
    "model_name = lassregr\n",
    "print('\\nWith 20% Holdout: ' + str(model_name.fit(X_train, y_train).score(X_test, y_test)))\n",
    "print('Testing on Sample: ' + str(model_name.fit(selected_data, target).score(selected_data, target)))\n",
    "\n",
    "print('\\n Accuracy by admission status')\n",
    "print(lasstable)\n",
    "\n",
    "from sklearn.metrics import roc_auc_score\n",
    "print('\\n Roc Auc Score')\n",
    "print(roc_auc_score(y_test, prediction))\n",
    "print(\"--- %s seconds ---\" % (time.time() - start_time - reset_time))\n",
    "reset_time = time.time() - start_time"
   ]
  },
  {
   "cell_type": "markdown",
   "metadata": {},
   "source": [
    "Very similar to Ridge Regression, it has low accuracy and also a large amount of false positive/negative errors. Lasso Regression's accuracy score is even lower the Ridge Regression, because it completely gets rid of some of the features that are higher then the lambda. But as said before, we need those features because they are independent from the other features, as well as carry alot of variance."
   ]
  },
  {
   "cell_type": "markdown",
   "metadata": {},
   "source": [
    "# SVM"
   ]
  },
  {
   "cell_type": "code",
   "execution_count": null,
   "metadata": {},
   "outputs": [],
   "source": [
    "from sklearn.svm import SVC  \n",
    "svclassifier = SVC(kernel='linear')\n",
    "svclassifier.fit(X_train, y_train)"
   ]
  },
  {
   "cell_type": "code",
   "execution_count": null,
   "metadata": {},
   "outputs": [],
   "source": [
    "y_pred = svclassifier.predict(X_test)\n",
    "print(confusion_matrix(y_test,y_pred))  \n",
    "print(classification_report(y_test,y_pred))  "
   ]
  },
  {
   "cell_type": "markdown",
   "metadata": {},
   "source": [
    "# KNN Classifier"
   ]
  },
  {
   "cell_type": "code",
   "execution_count": null,
   "metadata": {},
   "outputs": [],
   "source": [
    "from sklearn import neighbors\n",
    "knn = neighbors.KNeighborsRegressor(n_neighbors=7)\n",
    "knn.fit(X_train, y_train)"
   ]
  },
  {
   "cell_type": "code",
   "execution_count": null,
   "metadata": {},
   "outputs": [],
   "source": [
    "model_name = knn\n",
    "print('With 20% Holdout: ' + str(model_name.fit(X_train, y_train).score(X_test, y_test)))\n",
    "print('Testing on Sample: ' + str(model_name.fit(selected_data, target).score(selected_data, target)))\n",
    "\n",
    "from sklearn.model_selection import cross_val_score \n",
    "print('\\n Cross Validation')\n",
    "print(cross_val_score(model_name, selected_data, target, cv=10))\n",
    "\n",
    "prediction = model_name.predict(X_test)\n",
    "from sklearn.metrics import confusion_matrix\n",
    "cnf_matrix = confusion_matrix(y_test, prediction)\n",
    "print('\\n Confusion Matrix')\n",
    "print(cnf_matrix)\n",
    "\n",
    "from sklearn.metrics import classification_report\n",
    "print('\\n Classification Report')\n",
    "print(classification_report(y_test, prediction))\n",
    "\n",
    "from sklearn.metrics import roc_auc_score\n",
    "print('\\n Roc Auc Score')\n",
    "print(roc_auc_score(y_test, prediction))\n",
    "print(\"--- %s seconds ---\" % (time.time() - start_time - reset_time))\n",
    "reset_time = time.time() - start_time"
   ]
  },
  {
   "cell_type": "markdown",
   "metadata": {},
   "source": []
  },
  {
   "cell_type": "markdown",
   "metadata": {},
   "source": [
    "# Conclusion"
   ]
  },
  {
   "cell_type": "markdown",
   "metadata": {},
   "source": [
    "Out of the models tested, in terms of accruacy Gradient Boosting was the best model to use for its accuracy. However without more data it is difficult to tell if it is overfitting due to the way the model is created. Gradient Boosting also has a large run time, and will only get larger the bigger the data set becomes. Logistic Regression is therefore the second best model, as it still retains a large amount of accuracy, is easy to implement, and only takes seconds to model instead of the minutes for Gradient Boosting and Random Forest. "
   ]
  },
  {
   "cell_type": "code",
   "execution_count": null,
   "metadata": {},
   "outputs": [],
   "source": []
  }
 ],
 "metadata": {
  "kernelspec": {
   "display_name": "Python 3",
   "language": "python",
   "name": "python3"
  },
  "language_info": {
   "codemirror_mode": {
    "name": "ipython",
    "version": 3
   },
   "file_extension": ".py",
   "mimetype": "text/x-python",
   "name": "python",
   "nbconvert_exporter": "python",
   "pygments_lexer": "ipython3",
   "version": "3.7.0"
  }
 },
 "nbformat": 4,
 "nbformat_minor": 2
}
