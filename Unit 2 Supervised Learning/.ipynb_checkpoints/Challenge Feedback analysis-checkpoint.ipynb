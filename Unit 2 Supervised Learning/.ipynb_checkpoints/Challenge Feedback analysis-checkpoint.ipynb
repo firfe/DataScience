{
 "cells": [
  {
   "cell_type": "code",
   "execution_count": 1,
   "metadata": {},
   "outputs": [
    {
     "name": "stdout",
     "output_type": "stream",
     "text": [
      "                                               message  rating\n",
      "0    So there is no way for me to plug it in here i...       0\n",
      "1                          Good case, Excellent value.       1\n",
      "2                               Great for the jawbone.       1\n",
      "3    Tied to charger for conversations lasting more...       0\n",
      "4                                    The mic is great.       1\n",
      "5    I have to jiggle the plug to get it to line up...       0\n",
      "6    If you have several dozen or several hundred c...       0\n",
      "7          If you are Razr owner...you must have this!       1\n",
      "8                  Needless to say, I wasted my money.       0\n",
      "9                     What a waste of money and time!.       0\n",
      "10                     And the sound quality is great.       1\n",
      "11   He was very impressed when going from the orig...       1\n",
      "12   If the two were seperated by a mere 5+ ft I st...       0\n",
      "13                            Very good quality though       1\n",
      "14   The design is very odd, as the ear \"clip\" is n...       0\n",
      "15   Highly recommend for any one who has a blue to...       1\n",
      "16                 I advise EVERYONE DO NOT BE FOOLED!       0\n",
      "17                                    So Far So Good!.       1\n",
      "18                                       Works great!.       1\n",
      "19   It clicks into place in a way that makes you w...       0\n",
      "20   I went on Motorola's website and followed all ...       0\n",
      "21   I bought this to use with my Kindle Fire and a...       1\n",
      "22            The commercials are the most misleading.       0\n",
      "23   I have yet to run this new battery below two b...       1\n",
      "24   I bought it for my mother and she had a proble...       0\n",
      "25                Great Pocket PC / phone combination.       1\n",
      "26   I've owned this phone for 7 months now and can...       1\n",
      "27   I didn't think that the instructions provided ...       0\n",
      "28   People couldnt hear me talk and I had to pull ...       0\n",
      "29                                Doesn't hold charge.       0\n",
      "..                                                 ...     ...\n",
      "970  I plugged it in only to find out not a darn th...       0\n",
      "971                                 Excellent product.       1\n",
      "972                        Earbud piece breaks easily.       0\n",
      "973                                     Lousy product.       0\n",
      "974  This phone tries very hard to do everything bu...       0\n",
      "975  It is the best charger I have seen on the mark...       1\n",
      "976                                  SWEETEST PHONE!!!       1\n",
      "977             :-)Oh, the charger seems to work fine.       1\n",
      "978  It fits so securely that the ear hook does not...       1\n",
      "979                                 Not enough volume.       0\n",
      "980                Echo Problem....Very unsatisfactory       0\n",
      "981  you could only take 2 videos at a time and the...       0\n",
      "982                            don't waste your money.       0\n",
      "983  I am going to have to be the first to negative...       0\n",
      "984  Adapter does not provide enough charging current.       0\n",
      "985  There was so much hype over this phone that I ...       0\n",
      "986  You also cannot take pictures with it in the c...       0\n",
      "987                            Phone falls out easily.       0\n",
      "988  It didn't work, people can not hear me when I ...       0\n",
      "989  The text messaging feature is really tricky to...       0\n",
      "990  I'm really disappointed all I have now is a ch...       0\n",
      "991                                Painful on the ear.       0\n",
      "992                   Lasted one day and then blew up.       0\n",
      "993                                      disappointed.       0\n",
      "994                              Kind of flops around.       0\n",
      "995  The screen does get smudged easily because it ...       0\n",
      "996  What a piece of junk.. I lose more calls on th...       0\n",
      "997                       Item Does Not Match Picture.       0\n",
      "998  The only thing that disappoint me is the infra...       0\n",
      "999  You can not answer calls with the unit, never ...       0\n",
      "\n",
      "[1000 rows x 2 columns]\n"
     ]
    }
   ],
   "source": [
    "%matplotlib inline\n",
    "import numpy as np\n",
    "import pandas as pd\n",
    "import scipy\n",
    "import sklearn\n",
    "import matplotlib.pyplot as plt\n",
    "import seaborn as sns\n",
    "\n",
    "ama_path = (\"amazon_cells_labelled.txt\")\n",
    "ama = pd.read_csv(ama_path, delimiter= '\\t', header=None)\n",
    "ama.columns = ['message', 'rating']\n",
    "print(ama)"
   ]
  },
  {
   "cell_type": "code",
   "execution_count": 2,
   "metadata": {},
   "outputs": [],
   "source": [
    "keywords = ['good', 'excellent', 'great', 'awesome', 'fine', 'highly', 'love']\n",
    "\n",
    "for key in keywords:\n",
    "    # Note that we add spaces around the key so that we're getting the word,\n",
    "    # not just pattern matching.\n",
    "    ama[str(key)] = ama.message.str.contains(\n",
    "        str(key) + ' ',\n",
    "        case=False\n",
    "    )"
   ]
  },
  {
   "cell_type": "code",
   "execution_count": 3,
   "metadata": {},
   "outputs": [
    {
     "name": "stdout",
     "output_type": "stream",
     "text": [
      "                                               message  rating   good  \\\n",
      "0    So there is no way for me to plug it in here i...       0  False   \n",
      "1                          Good case, Excellent value.       1   True   \n",
      "2                               Great for the jawbone.       1  False   \n",
      "3    Tied to charger for conversations lasting more...       0  False   \n",
      "4                                    The mic is great.       1  False   \n",
      "5    I have to jiggle the plug to get it to line up...       0  False   \n",
      "6    If you have several dozen or several hundred c...       0  False   \n",
      "7          If you are Razr owner...you must have this!       1  False   \n",
      "8                  Needless to say, I wasted my money.       0  False   \n",
      "9                     What a waste of money and time!.       0  False   \n",
      "10                     And the sound quality is great.       1  False   \n",
      "11   He was very impressed when going from the orig...       1  False   \n",
      "12   If the two were seperated by a mere 5+ ft I st...       0  False   \n",
      "13                            Very good quality though       1   True   \n",
      "14   The design is very odd, as the ear \"clip\" is n...       0  False   \n",
      "15   Highly recommend for any one who has a blue to...       1  False   \n",
      "16                 I advise EVERYONE DO NOT BE FOOLED!       0  False   \n",
      "17                                    So Far So Good!.       1  False   \n",
      "18                                       Works great!.       1  False   \n",
      "19   It clicks into place in a way that makes you w...       0  False   \n",
      "20   I went on Motorola's website and followed all ...       0  False   \n",
      "21   I bought this to use with my Kindle Fire and a...       1  False   \n",
      "22            The commercials are the most misleading.       0  False   \n",
      "23   I have yet to run this new battery below two b...       1  False   \n",
      "24   I bought it for my mother and she had a proble...       0  False   \n",
      "25                Great Pocket PC / phone combination.       1  False   \n",
      "26   I've owned this phone for 7 months now and can...       1  False   \n",
      "27   I didn't think that the instructions provided ...       0  False   \n",
      "28   People couldnt hear me talk and I had to pull ...       0  False   \n",
      "29                                Doesn't hold charge.       0  False   \n",
      "..                                                 ...     ...    ...   \n",
      "970  I plugged it in only to find out not a darn th...       0  False   \n",
      "971                                 Excellent product.       1  False   \n",
      "972                        Earbud piece breaks easily.       0  False   \n",
      "973                                     Lousy product.       0  False   \n",
      "974  This phone tries very hard to do everything bu...       0  False   \n",
      "975  It is the best charger I have seen on the mark...       1  False   \n",
      "976                                  SWEETEST PHONE!!!       1  False   \n",
      "977             :-)Oh, the charger seems to work fine.       1  False   \n",
      "978  It fits so securely that the ear hook does not...       1  False   \n",
      "979                                 Not enough volume.       0  False   \n",
      "980                Echo Problem....Very unsatisfactory       0  False   \n",
      "981  you could only take 2 videos at a time and the...       0  False   \n",
      "982                            don't waste your money.       0  False   \n",
      "983  I am going to have to be the first to negative...       0  False   \n",
      "984  Adapter does not provide enough charging current.       0  False   \n",
      "985  There was so much hype over this phone that I ...       0  False   \n",
      "986  You also cannot take pictures with it in the c...       0  False   \n",
      "987                            Phone falls out easily.       0  False   \n",
      "988  It didn't work, people can not hear me when I ...       0  False   \n",
      "989  The text messaging feature is really tricky to...       0  False   \n",
      "990  I'm really disappointed all I have now is a ch...       0  False   \n",
      "991                                Painful on the ear.       0  False   \n",
      "992                   Lasted one day and then blew up.       0  False   \n",
      "993                                      disappointed.       0  False   \n",
      "994                              Kind of flops around.       0  False   \n",
      "995  The screen does get smudged easily because it ...       0  False   \n",
      "996  What a piece of junk.. I lose more calls on th...       0  False   \n",
      "997                       Item Does Not Match Picture.       0  False   \n",
      "998  The only thing that disappoint me is the infra...       0  False   \n",
      "999  You can not answer calls with the unit, never ...       0  False   \n",
      "\n",
      "     excellent  great  awesome   fine  highly   love  \n",
      "0        False  False    False  False   False  False  \n",
      "1         True  False    False  False   False  False  \n",
      "2        False   True    False  False   False  False  \n",
      "3        False  False    False  False   False  False  \n",
      "4        False  False    False  False   False  False  \n",
      "5        False  False    False  False   False  False  \n",
      "6        False  False    False  False   False  False  \n",
      "7        False  False    False  False   False  False  \n",
      "8        False  False    False  False   False  False  \n",
      "9        False  False    False  False   False  False  \n",
      "10       False  False    False  False   False  False  \n",
      "11       False  False    False  False   False  False  \n",
      "12       False  False    False  False   False  False  \n",
      "13       False  False    False  False   False  False  \n",
      "14       False  False    False  False   False  False  \n",
      "15       False  False    False  False    True  False  \n",
      "16       False  False    False  False   False  False  \n",
      "17       False  False    False  False   False  False  \n",
      "18       False  False    False  False   False  False  \n",
      "19       False  False    False  False   False  False  \n",
      "20       False  False    False  False   False  False  \n",
      "21       False  False    False  False   False  False  \n",
      "22       False  False    False  False   False  False  \n",
      "23       False  False    False  False   False  False  \n",
      "24       False  False    False  False   False  False  \n",
      "25       False   True    False  False   False  False  \n",
      "26       False  False    False  False   False  False  \n",
      "27       False  False    False  False   False  False  \n",
      "28       False  False    False  False   False  False  \n",
      "29       False  False    False  False   False  False  \n",
      "..         ...    ...      ...    ...     ...    ...  \n",
      "970      False  False    False  False   False  False  \n",
      "971       True  False    False  False   False  False  \n",
      "972      False  False    False  False   False  False  \n",
      "973      False  False    False  False   False  False  \n",
      "974      False  False    False  False   False  False  \n",
      "975      False  False    False  False   False  False  \n",
      "976      False  False    False  False   False  False  \n",
      "977      False  False    False  False   False  False  \n",
      "978      False  False    False  False   False  False  \n",
      "979      False  False    False  False   False  False  \n",
      "980      False  False    False  False   False  False  \n",
      "981      False  False    False  False   False  False  \n",
      "982      False  False    False  False   False  False  \n",
      "983      False  False    False  False   False  False  \n",
      "984      False  False    False  False   False  False  \n",
      "985      False  False    False  False   False  False  \n",
      "986      False  False    False  False   False  False  \n",
      "987      False  False    False  False   False  False  \n",
      "988      False  False    False  False   False  False  \n",
      "989      False  False    False  False   False  False  \n",
      "990      False  False    False  False   False  False  \n",
      "991      False  False    False  False   False  False  \n",
      "992      False  False    False  False   False  False  \n",
      "993      False  False    False  False   False  False  \n",
      "994      False  False    False  False   False  False  \n",
      "995      False  False    False  False   False  False  \n",
      "996      False  False    False  False   False  False  \n",
      "997      False  False    False  False   False  False  \n",
      "998      False  False    False  False   False  False  \n",
      "999      False  False    False  False   False  False  \n",
      "\n",
      "[1000 rows x 9 columns]\n"
     ]
    }
   ],
   "source": [
    "print(ama)"
   ]
  },
  {
   "cell_type": "code",
   "execution_count": 4,
   "metadata": {},
   "outputs": [
    {
     "data": {
      "text/plain": [
       "<matplotlib.axes._subplots.AxesSubplot at 0x2710a1d2710>"
      ]
     },
     "execution_count": 4,
     "metadata": {},
     "output_type": "execute_result"
    },
    {
     "data": {
      "image/png": "[encoded data removed]",
      "text/plain": [
       "<Figure size 432x288 with 2 Axes>"
      ]
     },
     "metadata": {
      "needs_background": "light"
     },
     "output_type": "display_data"
    }
   ],
   "source": [
    "sns.heatmap(ama.corr())"
   ]
  },
  {
   "cell_type": "code",
   "execution_count": 5,
   "metadata": {
    "scrolled": true
   },
   "outputs": [
    {
     "name": "stdout",
     "output_type": "stream",
     "text": [
      "      good  excellent  great  awesome   fine  highly   love\n",
      "0    False      False  False    False  False   False  False\n",
      "1     True       True  False    False  False   False  False\n",
      "2    False      False   True    False  False   False  False\n",
      "3    False      False  False    False  False   False  False\n",
      "4    False      False  False    False  False   False  False\n",
      "5    False      False  False    False  False   False  False\n",
      "6    False      False  False    False  False   False  False\n",
      "7    False      False  False    False  False   False  False\n",
      "8    False      False  False    False  False   False  False\n",
      "9    False      False  False    False  False   False  False\n",
      "10   False      False  False    False  False   False  False\n",
      "11   False      False  False    False  False   False  False\n",
      "12   False      False  False    False  False   False  False\n",
      "13    True      False  False    False  False   False  False\n",
      "14   False      False  False    False  False   False  False\n",
      "15   False      False  False    False  False    True  False\n",
      "16   False      False  False    False  False   False  False\n",
      "17   False      False  False    False  False   False  False\n",
      "18   False      False  False    False  False   False  False\n",
      "19   False      False  False    False  False   False  False\n",
      "20   False      False  False    False  False   False  False\n",
      "21   False      False  False    False  False   False  False\n",
      "22   False      False  False    False  False   False  False\n",
      "23   False      False  False    False  False   False  False\n",
      "24   False      False  False    False  False   False  False\n",
      "25   False      False   True    False  False   False  False\n",
      "26   False      False  False    False  False   False  False\n",
      "27   False      False  False    False  False   False  False\n",
      "28   False      False  False    False  False   False  False\n",
      "29   False      False  False    False  False   False  False\n",
      "..     ...        ...    ...      ...    ...     ...    ...\n",
      "970  False      False  False    False  False   False  False\n",
      "971  False       True  False    False  False   False  False\n",
      "972  False      False  False    False  False   False  False\n",
      "973  False      False  False    False  False   False  False\n",
      "974  False      False  False    False  False   False  False\n",
      "975  False      False  False    False  False   False  False\n",
      "976  False      False  False    False  False   False  False\n",
      "977  False      False  False    False  False   False  False\n",
      "978  False      False  False    False  False   False  False\n",
      "979  False      False  False    False  False   False  False\n",
      "980  False      False  False    False  False   False  False\n",
      "981  False      False  False    False  False   False  False\n",
      "982  False      False  False    False  False   False  False\n",
      "983  False      False  False    False  False   False  False\n",
      "984  False      False  False    False  False   False  False\n",
      "985  False      False  False    False  False   False  False\n",
      "986  False      False  False    False  False   False  False\n",
      "987  False      False  False    False  False   False  False\n",
      "988  False      False  False    False  False   False  False\n",
      "989  False      False  False    False  False   False  False\n",
      "990  False      False  False    False  False   False  False\n",
      "991  False      False  False    False  False   False  False\n",
      "992  False      False  False    False  False   False  False\n",
      "993  False      False  False    False  False   False  False\n",
      "994  False      False  False    False  False   False  False\n",
      "995  False      False  False    False  False   False  False\n",
      "996  False      False  False    False  False   False  False\n",
      "997  False      False  False    False  False   False  False\n",
      "998  False      False  False    False  False   False  False\n",
      "999  False      False  False    False  False   False  False\n",
      "\n",
      "[1000 rows x 7 columns]\n"
     ]
    }
   ],
   "source": [
    "newdata = ama[keywords]\n",
    "target = ama['rating']\n",
    "print(newdata)"
   ]
  },
  {
   "cell_type": "code",
   "execution_count": 6,
   "metadata": {},
   "outputs": [
    {
     "data": {
      "text/plain": [
       "BernoulliNB(alpha=1.0, binarize=0.0, class_prior=None, fit_prior=True)"
      ]
     },
     "execution_count": 6,
     "metadata": {},
     "output_type": "execute_result"
    }
   ],
   "source": [
    "# Our data is binary / boolean, so we're importing the Bernoulli classifier.\n",
    "from sklearn.naive_bayes import BernoulliNB\n",
    "\n",
    "# Instantiate our model and store it in a new variable.\n",
    "bnb = BernoulliNB()\n",
    "\n",
    "# Fit our model to the data.\n",
    "bnb.fit(newdata, target)"
   ]
  },
  {
   "cell_type": "code",
   "execution_count": 7,
   "metadata": {},
   "outputs": [
    {
     "name": "stdout",
     "output_type": "stream",
     "text": [
      "Number of mislabeled points out of a total 1000 points : 353\n"
     ]
    }
   ],
   "source": [
    "# Classify, storing the result in a new variable.\n",
    "y_pred = bnb.predict(newdata)\n",
    "\n",
    "# Display our results.\n",
    "print(\"Number of mislabeled points out of a total {} points : {}\".format(\n",
    "    newdata.shape[0],\n",
    "    (target != y_pred).sum()\n",
    "))"
   ]
  },
  {
   "cell_type": "code",
   "execution_count": 10,
   "metadata": {},
   "outputs": [
    {
     "name": "stdout",
     "output_type": "stream",
     "text": [
      "                                               message  rating\n",
      "0                             Wow... Loved this place.       1\n",
      "1                                   Crust is not good.       0\n",
      "2            Not tasty and the texture was just nasty.       0\n",
      "3    Stopped by during the late May bank holiday of...       1\n",
      "4    The selection on the menu was great and so wer...       1\n",
      "5       Now I am getting angry and I want my damn pho.       0\n",
      "6                Honeslty it didn't taste THAT fresh.)       0\n",
      "7    The potatoes were like rubber and you could te...       0\n",
      "8                            The fries were great too.       1\n",
      "9                                       A great touch.       1\n",
      "10                            Service was very prompt.       1\n",
      "11                                  Would not go back.       0\n",
      "12   The cashier had no care what so ever on what I...       0\n",
      "13   I tried the Cape Cod ravoli, chicken,with cran...       1\n",
      "14   I was disgusted because I was pretty sure that...       0\n",
      "15   I was shocked because no signs indicate cash o...       0\n",
      "16                                 Highly recommended.       1\n",
      "17              Waitress was a little slow in service.       0\n",
      "18   This place is not worth your time, let alone V...       0\n",
      "19                                did not like at all.       0\n",
      "20                                 The Burrittos Blah!       0\n",
      "21                                  The food, amazing.       1\n",
      "22                               Service is also cute.       1\n",
      "23   I could care less... The interior is just beau...       1\n",
      "24                                  So they performed.       1\n",
      "25   That's right....the red velvet cake.....ohhh t...       1\n",
      "26          - They never brought a salad we asked for.       0\n",
      "27   This hole in the wall has great Mexican street...       1\n",
      "28   Took an hour to get our food only 4 tables in ...       0\n",
      "29                   The worst was the salmon sashimi.       0\n",
      "..                                                 ...     ...\n",
      "970  I immediately said I wanted to talk to the man...       0\n",
      "971                    The ambiance isn't much better.       0\n",
      "972  Unfortunately, it only set us up for disapppoi...       0\n",
      "973                              The food wasn't good.       0\n",
      "974  Your servers suck, wait, correction, our serve...       0\n",
      "975      What happened next was pretty....off putting.       0\n",
      "976  too bad cause I know it's family owned, I real...       0\n",
      "977               Overpriced for what you are getting.       0\n",
      "978               I vomited in the bathroom mid lunch.       0\n",
      "979  I kept looking at the time and it had soon bec...       0\n",
      "980  I have been to very few places to eat that und...       0\n",
      "981  We started with the tuna sashimi which was bro...       0\n",
      "982                            Food was below average.       0\n",
      "983  It sure does beat the nachos at the movies but...       0\n",
      "984       All in all, Ha Long Bay was a bit of a flop.       0\n",
      "985  The problem I have is that they charge $11.99 ...       0\n",
      "986  Shrimp- When I unwrapped it (I live only 1/2 a...       0\n",
      "987     It lacked flavor, seemed undercooked, and dry.       0\n",
      "988  It really is impressive that the place hasn't ...       0\n",
      "989  I would avoid this place if you are staying in...       0\n",
      "990  The refried beans that came with my meal were ...       0\n",
      "991         Spend your money and time some place else.       0\n",
      "992  A lady at the table next to us found a live gr...       0\n",
      "993            the presentation of the food was awful.       0\n",
      "994           I can't tell you how disappointed I was.       0\n",
      "995  I think food should have flavor and texture an...       0\n",
      "996                           Appetite instantly gone.       0\n",
      "997  Overall I was not impressed and would not go b...       0\n",
      "998  The whole experience was underwhelming, and I ...       0\n",
      "999  Then, as if I hadn't wasted enough of my life ...       0\n",
      "\n",
      "[1000 rows x 2 columns]\n"
     ]
    }
   ],
   "source": [
    "yelp_path = (\"yelp_labelled.txt\")\n",
    "yelp = pd.read_csv(yelp_path, delimiter= '\\t', header=None)\n",
    "yelp.columns = ['message', 'rating']\n",
    "print(yelp)"
   ]
  },
  {
   "cell_type": "code",
   "execution_count": 11,
   "metadata": {},
   "outputs": [
    {
     "name": "stdout",
     "output_type": "stream",
     "text": [
      "Number of mislabeled points out of a total 1000 points : 388\n"
     ]
    }
   ],
   "source": [
    "keywords = ['good', 'excellent', 'great', 'awesome', 'fine', 'highly', 'love']\n",
    "\n",
    "for key in keywords:\n",
    "    # Note that we add spaces around the key so that we're getting the word,\n",
    "    # not just pattern matching.\n",
    "    yelp[str(key)] = yelp.message.str.contains(\n",
    "        str(key) + ' ',\n",
    "        case=False\n",
    "    )\n",
    "\n",
    "ynewdata = yelp[keywords]\n",
    "ytarget = yelp['rating']\n",
    "\n",
    "# Our data is binary / boolean, so we're importing the Bernoulli classifier.\n",
    "from sklearn.naive_bayes import BernoulliNB\n",
    "\n",
    "# Instantiate our model and store it in a new variable.\n",
    "bnb = BernoulliNB()\n",
    "\n",
    "# Fit our model to the data.\n",
    "bnb.fit(ynewdata, ytarget)\n",
    "\n",
    "# Classify, storing the result in a new variable.\n",
    "yy_pred = bnb.predict(ynewdata)\n",
    "\n",
    "# Display our results.\n",
    "print(\"Number of mislabeled points out of a total {} points : {}\".format(\n",
    "    ynewdata.shape[0],\n",
    "    (ytarget != yy_pred).sum()\n",
    "))"
   ]
  },
  {
   "cell_type": "markdown",
   "metadata": {},
   "source": [
    "I chose generic words to compare with the string and then used that to compare to the rating to tell if my assumption is correct. Overall the amount of mislabeled points is roughly the same between both data sets. "
   ]
  }
 ],
 "metadata": {
  "kernelspec": {
   "display_name": "Python 3",
   "language": "python",
   "name": "python3"
  },
  "language_info": {
   "codemirror_mode": {
    "name": "ipython",
    "version": 3
   },
   "file_extension": ".py",
   "mimetype": "text/x-python",
   "name": "python",
   "nbconvert_exporter": "python",
   "pygments_lexer": "ipython3",
   "version": "3.7.0"
  }
 },
 "nbformat": 4,
 "nbformat_minor": 2
}
