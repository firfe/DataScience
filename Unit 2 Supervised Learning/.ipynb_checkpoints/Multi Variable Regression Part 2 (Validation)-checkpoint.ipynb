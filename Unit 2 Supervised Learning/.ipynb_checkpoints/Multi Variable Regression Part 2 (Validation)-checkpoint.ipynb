{
 "cells": [
  {
   "cell_type": "code",
   "execution_count": 1,
   "metadata": {},
   "outputs": [],
   "source": [
    "import pandas as pd\n",
    "import math\n",
    "import numpy as np\n",
    "import matplotlib.pyplot as plt\n",
    "import warnings\n",
    "from sklearn import linear_model\n",
    "\n",
    "#Allows us to do PCA\n",
    "from sklearn.decomposition import PCA\n",
    "from sklearn import preprocessing\n",
    "\n",
    "import statsmodels.api as sm\n",
    "import statsmodels.formula.api as smf\n",
    "from statsmodels.sandbox.regression.predstd import wls_prediction_std\n",
    "\n",
    "data = pd.read_excel('table_8_offenses_known_to_law_enforcement_new_york_by_city_2013.xls',skiprows=4)\n",
    "data.columns = ['City', 'Population', 'Violent Crime', 'Murder', 'Rape1', 'Rape2', 'Robbery', 'Aggravated Assault', 'Property Crime', 'Burglary', 'Larceny-theft', 'Motorvehicle Theft', 'Arson']\n",
    "#Its called washdata but is actually the 2014 data set of new york\n",
    "washdata = pd.read_excel('Table_8_Offenses_Known_to_Law_Enforcement_by_New_York_by_City_2014.xls',skiprows=4)\n",
    "washdata.columns = ['City', 'Population', 'Violent Crime', 'Murder', 'Rape1', 'Rape2', 'Robbery', 'Aggravated Assault', 'Property Crime', 'Burglary', 'Larceny-theft', 'Motorvehicle Theft', 'Arson']\n",
    "washdata.head(20)\n",
    "data.isnull().any() #Is NaN present?\n",
    "data = data.fillna(method='ffill') #propagate non-null values forward or backward.\n",
    "washdata.isnull().any() \n",
    "washdata = data.fillna(method='ffill')"
   ]
  },
  {
   "cell_type": "code",
   "execution_count": 2,
   "metadata": {},
   "outputs": [],
   "source": [
    "#Create 2 new columns, for whether or not data for murder and robbery are present\n",
    "data['MurderExists'] = data['Murder'].apply(lambda x: 0 if x == 0.0 else 1)\n",
    "data['RobberyExists'] = data['Robbery'].apply(lambda x: 0 if x == 0.0 else 1)\n",
    "washdata['MurderExists'] = washdata['Murder'].apply(lambda x: 0 if x == 0.0 else 1)\n",
    "washdata['RobberyExists'] = washdata['Robbery'].apply(lambda x: 0 if x == 0.0 else 1)"
   ]
  },
  {
   "cell_type": "code",
   "execution_count": 8,
   "metadata": {},
   "outputs": [],
   "source": [
    " #Gets rid of all rows where there is no murder/robbery for both data sets so we dont have to deal with NaN and 0s\n",
    "newdata = data[~(data[['MurderExists','RobberyExists']] == 0).any(axis=1)]\n",
    "newwashdata = washdata[~(washdata[['MurderExists','RobberyExists']] == 0).any(axis=1)]"
   ]
  },
  {
   "cell_type": "code",
   "execution_count": 9,
   "metadata": {},
   "outputs": [
    {
     "name": "stdout",
     "output_type": "stream",
     "text": [
      "[9.99999986e-01 1.38475056e-08 5.80984393e-12]\n",
      "\n",
      "Coefficients: \n",
      " [[1.73072834e+02 1.59493532e+00 6.33126084e-03]]\n",
      "\n",
      "Intercept: \n",
      " [292.07751661]\n",
      "\n",
      "R-squared:\n",
      "0.9991119530847022\n"
     ]
    }
   ],
   "source": [
    "pca = PCA(n_components=3)\n",
    "pca.fit(newdata[['Murder','Robbery', 'Population']])\n",
    "print(pca.explained_variance_ratio_)\n",
    "\n",
    "regr = linear_model.LinearRegression()\n",
    "Y = newdata['Property Crime'].values.reshape(-1, 1)\n",
    "X = newdata[['Murder','Robbery', 'Population']]\n",
    "regr.fit(X, Y)\n",
    "\n",
    "print('\\nCoefficients: \\n', regr.coef_)\n",
    "print('\\nIntercept: \\n', regr.intercept_)\n",
    "print('\\nR-squared:')\n",
    "print(regr.score(X, Y))"
   ]
  },
  {
   "cell_type": "code",
   "execution_count": 11,
   "metadata": {},
   "outputs": [
    {
     "name": "stdout",
     "output_type": "stream",
     "text": [
      "[9.99999986e-01 1.38475056e-08 5.80984393e-12]\n",
      "\n",
      "Coefficients: \n",
      " [[1.73072834e+02 1.59493532e+00 6.33126084e-03]]\n",
      "\n",
      "Intercept: \n",
      " [292.07751661]\n",
      "\n",
      "R-squared:\n",
      "0.9991119530847022\n"
     ]
    }
   ],
   "source": [
    "pca = PCA(n_components=3)\n",
    "pca.fit(newwashdata[['Murder','Robbery', 'Population']])\n",
    "print(pca.explained_variance_ratio_)\n",
    "\n",
    "wregr = linear_model.LinearRegression()\n",
    "wY = newwashdata['Property Crime'].values.reshape(-1, 1)\n",
    "wX = newwashdata[['Murder','Robbery', 'Population']]\n",
    "wregr.fit(wX, wY)\n",
    "\n",
    "print('\\nCoefficients: \\n', wregr.coef_)\n",
    "print('\\nIntercept: \\n', wregr.intercept_)\n",
    "print('\\nR-squared:')\n",
    "print(wregr.score(wX, wY))"
   ]
  },
  {
   "cell_type": "code",
   "execution_count": null,
   "metadata": {},
   "outputs": [],
   "source": []
  },
  {
   "cell_type": "markdown",
   "metadata": {},
   "source": [
    "dat= sm.datasets.get_rdataset(\"Property Crime\", \"Murder\", \"Robbery\").data\n",
    "linear_formula = 'Property ~ Murder+Robbery'\n",
    "lm = smf.ols(formula=linear_formula, data=dat).fit()\n",
    "lm.params\n",
    "lm.pvalues\n",
    "lm.rsquared"
   ]
  },
  {
   "cell_type": "code",
   "execution_count": null,
   "metadata": {},
   "outputs": [],
   "source": []
  }
 ],
 "metadata": {
  "kernelspec": {
   "display_name": "Python 3",
   "language": "python",
   "name": "python3"
  },
  "language_info": {
   "codemirror_mode": {
    "name": "ipython",
    "version": 3
   },
   "file_extension": ".py",
   "mimetype": "text/x-python",
   "name": "python",
   "nbconvert_exporter": "python",
   "pygments_lexer": "ipython3",
   "version": "3.7.0"
  }
 },
 "nbformat": 4,
 "nbformat_minor": 2
}
