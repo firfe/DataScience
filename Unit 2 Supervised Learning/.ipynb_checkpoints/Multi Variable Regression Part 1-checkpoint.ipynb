{
 "cells": [
  {
   "cell_type": "code",
   "execution_count": 1,
   "metadata": {},
   "outputs": [],
   "source": [
    "import pandas as pd\n",
    "import math\n",
    "import seaborn as sb\n",
    "import numpy as np\n",
    "import matplotlib.pyplot as plt\n",
    "import warnings\n",
    "from sklearn import linear_model\n",
    "import statsmodels.formula.api as smf\n",
    "\n",
    "data = pd.read_excel('table_8_offenses_known_to_law_enforcement_new_york_by_city_2013.xls',skiprows=4)\n",
    "data.columns = ['City', 'Population', 'Violent Crime', 'Murder', 'Rape1', 'Rape2', 'Robbery', 'Aggravated Assault', 'Property Crime', 'Burglary', 'Larceny-theft', 'Motorvehicle Theft', 'Arson']\n",
    "#data.dropna(inplace=True)\n",
    "data.isnull().any() #Is NaN present?\n",
    "data = data.fillna(method='ffill') #propagate non-null values forward or backward."
   ]
  },
  {
   "cell_type": "code",
   "execution_count": 2,
   "metadata": {},
   "outputs": [
    {
     "data": {
      "text/html": [
       "<div>\n",
       "<style scoped>\n",
       "    .dataframe tbody tr th:only-of-type {\n",
       "        vertical-align: middle;\n",
       "    }\n",
       "\n",
       "    .dataframe tbody tr th {\n",
       "        vertical-align: top;\n",
       "    }\n",
       "\n",
       "    .dataframe thead th {\n",
       "        text-align: right;\n",
       "    }\n",
       "</style>\n",
       "<table border=\"1\" class=\"dataframe\">\n",
       "  <thead>\n",
       "    <tr style=\"text-align: right;\">\n",
       "      <th></th>\n",
       "      <th>City</th>\n",
       "      <th>Population</th>\n",
       "      <th>Violent Crime</th>\n",
       "      <th>Murder</th>\n",
       "      <th>Rape1</th>\n",
       "      <th>Rape2</th>\n",
       "      <th>Robbery</th>\n",
       "      <th>Aggravated Assault</th>\n",
       "      <th>Property Crime</th>\n",
       "      <th>Burglary</th>\n",
       "      <th>Larceny-theft</th>\n",
       "      <th>Motorvehicle Theft</th>\n",
       "      <th>Arson</th>\n",
       "      <th>MurderExists</th>\n",
       "      <th>RobberyExists</th>\n",
       "    </tr>\n",
       "  </thead>\n",
       "  <tbody>\n",
       "    <tr>\n",
       "      <th>0</th>\n",
       "      <td>Adams Village</td>\n",
       "      <td>1861.0</td>\n",
       "      <td>0.0</td>\n",
       "      <td>0.0</td>\n",
       "      <td>NaN</td>\n",
       "      <td>0.0</td>\n",
       "      <td>0.0</td>\n",
       "      <td>0.0</td>\n",
       "      <td>12.0</td>\n",
       "      <td>2.0</td>\n",
       "      <td>10.0</td>\n",
       "      <td>0.0</td>\n",
       "      <td>0.0</td>\n",
       "      <td>0</td>\n",
       "      <td>0</td>\n",
       "    </tr>\n",
       "    <tr>\n",
       "      <th>1</th>\n",
       "      <td>Addison Town and Village</td>\n",
       "      <td>2577.0</td>\n",
       "      <td>3.0</td>\n",
       "      <td>0.0</td>\n",
       "      <td>NaN</td>\n",
       "      <td>0.0</td>\n",
       "      <td>0.0</td>\n",
       "      <td>3.0</td>\n",
       "      <td>24.0</td>\n",
       "      <td>3.0</td>\n",
       "      <td>20.0</td>\n",
       "      <td>1.0</td>\n",
       "      <td>0.0</td>\n",
       "      <td>0</td>\n",
       "      <td>0</td>\n",
       "    </tr>\n",
       "    <tr>\n",
       "      <th>2</th>\n",
       "      <td>Akron Village</td>\n",
       "      <td>2846.0</td>\n",
       "      <td>3.0</td>\n",
       "      <td>0.0</td>\n",
       "      <td>NaN</td>\n",
       "      <td>0.0</td>\n",
       "      <td>0.0</td>\n",
       "      <td>3.0</td>\n",
       "      <td>16.0</td>\n",
       "      <td>1.0</td>\n",
       "      <td>15.0</td>\n",
       "      <td>0.0</td>\n",
       "      <td>0.0</td>\n",
       "      <td>0</td>\n",
       "      <td>0</td>\n",
       "    </tr>\n",
       "    <tr>\n",
       "      <th>3</th>\n",
       "      <td>Albany</td>\n",
       "      <td>97956.0</td>\n",
       "      <td>791.0</td>\n",
       "      <td>8.0</td>\n",
       "      <td>NaN</td>\n",
       "      <td>30.0</td>\n",
       "      <td>227.0</td>\n",
       "      <td>526.0</td>\n",
       "      <td>4090.0</td>\n",
       "      <td>705.0</td>\n",
       "      <td>3243.0</td>\n",
       "      <td>142.0</td>\n",
       "      <td>0.0</td>\n",
       "      <td>1</td>\n",
       "      <td>1</td>\n",
       "    </tr>\n",
       "    <tr>\n",
       "      <th>4</th>\n",
       "      <td>Albion Village</td>\n",
       "      <td>6388.0</td>\n",
       "      <td>23.0</td>\n",
       "      <td>0.0</td>\n",
       "      <td>NaN</td>\n",
       "      <td>3.0</td>\n",
       "      <td>4.0</td>\n",
       "      <td>16.0</td>\n",
       "      <td>223.0</td>\n",
       "      <td>53.0</td>\n",
       "      <td>165.0</td>\n",
       "      <td>5.0</td>\n",
       "      <td>0.0</td>\n",
       "      <td>0</td>\n",
       "      <td>1</td>\n",
       "    </tr>\n",
       "    <tr>\n",
       "      <th>5</th>\n",
       "      <td>Alfred Village</td>\n",
       "      <td>4089.0</td>\n",
       "      <td>5.0</td>\n",
       "      <td>0.0</td>\n",
       "      <td>NaN</td>\n",
       "      <td>0.0</td>\n",
       "      <td>3.0</td>\n",
       "      <td>2.0</td>\n",
       "      <td>46.0</td>\n",
       "      <td>10.0</td>\n",
       "      <td>36.0</td>\n",
       "      <td>0.0</td>\n",
       "      <td>0.0</td>\n",
       "      <td>0</td>\n",
       "      <td>1</td>\n",
       "    </tr>\n",
       "    <tr>\n",
       "      <th>6</th>\n",
       "      <td>Allegany Village</td>\n",
       "      <td>1781.0</td>\n",
       "      <td>3.0</td>\n",
       "      <td>0.0</td>\n",
       "      <td>NaN</td>\n",
       "      <td>0.0</td>\n",
       "      <td>0.0</td>\n",
       "      <td>3.0</td>\n",
       "      <td>10.0</td>\n",
       "      <td>0.0</td>\n",
       "      <td>10.0</td>\n",
       "      <td>0.0</td>\n",
       "      <td>0.0</td>\n",
       "      <td>0</td>\n",
       "      <td>0</td>\n",
       "    </tr>\n",
       "    <tr>\n",
       "      <th>7</th>\n",
       "      <td>Amherst Town</td>\n",
       "      <td>118296.0</td>\n",
       "      <td>107.0</td>\n",
       "      <td>1.0</td>\n",
       "      <td>NaN</td>\n",
       "      <td>7.0</td>\n",
       "      <td>31.0</td>\n",
       "      <td>68.0</td>\n",
       "      <td>2118.0</td>\n",
       "      <td>204.0</td>\n",
       "      <td>1882.0</td>\n",
       "      <td>32.0</td>\n",
       "      <td>3.0</td>\n",
       "      <td>1</td>\n",
       "      <td>1</td>\n",
       "    </tr>\n",
       "    <tr>\n",
       "      <th>8</th>\n",
       "      <td>Amityville Village</td>\n",
       "      <td>9519.0</td>\n",
       "      <td>9.0</td>\n",
       "      <td>0.0</td>\n",
       "      <td>NaN</td>\n",
       "      <td>2.0</td>\n",
       "      <td>4.0</td>\n",
       "      <td>3.0</td>\n",
       "      <td>210.0</td>\n",
       "      <td>16.0</td>\n",
       "      <td>188.0</td>\n",
       "      <td>6.0</td>\n",
       "      <td>1.0</td>\n",
       "      <td>0</td>\n",
       "      <td>1</td>\n",
       "    </tr>\n",
       "    <tr>\n",
       "      <th>9</th>\n",
       "      <td>Amsterdam</td>\n",
       "      <td>18182.0</td>\n",
       "      <td>30.0</td>\n",
       "      <td>0.0</td>\n",
       "      <td>NaN</td>\n",
       "      <td>0.0</td>\n",
       "      <td>12.0</td>\n",
       "      <td>18.0</td>\n",
       "      <td>405.0</td>\n",
       "      <td>99.0</td>\n",
       "      <td>291.0</td>\n",
       "      <td>15.0</td>\n",
       "      <td>0.0</td>\n",
       "      <td>0</td>\n",
       "      <td>1</td>\n",
       "    </tr>\n",
       "    <tr>\n",
       "      <th>10</th>\n",
       "      <td>Arcade Village</td>\n",
       "      <td>2053.0</td>\n",
       "      <td>0.0</td>\n",
       "      <td>0.0</td>\n",
       "      <td>NaN</td>\n",
       "      <td>0.0</td>\n",
       "      <td>0.0</td>\n",
       "      <td>0.0</td>\n",
       "      <td>39.0</td>\n",
       "      <td>3.0</td>\n",
       "      <td>35.0</td>\n",
       "      <td>1.0</td>\n",
       "      <td>0.0</td>\n",
       "      <td>0</td>\n",
       "      <td>0</td>\n",
       "    </tr>\n",
       "    <tr>\n",
       "      <th>11</th>\n",
       "      <td>Ardsley Village</td>\n",
       "      <td>4523.0</td>\n",
       "      <td>5.0</td>\n",
       "      <td>0.0</td>\n",
       "      <td>NaN</td>\n",
       "      <td>0.0</td>\n",
       "      <td>3.0</td>\n",
       "      <td>2.0</td>\n",
       "      <td>33.0</td>\n",
       "      <td>4.0</td>\n",
       "      <td>28.0</td>\n",
       "      <td>1.0</td>\n",
       "      <td>0.0</td>\n",
       "      <td>0</td>\n",
       "      <td>1</td>\n",
       "    </tr>\n",
       "    <tr>\n",
       "      <th>12</th>\n",
       "      <td>Asharoken Village</td>\n",
       "      <td>658.0</td>\n",
       "      <td>0.0</td>\n",
       "      <td>0.0</td>\n",
       "      <td>NaN</td>\n",
       "      <td>0.0</td>\n",
       "      <td>0.0</td>\n",
       "      <td>0.0</td>\n",
       "      <td>2.0</td>\n",
       "      <td>0.0</td>\n",
       "      <td>2.0</td>\n",
       "      <td>0.0</td>\n",
       "      <td>0.0</td>\n",
       "      <td>0</td>\n",
       "      <td>0</td>\n",
       "    </tr>\n",
       "    <tr>\n",
       "      <th>13</th>\n",
       "      <td>Attica Village</td>\n",
       "      <td>2522.0</td>\n",
       "      <td>2.0</td>\n",
       "      <td>0.0</td>\n",
       "      <td>NaN</td>\n",
       "      <td>0.0</td>\n",
       "      <td>0.0</td>\n",
       "      <td>2.0</td>\n",
       "      <td>5.0</td>\n",
       "      <td>0.0</td>\n",
       "      <td>4.0</td>\n",
       "      <td>1.0</td>\n",
       "      <td>0.0</td>\n",
       "      <td>0</td>\n",
       "      <td>0</td>\n",
       "    </tr>\n",
       "    <tr>\n",
       "      <th>14</th>\n",
       "      <td>Auburn</td>\n",
       "      <td>27270.0</td>\n",
       "      <td>96.0</td>\n",
       "      <td>1.0</td>\n",
       "      <td>NaN</td>\n",
       "      <td>20.0</td>\n",
       "      <td>22.0</td>\n",
       "      <td>53.0</td>\n",
       "      <td>859.0</td>\n",
       "      <td>132.0</td>\n",
       "      <td>721.0</td>\n",
       "      <td>6.0</td>\n",
       "      <td>0.0</td>\n",
       "      <td>1</td>\n",
       "      <td>1</td>\n",
       "    </tr>\n",
       "    <tr>\n",
       "      <th>15</th>\n",
       "      <td>Avon Village</td>\n",
       "      <td>3333.0</td>\n",
       "      <td>1.0</td>\n",
       "      <td>0.0</td>\n",
       "      <td>NaN</td>\n",
       "      <td>0.0</td>\n",
       "      <td>1.0</td>\n",
       "      <td>0.0</td>\n",
       "      <td>25.0</td>\n",
       "      <td>3.0</td>\n",
       "      <td>20.0</td>\n",
       "      <td>2.0</td>\n",
       "      <td>0.0</td>\n",
       "      <td>0</td>\n",
       "      <td>1</td>\n",
       "    </tr>\n",
       "    <tr>\n",
       "      <th>16</th>\n",
       "      <td>Baldwinsville Village</td>\n",
       "      <td>7473.0</td>\n",
       "      <td>5.0</td>\n",
       "      <td>0.0</td>\n",
       "      <td>NaN</td>\n",
       "      <td>0.0</td>\n",
       "      <td>1.0</td>\n",
       "      <td>4.0</td>\n",
       "      <td>88.0</td>\n",
       "      <td>10.0</td>\n",
       "      <td>77.0</td>\n",
       "      <td>1.0</td>\n",
       "      <td>0.0</td>\n",
       "      <td>0</td>\n",
       "      <td>1</td>\n",
       "    </tr>\n",
       "    <tr>\n",
       "      <th>17</th>\n",
       "      <td>Ballston Spa Village</td>\n",
       "      <td>5418.0</td>\n",
       "      <td>8.0</td>\n",
       "      <td>0.0</td>\n",
       "      <td>NaN</td>\n",
       "      <td>0.0</td>\n",
       "      <td>3.0</td>\n",
       "      <td>5.0</td>\n",
       "      <td>94.0</td>\n",
       "      <td>16.0</td>\n",
       "      <td>78.0</td>\n",
       "      <td>0.0</td>\n",
       "      <td>1.0</td>\n",
       "      <td>0</td>\n",
       "      <td>1</td>\n",
       "    </tr>\n",
       "    <tr>\n",
       "      <th>18</th>\n",
       "      <td>Batavia</td>\n",
       "      <td>15374.0</td>\n",
       "      <td>57.0</td>\n",
       "      <td>0.0</td>\n",
       "      <td>NaN</td>\n",
       "      <td>7.0</td>\n",
       "      <td>13.0</td>\n",
       "      <td>37.0</td>\n",
       "      <td>559.0</td>\n",
       "      <td>103.0</td>\n",
       "      <td>454.0</td>\n",
       "      <td>2.0</td>\n",
       "      <td>1.0</td>\n",
       "      <td>0</td>\n",
       "      <td>1</td>\n",
       "    </tr>\n",
       "    <tr>\n",
       "      <th>19</th>\n",
       "      <td>Bath Village</td>\n",
       "      <td>5733.0</td>\n",
       "      <td>15.0</td>\n",
       "      <td>0.0</td>\n",
       "      <td>NaN</td>\n",
       "      <td>1.0</td>\n",
       "      <td>3.0</td>\n",
       "      <td>11.0</td>\n",
       "      <td>191.0</td>\n",
       "      <td>32.0</td>\n",
       "      <td>157.0</td>\n",
       "      <td>2.0</td>\n",
       "      <td>2.0</td>\n",
       "      <td>0</td>\n",
       "      <td>1</td>\n",
       "    </tr>\n",
       "  </tbody>\n",
       "</table>\n",
       "</div>"
      ],
      "text/plain": [
       "                        City  Population  Violent Crime  Murder  Rape1  Rape2  \\\n",
       "0              Adams Village      1861.0            0.0     0.0    NaN    0.0   \n",
       "1   Addison Town and Village      2577.0            3.0     0.0    NaN    0.0   \n",
       "2              Akron Village      2846.0            3.0     0.0    NaN    0.0   \n",
       "3                     Albany     97956.0          791.0     8.0    NaN   30.0   \n",
       "4             Albion Village      6388.0           23.0     0.0    NaN    3.0   \n",
       "5             Alfred Village      4089.0            5.0     0.0    NaN    0.0   \n",
       "6           Allegany Village      1781.0            3.0     0.0    NaN    0.0   \n",
       "7               Amherst Town    118296.0          107.0     1.0    NaN    7.0   \n",
       "8         Amityville Village      9519.0            9.0     0.0    NaN    2.0   \n",
       "9                  Amsterdam     18182.0           30.0     0.0    NaN    0.0   \n",
       "10            Arcade Village      2053.0            0.0     0.0    NaN    0.0   \n",
       "11           Ardsley Village      4523.0            5.0     0.0    NaN    0.0   \n",
       "12         Asharoken Village       658.0            0.0     0.0    NaN    0.0   \n",
       "13            Attica Village      2522.0            2.0     0.0    NaN    0.0   \n",
       "14                    Auburn     27270.0           96.0     1.0    NaN   20.0   \n",
       "15              Avon Village      3333.0            1.0     0.0    NaN    0.0   \n",
       "16     Baldwinsville Village      7473.0            5.0     0.0    NaN    0.0   \n",
       "17      Ballston Spa Village      5418.0            8.0     0.0    NaN    0.0   \n",
       "18                   Batavia     15374.0           57.0     0.0    NaN    7.0   \n",
       "19              Bath Village      5733.0           15.0     0.0    NaN    1.0   \n",
       "\n",
       "    Robbery  Aggravated Assault  Property Crime  Burglary  Larceny-theft  \\\n",
       "0       0.0                 0.0            12.0       2.0           10.0   \n",
       "1       0.0                 3.0            24.0       3.0           20.0   \n",
       "2       0.0                 3.0            16.0       1.0           15.0   \n",
       "3     227.0               526.0          4090.0     705.0         3243.0   \n",
       "4       4.0                16.0           223.0      53.0          165.0   \n",
       "5       3.0                 2.0            46.0      10.0           36.0   \n",
       "6       0.0                 3.0            10.0       0.0           10.0   \n",
       "7      31.0                68.0          2118.0     204.0         1882.0   \n",
       "8       4.0                 3.0           210.0      16.0          188.0   \n",
       "9      12.0                18.0           405.0      99.0          291.0   \n",
       "10      0.0                 0.0            39.0       3.0           35.0   \n",
       "11      3.0                 2.0            33.0       4.0           28.0   \n",
       "12      0.0                 0.0             2.0       0.0            2.0   \n",
       "13      0.0                 2.0             5.0       0.0            4.0   \n",
       "14     22.0                53.0           859.0     132.0          721.0   \n",
       "15      1.0                 0.0            25.0       3.0           20.0   \n",
       "16      1.0                 4.0            88.0      10.0           77.0   \n",
       "17      3.0                 5.0            94.0      16.0           78.0   \n",
       "18     13.0                37.0           559.0     103.0          454.0   \n",
       "19      3.0                11.0           191.0      32.0          157.0   \n",
       "\n",
       "    Motorvehicle Theft  Arson  MurderExists  RobberyExists  \n",
       "0                  0.0    0.0             0              0  \n",
       "1                  1.0    0.0             0              0  \n",
       "2                  0.0    0.0             0              0  \n",
       "3                142.0    0.0             1              1  \n",
       "4                  5.0    0.0             0              1  \n",
       "5                  0.0    0.0             0              1  \n",
       "6                  0.0    0.0             0              0  \n",
       "7                 32.0    3.0             1              1  \n",
       "8                  6.0    1.0             0              1  \n",
       "9                 15.0    0.0             0              1  \n",
       "10                 1.0    0.0             0              0  \n",
       "11                 1.0    0.0             0              1  \n",
       "12                 0.0    0.0             0              0  \n",
       "13                 1.0    0.0             0              0  \n",
       "14                 6.0    0.0             1              1  \n",
       "15                 2.0    0.0             0              1  \n",
       "16                 1.0    0.0             0              1  \n",
       "17                 0.0    1.0             0              1  \n",
       "18                 2.0    1.0             0              1  \n",
       "19                 2.0    2.0             0              1  "
      ]
     },
     "execution_count": 2,
     "metadata": {},
     "output_type": "execute_result"
    }
   ],
   "source": [
    "data['MurderExists'] = data['Murder'].apply(lambda x: 0 if x == 0.0 or x > 100.0 else 1)\n",
    "data['RobberyExists'] = data['Robbery'].apply(lambda x: 0 if x == 0.0 or x >10000.0 else 1)\n",
    "data.head(20)"
   ]
  },
  {
   "cell_type": "markdown",
   "metadata": {},
   "source": [
    "First I shall retrieve the R^2 value of Robbery and Murder based on its effects on Property Crime, and the result I come up with is 0.99 or 99%. This tells me that Robbery and Murder amounts for roughly 99% of the variance in Property Crime. However we do not know how much Robbery and Murder individually affect the variance of Property Crime. We also know that Murder has the highest increase when property crime increases. "
   ]
  },
  {
   "cell_type": "code",
   "execution_count": 3,
   "metadata": {},
   "outputs": [
    {
     "name": "stdout",
     "output_type": "stream",
     "text": [
      "\n",
      "Coefficients: \n",
      " [[123.23811315   5.2432895 ]]\n",
      "\n",
      "Intercept: \n",
      " [218.26357256]\n",
      "\n",
      "R-squared:\n",
      "0.9976686964721456\n"
     ]
    }
   ],
   "source": [
    "regr = linear_model.LinearRegression()\n",
    "Y = data['Property Crime'].values.reshape(-1, 1)\n",
    "X = data[['Murder','Robbery']]\n",
    "regr.fit(X, Y)\n",
    "\n",
    "print('\\nCoefficients: \\n', regr.coef_)\n",
    "print('\\nIntercept: \\n', regr.intercept_)\n",
    "print('\\nR-squared:')\n",
    "print(regr.score(X, Y))"
   ]
  },
  {
   "cell_type": "markdown",
   "metadata": {},
   "source": [
    "Here I created a few scatter plots to better understand what kind of relation Burglary, Murder, Robbery and Aggravated Assault has with Property Crime. As can be seen all four dependent variables have a linear relationship with Property Crime, with Burglary and Murder having a steeper incline then Robbery and Aggravated Assault. "
   ]
  },
  {
   "cell_type": "code",
   "execution_count": 4,
   "metadata": {},
   "outputs": [
    {
     "data": {
      "image/png": "[encoded data removed]",
      "text/plain": [
       "<Figure size 432x288 with 4 Axes>"
      ]
     },
     "metadata": {
      "needs_background": "light"
     },
     "output_type": "display_data"
    }
   ],
   "source": [
    "plt.subplot(2,2,1)\n",
    "plt.scatter(data['Property Crime'], data['Burglary'])\n",
    "plt.title('Burglary')\n",
    "#plt.xlim(0,4000)\n",
    "#plt.ylim(0,1000)\n",
    "plt.subplot(2,2,2)\n",
    "plt.scatter(data['Property Crime'], data['Murder'])\n",
    "plt.title('Murder')\n",
    "plt.subplot(2,2,3)\n",
    "plt.scatter(data['Property Crime'], data['Robbery'])\n",
    "plt.title('Robbery')\n",
    "plt.subplot(2,2,4)\n",
    "plt.scatter(data['Property Crime'], data['Aggravated Assault'])\n",
    "plt.title('Aggravated Assault')\n",
    "plt.tight_layout() #makes it fit better\n",
    "plt.show()"
   ]
  },
  {
   "cell_type": "code",
   "execution_count": 5,
   "metadata": {},
   "outputs": [],
   "source": [
    "newdata = data[~(data[['MurderExists','RobberyExists']] == 0).any(axis=1)] #Gets rid of all rows where there is no murder/robbery"
   ]
  },
  {
   "cell_type": "markdown",
   "metadata": {},
   "source": [
    "Here I cleaned the data using the code line above to get rid of all rows where there was no murder and robbery. Then I re-created the scatter plot to see the difference between them. As can be seen they are relatively similar to one another."
   ]
  },
  {
   "cell_type": "code",
   "execution_count": 6,
   "metadata": {},
   "outputs": [
    {
     "data": {
      "image/png": "[encoded data removed]",
      "text/plain": [
       "<Figure size 432x288 with 2 Axes>"
      ]
     },
     "metadata": {
      "needs_background": "light"
     },
     "output_type": "display_data"
    }
   ],
   "source": [
    "plt.subplot(2,1,1)\n",
    "plt.scatter(newdata['Property Crime'], newdata['Murder'])\n",
    "plt.title('Murder')\n",
    "plt.subplot(2,1,2)\n",
    "plt.scatter(newdata['Property Crime'], newdata['Robbery'])\n",
    "plt.title('Robbery')\n",
    "plt.tight_layout() #makes it fit better\n",
    "plt.show()"
   ]
  },
  {
   "cell_type": "markdown",
   "metadata": {},
   "source": [
    "Here I fooled around with sqrt,pow,log, and reciprocal on the 'Murder' data set in order to see if I can create a better linear fit for the data (although the unaltered data works just as well)"
   ]
  },
  {
   "cell_type": "code",
   "execution_count": 14,
   "metadata": {},
   "outputs": [
    {
     "data": {
      "image/png": "[encoded data removed]",
      "text/plain": [
       "<Figure size 432x288 with 4 Axes>"
      ]
     },
     "metadata": {
      "needs_background": "light"
     },
     "output_type": "display_data"
    }
   ],
   "source": [
    "plt.subplot(2,2,1)\n",
    "sqrt_feature = [math.sqrt(x) for x in  newdata['Murder']]\n",
    "plt.scatter(newdata['Property Crime'], sqrt_feature)\n",
    "plt.title('Sqrt Murder')\n",
    "plt.subplot(2,2,2)\n",
    "pow_feature = [math.pow(x,2) for x in  newdata['Murder']]\n",
    "plt.scatter(newdata['Property Crime'], pow_feature)\n",
    "plt.title('Pow Murder')\n",
    "plt.subplot(2,2,3)\n",
    "log_feature = [math.log(x,2) for x in  newdata['Murder']]\n",
    "plt.scatter(newdata['Property Crime'], log_feature)\n",
    "plt.title('Log Murder')\n",
    "plt.subplot(2,2,4)\n",
    "reciprocal_feature = [np.reciprocal(x) for x in  newdata['Murder']]\n",
    "plt.scatter(newdata['Property Crime'], reciprocal_feature)\n",
    "plt.title('Reciprocal Murder')\n",
    "plt.tight_layout() \n",
    "plt.show()"
   ]
  },
  {
   "cell_type": "code",
   "execution_count": 18,
   "metadata": {},
   "outputs": [
    {
     "data": {
      "image/png": "[encoded data removed]",
      "text/plain": [
       "<Figure size 432x288 with 4 Axes>"
      ]
     },
     "metadata": {
      "needs_background": "light"
     },
     "output_type": "display_data"
    }
   ],
   "source": [
    "plt.subplot(2,2,1)\n",
    "psqrt_feature = [math.sqrt(x) for x in  newdata['Property Crime']]\n",
    "plt.scatter(psqrt_feature, newdata['Murder'])\n",
    "plt.title('Sqrt Property Crime')\n",
    "plt.subplot(2,2,2)\n",
    "ppow_feature = [math.pow(x,2) for x in  newdata['Property Crime']]\n",
    "plt.scatter(ppow_feature, newdata['Murder'])\n",
    "plt.title('Pow Property Crime')\n",
    "plt.subplot(2,2,3)\n",
    "plog_feature = [math.log(x,2) for x in  newdata['Property Crime']]\n",
    "plt.scatter(plog_feature, newdata['Murder'])\n",
    "plt.title('Log Property Crime')\n",
    "plt.subplot(2,2,4)\n",
    "preciprocal_feature = [np.reciprocal(x) for x in  newdata['Property Crime']]\n",
    "plt.scatter(preciprocal_feature, newdata['Murder'])\n",
    "plt.title('Reciprocal Property Crime')\n",
    "plt.tight_layout() \n",
    "plt.show()"
   ]
  },
  {
   "cell_type": "code",
   "execution_count": 35,
   "metadata": {},
   "outputs": [
    {
     "data": {
      "image/png": "[encoded data removed]",
      "text/plain": [
       "<Figure size 432x288 with 4 Axes>"
      ]
     },
     "metadata": {
      "needs_background": "light"
     },
     "output_type": "display_data"
    }
   ],
   "source": [
    "plt.subplot(2,2,1)\n",
    "plt.scatter(psqrt_feature, sqrt_feature)\n",
    "plt.title('Sqrt')\n",
    "plt.subplot(2,2,2)\n",
    "plt.scatter(ppow_feature, pow_feature)\n",
    "plt.title('Pow')\n",
    "plt.subplot(2,2,3)\n",
    "plt.scatter(plog_feature, log_feature)\n",
    "plt.title('Log')\n",
    "plt.subplot(2,2,4)\n",
    "plt.scatter(preciprocal_feature, reciprocal_feature)\n",
    "plt.title('Reciprocal')\n",
    "plt.tight_layout() \n",
    "plt.show()"
   ]
  },
  {
   "cell_type": "code",
   "execution_count": 37,
   "metadata": {},
   "outputs": [
    {
     "data": {
      "text/plain": [
       "<matplotlib.collections.PathCollection at 0x2acaa3e8400>"
      ]
     },
     "execution_count": 37,
     "metadata": {},
     "output_type": "execute_result"
    },
    {
     "data": {
      "image/png": "[encoded data removed]",
      "text/plain": [
       "<Figure size 432x288 with 1 Axes>"
      ]
     },
     "metadata": {
      "needs_background": "light"
     },
     "output_type": "display_data"
    }
   ],
   "source": [
    "plt.scatter(ppow_feature, sqrt_feature)"
   ]
  },
  {
   "cell_type": "markdown",
   "metadata": {},
   "source": [
    "Here I redid the formula to find the R^2 value to see if there was any major changes after I cleaned my data. The R^2 now is less then it was before (99% down to 92%) with the murder coefficients also decreasing slightly. I also created a histogram plot to check if property crime had a normal distribution with the dependent variables of Murder and Robbery, which it does. "
   ]
  },
  {
   "cell_type": "code",
   "execution_count": 32,
   "metadata": {},
   "outputs": [
    {
     "name": "stdout",
     "output_type": "stream",
     "text": [
      "\n",
      "Coefficients: \n",
      " [[118.96252671   5.11110343]]\n",
      "\n",
      "Intercept: \n",
      " [469.12256093]\n",
      "\n",
      "R-squared:\n",
      "0.9260310939058841\n"
     ]
    },
    {
     "data": {
      "image/png": "[encoded data removed]",
      "text/plain": [
       "<Figure size 432x288 with 1 Axes>"
      ]
     },
     "metadata": {
      "needs_background": "light"
     },
     "output_type": "display_data"
    }
   ],
   "source": [
    "newregr = linear_model.LinearRegression()\n",
    "newY = newdata['Property Crime'].values.reshape(-1, 1)\n",
    "newX = newdata[['Murder','Robbery']]\n",
    "newregr.fit(newX, newY)\n",
    "\n",
    "print('\\nCoefficients: \\n', newregr.coef_)\n",
    "print('\\nIntercept: \\n', newregr.intercept_)\n",
    "print('\\nR-squared:')\n",
    "print(newregr.score(newX, newY))\n",
    "\n",
    "# Extract predicted values.\n",
    "predicted = newregr.predict(newX).ravel()\n",
    "actual = newdata['Property Crime']\n",
    "\n",
    "# Calculate the error, also called the residual.\n",
    "residual = actual - predicted\n",
    "\n",
    "plt.hist(residual)\n",
    "plt.title('Residual counts')\n",
    "plt.xlabel('Residual')\n",
    "plt.ylabel('Count')\n",
    "plt.show()"
   ]
  },
  {
   "cell_type": "code",
   "execution_count": 10,
   "metadata": {},
   "outputs": [
    {
     "data": {
      "image/png": "[encoded data removed]",
      "text/plain": [
       "<Figure size 432x288 with 1 Axes>"
      ]
     },
     "metadata": {
      "needs_background": "light"
     },
     "output_type": "display_data"
    }
   ],
   "source": [
    "plt.scatter(residual, predicted)\n",
    "plt.xlabel('Residual')\n",
    "plt.ylabel('Predicted')\n",
    "plt.axhline(y=1000)\n",
    "plt.title('Residual vs. Predicted')\n",
    "plt.show()"
   ]
  },
  {
   "cell_type": "code",
   "execution_count": 11,
   "metadata": {},
   "outputs": [
    {
     "data": {
      "text/html": [
       "<div>\n",
       "<style scoped>\n",
       "    .dataframe tbody tr th:only-of-type {\n",
       "        vertical-align: middle;\n",
       "    }\n",
       "\n",
       "    .dataframe tbody tr th {\n",
       "        vertical-align: top;\n",
       "    }\n",
       "\n",
       "    .dataframe thead th {\n",
       "        text-align: right;\n",
       "    }\n",
       "</style>\n",
       "<table border=\"1\" class=\"dataframe\">\n",
       "  <thead>\n",
       "    <tr style=\"text-align: right;\">\n",
       "      <th></th>\n",
       "      <th>Murder</th>\n",
       "      <th>Robbery</th>\n",
       "    </tr>\n",
       "  </thead>\n",
       "  <tbody>\n",
       "    <tr>\n",
       "      <th>Murder</th>\n",
       "      <td>1.000000</td>\n",
       "      <td>0.961628</td>\n",
       "    </tr>\n",
       "    <tr>\n",
       "      <th>Robbery</th>\n",
       "      <td>0.961628</td>\n",
       "      <td>1.000000</td>\n",
       "    </tr>\n",
       "  </tbody>\n",
       "</table>\n",
       "</div>"
      ],
      "text/plain": [
       "           Murder   Robbery\n",
       "Murder   1.000000  0.961628\n",
       "Robbery  0.961628  1.000000"
      ]
     },
     "metadata": {},
     "output_type": "display_data"
    }
   ],
   "source": [
    "correlation_matrix = newX.corr()\n",
    "display(correlation_matrix)"
   ]
  },
  {
   "cell_type": "code",
   "execution_count": null,
   "metadata": {},
   "outputs": [],
   "source": []
  }
 ],
 "metadata": {
  "kernelspec": {
   "display_name": "Python 3",
   "language": "python",
   "name": "python3"
  },
  "language_info": {
   "codemirror_mode": {
    "name": "ipython",
    "version": 3
   },
   "file_extension": ".py",
   "mimetype": "text/x-python",
   "name": "python",
   "nbconvert_exporter": "python",
   "pygments_lexer": "ipython3",
   "version": "3.7.0"
  }
 },
 "nbformat": 4,
 "nbformat_minor": 2
}
