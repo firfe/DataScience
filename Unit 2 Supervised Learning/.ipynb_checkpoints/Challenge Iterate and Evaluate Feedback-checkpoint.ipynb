{
 "cells": [
  {
   "cell_type": "code",
   "execution_count": 1,
   "metadata": {},
   "outputs": [
    {
     "name": "stdout",
     "output_type": "stream",
     "text": [
      "                                               message  rating\n",
      "0    So there is no way for me to plug it in here i...       0\n",
      "1                          Good case, Excellent value.       1\n",
      "2                               Great for the jawbone.       1\n",
      "3    Tied to charger for conversations lasting more...       0\n",
      "4                                    The mic is great.       1\n",
      "5    I have to jiggle the plug to get it to line up...       0\n",
      "6    If you have several dozen or several hundred c...       0\n",
      "7          If you are Razr owner...you must have this!       1\n",
      "8                  Needless to say, I wasted my money.       0\n",
      "9                     What a waste of money and time!.       0\n",
      "10                     And the sound quality is great.       1\n",
      "11   He was very impressed when going from the orig...       1\n",
      "12   If the two were seperated by a mere 5+ ft I st...       0\n",
      "13                            Very good quality though       1\n",
      "14   The design is very odd, as the ear \"clip\" is n...       0\n",
      "15   Highly recommend for any one who has a blue to...       1\n",
      "16                 I advise EVERYONE DO NOT BE FOOLED!       0\n",
      "17                                    So Far So Good!.       1\n",
      "18                                       Works great!.       1\n",
      "19   It clicks into place in a way that makes you w...       0\n",
      "20   I went on Motorola's website and followed all ...       0\n",
      "21   I bought this to use with my Kindle Fire and a...       1\n",
      "22            The commercials are the most misleading.       0\n",
      "23   I have yet to run this new battery below two b...       1\n",
      "24   I bought it for my mother and she had a proble...       0\n",
      "25                Great Pocket PC / phone combination.       1\n",
      "26   I've owned this phone for 7 months now and can...       1\n",
      "27   I didn't think that the instructions provided ...       0\n",
      "28   People couldnt hear me talk and I had to pull ...       0\n",
      "29                                Doesn't hold charge.       0\n",
      "..                                                 ...     ...\n",
      "970  I plugged it in only to find out not a darn th...       0\n",
      "971                                 Excellent product.       1\n",
      "972                        Earbud piece breaks easily.       0\n",
      "973                                     Lousy product.       0\n",
      "974  This phone tries very hard to do everything bu...       0\n",
      "975  It is the best charger I have seen on the mark...       1\n",
      "976                                  SWEETEST PHONE!!!       1\n",
      "977             :-)Oh, the charger seems to work fine.       1\n",
      "978  It fits so securely that the ear hook does not...       1\n",
      "979                                 Not enough volume.       0\n",
      "980                Echo Problem....Very unsatisfactory       0\n",
      "981  you could only take 2 videos at a time and the...       0\n",
      "982                            don't waste your money.       0\n",
      "983  I am going to have to be the first to negative...       0\n",
      "984  Adapter does not provide enough charging current.       0\n",
      "985  There was so much hype over this phone that I ...       0\n",
      "986  You also cannot take pictures with it in the c...       0\n",
      "987                            Phone falls out easily.       0\n",
      "988  It didn't work, people can not hear me when I ...       0\n",
      "989  The text messaging feature is really tricky to...       0\n",
      "990  I'm really disappointed all I have now is a ch...       0\n",
      "991                                Painful on the ear.       0\n",
      "992                   Lasted one day and then blew up.       0\n",
      "993                                      disappointed.       0\n",
      "994                              Kind of flops around.       0\n",
      "995  The screen does get smudged easily because it ...       0\n",
      "996  What a piece of junk.. I lose more calls on th...       0\n",
      "997                       Item Does Not Match Picture.       0\n",
      "998  The only thing that disappoint me is the infra...       0\n",
      "999  You can not answer calls with the unit, never ...       0\n",
      "\n",
      "[1000 rows x 2 columns]\n"
     ]
    }
   ],
   "source": [
    "%matplotlib inline\n",
    "import numpy as np\n",
    "import pandas as pd\n",
    "import scipy\n",
    "import sklearn\n",
    "import matplotlib.pyplot as plt\n",
    "import seaborn as sns\n",
    "\n",
    "ama_path = (\"amazon_cells_labelled.txt\")\n",
    "ama = pd.read_csv(ama_path, delimiter= '\\t', header=None)\n",
    "ama.columns = ['message', 'rating']\n",
    "print(ama)"
   ]
  },
  {
   "cell_type": "code",
   "execution_count": 2,
   "metadata": {},
   "outputs": [],
   "source": [
    "keywords = ['good', 'excellent', 'great', 'awesome', 'fine', 'highly', 'love']\n",
    "\n",
    "for key in keywords:\n",
    "    # Note that we add spaces around the key so that we're getting the word,\n",
    "    # not just pattern matching.\n",
    "    ama[str(key)] = ama.message.str.contains(\n",
    "        str(key) + ' ',\n",
    "        case=False\n",
    "    )"
   ]
  },
  {
   "cell_type": "code",
   "execution_count": 20,
   "metadata": {},
   "outputs": [
    {
     "name": "stdout",
     "output_type": "stream",
     "text": [
      "Number of mislabeled points out of a total 1000 points : 353\n"
     ]
    }
   ],
   "source": [
    "newdata = ama[keywords]\n",
    "target = ama['rating']\n",
    "# Our data is binary / boolean, so we're importing the Bernoulli classifier.\n",
    "from sklearn.naive_bayes import BernoulliNB\n",
    "\n",
    "# Instantiate our model and store it in a new variable.\n",
    "bnb = BernoulliNB()\n",
    "\n",
    "# Fit our model to the data.\n",
    "bnb.fit(newdata, target)\n",
    "\n",
    "# Classify, storing the result in a new variable.\n",
    "y_pred = bnb.predict(newdata)\n",
    "\n",
    "# Display our results.\n",
    "print(\"Number of mislabeled points out of a total {} points : {}\".format(\n",
    "    newdata.shape[0],\n",
    "    (target != y_pred).sum()\n",
    "))"
   ]
  },
  {
   "cell_type": "code",
   "execution_count": 21,
   "metadata": {},
   "outputs": [
    {
     "name": "stdout",
     "output_type": "stream",
     "text": [
      "With 20% Holdout: 0.61\n",
      "Testing on Sample: 0.647\n"
     ]
    },
    {
     "data": {
      "text/plain": [
       "array([0.68, 0.66, 0.72, 0.66, 0.66, 0.64, 0.62, 0.61, 0.65, 0.57])"
      ]
     },
     "execution_count": 21,
     "metadata": {},
     "output_type": "execute_result"
    }
   ],
   "source": [
    "from sklearn.model_selection import train_test_split\n",
    "# Use train_test_split to create the necessary training and test groups\n",
    "X_train, X_test, y_train, y_test = train_test_split(newdata, target, test_size=0.2, random_state=20)\n",
    "print('With 20% Holdout: ' + str(bnb.fit(X_train, y_train).score(X_test, y_test)))\n",
    "print('Testing on Sample: ' + str(bnb.fit(newdata, target).score(newdata, target)))\n",
    "\n",
    "from sklearn.model_selection import cross_val_score\n",
    "cross_val_score(bnb, newdata, target, cv=10)"
   ]
  },
  {
   "cell_type": "markdown",
   "metadata": {},
   "source": [
    "This is the base result for one set of classifiers. As can be seen the average accuracy is around 62%. I will now try to add\n",
    "additional features to see if I can make the model more accurate."
   ]
  },
  {
   "cell_type": "code",
   "execution_count": 13,
   "metadata": {},
   "outputs": [
    {
     "name": "stdout",
     "output_type": "stream",
     "text": [
      "Number of mislabeled points out of a total 1000 points : 343\n",
      "With 20% Holdout: 0.615\n",
      "Testing on Sample: 0.657\n"
     ]
    },
    {
     "data": {
      "text/plain": [
       "array([0.7 , 0.69, 0.73, 0.66, 0.62, 0.65, 0.64, 0.59, 0.63, 0.58])"
      ]
     },
     "execution_count": 13,
     "metadata": {},
     "output_type": "execute_result"
    }
   ],
   "source": [
    "newkeywords = ['good', 'awesome', 'fine', 'love', 'acceptable','excellent','exceptional','favorable','great','marvelous','positive','satisfactory','satisfying','superb','valuable','wonderful','ace','boss','bully','capital','choice','crack','nice','pleasing','prime','rad','sound','spanking','sterling','super','superior','welcome','worthy','admirable','agreeable','commendable','congenial','deluxe','first-class','first-rate','gnarly','gratifying','honorable','neat','precious','recherché','reputable','select','shipshape','splendid','stupendous','super-eminent','super-excellent','tip-top','up to snuff']\n",
    "for key in newkeywords:\n",
    "    # Note that we add spaces around the key so that we're getting the word,\n",
    "    # not just pattern matching.\n",
    "    ama[str(key)] = ama.message.str.contains(\n",
    "        str(key) + ' ',\n",
    "        case=False\n",
    "    )\n",
    "    \n",
    "newdata = ama[newkeywords]\n",
    "target = ama['rating']\n",
    "# Our data is binary / boolean, so we're importing the Bernoulli classifier.\n",
    "from sklearn.naive_bayes import BernoulliNB\n",
    "\n",
    "# Instantiate our model and store it in a new variable.\n",
    "bnb = BernoulliNB()\n",
    "\n",
    "# Fit our model to the data.\n",
    "bnb.fit(newdata, target)\n",
    "\n",
    "# Classify, storing the result in a new variable.\n",
    "y_pred = bnb.predict(newdata)\n",
    "\n",
    "# Display our results.\n",
    "print(\"Number of mislabeled points out of a total {} points : {}\".format(\n",
    "    newdata.shape[0],\n",
    "    (target != y_pred).sum()\n",
    "))\n",
    "\n",
    "from sklearn.model_selection import train_test_split\n",
    "# Use train_test_split to create the necessary training and test groups\n",
    "X_train, X_test, y_train, y_test = train_test_split(newdata, target, test_size=0.2, random_state=20)\n",
    "print('With 20% Holdout: ' + str(bnb.fit(X_train, y_train).score(X_test, y_test)))\n",
    "print('Testing on Sample: ' + str(bnb.fit(newdata, target).score(newdata, target)))\n",
    "\n",
    "from sklearn.model_selection import cross_val_score\n",
    "cross_val_score(bnb, newdata, target, cv=10)"
   ]
  },
  {
   "cell_type": "markdown",
   "metadata": {},
   "source": [
    "For this example I tried modifying the keywords to have a larger variety (by adding more words using words synonymous with good). As can be seen the amount of mislabed points only decreased slightly and the accuracy only increased slightly as well. This can be used as a indicator that first classifier set was already quite accurate with its amount of keywords it had and adding more keywords would not be the best way to attain a higher accuracy. Now lets test if having less keywords besides good "
   ]
  },
  {
   "cell_type": "code",
   "execution_count": 14,
   "metadata": {},
   "outputs": [
    {
     "name": "stdout",
     "output_type": "stream",
     "text": [
      "Number of mislabeled points out of a total 1000 points : 461\n",
      "With 20% Holdout: 0.53\n",
      "Testing on Sample: 0.539\n"
     ]
    },
    {
     "data": {
      "text/plain": [
       "array([0.52, 0.56, 0.56, 0.57, 0.51, 0.56, 0.51, 0.5 , 0.58, 0.52])"
      ]
     },
     "execution_count": 14,
     "metadata": {},
     "output_type": "execute_result"
    }
   ],
   "source": [
    "newkeywords = ['good']\n",
    "for key in newkeywords:\n",
    "    # Note that we add spaces around the key so that we're getting the word,\n",
    "    # not just pattern matching.\n",
    "    ama[str(key)] = ama.message.str.contains(\n",
    "        str(key) + ' ',\n",
    "        case=False\n",
    "    )\n",
    "\n",
    "newdata = ama[newkeywords]\n",
    "target = ama['rating']\n",
    "# Our data is binary / boolean, so we're importing the Bernoulli classifier.\n",
    "from sklearn.naive_bayes import BernoulliNB\n",
    "\n",
    "# Instantiate our model and store it in a new variable.\n",
    "bnb = BernoulliNB()\n",
    "\n",
    "# Fit our model to the data.\n",
    "bnb.fit(newdata, target)\n",
    "\n",
    "# Classify, storing the result in a new variable.\n",
    "y_pred = bnb.predict(newdata)\n",
    "\n",
    "# Display our results.\n",
    "print(\"Number of mislabeled points out of a total {} points : {}\".format(\n",
    "    newdata.shape[0],\n",
    "    (target != y_pred).sum()\n",
    "))\n",
    "\n",
    "from sklearn.model_selection import train_test_split\n",
    "# Use train_test_split to create the necessary training and test groups\n",
    "X_train, X_test, y_train, y_test = train_test_split(newdata, target, test_size=0.2, random_state=20)\n",
    "print('With 20% Holdout: ' + str(bnb.fit(X_train, y_train).score(X_test, y_test)))\n",
    "print('Testing on Sample: ' + str(bnb.fit(newdata, target).score(newdata, target)))\n",
    "\n",
    "from sklearn.model_selection import cross_val_score\n",
    "cross_val_score(bnb, newdata, target, cv=10)"
   ]
  },
  {
   "cell_type": "markdown",
   "metadata": {},
   "source": [
    "For this I tried using only 'good' in the keywords which still resulted in about a 53% success rate in detecting that it was a positive review. "
   ]
  },
  {
   "cell_type": "code",
   "execution_count": 23,
   "metadata": {},
   "outputs": [
    {
     "name": "stdout",
     "output_type": "stream",
     "text": [
      "Number of mislabeled points out of a total 1000 points : 500\n",
      "With 20% Holdout: 0.475\n",
      "Testing on Sample: 0.5\n"
     ]
    },
    {
     "data": {
      "text/plain": [
       "array([0.5 , 0.49, 0.5 , 0.5 , 0.49, 0.5 , 0.5 , 0.5 , 0.49, 0.49])"
      ]
     },
     "execution_count": 23,
     "metadata": {},
     "output_type": "execute_result"
    }
   ],
   "source": [
    "newkeywords = ['']\n",
    "for key in newkeywords:\n",
    "    # Note that we add spaces around the key so that we're getting the word,\n",
    "    # not just pattern matching.\n",
    "    ama[str(key)] = ama.message.str.contains(\n",
    "        str(key) + ' ',\n",
    "        case=False\n",
    "    )\n",
    "\n",
    "newdata = ama[newkeywords]\n",
    "target = ama['rating']\n",
    "# Our data is binary / boolean, so we're importing the Bernoulli classifier.\n",
    "from sklearn.naive_bayes import BernoulliNB\n",
    "\n",
    "# Instantiate our model and store it in a new variable.\n",
    "bnb = BernoulliNB()\n",
    "\n",
    "# Fit our model to the data.\n",
    "bnb.fit(newdata, target)\n",
    "\n",
    "# Classify, storing the result in a new variable.\n",
    "y_pred = bnb.predict(newdata)\n",
    "\n",
    "# Display our results.\n",
    "print(\"Number of mislabeled points out of a total {} points : {}\".format(\n",
    "    newdata.shape[0],\n",
    "    (target != y_pred).sum()\n",
    "))\n",
    "\n",
    "from sklearn.model_selection import train_test_split\n",
    "# Use train_test_split to create the necessary training and test groups\n",
    "X_train, X_test, y_train, y_test = train_test_split(newdata, target, test_size=0.2, random_state=20)\n",
    "print('With 20% Holdout: ' + str(bnb.fit(X_train, y_train).score(X_test, y_test)))\n",
    "print('Testing on Sample: ' + str(bnb.fit(newdata, target).score(newdata, target)))\n",
    "\n",
    "from sklearn.model_selection import cross_val_score\n",
    "cross_val_score(bnb, newdata, target, cv=10)"
   ]
  },
  {
   "cell_type": "markdown",
   "metadata": {},
   "source": [
    "Do any of your classifiers seem to overfit?\n",
    "I'd say currently none of the classifiers seem to overfit as there are no specific features which would not be able to work with other reviews, but if one of them were to overfit it would definently be the one with the most keywords. \n",
    "\n",
    "Which seem to perform the best? Why?\n",
    "The one that performed the best would be the one with the most keywords as it has the largest range of words to match for a positive result. \n",
    "\n",
    "Which features seemed to be most impactful to performance?\n",
    "Name the keyword 'good', seems to be the most impactful as it was able to detect roughly 50% of all the positive reviews by itself. "
   ]
  }
 ],
 "metadata": {
  "kernelspec": {
   "display_name": "Python 3",
   "language": "python",
   "name": "python3"
  },
  "language_info": {
   "codemirror_mode": {
    "name": "ipython",
    "version": 3
   },
   "file_extension": ".py",
   "mimetype": "text/x-python",
   "name": "python",
   "nbconvert_exporter": "python",
   "pygments_lexer": "ipython3",
   "version": "3.7.0"
  }
 },
 "nbformat": 4,
 "nbformat_minor": 2
}
