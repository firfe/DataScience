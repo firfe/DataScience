{
 "cells": [
  {
   "cell_type": "markdown",
   "metadata": {},
   "source": [
    "Hello and welcome to my capstone project on the NJ transit situation. We will be taking a close look at the delays and cancellations of certain lines and seeing if there is any lines in particular that we will need to watch out for improvments. The goal of of this capstone is to create a model with a high enough accuracy to be able to detect when a delay will happen for the line it is observing.\n",
    "First we will load our data, while printing out how many rows and columns of data there are in order to get a sense of how big of a data set we are dealing with."
   ]
  },
  {
   "cell_type": "code",
   "execution_count": 1,
   "metadata": {},
   "outputs": [
    {
     "name": "stdout",
     "output_type": "stream",
     "text": [
      "(512775, 13)\n",
      "(779612, 13)\n",
      "(1033564, 13)\n",
      "(1294774, 13)\n",
      "(1563914, 13)\n"
     ]
    }
   ],
   "source": [
    "#https://www.kaggle.com/pranavbadami/nj-transit-amtrak-nec-performance/version/3\n",
    "\n",
    "import pandas as pd\n",
    "import numpy as np\n",
    "import scipy\n",
    "import matplotlib.pyplot as plt\n",
    "import seaborn as sb\n",
    "#read all csv files and concat into one data set called 'data'\n",
    "data = pd.read_csv('2018_03.csv')\n",
    "for i in range (4,9):\n",
    "    data = pd.concat([data, pd.read_csv('2018_0'+str(i)+'.csv')],axis=0,join='inner')\n",
    "    print(data.shape)"
   ]
  },
  {
   "cell_type": "code",
   "execution_count": 2,
   "metadata": {},
   "outputs": [
    {
     "data": {
      "text/html": [
       "<div>\n",
       "<style scoped>\n",
       "    .dataframe tbody tr th:only-of-type {\n",
       "        vertical-align: middle;\n",
       "    }\n",
       "\n",
       "    .dataframe tbody tr th {\n",
       "        vertical-align: top;\n",
       "    }\n",
       "\n",
       "    .dataframe thead th {\n",
       "        text-align: right;\n",
       "    }\n",
       "</style>\n",
       "<table border=\"1\" class=\"dataframe\">\n",
       "  <thead>\n",
       "    <tr style=\"text-align: right;\">\n",
       "      <th></th>\n",
       "      <th>date</th>\n",
       "      <th>train_id</th>\n",
       "      <th>stop_sequence</th>\n",
       "      <th>from</th>\n",
       "      <th>from_id</th>\n",
       "      <th>to</th>\n",
       "      <th>to_id</th>\n",
       "      <th>scheduled_time</th>\n",
       "      <th>actual_time</th>\n",
       "      <th>delay_minutes</th>\n",
       "      <th>status</th>\n",
       "      <th>line</th>\n",
       "      <th>type</th>\n",
       "    </tr>\n",
       "  </thead>\n",
       "  <tbody>\n",
       "    <tr>\n",
       "      <th>0</th>\n",
       "      <td>2018-03-01</td>\n",
       "      <td>3805</td>\n",
       "      <td>1.0</td>\n",
       "      <td>New York Penn Station</td>\n",
       "      <td>105.0</td>\n",
       "      <td>New York Penn Station</td>\n",
       "      <td>105.0</td>\n",
       "      <td>2018-03-02 01:22:00</td>\n",
       "      <td>2018-03-02 01:21:05</td>\n",
       "      <td>0.000000</td>\n",
       "      <td>departed</td>\n",
       "      <td>Northeast Corrdr</td>\n",
       "      <td>NJ Transit</td>\n",
       "    </tr>\n",
       "    <tr>\n",
       "      <th>1</th>\n",
       "      <td>2018-03-01</td>\n",
       "      <td>3805</td>\n",
       "      <td>2.0</td>\n",
       "      <td>New York Penn Station</td>\n",
       "      <td>105.0</td>\n",
       "      <td>Secaucus Upper Lvl</td>\n",
       "      <td>38187.0</td>\n",
       "      <td>2018-03-02 01:31:00</td>\n",
       "      <td>2018-03-02 01:31:08</td>\n",
       "      <td>0.133333</td>\n",
       "      <td>departed</td>\n",
       "      <td>Northeast Corrdr</td>\n",
       "      <td>NJ Transit</td>\n",
       "    </tr>\n",
       "    <tr>\n",
       "      <th>2</th>\n",
       "      <td>2018-03-01</td>\n",
       "      <td>3805</td>\n",
       "      <td>3.0</td>\n",
       "      <td>Secaucus Upper Lvl</td>\n",
       "      <td>38187.0</td>\n",
       "      <td>Newark Penn Station</td>\n",
       "      <td>107.0</td>\n",
       "      <td>2018-03-02 01:40:00</td>\n",
       "      <td>2018-03-02 01:40:07</td>\n",
       "      <td>0.116667</td>\n",
       "      <td>departed</td>\n",
       "      <td>Northeast Corrdr</td>\n",
       "      <td>NJ Transit</td>\n",
       "    </tr>\n",
       "    <tr>\n",
       "      <th>3</th>\n",
       "      <td>2018-03-01</td>\n",
       "      <td>3805</td>\n",
       "      <td>4.0</td>\n",
       "      <td>Newark Penn Station</td>\n",
       "      <td>107.0</td>\n",
       "      <td>Newark Airport</td>\n",
       "      <td>37953.0</td>\n",
       "      <td>2018-03-02 01:45:00</td>\n",
       "      <td>2018-03-02 01:45:10</td>\n",
       "      <td>0.166667</td>\n",
       "      <td>departed</td>\n",
       "      <td>Northeast Corrdr</td>\n",
       "      <td>NJ Transit</td>\n",
       "    </tr>\n",
       "    <tr>\n",
       "      <th>4</th>\n",
       "      <td>2018-03-01</td>\n",
       "      <td>3805</td>\n",
       "      <td>5.0</td>\n",
       "      <td>Newark Airport</td>\n",
       "      <td>37953.0</td>\n",
       "      <td>North Elizabeth</td>\n",
       "      <td>109.0</td>\n",
       "      <td>2018-03-02 01:49:00</td>\n",
       "      <td>2018-03-02 01:49:10</td>\n",
       "      <td>0.166667</td>\n",
       "      <td>departed</td>\n",
       "      <td>Northeast Corrdr</td>\n",
       "      <td>NJ Transit</td>\n",
       "    </tr>\n",
       "    <tr>\n",
       "      <th>5</th>\n",
       "      <td>2018-03-01</td>\n",
       "      <td>3805</td>\n",
       "      <td>6.0</td>\n",
       "      <td>North Elizabeth</td>\n",
       "      <td>109.0</td>\n",
       "      <td>Elizabeth</td>\n",
       "      <td>41.0</td>\n",
       "      <td>2018-03-02 01:52:00</td>\n",
       "      <td>2018-03-02 01:52:01</td>\n",
       "      <td>0.016667</td>\n",
       "      <td>departed</td>\n",
       "      <td>Northeast Corrdr</td>\n",
       "      <td>NJ Transit</td>\n",
       "    </tr>\n",
       "    <tr>\n",
       "      <th>6</th>\n",
       "      <td>2018-03-01</td>\n",
       "      <td>3805</td>\n",
       "      <td>7.0</td>\n",
       "      <td>Elizabeth</td>\n",
       "      <td>41.0</td>\n",
       "      <td>Linden</td>\n",
       "      <td>70.0</td>\n",
       "      <td>2018-03-02 01:58:00</td>\n",
       "      <td>2018-03-02 01:58:05</td>\n",
       "      <td>0.083333</td>\n",
       "      <td>departed</td>\n",
       "      <td>Northeast Corrdr</td>\n",
       "      <td>NJ Transit</td>\n",
       "    </tr>\n",
       "    <tr>\n",
       "      <th>7</th>\n",
       "      <td>2018-03-01</td>\n",
       "      <td>3805</td>\n",
       "      <td>8.0</td>\n",
       "      <td>Linden</td>\n",
       "      <td>70.0</td>\n",
       "      <td>Rahway</td>\n",
       "      <td>127.0</td>\n",
       "      <td>2018-03-02 02:02:00</td>\n",
       "      <td>2018-03-02 02:01:03</td>\n",
       "      <td>0.000000</td>\n",
       "      <td>departed</td>\n",
       "      <td>Northeast Corrdr</td>\n",
       "      <td>NJ Transit</td>\n",
       "    </tr>\n",
       "    <tr>\n",
       "      <th>8</th>\n",
       "      <td>2018-03-01</td>\n",
       "      <td>3805</td>\n",
       "      <td>9.0</td>\n",
       "      <td>Rahway</td>\n",
       "      <td>127.0</td>\n",
       "      <td>Metropark</td>\n",
       "      <td>83.0</td>\n",
       "      <td>2018-03-02 02:08:00</td>\n",
       "      <td>2018-03-02 02:08:00</td>\n",
       "      <td>0.000000</td>\n",
       "      <td>departed</td>\n",
       "      <td>Northeast Corrdr</td>\n",
       "      <td>NJ Transit</td>\n",
       "    </tr>\n",
       "    <tr>\n",
       "      <th>9</th>\n",
       "      <td>2018-03-01</td>\n",
       "      <td>3805</td>\n",
       "      <td>10.0</td>\n",
       "      <td>Metropark</td>\n",
       "      <td>83.0</td>\n",
       "      <td>Metuchen</td>\n",
       "      <td>84.0</td>\n",
       "      <td>2018-03-02 02:13:00</td>\n",
       "      <td>2018-03-02 02:13:10</td>\n",
       "      <td>0.166667</td>\n",
       "      <td>departed</td>\n",
       "      <td>Northeast Corrdr</td>\n",
       "      <td>NJ Transit</td>\n",
       "    </tr>\n",
       "  </tbody>\n",
       "</table>\n",
       "</div>"
      ],
      "text/plain": [
       "         date train_id  stop_sequence                   from  from_id  \\\n",
       "0  2018-03-01     3805            1.0  New York Penn Station    105.0   \n",
       "1  2018-03-01     3805            2.0  New York Penn Station    105.0   \n",
       "2  2018-03-01     3805            3.0     Secaucus Upper Lvl  38187.0   \n",
       "3  2018-03-01     3805            4.0    Newark Penn Station    107.0   \n",
       "4  2018-03-01     3805            5.0         Newark Airport  37953.0   \n",
       "5  2018-03-01     3805            6.0        North Elizabeth    109.0   \n",
       "6  2018-03-01     3805            7.0              Elizabeth     41.0   \n",
       "7  2018-03-01     3805            8.0                 Linden     70.0   \n",
       "8  2018-03-01     3805            9.0                 Rahway    127.0   \n",
       "9  2018-03-01     3805           10.0              Metropark     83.0   \n",
       "\n",
       "                      to    to_id       scheduled_time          actual_time  \\\n",
       "0  New York Penn Station    105.0  2018-03-02 01:22:00  2018-03-02 01:21:05   \n",
       "1     Secaucus Upper Lvl  38187.0  2018-03-02 01:31:00  2018-03-02 01:31:08   \n",
       "2    Newark Penn Station    107.0  2018-03-02 01:40:00  2018-03-02 01:40:07   \n",
       "3         Newark Airport  37953.0  2018-03-02 01:45:00  2018-03-02 01:45:10   \n",
       "4        North Elizabeth    109.0  2018-03-02 01:49:00  2018-03-02 01:49:10   \n",
       "5              Elizabeth     41.0  2018-03-02 01:52:00  2018-03-02 01:52:01   \n",
       "6                 Linden     70.0  2018-03-02 01:58:00  2018-03-02 01:58:05   \n",
       "7                 Rahway    127.0  2018-03-02 02:02:00  2018-03-02 02:01:03   \n",
       "8              Metropark     83.0  2018-03-02 02:08:00  2018-03-02 02:08:00   \n",
       "9               Metuchen     84.0  2018-03-02 02:13:00  2018-03-02 02:13:10   \n",
       "\n",
       "   delay_minutes    status              line        type  \n",
       "0       0.000000  departed  Northeast Corrdr  NJ Transit  \n",
       "1       0.133333  departed  Northeast Corrdr  NJ Transit  \n",
       "2       0.116667  departed  Northeast Corrdr  NJ Transit  \n",
       "3       0.166667  departed  Northeast Corrdr  NJ Transit  \n",
       "4       0.166667  departed  Northeast Corrdr  NJ Transit  \n",
       "5       0.016667  departed  Northeast Corrdr  NJ Transit  \n",
       "6       0.083333  departed  Northeast Corrdr  NJ Transit  \n",
       "7       0.000000  departed  Northeast Corrdr  NJ Transit  \n",
       "8       0.000000  departed  Northeast Corrdr  NJ Transit  \n",
       "9       0.166667  departed  Northeast Corrdr  NJ Transit  "
      ]
     },
     "execution_count": 2,
     "metadata": {},
     "output_type": "execute_result"
    }
   ],
   "source": [
    "data.head(10)"
   ]
  },
  {
   "cell_type": "code",
   "execution_count": 3,
   "metadata": {},
   "outputs": [
    {
     "data": {
      "text/plain": [
       "<matplotlib.axes._subplots.AxesSubplot at 0x1396364c588>"
      ]
     },
     "execution_count": 3,
     "metadata": {},
     "output_type": "execute_result"
    },
    {
     "data": {
      "image/png": "[encoded data removed]",
      "text/plain": [
       "<Figure size 432x288 with 1 Axes>"
      ]
     },
     "metadata": {
      "needs_background": "light"
     },
     "output_type": "display_data"
    }
   ],
   "source": [
    "#Create plot to see overall status's of our trains\n",
    "sb.countplot(data['status'])"
   ]
  },
  {
   "cell_type": "markdown",
   "metadata": {},
   "source": [
    "Here we can observe that there are in actuality very few lines which are cancelled, and alot of trains do actually depart (and thankfully not cancelled). For the lines that are delayed, which lines are the main culprits?"
   ]
  },
  {
   "cell_type": "code",
   "execution_count": 4,
   "metadata": {},
   "outputs": [
    {
     "data": {
      "text/plain": [
       "<matplotlib.axes._subplots.AxesSubplot at 0x13902319550>"
      ]
     },
     "execution_count": 4,
     "metadata": {},
     "output_type": "execute_result"
    },
    {
     "data": {
      "image/png": "[encoded data removed]",
      "text/plain": [
       "<Figure size 432x288 with 1 Axes>"
      ]
     },
     "metadata": {
      "needs_background": "light"
     },
     "output_type": "display_data"
    }
   ],
   "source": [
    "data.groupby('line')['delay_minutes'].mean().sort_values(ascending=False).plot(kind='bar')"
   ]
  },
  {
   "cell_type": "markdown",
   "metadata": {},
   "source": [
    "After creating a plot which highlights the mean value of delays for the trains, we can observe that there are a fair number of lines that do not have any significant delays, while there are also few which have a very high amount of delays. By creating another bar graph which filters out only longer delays, we can get a better gauge of how the data behaves."
   ]
  },
  {
   "cell_type": "code",
   "execution_count": 5,
   "metadata": {},
   "outputs": [
    {
     "data": {
      "text/plain": [
       "<matplotlib.axes._subplots.AxesSubplot at 0x13902410fd0>"
      ]
     },
     "execution_count": 5,
     "metadata": {},
     "output_type": "execute_result"
    },
    {
     "data": {
      "image/png": "[encoded data removed]",
      "text/plain": [
       "<Figure size 432x288 with 1 Axes>"
      ]
     },
     "metadata": {
      "needs_background": "light"
     },
     "output_type": "display_data"
    }
   ],
   "source": [
    "data['long_delay'] = data['delay_minutes'] > 5\n",
    "data.groupby('line')['long_delay'].mean().sort_values(ascending=False).plot(kind='bar')"
   ]
  },
  {
   "cell_type": "markdown",
   "metadata": {},
   "source": [
    "It seems that with the data we have, it is pretty consistent with what lines will have notable delays. Lines that have small delays will also have long delays (besides Princeton Shuttle). "
   ]
  },
  {
   "cell_type": "code",
   "execution_count": 6,
   "metadata": {},
   "outputs": [
    {
     "name": "stdout",
     "output_type": "stream",
     "text": [
      "<class 'pandas.core.frame.DataFrame'>\n",
      "Int64Index: 1563914 entries, 0 to 269139\n",
      "Data columns (total 14 columns):\n",
      "date              1563914 non-null object\n",
      "train_id          1563914 non-null object\n",
      "stop_sequence     1475201 non-null float64\n",
      "from              1563914 non-null object\n",
      "from_id           1563106 non-null float64\n",
      "to                1563914 non-null object\n",
      "to_id             1563106 non-null float64\n",
      "scheduled_time    1475201 non-null object\n",
      "actual_time       1563914 non-null object\n",
      "delay_minutes     1475201 non-null float64\n",
      "status            1563914 non-null object\n",
      "line              1563914 non-null object\n",
      "type              1563914 non-null object\n",
      "long_delay        1563914 non-null bool\n",
      "dtypes: bool(1), float64(4), object(9)\n",
      "memory usage: 208.5+ MB\n",
      "None\n"
     ]
    }
   ],
   "source": [
    "print(data.info())"
   ]
  },
  {
   "cell_type": "code",
   "execution_count": 7,
   "metadata": {},
   "outputs": [],
   "source": [
    "data.isna().sum()\n",
    "data.dropna(inplace=True)"
   ]
  },
  {
   "cell_type": "markdown",
   "metadata": {},
   "source": [
    "Here we are going to convert scheduled_time to a date time variableso that we can retrieve the individual date and time and seperate them into a different column. In this way we can isolate the start date and the start time and change them into categorical variables. This will help us notice trends for delays on certain start days and times. It is not important to alter the actual_time, as the delay_minutes variable lets us know if its different from the scheduled time."
   ]
  },
  {
   "cell_type": "code",
   "execution_count": 8,
   "metadata": {},
   "outputs": [
    {
     "data": {
      "text/html": [
       "<div>\n",
       "<style scoped>\n",
       "    .dataframe tbody tr th:only-of-type {\n",
       "        vertical-align: middle;\n",
       "    }\n",
       "\n",
       "    .dataframe tbody tr th {\n",
       "        vertical-align: top;\n",
       "    }\n",
       "\n",
       "    .dataframe thead th {\n",
       "        text-align: right;\n",
       "    }\n",
       "</style>\n",
       "<table border=\"1\" class=\"dataframe\">\n",
       "  <thead>\n",
       "    <tr style=\"text-align: right;\">\n",
       "      <th></th>\n",
       "      <th>date</th>\n",
       "      <th>train_id</th>\n",
       "      <th>stop_sequence</th>\n",
       "      <th>from</th>\n",
       "      <th>from_id</th>\n",
       "      <th>to</th>\n",
       "      <th>to_id</th>\n",
       "      <th>scheduled_time</th>\n",
       "      <th>actual_time</th>\n",
       "      <th>delay_minutes</th>\n",
       "      <th>status</th>\n",
       "      <th>line</th>\n",
       "      <th>type</th>\n",
       "      <th>long_delay</th>\n",
       "      <th>numerical date</th>\n",
       "      <th>s_t_time</th>\n",
       "      <th>s_d_time</th>\n",
       "    </tr>\n",
       "  </thead>\n",
       "  <tbody>\n",
       "    <tr>\n",
       "      <th>0</th>\n",
       "      <td>2018-03-01</td>\n",
       "      <td>3805</td>\n",
       "      <td>1.0</td>\n",
       "      <td>New York Penn Station</td>\n",
       "      <td>105.0</td>\n",
       "      <td>New York Penn Station</td>\n",
       "      <td>105.0</td>\n",
       "      <td>2018-03-02 01:22:00</td>\n",
       "      <td>2018-03-02 01:21:05</td>\n",
       "      <td>0.000000</td>\n",
       "      <td>departed</td>\n",
       "      <td>Northeast Corrdr</td>\n",
       "      <td>NJ Transit</td>\n",
       "      <td>False</td>\n",
       "      <td>20180301</td>\n",
       "      <td>01:22:00</td>\n",
       "      <td>2018-03-02</td>\n",
       "    </tr>\n",
       "    <tr>\n",
       "      <th>1</th>\n",
       "      <td>2018-03-01</td>\n",
       "      <td>3805</td>\n",
       "      <td>2.0</td>\n",
       "      <td>New York Penn Station</td>\n",
       "      <td>105.0</td>\n",
       "      <td>Secaucus Upper Lvl</td>\n",
       "      <td>38187.0</td>\n",
       "      <td>2018-03-02 01:31:00</td>\n",
       "      <td>2018-03-02 01:31:08</td>\n",
       "      <td>0.133333</td>\n",
       "      <td>departed</td>\n",
       "      <td>Northeast Corrdr</td>\n",
       "      <td>NJ Transit</td>\n",
       "      <td>False</td>\n",
       "      <td>20180301</td>\n",
       "      <td>01:31:00</td>\n",
       "      <td>2018-03-02</td>\n",
       "    </tr>\n",
       "    <tr>\n",
       "      <th>2</th>\n",
       "      <td>2018-03-01</td>\n",
       "      <td>3805</td>\n",
       "      <td>3.0</td>\n",
       "      <td>Secaucus Upper Lvl</td>\n",
       "      <td>38187.0</td>\n",
       "      <td>Newark Penn Station</td>\n",
       "      <td>107.0</td>\n",
       "      <td>2018-03-02 01:40:00</td>\n",
       "      <td>2018-03-02 01:40:07</td>\n",
       "      <td>0.116667</td>\n",
       "      <td>departed</td>\n",
       "      <td>Northeast Corrdr</td>\n",
       "      <td>NJ Transit</td>\n",
       "      <td>False</td>\n",
       "      <td>20180301</td>\n",
       "      <td>01:40:00</td>\n",
       "      <td>2018-03-02</td>\n",
       "    </tr>\n",
       "    <tr>\n",
       "      <th>3</th>\n",
       "      <td>2018-03-01</td>\n",
       "      <td>3805</td>\n",
       "      <td>4.0</td>\n",
       "      <td>Newark Penn Station</td>\n",
       "      <td>107.0</td>\n",
       "      <td>Newark Airport</td>\n",
       "      <td>37953.0</td>\n",
       "      <td>2018-03-02 01:45:00</td>\n",
       "      <td>2018-03-02 01:45:10</td>\n",
       "      <td>0.166667</td>\n",
       "      <td>departed</td>\n",
       "      <td>Northeast Corrdr</td>\n",
       "      <td>NJ Transit</td>\n",
       "      <td>False</td>\n",
       "      <td>20180301</td>\n",
       "      <td>01:45:00</td>\n",
       "      <td>2018-03-02</td>\n",
       "    </tr>\n",
       "    <tr>\n",
       "      <th>4</th>\n",
       "      <td>2018-03-01</td>\n",
       "      <td>3805</td>\n",
       "      <td>5.0</td>\n",
       "      <td>Newark Airport</td>\n",
       "      <td>37953.0</td>\n",
       "      <td>North Elizabeth</td>\n",
       "      <td>109.0</td>\n",
       "      <td>2018-03-02 01:49:00</td>\n",
       "      <td>2018-03-02 01:49:10</td>\n",
       "      <td>0.166667</td>\n",
       "      <td>departed</td>\n",
       "      <td>Northeast Corrdr</td>\n",
       "      <td>NJ Transit</td>\n",
       "      <td>False</td>\n",
       "      <td>20180301</td>\n",
       "      <td>01:49:00</td>\n",
       "      <td>2018-03-02</td>\n",
       "    </tr>\n",
       "    <tr>\n",
       "      <th>5</th>\n",
       "      <td>2018-03-01</td>\n",
       "      <td>3805</td>\n",
       "      <td>6.0</td>\n",
       "      <td>North Elizabeth</td>\n",
       "      <td>109.0</td>\n",
       "      <td>Elizabeth</td>\n",
       "      <td>41.0</td>\n",
       "      <td>2018-03-02 01:52:00</td>\n",
       "      <td>2018-03-02 01:52:01</td>\n",
       "      <td>0.016667</td>\n",
       "      <td>departed</td>\n",
       "      <td>Northeast Corrdr</td>\n",
       "      <td>NJ Transit</td>\n",
       "      <td>False</td>\n",
       "      <td>20180301</td>\n",
       "      <td>01:52:00</td>\n",
       "      <td>2018-03-02</td>\n",
       "    </tr>\n",
       "    <tr>\n",
       "      <th>6</th>\n",
       "      <td>2018-03-01</td>\n",
       "      <td>3805</td>\n",
       "      <td>7.0</td>\n",
       "      <td>Elizabeth</td>\n",
       "      <td>41.0</td>\n",
       "      <td>Linden</td>\n",
       "      <td>70.0</td>\n",
       "      <td>2018-03-02 01:58:00</td>\n",
       "      <td>2018-03-02 01:58:05</td>\n",
       "      <td>0.083333</td>\n",
       "      <td>departed</td>\n",
       "      <td>Northeast Corrdr</td>\n",
       "      <td>NJ Transit</td>\n",
       "      <td>False</td>\n",
       "      <td>20180301</td>\n",
       "      <td>01:58:00</td>\n",
       "      <td>2018-03-02</td>\n",
       "    </tr>\n",
       "    <tr>\n",
       "      <th>7</th>\n",
       "      <td>2018-03-01</td>\n",
       "      <td>3805</td>\n",
       "      <td>8.0</td>\n",
       "      <td>Linden</td>\n",
       "      <td>70.0</td>\n",
       "      <td>Rahway</td>\n",
       "      <td>127.0</td>\n",
       "      <td>2018-03-02 02:02:00</td>\n",
       "      <td>2018-03-02 02:01:03</td>\n",
       "      <td>0.000000</td>\n",
       "      <td>departed</td>\n",
       "      <td>Northeast Corrdr</td>\n",
       "      <td>NJ Transit</td>\n",
       "      <td>False</td>\n",
       "      <td>20180301</td>\n",
       "      <td>02:02:00</td>\n",
       "      <td>2018-03-02</td>\n",
       "    </tr>\n",
       "    <tr>\n",
       "      <th>8</th>\n",
       "      <td>2018-03-01</td>\n",
       "      <td>3805</td>\n",
       "      <td>9.0</td>\n",
       "      <td>Rahway</td>\n",
       "      <td>127.0</td>\n",
       "      <td>Metropark</td>\n",
       "      <td>83.0</td>\n",
       "      <td>2018-03-02 02:08:00</td>\n",
       "      <td>2018-03-02 02:08:00</td>\n",
       "      <td>0.000000</td>\n",
       "      <td>departed</td>\n",
       "      <td>Northeast Corrdr</td>\n",
       "      <td>NJ Transit</td>\n",
       "      <td>False</td>\n",
       "      <td>20180301</td>\n",
       "      <td>02:08:00</td>\n",
       "      <td>2018-03-02</td>\n",
       "    </tr>\n",
       "    <tr>\n",
       "      <th>9</th>\n",
       "      <td>2018-03-01</td>\n",
       "      <td>3805</td>\n",
       "      <td>10.0</td>\n",
       "      <td>Metropark</td>\n",
       "      <td>83.0</td>\n",
       "      <td>Metuchen</td>\n",
       "      <td>84.0</td>\n",
       "      <td>2018-03-02 02:13:00</td>\n",
       "      <td>2018-03-02 02:13:10</td>\n",
       "      <td>0.166667</td>\n",
       "      <td>departed</td>\n",
       "      <td>Northeast Corrdr</td>\n",
       "      <td>NJ Transit</td>\n",
       "      <td>False</td>\n",
       "      <td>20180301</td>\n",
       "      <td>02:13:00</td>\n",
       "      <td>2018-03-02</td>\n",
       "    </tr>\n",
       "  </tbody>\n",
       "</table>\n",
       "</div>"
      ],
      "text/plain": [
       "         date train_id  stop_sequence                   from  from_id  \\\n",
       "0  2018-03-01     3805            1.0  New York Penn Station    105.0   \n",
       "1  2018-03-01     3805            2.0  New York Penn Station    105.0   \n",
       "2  2018-03-01     3805            3.0     Secaucus Upper Lvl  38187.0   \n",
       "3  2018-03-01     3805            4.0    Newark Penn Station    107.0   \n",
       "4  2018-03-01     3805            5.0         Newark Airport  37953.0   \n",
       "5  2018-03-01     3805            6.0        North Elizabeth    109.0   \n",
       "6  2018-03-01     3805            7.0              Elizabeth     41.0   \n",
       "7  2018-03-01     3805            8.0                 Linden     70.0   \n",
       "8  2018-03-01     3805            9.0                 Rahway    127.0   \n",
       "9  2018-03-01     3805           10.0              Metropark     83.0   \n",
       "\n",
       "                      to    to_id       scheduled_time          actual_time  \\\n",
       "0  New York Penn Station    105.0  2018-03-02 01:22:00  2018-03-02 01:21:05   \n",
       "1     Secaucus Upper Lvl  38187.0  2018-03-02 01:31:00  2018-03-02 01:31:08   \n",
       "2    Newark Penn Station    107.0  2018-03-02 01:40:00  2018-03-02 01:40:07   \n",
       "3         Newark Airport  37953.0  2018-03-02 01:45:00  2018-03-02 01:45:10   \n",
       "4        North Elizabeth    109.0  2018-03-02 01:49:00  2018-03-02 01:49:10   \n",
       "5              Elizabeth     41.0  2018-03-02 01:52:00  2018-03-02 01:52:01   \n",
       "6                 Linden     70.0  2018-03-02 01:58:00  2018-03-02 01:58:05   \n",
       "7                 Rahway    127.0  2018-03-02 02:02:00  2018-03-02 02:01:03   \n",
       "8              Metropark     83.0  2018-03-02 02:08:00  2018-03-02 02:08:00   \n",
       "9               Metuchen     84.0  2018-03-02 02:13:00  2018-03-02 02:13:10   \n",
       "\n",
       "   delay_minutes    status              line        type  long_delay  \\\n",
       "0       0.000000  departed  Northeast Corrdr  NJ Transit       False   \n",
       "1       0.133333  departed  Northeast Corrdr  NJ Transit       False   \n",
       "2       0.116667  departed  Northeast Corrdr  NJ Transit       False   \n",
       "3       0.166667  departed  Northeast Corrdr  NJ Transit       False   \n",
       "4       0.166667  departed  Northeast Corrdr  NJ Transit       False   \n",
       "5       0.016667  departed  Northeast Corrdr  NJ Transit       False   \n",
       "6       0.083333  departed  Northeast Corrdr  NJ Transit       False   \n",
       "7       0.000000  departed  Northeast Corrdr  NJ Transit       False   \n",
       "8       0.000000  departed  Northeast Corrdr  NJ Transit       False   \n",
       "9       0.166667  departed  Northeast Corrdr  NJ Transit       False   \n",
       "\n",
       "   numerical date  s_t_time    s_d_time  \n",
       "0        20180301  01:22:00  2018-03-02  \n",
       "1        20180301  01:31:00  2018-03-02  \n",
       "2        20180301  01:40:00  2018-03-02  \n",
       "3        20180301  01:45:00  2018-03-02  \n",
       "4        20180301  01:49:00  2018-03-02  \n",
       "5        20180301  01:52:00  2018-03-02  \n",
       "6        20180301  01:58:00  2018-03-02  \n",
       "7        20180301  02:02:00  2018-03-02  \n",
       "8        20180301  02:08:00  2018-03-02  \n",
       "9        20180301  02:13:00  2018-03-02  "
      ]
     },
     "execution_count": 8,
     "metadata": {},
     "output_type": "execute_result"
    }
   ],
   "source": [
    "#create int64 data columns for date\n",
    "data['numerical date'] = data['date'].str.replace('\\D', '').astype(int)\n",
    "import datetime as dt\n",
    "data.dropna(inplace=True)\n",
    "data['scheduled_time'] = data['scheduled_time'].astype(str)\n",
    "data['s_t_time'] = data['scheduled_time'].apply(lambda x: dt.datetime.strptime(x,'%Y-%m-%d %H:%M:%S').time())\n",
    "data['s_d_time'] = data['scheduled_time'].apply(lambda x: dt.datetime.strptime(x,'%Y-%m-%d %H:%M:%S').date())\n",
    "data.head(10)"
   ]
  },
  {
   "cell_type": "code",
   "execution_count": 9,
   "metadata": {},
   "outputs": [],
   "source": [
    "data['delayed'] = data['delay_minutes'].apply(lambda x: True if x > 0.0 else False)"
   ]
  },
  {
   "cell_type": "code",
   "execution_count": 10,
   "metadata": {},
   "outputs": [
    {
     "data": {
      "text/plain": [
       "True     1282219\n",
       "False     192182\n",
       "Name: delayed, dtype: int64"
      ]
     },
     "execution_count": 10,
     "metadata": {},
     "output_type": "execute_result"
    },
    {
     "data": {
      "image/png": "[encoded data removed]",
      "text/plain": [
       "<Figure size 432x288 with 1 Axes>"
      ]
     },
     "metadata": {
      "needs_background": "light"
     },
     "output_type": "display_data"
    }
   ],
   "source": [
    "#Create countplot to detect data unbalances in the dataset. \n",
    "sb.countplot(data['delayed'])\n",
    "data['delayed'].value_counts()"
   ]
  },
  {
   "cell_type": "code",
   "execution_count": 12,
   "metadata": {},
   "outputs": [],
   "source": [
    "# Convert Objects to Categorical\n",
    "col = ['line', 'status', 'type', 'from', 'to', 'train_id', 's_d_time', 's_t_time', 'train_id', 'delayed']\n",
    "for i in data[col]:\n",
    "    if data.dtypes[i] == 'object':\n",
    "        data[i] = data[i].astype('category').cat.codes"
   ]
  },
  {
   "cell_type": "code",
   "execution_count": 13,
   "metadata": {},
   "outputs": [
    {
     "name": "stdout",
     "output_type": "stream",
     "text": [
      "<class 'pandas.core.frame.DataFrame'>\n",
      "Int64Index: 1474401 entries, 0 to 269127\n",
      "Data columns (total 18 columns):\n",
      "date              1474401 non-null object\n",
      "train_id          1474401 non-null int16\n",
      "stop_sequence     1474401 non-null float64\n",
      "from              1474401 non-null int16\n",
      "from_id           1474401 non-null float64\n",
      "to                1474401 non-null int16\n",
      "to_id             1474401 non-null float64\n",
      "scheduled_time    1474401 non-null object\n",
      "actual_time       1474401 non-null object\n",
      "delay_minutes     1474401 non-null float64\n",
      "status            1474401 non-null int8\n",
      "line              1474401 non-null int8\n",
      "type              1474401 non-null int8\n",
      "long_delay        1474401 non-null bool\n",
      "numerical date    1474401 non-null int32\n",
      "s_t_time          1474401 non-null int16\n",
      "s_d_time          1474401 non-null int16\n",
      "delayed           1474401 non-null bool\n",
      "dtypes: bool(2), float64(4), int16(5), int32(1), int8(3), object(3)\n",
      "memory usage: 156.7+ MB\n"
     ]
    }
   ],
   "source": [
    "data.info()"
   ]
  },
  {
   "cell_type": "markdown",
   "metadata": {},
   "source": [
    "After converting all the relevant data of the 'object' type data columns into categorical type points, we can use a heatmap to gauge the correlation between the two different features to gain a better understanding of how well our features correlate with our target focus \"delayed\"."
   ]
  },
  {
   "cell_type": "code",
   "execution_count": 14,
   "metadata": {},
   "outputs": [
    {
     "data": {
      "text/plain": [
       "Text(0.5, 1.0, 'Variable Correlation')"
      ]
     },
     "execution_count": 14,
     "metadata": {},
     "output_type": "execute_result"
    },
    {
     "data": {
      "image/png": "[encoded data removed]",
      "text/plain": [
       "<Figure size 720x432 with 2 Axes>"
      ]
     },
     "metadata": {
      "needs_background": "light"
     },
     "output_type": "display_data"
    }
   ],
   "source": [
    "plt.figure(figsize=(10,6))\n",
    "sb.heatmap(data.corr(),cmap = 'coolwarm',linewidth = 1,annot= True, annot_kws={\"size\": 9})\n",
    "plt.title('Variable Correlation')"
   ]
  },
  {
   "cell_type": "code",
   "execution_count": 15,
   "metadata": {},
   "outputs": [
    {
     "data": {
      "text/html": [
       "<div>\n",
       "<style scoped>\n",
       "    .dataframe tbody tr th:only-of-type {\n",
       "        vertical-align: middle;\n",
       "    }\n",
       "\n",
       "    .dataframe tbody tr th {\n",
       "        vertical-align: top;\n",
       "    }\n",
       "\n",
       "    .dataframe thead th {\n",
       "        text-align: right;\n",
       "    }\n",
       "</style>\n",
       "<table border=\"1\" class=\"dataframe\">\n",
       "  <thead>\n",
       "    <tr style=\"text-align: right;\">\n",
       "      <th></th>\n",
       "      <th>line</th>\n",
       "      <th>status</th>\n",
       "      <th>type</th>\n",
       "      <th>from</th>\n",
       "      <th>to</th>\n",
       "      <th>s_d_time</th>\n",
       "      <th>s_t_time</th>\n",
       "      <th>train_id</th>\n",
       "    </tr>\n",
       "  </thead>\n",
       "  <tbody>\n",
       "    <tr>\n",
       "      <th>0</th>\n",
       "      <td>7</td>\n",
       "      <td>1</td>\n",
       "      <td>0</td>\n",
       "      <td>101</td>\n",
       "      <td>101</td>\n",
       "      <td>1</td>\n",
       "      <td>82</td>\n",
       "      <td>582</td>\n",
       "    </tr>\n",
       "    <tr>\n",
       "      <th>1</th>\n",
       "      <td>7</td>\n",
       "      <td>1</td>\n",
       "      <td>0</td>\n",
       "      <td>101</td>\n",
       "      <td>136</td>\n",
       "      <td>1</td>\n",
       "      <td>90</td>\n",
       "      <td>582</td>\n",
       "    </tr>\n",
       "    <tr>\n",
       "      <th>2</th>\n",
       "      <td>7</td>\n",
       "      <td>1</td>\n",
       "      <td>0</td>\n",
       "      <td>136</td>\n",
       "      <td>104</td>\n",
       "      <td>1</td>\n",
       "      <td>98</td>\n",
       "      <td>582</td>\n",
       "    </tr>\n",
       "    <tr>\n",
       "      <th>3</th>\n",
       "      <td>7</td>\n",
       "      <td>1</td>\n",
       "      <td>0</td>\n",
       "      <td>104</td>\n",
       "      <td>102</td>\n",
       "      <td>1</td>\n",
       "      <td>103</td>\n",
       "      <td>582</td>\n",
       "    </tr>\n",
       "    <tr>\n",
       "      <th>4</th>\n",
       "      <td>7</td>\n",
       "      <td>1</td>\n",
       "      <td>0</td>\n",
       "      <td>102</td>\n",
       "      <td>106</td>\n",
       "      <td>1</td>\n",
       "      <td>107</td>\n",
       "      <td>582</td>\n",
       "    </tr>\n",
       "    <tr>\n",
       "      <th>5</th>\n",
       "      <td>7</td>\n",
       "      <td>1</td>\n",
       "      <td>0</td>\n",
       "      <td>106</td>\n",
       "      <td>37</td>\n",
       "      <td>1</td>\n",
       "      <td>110</td>\n",
       "      <td>582</td>\n",
       "    </tr>\n",
       "    <tr>\n",
       "      <th>6</th>\n",
       "      <td>7</td>\n",
       "      <td>1</td>\n",
       "      <td>0</td>\n",
       "      <td>37</td>\n",
       "      <td>65</td>\n",
       "      <td>1</td>\n",
       "      <td>116</td>\n",
       "      <td>582</td>\n",
       "    </tr>\n",
       "    <tr>\n",
       "      <th>7</th>\n",
       "      <td>7</td>\n",
       "      <td>1</td>\n",
       "      <td>0</td>\n",
       "      <td>65</td>\n",
       "      <td>125</td>\n",
       "      <td>1</td>\n",
       "      <td>119</td>\n",
       "      <td>582</td>\n",
       "    </tr>\n",
       "    <tr>\n",
       "      <th>8</th>\n",
       "      <td>7</td>\n",
       "      <td>1</td>\n",
       "      <td>0</td>\n",
       "      <td>125</td>\n",
       "      <td>76</td>\n",
       "      <td>1</td>\n",
       "      <td>125</td>\n",
       "      <td>582</td>\n",
       "    </tr>\n",
       "    <tr>\n",
       "      <th>9</th>\n",
       "      <td>7</td>\n",
       "      <td>1</td>\n",
       "      <td>0</td>\n",
       "      <td>76</td>\n",
       "      <td>77</td>\n",
       "      <td>1</td>\n",
       "      <td>130</td>\n",
       "      <td>582</td>\n",
       "    </tr>\n",
       "  </tbody>\n",
       "</table>\n",
       "</div>"
      ],
      "text/plain": [
       "   line  status  type  from   to  s_d_time  s_t_time  train_id\n",
       "0     7       1     0   101  101         1        82       582\n",
       "1     7       1     0   101  136         1        90       582\n",
       "2     7       1     0   136  104         1        98       582\n",
       "3     7       1     0   104  102         1       103       582\n",
       "4     7       1     0   102  106         1       107       582\n",
       "5     7       1     0   106   37         1       110       582\n",
       "6     7       1     0    37   65         1       116       582\n",
       "7     7       1     0    65  125         1       119       582\n",
       "8     7       1     0   125   76         1       125       582\n",
       "9     7       1     0    76   77         1       130       582"
      ]
     },
     "execution_count": 15,
     "metadata": {},
     "output_type": "execute_result"
    }
   ],
   "source": [
    "target = data.delayed.copy()\n",
    "\n",
    "selected_data = data[['line', 'status', 'type', 'from', 'to', 's_d_time', 's_t_time', 'train_id']]\n",
    "selected_data.head(10)"
   ]
  },
  {
   "cell_type": "markdown",
   "metadata": {},
   "source": [
    "# Resample"
   ]
  },
  {
   "cell_type": "code",
   "execution_count": 16,
   "metadata": {},
   "outputs": [
    {
     "name": "stderr",
     "output_type": "stream",
     "text": [
      "C:\\Users\\ronal\\AppData\\Local\\Continuum\\anaconda3\\lib\\site-packages\\sklearn\\ensemble\\weight_boosting.py:29: DeprecationWarning: numpy.core.umath_tests is an internal NumPy module and should not be imported. It will be removed in a future NumPy release.\n",
      "  from numpy.core.umath_tests import inner1d\n"
     ]
    }
   ],
   "source": [
    "#Utilize SmoteTomek to apply both over and undersampling to the data\n",
    "from imblearn.combine import SMOTETomek\n",
    "\n",
    "smt = SMOTETomek(ratio='auto')\n",
    "X_resampled, y_resampled = smt.fit_sample(selected_data, target)"
   ]
  },
  {
   "cell_type": "code",
   "execution_count": 17,
   "metadata": {},
   "outputs": [],
   "source": [
    "#Create our testing and training data set, with spread of 70% in training and 30% in testing\n",
    "from sklearn.model_selection import train_test_split\n",
    "X_train, X_test, y_train, y_test = train_test_split(X_resampled, y_resampled, test_size=0.3, random_state=20)\n",
    "\n",
    "import time\n",
    "start_time = time.time() \n",
    "reset_time = time.time() - start_time"
   ]
  },
  {
   "cell_type": "markdown",
   "metadata": {},
   "source": [
    "Due to our data being heavily weighted in containing data where a train is delayed, in order to achieve the benefits of both oversampling and undersampling of our data we will be utilizing SMOTETomek. This will give us a balanced dataset to work with. "
   ]
  },
  {
   "cell_type": "markdown",
   "metadata": {},
   "source": [
    "# Naive Bayes"
   ]
  },
  {
   "cell_type": "code",
   "execution_count": 18,
   "metadata": {},
   "outputs": [
    {
     "name": "stdout",
     "output_type": "stream",
     "text": [
      "--- 0.8234584331512451 seconds ---\n"
     ]
    }
   ],
   "source": [
    "import warnings\n",
    "warnings.filterwarnings(\"ignore\")\n",
    "\n",
    "#Create a normal Naive Bayes plot\n",
    "from sklearn.naive_bayes import BernoulliNB\n",
    "nb = BernoulliNB()\n",
    "nb.fit(X_train, y_train)\n",
    "print(\"--- %s seconds ---\" % (time.time() - start_time - reset_time))\n",
    "reset_time = time.time() - start_time"
   ]
  },
  {
   "cell_type": "markdown",
   "metadata": {},
   "source": [
    "# Regular Decision Tree"
   ]
  },
  {
   "cell_type": "code",
   "execution_count": 19,
   "metadata": {},
   "outputs": [
    {
     "name": "stdout",
     "output_type": "stream",
     "text": [
      "--- 5.730699062347412 seconds ---\n"
     ]
    }
   ],
   "source": [
    "from sklearn import tree\n",
    "\n",
    "#This initiates the DecisionTreeClassifier\n",
    "decision_tree = tree.DecisionTreeClassifier(\n",
    "    criterion='entropy',\n",
    "    max_features = 7, #Use 7 of the features\n",
    "    max_depth = 5 #Tree goes 5 branches down\n",
    ")\n",
    "#Fits the decisiontree onto the data\n",
    "decision_tree.fit(X_train, y_train)\n",
    "\n",
    "print(\"--- %s seconds ---\" % (time.time() - start_time - reset_time))\n",
    "reset_time = time.time() - start_time"
   ]
  },
  {
   "cell_type": "markdown",
   "metadata": {},
   "source": [
    "# Random Forest Tree"
   ]
  },
  {
   "cell_type": "code",
   "execution_count": 20,
   "metadata": {},
   "outputs": [
    {
     "name": "stdout",
     "output_type": "stream",
     "text": [
      "Best Accuracy:  0.7933319900108504\n",
      "--- 4521.818781852722 seconds ---\n"
     ]
    }
   ],
   "source": [
    "from sklearn import ensemble\n",
    "#Create a generic random forest tree\n",
    "rfc = ensemble.RandomForestClassifier(\n",
    "    criterion='entropy',\n",
    "    max_features = 'auto',\n",
    "    max_depth = 2 ,\n",
    "    n_estimators = 2,\n",
    "    n_jobs=-1\n",
    "    )\n",
    "#Import GridSearchCV in order to let the algorithm decide which values will be best\n",
    "from sklearn.model_selection import GridSearchCV\n",
    "parameters = {\n",
    "    'n_estimators': [20, 30, 40],\n",
    "    'max_features': ['auto', 'sqrt', 'log2'],\n",
    "    'max_depth' : [1, 2, 3],\n",
    "    'criterion': ['gini', 'entropy'],\n",
    "    'bootstrap': [True, False]\n",
    "}\n",
    "gd_sr = GridSearchCV(estimator=rfc,  \n",
    "                     param_grid=parameters,\n",
    "                     scoring='accuracy',\n",
    "                     cv=5,\n",
    "                     n_jobs=-1)\n",
    "\n",
    "gd_sr.fit(X_train, y_train)  \n",
    "best_result = gd_sr.best_score_  \n",
    "print(\"Best Accuracy: \", best_result)  \n",
    "print(\"--- %s seconds ---\" % (time.time() - start_time - reset_time))\n",
    "reset_time = time.time() - start_time"
   ]
  },
  {
   "cell_type": "markdown",
   "metadata": {},
   "source": [
    "# Gradient Boosted"
   ]
  },
  {
   "cell_type": "code",
   "execution_count": 21,
   "metadata": {},
   "outputs": [
    {
     "name": "stdout",
     "output_type": "stream",
     "text": [
      "Best Accuracy:  0.843478061644403\n",
      "--- 2141.57173371315 seconds ---\n"
     ]
    }
   ],
   "source": [
    "params = {'n_estimators': 10,\n",
    "          'max_depth': 2,\n",
    "          'loss': 'deviance'}\n",
    "\n",
    "# Initialize and fit the model.\n",
    "clf = ensemble.GradientBoostingClassifier(**params)\n",
    "clf.fit(X_train, y_train)\n",
    "\n",
    "#Same as RandomForest, import GridSearchCV to use to find the best parameters for the model\n",
    "from sklearn.model_selection import GridSearchCV\n",
    "parameters = {\n",
    "    'n_estimators': [20, 30, 40],\n",
    "    'max_features': ['auto', 'sqrt', 'log2'],\n",
    "    'max_depth' : [1, 2, 3],\n",
    "}\n",
    "gd_clf = GridSearchCV(estimator=clf,  \n",
    "                     param_grid=parameters,\n",
    "                     scoring='accuracy',\n",
    "                     cv=5,\n",
    "                     n_jobs=-1)\n",
    "\n",
    "gd_clf.fit(X_train, y_train)  \n",
    "best_result = gd_clf.best_score_  \n",
    "print(\"Best Accuracy: \", best_result)  \n",
    "print(\"--- %s seconds ---\" % (time.time() - start_time - reset_time))\n",
    "reset_time = time.time() - start_time"
   ]
  },
  {
   "cell_type": "markdown",
   "metadata": {},
   "source": [
    "# Logistic Regression"
   ]
  },
  {
   "cell_type": "code",
   "execution_count": 22,
   "metadata": {},
   "outputs": [
    {
     "name": "stdout",
     "output_type": "stream",
     "text": [
      "\n",
      " Model accuracy\n",
      "0.5914603137615057\n",
      "--- 21.97931957244873 seconds ---\n"
     ]
    }
   ],
   "source": [
    "from sklearn import linear_model\n",
    "from sklearn.linear_model import LogisticRegression\n",
    "# Set up the regression model to predict defaults using all other\n",
    "# variables as features.\n",
    "regr = LogisticRegression(solver='lbfgs')\n",
    "regrfit = regr.fit(X_train, y_train)\n",
    "\n",
    "# Calculate accuracy. First, get probability that each row will be admitted.\n",
    "pred_statsmod = regrfit.predict(X_train)\n",
    "\n",
    "# Code admission as 1 if probability is greater than .5.\n",
    "pred_y_statsmod = np.where(pred_statsmod < .5, 0, 1)\n",
    "\n",
    "# Use score method to get accuracy of model\n",
    "print('\\n Model accuracy')\n",
    "score = regr.score(X_test, y_test)\n",
    "print(score)\n",
    "print(\"--- %s seconds ---\" % (time.time() - start_time - reset_time))\n",
    "reset_time = time.time() - start_time"
   ]
  },
  {
   "cell_type": "markdown",
   "metadata": {},
   "source": [
    "# Evalute Data: Regular"
   ]
  },
  {
   "cell_type": "code",
   "execution_count": 23,
   "metadata": {},
   "outputs": [
    {
     "name": "stdout",
     "output_type": "stream",
     "text": [
      "\n",
      "\n",
      "Model Type:  BernoulliNB(alpha=1.0, binarize=0.0, class_prior=None, fit_prior=True)\n",
      "\n",
      "With 20% Holdout: 0.5319566573228152\n",
      "Testing on Sample: 0.8837188797348889\n",
      "\n",
      "Cross Validation\n",
      "[0.89093264 0.87791049 0.88088036 0.87973413 0.87599023 0.88147043\n",
      " 0.8818299  0.88353228 0.89358383 0.89132455]\n",
      "\n",
      " Confusion Matrix\n",
      "[[ 23430 341236]\n",
      " [   229 364640]]\n",
      "\n",
      " Classification Report\n",
      "             precision    recall  f1-score   support\n",
      "\n",
      "      False       0.99      0.06      0.12    364666\n",
      "       True       0.52      1.00      0.68    364869\n",
      "\n",
      "avg / total       0.75      0.53      0.40    729535\n",
      "\n",
      "\n",
      " Roc Auc Score\n",
      "0.5318114759908668\n",
      "--- 8.510110855102539 seconds ---\n",
      "\n",
      "\n",
      "Model Type:  DecisionTreeClassifier(class_weight=None, criterion='entropy', max_depth=5,\n",
      "            max_features=7, max_leaf_nodes=None, min_impurity_decrease=0.0,\n",
      "            min_impurity_split=None, min_samples_leaf=1,\n",
      "            min_samples_split=2, min_weight_fraction_leaf=0.0,\n",
      "            presort=False, random_state=None, splitter='best')\n",
      "\n",
      "With 20% Holdout: 0.795701371421522\n",
      "Testing on Sample: 0.8979043014756501\n",
      "\n",
      "Cross Validation\n",
      "[0.90923827 0.90331048 0.90784048 0.90876289 0.90672816 0.90663321\n",
      " 0.90218394 0.90760309 0.91187602 0.91009163]\n",
      "\n",
      " Confusion Matrix\n",
      "[[ 90048 274618]\n",
      " [  1331 363538]]\n",
      "\n",
      " Classification Report\n",
      "             precision    recall  f1-score   support\n",
      "\n",
      "      False       0.99      0.25      0.39    364666\n",
      "       True       0.57      1.00      0.72    364869\n",
      "\n",
      "avg / total       0.78      0.62      0.56    729535\n",
      "\n",
      "\n",
      " Roc Auc Score\n",
      "0.6216424625829806\n",
      "--- 35.13175439834595 seconds ---\n",
      "\n",
      "\n",
      "Model Type:  GridSearchCV(cv=5, error_score='raise',\n",
      "       estimator=RandomForestClassifier(bootstrap=True, class_weight=None, criterion='entropy',\n",
      "            max_depth=2, max_features='auto', max_leaf_nodes=None,\n",
      "            min_impurity_decrease=0.0, min_impurity_split=None,\n",
      "            min_samples_leaf=1, min_samples_split=2,\n",
      "            min_weight_fraction_leaf=0.0, n_estimators=2, n_jobs=-1,\n",
      "            oob_score=False, random_state=None, verbose=0,\n",
      "            warm_start=False),\n",
      "       fit_params=None, iid=True, n_jobs=-1,\n",
      "       param_grid={'n_estimators': [20, 30, 40], 'max_features': ['auto', 'sqrt', 'log2'], 'max_depth': [1, 2, 3], 'criterion': ['gini', 'entropy'], 'bootstrap': [True, False]},\n",
      "       pre_dispatch='2*n_jobs', refit=True, return_train_score='warn',\n",
      "       scoring='accuracy', verbose=0)\n",
      "\n",
      "With 20% Holdout: 0.785644280260714\n",
      "Testing on Sample: 0.8801411556286248\n",
      "\n",
      "Cross Validation\n",
      "[0.91138828 0.88552709 0.86965545 0.8902401  0.88938551 0.88137547\n",
      " 0.88350515 0.88594004 0.8839121  0.88288038]\n",
      "\n",
      " Confusion Matrix\n",
      "[[ 35618 329048]\n",
      " [   461 364408]]\n",
      "\n",
      " Classification Report\n",
      "             precision    recall  f1-score   support\n",
      "\n",
      "      False       0.99      0.10      0.18    364666\n",
      "       True       0.53      1.00      0.69    364869\n",
      "\n",
      "avg / total       0.76      0.55      0.43    729535\n",
      "\n",
      "\n",
      " Roc Auc Score\n",
      "0.548204735955414\n",
      "--- 34178.58197808266 seconds ---\n",
      "\n",
      "\n",
      "Model Type:  GridSearchCV(cv=5, error_score='raise',\n",
      "       estimator=GradientBoostingClassifier(criterion='friedman_mse', init=None,\n",
      "              learning_rate=0.1, loss='deviance', max_depth=2,\n",
      "              max_features=None, max_leaf_nodes=None,\n",
      "              min_impurity_decrease=0.0, min_impurity_split=None,\n",
      "              min_samples_leaf=1, min_samples_split=2,\n",
      "              min_weight_fraction_leaf=0.0, n_estimators=10,\n",
      "              presort='auto', random_state=None, subsample=1.0, verbose=0,\n",
      "              warm_start=False),\n",
      "       fit_params=None, iid=True, n_jobs=-1,\n",
      "       param_grid={'n_estimators': [20, 30, 40], 'max_features': ['auto', 'sqrt', 'log2'], 'max_depth': [1, 2, 3]},\n",
      "       pre_dispatch='2*n_jobs', refit=True, return_train_score='warn',\n",
      "       scoring='accuracy', verbose=0)\n",
      "\n",
      "With 20% Holdout: 0.8447901745632492\n",
      "Testing on Sample: 0.9003663182539893\n",
      "\n",
      "Cross Validation\n",
      "[0.9056504  0.89679262 0.89979653 0.89744981 0.8973752  0.89702252\n",
      " 0.89491997 0.89817553 0.90634156 0.8975712 ]\n",
      "\n",
      " Confusion Matrix\n",
      "[[124413 240253]\n",
      " [  4006 360863]]\n",
      "\n",
      " Classification Report\n",
      "             precision    recall  f1-score   support\n",
      "\n",
      "      False       0.97      0.34      0.50    364666\n",
      "       True       0.60      0.99      0.75    364869\n",
      "\n",
      "avg / total       0.78      0.67      0.63    729535\n",
      "\n",
      "\n",
      " Roc Auc Score\n",
      "0.665095222469937\n",
      "--- 14761.224395036697 seconds ---\n",
      "\n",
      "\n",
      "Model Type:  LogisticRegression(C=1.0, class_weight=None, dual=False, fit_intercept=True,\n",
      "          intercept_scaling=1, max_iter=100, multi_class='ovr', n_jobs=1,\n",
      "          penalty='l2', random_state=None, solver='lbfgs', tol=0.0001,\n",
      "          verbose=0, warm_start=False)\n",
      "\n",
      "With 20% Holdout: 0.5914603137615057\n",
      "Testing on Sample: 0.8696541849876662\n",
      "\n",
      "Cross Validation\n",
      "[0.88208843 0.86964955 0.86965545 0.86965545 0.86965545 0.86965545\n",
      " 0.86965545 0.86965545 0.86965545 0.86951892]\n",
      "\n",
      " Confusion Matrix\n",
      "[[     0 364666]\n",
      " [     0 364869]]\n",
      "\n",
      " Classification Report\n",
      "             precision    recall  f1-score   support\n",
      "\n",
      "      False       0.00      0.00      0.00    364666\n",
      "       True       0.50      1.00      0.67    364869\n",
      "\n",
      "avg / total       0.25      0.50      0.33    729535\n",
      "\n",
      "\n",
      " Roc Auc Score\n",
      "0.5\n",
      "--- 213.9356997013092 seconds ---\n"
     ]
    }
   ],
   "source": [
    "from sklearn.model_selection import cross_val_score \n",
    "from sklearn.metrics import mean_squared_error\n",
    "from math import sqrt\n",
    "\n",
    "from sklearn.metrics import roc_auc_score\n",
    "from sklearn.metrics import classification_report\n",
    "model_names = [nb, decision_tree, gd_sr, gd_clf, regrfit]\n",
    "for model_name in model_names:\n",
    "    print('\\n\\nModel Type: ', model_name)\n",
    "    print('\\nWith 20% Holdout: ' + str(model_name.fit(X_train, y_train).score(X_test, y_test)))\n",
    "    print('Testing on Sample: ' + str(model_name.fit(selected_data, target).score(selected_data, target)))\n",
    "\n",
    "    print('\\nCross Validation')\n",
    "    print(cross_val_score(model_name, selected_data, target, cv=10))\n",
    "\n",
    "    prediction = model_name.predict(X_test)\n",
    "    from sklearn.metrics import confusion_matrix\n",
    "    cnf_matrix = confusion_matrix(y_test, prediction)\n",
    "    print('\\n Confusion Matrix')\n",
    "    print(cnf_matrix)\n",
    "\n",
    "    print('\\n Classification Report')\n",
    "    print(classification_report(y_test, prediction))\n",
    "\n",
    "    print('\\n Roc Auc Score')\n",
    "    print(roc_auc_score(y_test, prediction))\n",
    "    print(\"--- %s seconds ---\" % (time.time() - start_time - reset_time))\n",
    "    reset_time = time.time() - start_time"
   ]
  },
  {
   "cell_type": "markdown",
   "metadata": {},
   "source": [
    "With no feature selection, out of the all the models I tested the regular decision tree model I created was the most efficient in terms of accuracy and time. Although Naive Bayes also scored fairly well and at a faster time then decision tree, it is much less accurate then that of the decision tree. Gradient Boosting has a higher accuracy then the decision tree, and was able to successfuly attain a higher accuracy in terms of its cross validation, confusion matrix, and roc auc. However its run times displayed that it took 976x longer then the decision tree to generate it's evaluation in comparison to the regular decision tree model for a 2% gain in terms of terms of the cross validation score and 4% gain on the roc auc score. \n",
    "\n",
    "Now that we know how no feature selection models perform, let us see how Select K Best will alter our data."
   ]
  },
  {
   "cell_type": "markdown",
   "metadata": {},
   "source": [
    "# Select K Best Creation"
   ]
  },
  {
   "cell_type": "code",
   "execution_count": 25,
   "metadata": {},
   "outputs": [
    {
     "name": "stdout",
     "output_type": "stream",
     "text": [
      "(1474401, 4)\n"
     ]
    }
   ],
   "source": [
    "#Use Select K Best after using PCA to determine the number of dimensions to achieve the 2 features that have the greatest variance\n",
    "from sklearn.feature_selection import SelectKBest\n",
    "from sklearn.feature_selection import chi2\n",
    "\n",
    "selector = SelectKBest(chi2, k=4)\n",
    "selector.fit(selected_data, target)\n",
    "\n",
    "X_new = selector.transform(selected_data)\n",
    "print(X_new.shape)\n",
    "\n",
    "selected_data.columns[selector.get_support(indices=True)]\n",
    "selected_data.columns[selector.get_support(indices=True)].tolist()\n",
    "#sets newdata to only contain the four features that will give us the most variance\n",
    "skb_data = selected_data[selected_data.columns[selector.get_support(indices=True)].tolist()].copy()\n",
    "skb_data.head(10)\n",
    "\n",
    "#Resample Data\n",
    "smt = SMOTETomek(ratio='auto')\n",
    "X_resampled, y_resampled = smt.fit_sample(skb_data, target)\n",
    "\n",
    "#Create Test/Training set for SKB\n",
    "X_train, X_test, y_train, y_test = train_test_split(X_resampled, y_resampled, test_size=0.3, random_state=20)"
   ]
  },
  {
   "cell_type": "markdown",
   "metadata": {},
   "source": [
    "# Naive Bayes"
   ]
  },
  {
   "cell_type": "code",
   "execution_count": 26,
   "metadata": {},
   "outputs": [
    {
     "name": "stdout",
     "output_type": "stream",
     "text": [
      "--- 76.92189645767212 seconds ---\n"
     ]
    }
   ],
   "source": [
    "import warnings\n",
    "warnings.filterwarnings(\"ignore\")\n",
    "\n",
    "from sklearn.naive_bayes import BernoulliNB\n",
    "nb = BernoulliNB()\n",
    "nb.fit(X_train, y_train)\n",
    "print(\"--- %s seconds ---\" % (time.time() - start_time - reset_time))\n",
    "reset_time = time.time() - start_time"
   ]
  },
  {
   "cell_type": "code",
   "execution_count": 27,
   "metadata": {},
   "outputs": [
    {
     "name": "stdout",
     "output_type": "stream",
     "text": [
      "--- 2.6544699668884277 seconds ---\n"
     ]
    }
   ],
   "source": [
    "# This is the model we'll be using.\n",
    "from sklearn import tree\n",
    "\n",
    "#This initiates the DecisionTreeClassifier with the attributes that we want\n",
    "decision_tree = tree.DecisionTreeClassifier(\n",
    "    criterion='entropy',\n",
    "    max_features = 2, #Use 7 of the features\n",
    "    max_depth = 5 #Tree goes 5 branches down\n",
    ")\n",
    "#Fits the decisiontree onto the data\n",
    "decision_tree.fit(X_train, y_train)\n",
    "\n",
    "print(\"--- %s seconds ---\" % (time.time() - start_time - reset_time))\n",
    "reset_time = time.time() - start_time"
   ]
  },
  {
   "cell_type": "code",
   "execution_count": 28,
   "metadata": {},
   "outputs": [
    {
     "name": "stdout",
     "output_type": "stream",
     "text": [
      "Best Accuracy:  0.7369677223821791\n",
      "--- 4491.949316740036 seconds ---\n"
     ]
    }
   ],
   "source": [
    "from sklearn import ensemble\n",
    "#Create a generic random forest tree\n",
    "rfc = ensemble.RandomForestClassifier(\n",
    "    criterion='entropy',\n",
    "    max_features = 'auto',\n",
    "    max_depth = 2 ,\n",
    "    n_estimators = 2,\n",
    "    n_jobs=-1\n",
    "    )\n",
    "\n",
    "from sklearn.model_selection import GridSearchCV\n",
    "parameters = {\n",
    "    'n_estimators': [20, 30, 40],\n",
    "    'max_features': ['auto', 'sqrt', 'log2'],\n",
    "    'max_depth' : [1, 2, 3],\n",
    "    'criterion': ['gini', 'entropy'],\n",
    "    'bootstrap': [True, False]\n",
    "}\n",
    "gd_sr = GridSearchCV(estimator=rfc,  \n",
    "                     param_grid=parameters,\n",
    "                     scoring='accuracy',\n",
    "                     cv=5,\n",
    "                     n_jobs=-1)\n",
    "\n",
    "gd_sr.fit(X_train, y_train)  \n",
    "best_result = gd_sr.best_score_  \n",
    "print(\"Best Accuracy: \", best_result)  \n",
    "print(\"--- %s seconds ---\" % (time.time() - start_time - reset_time))\n",
    "reset_time = time.time() - start_time"
   ]
  },
  {
   "cell_type": "code",
   "execution_count": 29,
   "metadata": {},
   "outputs": [
    {
     "name": "stdout",
     "output_type": "stream",
     "text": [
      "Best Accuracy:  0.8012661232093989\n",
      "--- 1778.9402861595154 seconds ---\n"
     ]
    }
   ],
   "source": [
    "params = {'n_estimators': 10,\n",
    "          'max_depth': 2,\n",
    "          'loss': 'deviance'}\n",
    "\n",
    "# Initialize and fit the model.\n",
    "clf = ensemble.GradientBoostingClassifier(**params)\n",
    "clf.fit(X_train, y_train)\n",
    "\n",
    "from sklearn.model_selection import GridSearchCV\n",
    "parameters = {\n",
    "    'n_estimators': [20, 30, 40],\n",
    "    'max_features': ['auto', 'sqrt', 'log2'],\n",
    "    'max_depth' : [1, 2, 3],\n",
    "}\n",
    "gd_clf = GridSearchCV(estimator=clf,  \n",
    "                     param_grid=parameters,\n",
    "                     scoring='accuracy',\n",
    "                     cv=5,\n",
    "                     n_jobs=-1)\n",
    "\n",
    "gd_clf.fit(X_train, y_train)  \n",
    "best_result = gd_clf.best_score_  \n",
    "print(\"Best Accuracy: \", best_result)  \n",
    "print(\"--- %s seconds ---\" % (time.time() - start_time - reset_time))\n",
    "reset_time = time.time() - start_time"
   ]
  },
  {
   "cell_type": "code",
   "execution_count": 30,
   "metadata": {},
   "outputs": [
    {
     "name": "stdout",
     "output_type": "stream",
     "text": [
      "\n",
      " Model accuracy\n",
      "0.6536666597335608\n",
      "--- 10.303048372268677 seconds ---\n"
     ]
    }
   ],
   "source": [
    "from sklearn import linear_model\n",
    "from sklearn.linear_model import LogisticRegression\n",
    "# Set up the regression model to predict defaults using all other\n",
    "# variables as features.\n",
    "regr = LogisticRegression(solver='lbfgs')\n",
    "regrfit = regr.fit(X_train, y_train)\n",
    "\n",
    "# Calculate accuracy. First, get probability that each row will be admitted.\n",
    "pred_statsmod = regrfit.predict(X_train)\n",
    "\n",
    "# Code admission as 1 if probability is greater than .5.\n",
    "pred_y_statsmod = np.where(pred_statsmod < .5, 0, 1)\n",
    "\n",
    "# Use score method to get accuracy of model\n",
    "print('\\n Model accuracy')\n",
    "score = regr.score(X_test, y_test)\n",
    "print(score)\n",
    "print(\"--- %s seconds ---\" % (time.time() - start_time - reset_time))\n",
    "reset_time = time.time() - start_time"
   ]
  },
  {
   "cell_type": "markdown",
   "metadata": {},
   "source": [
    "# Evalute SKB models"
   ]
  },
  {
   "cell_type": "code",
   "execution_count": 31,
   "metadata": {},
   "outputs": [
    {
     "name": "stdout",
     "output_type": "stream",
     "text": [
      "\n",
      "\n",
      "Model Type:  BernoulliNB(alpha=1.0, binarize=0.0, class_prior=None, fit_prior=True)\n",
      "\n",
      "With 20% Holdout: 0.5426295017523425\n",
      "Testing on Sample: 0.8837188797348889\n",
      "\n",
      "Cross Validation\n",
      "[0.89093264 0.87791049 0.88088036 0.87973413 0.87599023 0.88147043\n",
      " 0.8818299  0.88353228 0.89358383 0.89132455]\n",
      "\n",
      " Confusion Matrix\n",
      "[[ 33043 351598]\n",
      " [   238 384377]]\n",
      "\n",
      " Classification Report\n",
      "             precision    recall  f1-score   support\n",
      "\n",
      "      False       0.99      0.09      0.16    384641\n",
      "       True       0.52      1.00      0.69    384615\n",
      "\n",
      "avg / total       0.76      0.54      0.42    769256\n",
      "\n",
      "\n",
      " Roc Auc Score\n",
      "0.5426436390181805\n",
      "--- 7.987046241760254 seconds ---\n",
      "\n",
      "\n",
      "Model Type:  DecisionTreeClassifier(class_weight=None, criterion='entropy', max_depth=5,\n",
      "            max_features=2, max_leaf_nodes=None, min_impurity_decrease=0.0,\n",
      "            min_impurity_split=None, min_samples_leaf=1,\n",
      "            min_samples_split=2, min_weight_fraction_leaf=0.0,\n",
      "            presort=False, random_state=None, splitter='best')\n",
      "\n",
      "With 20% Holdout: 0.7406559064862672\n",
      "Testing on Sample: 0.891973079236924\n",
      "\n",
      "Cross Validation\n",
      "[0.82492658 0.89530728 0.90720293 0.89904368 0.87927971 0.87086951\n",
      " 0.8720293  0.89871812 0.90609061 0.67771756]\n",
      "\n",
      " Confusion Matrix\n",
      "[[ 99266 285375]\n",
      " [  5410 379205]]\n",
      "\n",
      " Classification Report\n",
      "             precision    recall  f1-score   support\n",
      "\n",
      "      False       0.95      0.26      0.41    384641\n",
      "       True       0.57      0.99      0.72    384615\n",
      "\n",
      "avg / total       0.76      0.62      0.56    769256\n",
      "\n",
      "\n",
      " Roc Auc Score\n",
      "0.6220041990890652\n",
      "--- 15.595012903213501 seconds ---\n",
      "\n",
      "\n",
      "Model Type:  GridSearchCV(cv=5, error_score='raise',\n",
      "       estimator=RandomForestClassifier(bootstrap=True, class_weight=None, criterion='entropy',\n",
      "            max_depth=2, max_features='auto', max_leaf_nodes=None,\n",
      "            min_impurity_decrease=0.0, min_impurity_split=None,\n",
      "            min_samples_leaf=1, min_samples_split=2,\n",
      "            min_weight_fraction_leaf=0.0, n_estimators=2, n_jobs=-1,\n",
      "            oob_score=False, random_state=None, verbose=0,\n",
      "            warm_start=False),\n",
      "       fit_params=None, iid=True, n_jobs=-1,\n",
      "       param_grid={'n_estimators': [20, 30, 40], 'max_features': ['auto', 'sqrt', 'log2'], 'max_depth': [1, 2, 3], 'criterion': ['gini', 'entropy'], 'bootstrap': [True, False]},\n",
      "       pre_dispatch='2*n_jobs', refit=True, return_train_score='warn',\n",
      "       scoring='accuracy', verbose=0)\n",
      "\n",
      "With 20% Holdout: 0.7449990640306998\n",
      "Testing on Sample: 0.8975787455380185\n",
      "\n",
      "Cross Validation\n",
      "[0.90175053 0.88454365 0.89127103 0.88727618 0.88772382 0.88319995\n",
      " 0.88280657 0.88818502 0.89980331 0.89906334]\n",
      "\n",
      " Confusion Matrix\n",
      "[[117303 267338]\n",
      " [  5796 378819]]\n",
      "\n",
      " Classification Report\n",
      "             precision    recall  f1-score   support\n",
      "\n",
      "      False       0.95      0.30      0.46    384641\n",
      "       True       0.59      0.98      0.74    384615\n",
      "\n",
      "avg / total       0.77      0.64      0.60    769256\n",
      "\n",
      "\n",
      " Roc Auc Score\n",
      "0.6449489370478033\n",
      "--- 34086.16243481636 seconds ---\n",
      "\n",
      "\n",
      "Model Type:  GridSearchCV(cv=5, error_score='raise',\n",
      "       estimator=GradientBoostingClassifier(criterion='friedman_mse', init=None,\n",
      "              learning_rate=0.1, loss='deviance', max_depth=2,\n",
      "              max_features=None, max_leaf_nodes=None,\n",
      "              min_impurity_decrease=0.0, min_impurity_split=None,\n",
      "              min_samples_leaf=1, min_samples_split=2,\n",
      "              min_weight_fraction_leaf=0.0, n_estimators=10,\n",
      "              presort='auto', random_state=None, subsample=1.0, verbose=0,\n",
      "              warm_start=False),\n",
      "       fit_params=None, iid=True, n_jobs=-1,\n",
      "       param_grid={'n_estimators': [20, 30, 40], 'max_features': ['auto', 'sqrt', 'log2'], 'max_depth': [1, 2, 3]},\n",
      "       pre_dispatch='2*n_jobs', refit=True, return_train_score='warn',\n",
      "       scoring='accuracy', verbose=0)\n",
      "\n",
      "With 20% Holdout: 0.8036882390257599\n",
      "Testing on Sample: 0.90198731552678\n",
      "\n",
      "Cross Validation\n",
      "[0.9056504  0.89679262 0.89979653 0.89744981 0.8973752  0.89702252\n",
      " 0.89491997 0.89817553 0.90634156 0.8975712 ]\n",
      "\n",
      " Confusion Matrix\n",
      "[[135767 248874]\n",
      " [  6702 377913]]\n",
      "\n",
      " Classification Report\n",
      "             precision    recall  f1-score   support\n",
      "\n",
      "      False       0.95      0.35      0.52    384641\n",
      "       True       0.60      0.98      0.75    384615\n",
      "\n",
      "avg / total       0.78      0.67      0.63    769256\n",
      "\n",
      "\n",
      " Roc Auc Score\n",
      "0.6677727373633426\n",
      "--- 14197.22103857994 seconds ---\n",
      "\n",
      "\n",
      "Model Type:  LogisticRegression(C=1.0, class_weight=None, dual=False, fit_intercept=True,\n",
      "          intercept_scaling=1, max_iter=100, multi_class='ovr', n_jobs=1,\n",
      "          penalty='l2', random_state=None, solver='lbfgs', tol=0.0001,\n",
      "          verbose=0, warm_start=False)\n",
      "\n",
      "With 20% Holdout: 0.6536666597335608\n",
      "Testing on Sample: 0.8696541849876662\n",
      "\n",
      "Cross Validation\n",
      "[0.88208843 0.86964955 0.86965545 0.86965545 0.86965545 0.86965545\n",
      " 0.86965545 0.86965545 0.86965545 0.86951892]\n",
      "\n",
      " Confusion Matrix\n",
      "[[     0 384641]\n",
      " [     0 384615]]\n",
      "\n",
      " Classification Report\n",
      "             precision    recall  f1-score   support\n",
      "\n",
      "      False       0.00      0.00      0.00    384641\n",
      "       True       0.50      1.00      0.67    384615\n",
      "\n",
      "avg / total       0.25      0.50      0.33    769256\n",
      "\n",
      "\n",
      " Roc Auc Score\n",
      "0.5\n",
      "--- 193.98820805549622 seconds ---\n"
     ]
    }
   ],
   "source": [
    "from sklearn.model_selection import cross_val_score \n",
    "from sklearn.metrics import mean_squared_error\n",
    "from math import sqrt\n",
    "\n",
    "from sklearn.metrics import roc_auc_score\n",
    "from sklearn.metrics import classification_report\n",
    "model_names = [nb, decision_tree, gd_sr, gd_clf, regrfit]\n",
    "for model_name in model_names:\n",
    "    print('\\n\\nModel Type: ', model_name)\n",
    "    print('\\nWith 20% Holdout: ' + str(model_name.fit(X_train, y_train).score(X_test, y_test)))\n",
    "    print('Testing on Sample: ' + str(model_name.fit(skb_data, target).score(skb_data, target)))\n",
    "\n",
    "    print('\\nCross Validation')\n",
    "    print(cross_val_score(model_name, selected_data, target, cv=10))\n",
    "\n",
    "    prediction = model_name.predict(X_test)\n",
    "    from sklearn.metrics import confusion_matrix\n",
    "    cnf_matrix = confusion_matrix(y_test, prediction)\n",
    "    print('\\n Confusion Matrix')\n",
    "    print(cnf_matrix)\n",
    "\n",
    "    print('\\n Classification Report')\n",
    "    print(classification_report(y_test, prediction))\n",
    "\n",
    "    print('\\n Roc Auc Score')\n",
    "    print(roc_auc_score(y_test, prediction))\n",
    "    print(\"--- %s seconds ---\" % (time.time() - start_time - reset_time))\n",
    "    reset_time = time.time() - start_time"
   ]
  },
  {
   "cell_type": "markdown",
   "metadata": {},
   "source": [
    "Using the SelectKBest feature selection model, we once again tested all of the previous models but this time with the SKB dataset. For gradient boost and the decision tree model, the results are roughly the same with fluctuations of about 2% for the accuracy and roc auc score. The random forest model however showed a very large increase in terms of accuracy to the point where its accuracy is on par with the decision tree. This is most likely due to the decreased feature space, the random forest model was able to more accuractely detect the variances in the data and thus generate a more accurate model. Runtime between SKB models and regular models are both roughly similar to one another as well, however the SKB models take roughly 300 seconds more to parse for the random forest and gradient boosted models. \n",
    "\n",
    "Time to test this with PCA."
   ]
  },
  {
   "cell_type": "code",
   "execution_count": 32,
   "metadata": {},
   "outputs": [
    {
     "name": "stdout",
     "output_type": "stream",
     "text": [
      "Individual Variance:  [0.58456042 0.39231759]\n",
      "Combined Variance:  [0.58456042 0.976878  ]\n"
     ]
    }
   ],
   "source": [
    "from sklearn.decomposition import PCA\n",
    "#Here we are setting pca to be fitted with n_components = x, until it encompasses 95% of the variance or more\n",
    "pca = PCA(.95)\n",
    "pca_data = pca.fit_transform(selected_data) \n",
    "#Shows how much variance the first and second dimensional space has\n",
    "print(\"Individual Variance: \", pca.explained_variance_ratio_)\n",
    "#Shows that I retain 95%+ of the variance\n",
    "print(\"Combined Variance: \", pca.explained_variance_ratio_.cumsum())\n",
    "\n",
    "smt = SMOTETomek(ratio='auto')\n",
    "X_resampled, y_resampled = smt.fit_sample(pca_data, target)\n",
    "\n",
    "#Create Test/Training set for PCA\n",
    "X_train, X_test, y_train, y_test = train_test_split(X_resampled, y_resampled, test_size=0.3, random_state=20)"
   ]
  },
  {
   "cell_type": "code",
   "execution_count": 33,
   "metadata": {},
   "outputs": [
    {
     "name": "stdout",
     "output_type": "stream",
     "text": [
      "--- 28.21751308441162 seconds ---\n"
     ]
    }
   ],
   "source": [
    "import warnings\n",
    "warnings.filterwarnings(\"ignore\")\n",
    "\n",
    "from sklearn.naive_bayes import BernoulliNB\n",
    "nb = BernoulliNB()\n",
    "nb.fit(X_train, y_train)\n",
    "print(\"--- %s seconds ---\" % (time.time() - start_time - reset_time))\n",
    "reset_time = time.time() - start_time"
   ]
  },
  {
   "cell_type": "code",
   "execution_count": 34,
   "metadata": {},
   "outputs": [
    {
     "name": "stdout",
     "output_type": "stream",
     "text": [
      "--- 5.505842447280884 seconds ---\n"
     ]
    }
   ],
   "source": [
    "from sklearn import tree\n",
    "\n",
    "#This initiates the DecisionTreeClassifier with the attributes that we want\n",
    "decision_tree = tree.DecisionTreeClassifier(\n",
    "    criterion='entropy',\n",
    "    max_features = 2, #Use 2 of the features\n",
    "    max_depth = 5 #Tree goes 5 branches down\n",
    ")\n",
    "#Fits the decisiontree onto the data\n",
    "decision_tree.fit(X_train, y_train)\n",
    "\n",
    "print(\"--- %s seconds ---\" % (time.time() - start_time - reset_time))\n",
    "reset_time = time.time() - start_time"
   ]
  },
  {
   "cell_type": "code",
   "execution_count": 35,
   "metadata": {},
   "outputs": [
    {
     "name": "stdout",
     "output_type": "stream",
     "text": [
      "Best Accuracy:  0.5705795558269137\n",
      "--- 4322.59126329422 seconds ---\n"
     ]
    }
   ],
   "source": [
    "from sklearn import ensemble\n",
    "#Create a generic random forest tree\n",
    "rfc = ensemble.RandomForestClassifier(\n",
    "    criterion='entropy',\n",
    "    max_features = 'auto',\n",
    "    max_depth = 2 ,\n",
    "    n_estimators = 2,\n",
    "    n_jobs=-1\n",
    "    )\n",
    "\n",
    "from sklearn.model_selection import GridSearchCV\n",
    "parameters = {\n",
    "    'n_estimators': [20, 30, 40],\n",
    "    'max_features': ['auto', 'sqrt', 'log2'],\n",
    "    'max_depth' : [1, 2, 3],\n",
    "    'criterion': ['gini', 'entropy'],\n",
    "    'bootstrap': [True, False]\n",
    "}\n",
    "gd_sr = GridSearchCV(estimator=rfc,  \n",
    "                     param_grid=parameters,\n",
    "                     scoring='accuracy',\n",
    "                     cv=5,\n",
    "                     n_jobs=-1)\n",
    "\n",
    "gd_sr.fit(X_train, y_train)  \n",
    "best_result = gd_sr.best_score_  \n",
    "print(\"Best Accuracy: \", best_result)  \n",
    "print(\"--- %s seconds ---\" % (time.time() - start_time - reset_time))\n",
    "reset_time = time.time() - start_time"
   ]
  },
  {
   "cell_type": "code",
   "execution_count": 36,
   "metadata": {},
   "outputs": [
    {
     "name": "stdout",
     "output_type": "stream",
     "text": [
      "Best Accuracy:  0.5944745942042579\n",
      "--- 1562.6130874156952 seconds ---\n"
     ]
    }
   ],
   "source": [
    "params = {'n_estimators': 10,\n",
    "          'max_depth': 2,\n",
    "          'loss': 'deviance'}\n",
    "\n",
    "# Initialize and fit the model.\n",
    "clf = ensemble.GradientBoostingClassifier(**params)\n",
    "clf.fit(X_train, y_train)\n",
    "\n",
    "from sklearn.model_selection import GridSearchCV\n",
    "parameters = {\n",
    "    'n_estimators': [20, 30, 40],\n",
    "    'max_features': ['auto', 'sqrt', 'log2'],\n",
    "    'max_depth' : [1, 2, 3],\n",
    "}\n",
    "gd_clf = GridSearchCV(estimator=clf,  \n",
    "                     param_grid=parameters,\n",
    "                     scoring='accuracy',\n",
    "                     cv=5,\n",
    "                     n_jobs=-1)\n",
    "\n",
    "gd_clf.fit(X_train, y_train)  \n",
    "best_result = gd_clf.best_score_  \n",
    "print(\"Best Accuracy: \", best_result)  \n",
    "print(\"--- %s seconds ---\" % (time.time() - start_time - reset_time))\n",
    "reset_time = time.time() - start_time"
   ]
  },
  {
   "cell_type": "code",
   "execution_count": 37,
   "metadata": {},
   "outputs": [
    {
     "name": "stdout",
     "output_type": "stream",
     "text": [
      "\n",
      " Model accuracy\n",
      "0.5236201044442442\n",
      "--- 1.305248498916626 seconds ---\n"
     ]
    }
   ],
   "source": [
    "from sklearn import linear_model\n",
    "from sklearn.linear_model import LogisticRegression\n",
    "# Set up the regression model to predict defaults using all other\n",
    "# variables as features.\n",
    "regr = LogisticRegression(solver='lbfgs')\n",
    "regrfit = regr.fit(X_train, y_train)\n",
    "\n",
    "# Calculate accuracy. First, get probability that each row will be admitted.\n",
    "pred_statsmod = regrfit.predict(X_train)\n",
    "\n",
    "# Code admission as 1 if probability is greater than .5.\n",
    "pred_y_statsmod = np.where(pred_statsmod < .5, 0, 1)\n",
    "\n",
    "# Use score method to get accuracy of model\n",
    "print('\\n Model accuracy')\n",
    "score = regr.score(X_test, y_test)\n",
    "print(score)\n",
    "print(\"--- %s seconds ---\" % (time.time() - start_time - reset_time))\n",
    "reset_time = time.time() - start_time"
   ]
  },
  {
   "cell_type": "markdown",
   "metadata": {},
   "source": [
    "# Evalute PCA Models"
   ]
  },
  {
   "cell_type": "code",
   "execution_count": 38,
   "metadata": {},
   "outputs": [
    {
     "name": "stdout",
     "output_type": "stream",
     "text": [
      "\n",
      "\n",
      "Model Type:  BernoulliNB(alpha=1.0, binarize=0.0, class_prior=None, fit_prior=True)\n",
      "\n",
      "With 20% Holdout: 0.5314684414464284\n",
      "Testing on Sample: 0.8696541849876662\n",
      "\n",
      "Cross Validation\n",
      "[0.89093264 0.87791049 0.88088036 0.87973413 0.87599023 0.88147043\n",
      " 0.8818299  0.88353228 0.89358383 0.89132455]\n",
      "\n",
      " Confusion Matrix\n",
      "[[     0 349332]\n",
      " [     0 349797]]\n",
      "\n",
      " Classification Report\n",
      "             precision    recall  f1-score   support\n",
      "\n",
      "      False       0.00      0.00      0.00    349332\n",
      "       True       0.50      1.00      0.67    349797\n",
      "\n",
      "avg / total       0.25      0.50      0.33    699129\n",
      "\n",
      "\n",
      " Roc Auc Score\n",
      "0.5\n",
      "--- 7.667581558227539 seconds ---\n",
      "\n",
      "\n",
      "Model Type:  DecisionTreeClassifier(class_weight=None, criterion='entropy', max_depth=5,\n",
      "            max_features=2, max_leaf_nodes=None, min_impurity_decrease=0.0,\n",
      "            min_impurity_split=None, min_samples_leaf=1,\n",
      "            min_samples_split=2, min_weight_fraction_leaf=0.0,\n",
      "            presort=False, random_state=None, splitter='best')\n",
      "\n",
      "With 20% Holdout: 0.5822773765642678\n",
      "Testing on Sample: 0.870489100319384\n",
      "\n",
      "Cross Validation\n",
      "[0.88956939 0.88221051 0.87972056 0.89420103 0.89748372 0.89123033\n",
      " 0.87404368 0.89799919 0.88849702 0.89232835]\n",
      "\n",
      " Confusion Matrix\n",
      "[[ 21550 327782]\n",
      " [  2603 347194]]\n",
      "\n",
      " Classification Report\n",
      "             precision    recall  f1-score   support\n",
      "\n",
      "      False       0.89      0.06      0.12    349332\n",
      "       True       0.51      0.99      0.68    349797\n",
      "\n",
      "avg / total       0.70      0.53      0.40    699129\n",
      "\n",
      "\n",
      " Roc Auc Score\n",
      "0.527123853924619\n",
      "--- 19.985496520996094 seconds ---\n",
      "\n",
      "\n",
      "Model Type:  GridSearchCV(cv=5, error_score='raise',\n",
      "       estimator=RandomForestClassifier(bootstrap=True, class_weight=None, criterion='entropy',\n",
      "            max_depth=2, max_features='auto', max_leaf_nodes=None,\n",
      "            min_impurity_decrease=0.0, min_impurity_split=None,\n",
      "            min_samples_leaf=1, min_samples_split=2,\n",
      "            min_weight_fraction_leaf=0.0, n_estimators=2, n_jobs=-1,\n",
      "            oob_score=False, random_state=None, verbose=0,\n",
      "            warm_start=False),\n",
      "       fit_params=None, iid=True, n_jobs=-1,\n",
      "       param_grid={'n_estimators': [20, 30, 40], 'max_features': ['auto', 'sqrt', 'log2'], 'max_depth': [1, 2, 3], 'criterion': ['gini', 'entropy'], 'bootstrap': [True, False]},\n",
      "       pre_dispatch='2*n_jobs', refit=True, return_train_score='warn',\n",
      "       scoring='accuracy', verbose=0)\n",
      "\n",
      "With 20% Holdout: 0.5653134114019015\n",
      "Testing on Sample: 0.8696541849876662\n",
      "\n",
      "Cross Validation\n",
      "[0.89792527 0.88328891 0.88627916 0.88728296 0.88699132 0.88174173\n",
      " 0.89425529 0.88411557 0.88321351 0.90153894]\n",
      "\n",
      " Confusion Matrix\n",
      "[[     0 349332]\n",
      " [     0 349797]]\n",
      "\n",
      " Classification Report\n",
      "             precision    recall  f1-score   support\n",
      "\n",
      "      False       0.00      0.00      0.00    349332\n",
      "       True       0.50      1.00      0.67    349797\n",
      "\n",
      "avg / total       0.25      0.50      0.33    699129\n",
      "\n",
      "\n",
      " Roc Auc Score\n",
      "0.5\n",
      "--- 34167.797038793564 seconds ---\n",
      "\n",
      "\n",
      "Model Type:  GridSearchCV(cv=5, error_score='raise',\n",
      "       estimator=GradientBoostingClassifier(criterion='friedman_mse', init=None,\n",
      "              learning_rate=0.1, loss='deviance', max_depth=2,\n",
      "              max_features=None, max_leaf_nodes=None,\n",
      "              min_impurity_decrease=0.0, min_impurity_split=None,\n",
      "              min_samples_leaf=1, min_samples_split=2,\n",
      "              min_weight_fraction_leaf=0.0, n_estimators=10,\n",
      "              presort='auto', random_state=None, subsample=1.0, verbose=0,\n",
      "              warm_start=False),\n",
      "       fit_params=None, iid=True, n_jobs=-1,\n",
      "       param_grid={'n_estimators': [20, 30, 40], 'max_features': ['auto', 'sqrt', 'log2'], 'max_depth': [1, 2, 3]},\n",
      "       pre_dispatch='2*n_jobs', refit=True, return_train_score='warn',\n",
      "       scoring='accuracy', verbose=0)\n",
      "\n",
      "With 20% Holdout: 0.5939418905523873\n",
      "Testing on Sample: 0.8699668543360999\n",
      "\n",
      "Cross Validation\n",
      "[0.9056504  0.89679262 0.89979653 0.89744981 0.8973752  0.89702252\n",
      " 0.89491997 0.89817553 0.90634156 0.8975712 ]\n",
      "\n",
      " Confusion Matrix\n",
      "[[  1042 348290]\n",
      " [    13 349784]]\n",
      "\n",
      " Classification Report\n",
      "             precision    recall  f1-score   support\n",
      "\n",
      "      False       0.99      0.00      0.01    349332\n",
      "       True       0.50      1.00      0.67    349797\n",
      "\n",
      "avg / total       0.74      0.50      0.34    699129\n",
      "\n",
      "\n",
      " Roc Auc Score\n",
      "0.5014728356999242\n",
      "--- 13907.97999215126 seconds ---\n",
      "\n",
      "\n",
      "Model Type:  LogisticRegression(C=1.0, class_weight=None, dual=False, fit_intercept=True,\n",
      "          intercept_scaling=1, max_iter=100, multi_class='ovr', n_jobs=1,\n",
      "          penalty='l2', random_state=None, solver='lbfgs', tol=0.0001,\n",
      "          verbose=0, warm_start=False)\n",
      "\n",
      "With 20% Holdout: 0.5236201044442442\n",
      "Testing on Sample: 0.8696541849876662\n",
      "\n",
      "Cross Validation\n",
      "[0.88208843 0.86964955 0.86965545 0.86965545 0.86965545 0.86965545\n",
      " 0.86965545 0.86965545 0.86965545 0.86951892]\n",
      "\n",
      " Confusion Matrix\n",
      "[[     0 349332]\n",
      " [     0 349797]]\n",
      "\n",
      " Classification Report\n",
      "             precision    recall  f1-score   support\n",
      "\n",
      "      False       0.00      0.00      0.00    349332\n",
      "       True       0.50      1.00      0.67    349797\n",
      "\n",
      "avg / total       0.25      0.50      0.33    699129\n",
      "\n",
      "\n",
      " Roc Auc Score\n",
      "0.5\n",
      "--- 178.16131496429443 seconds ---\n"
     ]
    }
   ],
   "source": [
    "from sklearn.model_selection import cross_val_score \n",
    "from sklearn.metrics import mean_squared_error\n",
    "from math import sqrt\n",
    "\n",
    "from sklearn.metrics import roc_auc_score\n",
    "from sklearn.metrics import classification_report\n",
    "model_names = [nb, decision_tree, gd_sr, gd_clf, regrfit]\n",
    "for model_name in model_names:\n",
    "    print('\\n\\nModel Type: ', model_name)\n",
    "    print('\\nWith 20% Holdout: ' + str(model_name.fit(X_train, y_train).score(X_test, y_test)))\n",
    "    print('Testing on Sample: ' + str(model_name.fit(pca_data, target).score(pca_data, target)))\n",
    "\n",
    "    print('\\nCross Validation')\n",
    "    print(cross_val_score(model_name, selected_data, target, cv=10))\n",
    "\n",
    "    prediction = model_name.predict(X_test)\n",
    "    from sklearn.metrics import confusion_matrix\n",
    "    cnf_matrix = confusion_matrix(y_test, prediction)\n",
    "    print('\\n Confusion Matrix')\n",
    "    print(cnf_matrix)\n",
    "\n",
    "    print('\\n Classification Report')\n",
    "    print(classification_report(y_test, prediction))\n",
    "\n",
    "    print('\\n Roc Auc Score')\n",
    "    print(roc_auc_score(y_test, prediction))\n",
    "    print(\"--- %s seconds ---\" % (time.time() - start_time - reset_time))\n",
    "    reset_time = time.time() - start_time"
   ]
  },
  {
   "cell_type": "markdown",
   "metadata": {},
   "source": [
    "For PCA feature selection, we can see that the accuracy across all models is much lower then the models using SKB or no feature selection. Most likely this is due to PCA getting rid of all the significant variances in the data by omiting the outliers in our data. The outliers in this case will be the times where there is a delay in our trains, and therefore our models become unable to predict when delays can occur."
   ]
  },
  {
   "cell_type": "markdown",
   "metadata": {},
   "source": [
    "# Conclusion"
   ]
  },
  {
   "cell_type": "markdown",
   "metadata": {},
   "source": [
    "In conclusion, our best three models to use in detecting delays in the train schedules would be the decision tree, random forest and gradient boost models. For Logistic Regression it was ineffective largely due to being unable to correctly ascertain the right alpha value. Naive Bayes also does not do too well in this scenerio due to the larger data set and its inability to accurately detect and adjust for outliers compared to models like the decision tree. \n",
    "\n",
    "Between the three best models, gradient boost worked the best in this scenerio. This is most likely due to the models ability to continually detect outliers in the data and recycle those data back into the model to be retested. This makes it so that even if the parameters you give it are not the best, it'll still be able to detect them. The parameters I chose for random forest in this model, could have been better if I increased the n-estimator and increased the depth range from 1-3 to 1-5. The main problem was that my system was already taking roughly 2 days to parse through all the models, and I was afraid that increasing the depth of the random forest tree will only exponentially make it take much longer then it was already taking. Ideally, I believe a depth five would have made the random forest tree acquire an accuracy that is potentially higher then those seen in the decision and gradient boost model. \n",
    "\n",
    "Between the feature selection types, no feature selection or SKB were the best choices for this model. Normally the concern in not using feature selection is that the models either take much longer then if you use a feature selection method or the models become inaccurate due to locking onto redundant data which causes the models accuracy to drop. However in this case the time difference between SKB and no feature selection is roughly the same in terms of run time and both models maintain relatively similar accuracy across its cross validation and classification report score. "
   ]
  },
  {
   "cell_type": "markdown",
   "metadata": {},
   "source": [
    "# Future Improvments"
   ]
  },
  {
   "cell_type": "markdown",
   "metadata": {},
   "source": [
    "In the future I will definently choose to alter my projects scope to be more concise rather then broad. For example, instead of testing for whether a train is delayed or not, I should have tested if a train was significantly delayed by a certain amount or better yet created a new feature with varying values for how late a train was and train a model around detecting if a train was slightly delayed, delayed, or majorly delayed. This could have been much more useful then a model that only tests for if something is delayed (while helpful isn't very concise or useful to the average person). \n",
    "\n",
    "I also would have taken more time to explore my data, when I first started creating this I believed that some plots to shows the overall problem and then a heatmap was all I would need in order to start creating models. While this somewhat worked out for me, I feel that if I took more time making plots I would have been able to create a more interesting project topic then the one I came up with. \n",
    "\n",
    "I'd get a new computer...or choose a dataset with less rows so it didn't take me 2 days to view results then have to rerun them ><"
   ]
  },
  {
   "cell_type": "code",
   "execution_count": null,
   "metadata": {},
   "outputs": [],
   "source": []
  }
 ],
 "metadata": {
  "kernelspec": {
   "display_name": "Python 3",
   "language": "python",
   "name": "python3"
  },
  "language_info": {
   "codemirror_mode": {
    "name": "ipython",
    "version": 3
   },
   "file_extension": ".py",
   "mimetype": "text/x-python",
   "name": "python",
   "nbconvert_exporter": "python",
   "pygments_lexer": "ipython3",
   "version": "3.7.1"
  }
 },
 "nbformat": 4,
 "nbformat_minor": 2
}
