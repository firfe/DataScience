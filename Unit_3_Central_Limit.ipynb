{
 "cells": [
  {
   "cell_type": "code",
   "execution_count": 1,
   "metadata": {},
   "outputs": [
    {
     "name": "stdout",
     "output_type": "stream",
     "text": [
      "Standard Deviation of sample1 is: 1.3917973990491574 \n",
      "Mean of sample1 is: 2.23\n",
      "\n",
      "Standard Deviation of sample2 is: 1.643654464904348 \n",
      "Mean of sample2 is: 4.72\n"
     ]
    }
   ],
   "source": [
    "import numpy as np\n",
    "import pandas as pd\n",
    "import scipy\n",
    "import matplotlib.pyplot as plt\n",
    "%matplotlib inline\n",
    "\n",
    "pop1 = np.random.binomial(10, 0.2, 10000)\n",
    "pop2 = np.random.binomial(10,0.5, 10000) \n",
    "\n",
    "# Let’s make histograms for the two groups. \n",
    "\n",
    "#plt.hist(pop1, alpha=0.5, label='Population 1') \n",
    "#plt.hist(pop2, alpha=0.5, label='Population 2') \n",
    "#plt.legend(loc='upper right') \n",
    "#plt.show()\n",
    "\n",
    "sample1 = np.random.choice(pop1, 100, replace=True)\n",
    "sample2 = np.random.choice(pop2, 100, replace=True)\n",
    "\n",
    "print('Standard Deviation of sample1 is:', np.std(sample1), '\\nMean of sample1 is:', np.mean(sample1))\n",
    "print('\\nStandard Deviation of sample2 is:', np.std(sample2), '\\nMean of sample2 is:', np.mean(sample2))"
   ]
  },
  {
   "cell_type": "code",
   "execution_count": 2,
   "metadata": {},
   "outputs": [
    {
     "data": {
      "image/png": "[encoded data removed]",
      "text/plain": [
       "<Figure size 432x288 with 1 Axes>"
      ]
     },
     "metadata": {
      "needs_background": "light"
     },
     "output_type": "display_data"
    },
    {
     "data": {
      "image/png": "[encoded data removed]",
      "text/plain": [
       "<Figure size 432x288 with 1 Axes>"
      ]
     },
     "metadata": {
      "needs_background": "light"
     },
     "output_type": "display_data"
    }
   ],
   "source": [
    "#Question 1: I believe that increasing the sample size will decrease the standard deviation as there will be more data sets\n",
    "#which would then decrease the variance and influence of outliers on the std deviation, \n",
    "#lowering the sample size will increase the standard deviation as outliers will have a larger sway. For the mean,\n",
    "#it should remain relatively the same without a huge increase or decrease (thought the largest change should be with a lower\n",
    "#data set if there were to be a drastic change)\n",
    "\n",
    "pop11 = np.random.choice(pop1, 1000, replace=True)\n",
    "pop21 = np.random.choice(pop2, 1000, replace=True) \n",
    "pop12 = np.random.choice(pop1, 20, replace=True)\n",
    "pop22 = np.random.choice(pop2, 20, replace=True)\n",
    "\n",
    "plt.subplot(1,2,1)\n",
    "plt.title('Bigger Size')\n",
    "plt.hist(pop11, alpha=0.5, label='Population 1') \n",
    "plt.hist(pop21, alpha=0.5, label='Population 2') \n",
    "plt.legend(loc='upper right') \n",
    "plt.show()\n",
    "\n",
    "plt.subplot(1,2,2)\n",
    "plt.title('Smaller Size')\n",
    "plt.hist(pop12, alpha=0.5, label='Population 1') \n",
    "plt.hist(pop22, alpha=0.5, label='Population 2') \n",
    "plt.legend(loc='upper right') \n",
    "plt.show()"
   ]
  },
  {
   "cell_type": "code",
   "execution_count": 3,
   "metadata": {},
   "outputs": [
    {
     "name": "stdout",
     "output_type": "stream",
     "text": [
      "Standard Deviation of sample 1 large is: 1.3332212869587705 \n",
      "Mean is: 1.961\n",
      "\n",
      "Standard Deviation of sample 1 small is: 1.268857754044952 \n",
      "Mean 12 is: 1.7\n",
      "\n",
      "Standard Deviation of sample 2 large is: 1.596956793404255 \n",
      "Mean 21 is: 5.027\n",
      "\n",
      "Standard Deviation of sample 2 is: 1.8275666882497066 \n",
      "Mean is: 4.6\n"
     ]
    }
   ],
   "source": [
    "print('Standard Deviation of sample 1 large is:', np.std(pop11), '\\nMean is:', np.mean(pop11))\n",
    "print('\\nStandard Deviation of sample 1 small is:', np.std(pop12), '\\nMean 12 is:', np.mean(pop12))\n",
    "print('\\nStandard Deviation of sample 2 large is:', np.std(pop21), '\\nMean 21 is:', np.mean(pop21))\n",
    "print('\\nStandard Deviation of sample 2 is:', np.std(pop22), '\\nMean is:', np.mean(pop22))"
   ]
  },
  {
   "cell_type": "code",
   "execution_count": 4,
   "metadata": {},
   "outputs": [
    {
     "name": "stdout",
     "output_type": "stream",
     "text": [
      "Mean of larger new pop 1: 3.07 \n",
      "Std is: 1.4829362764461593\n",
      "Mean of smaller new pop 1: 2.7 \n",
      "Std is: 1.2688577540449522\n",
      "T-Value is: 1.2866230644693146\n"
     ]
    }
   ],
   "source": [
    "#Results: For sample 1, the largest fluctuation was in the mean with a smaller data set\n",
    "#For sample 2, the largest fluctuation was in the standard deviation with a smaller data set\n",
    "newpop1 = np.random.binomial(10, 0.3, 10000)\n",
    "\n",
    "newsample11 = np.random.choice(newpop1, 1000, replace=True)\n",
    "newsample111 = np.random.choice(newpop1, 20, replace=True)\n",
    "\n",
    "print('Mean of larger new pop 1:', newsample11.mean(),'\\nStd is:',newsample11.std())\n",
    "print('Mean of smaller new pop 1:',newsample111.mean(), '\\nStd is:',newsample111.std())\n",
    "\n",
    "diff = newsample111.mean()-newsample11.mean()\n",
    "\n",
    "size = np.array([len(newsample11), len(newsample111)])\n",
    "sd = np.array([newsample11.std(), newsample111.std()])\n",
    "\n",
    "diff_se = (sum(sd ** 2 / size)) ** 0.5  \n",
    "\n",
    "#The difference between the means divided by the standard error: T-value.  \n",
    "print('T-Value is:',abs(diff)/diff_se)"
   ]
  },
  {
   "cell_type": "code",
   "execution_count": 6,
   "metadata": {},
   "outputs": [
    {
     "name": "stdout",
     "output_type": "stream",
     "text": [
      "Mean of larger new pop 1: 3.991 \n",
      "Std is: 1.5036352616243078\n",
      "Mean of smaller new pop 1: 4.45 \n",
      "Std is: 1.5321553446044562\n",
      "T-Value is: 1.3270335124308503\n"
     ]
    }
   ],
   "source": [
    "newpop1 = np.random.binomial(10, 0.4, 10000)\n",
    "\n",
    "newsample11 = np.random.choice(newpop1, 1000, replace=True)\n",
    "newsample111 = np.random.choice(newpop1, 20, replace=True)\n",
    "\n",
    "print('Mean of larger new pop 1:', newsample11.mean(),'\\nStd is:',newsample11.std())\n",
    "print('Mean of smaller new pop 1:',newsample111.mean(), '\\nStd is:',newsample111.std())\n",
    "\n",
    "diff = newsample111.mean()-newsample11.mean()\n",
    "\n",
    "size = np.array([len(newsample11), len(newsample111)])\n",
    "sd = np.array([newsample11.std(), newsample111.std()])\n",
    "\n",
    "diff_se = (sum(sd ** 2 / size)) ** 0.5  \n",
    "\n",
    "#The difference between the means divided by the standard error: T-value.  \n",
    "print('T-Value is:',abs(diff)/diff_se)"
   ]
  },
  {
   "cell_type": "code",
   "execution_count": 10,
   "metadata": {},
   "outputs": [
    {
     "name": "stdout",
     "output_type": "stream",
     "text": [
      "Mean of larger new pop 1: 7.816 \n",
      "Std is: 2.8213727155411426\n",
      "Mean of smaller new pop 1: 7.4 \n",
      "Std is: 2.5377155080899043\n",
      "T-Value is: 0.7242067834077165\n"
     ]
    }
   ],
   "source": [
    "newpop1 = np.random.poisson(8, 10000)\n",
    "newsample11 = np.random.choice(newpop1, 1000, replace=True)\n",
    "newsample111 = np.random.choice(newpop1, 20, replace=True)\n",
    "\n",
    "print('Mean of larger new pop 1:', newsample11.mean(),'\\nStd is:',newsample11.std())\n",
    "print('Mean of smaller new pop 1:',newsample111.mean(), '\\nStd is:',newsample111.std())\n",
    "\n",
    "diff = newsample111.mean()-newsample11.mean()\n",
    "\n",
    "size = np.array([len(newsample11), len(newsample111)])\n",
    "sd = np.array([newsample11.std(), newsample111.std()])\n",
    "\n",
    "diff_se = (sum(sd ** 2 / size)) ** 0.5  \n",
    "\n",
    "#The difference between the means divided by the standard error: T-value.  \n",
    "print('T-Value is:',abs(diff)/diff_se)"
   ]
  },
  {
   "cell_type": "code",
   "execution_count": null,
   "metadata": {},
   "outputs": [],
   "source": [
    "#Question 3. Yes they still accurately represent the population values. "
   ]
  }
 ],
 "metadata": {
  "kernelspec": {
   "display_name": "Python 3",
   "language": "python",
   "name": "python3"
  },
  "language_info": {
   "codemirror_mode": {
    "name": "ipython",
    "version": 3
   },
   "file_extension": ".py",
   "mimetype": "text/x-python",
   "name": "python",
   "nbconvert_exporter": "python",
   "pygments_lexer": "ipython3",
   "version": "3.7.0"
  }
 },
 "nbformat": 4,
 "nbformat_minor": 2
}
