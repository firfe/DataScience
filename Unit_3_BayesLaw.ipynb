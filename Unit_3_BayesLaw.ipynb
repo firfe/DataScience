{
 "cells": [
  {
   "cell_type": "code",
   "execution_count": null,
   "metadata": {},
   "outputs": [],
   "source": [
    "#1.P(Positive Given you are a sufferer) * P(Positive Given you are a non-Sufferer)\n",
    "#  P(Sufferer|Positive) * P(Non-Sufferer|Positive)\n",
    "#  P(Positive|Sufferer)*P(Positive)/P(Sufferer)  *  P(Positive|Non-Sufferer)*P(Positive)/P(Non-Sufferer)\n",
    "# \n",
    "\n",
    "#2.P(Tripshaw's Disease | Positive Result)\n",
    "#3.P()\n",
    "#4.10%"
   ]
  }
 ],
 "metadata": {
  "kernelspec": {
   "display_name": "Python 3",
   "language": "python",
   "name": "python3"
  },
  "language_info": {
   "codemirror_mode": {
    "name": "ipython",
    "version": 3
   },
   "file_extension": ".py",
   "mimetype": "text/x-python",
   "name": "python",
   "nbconvert_exporter": "python",
   "pygments_lexer": "ipython3",
   "version": "3.7.0"
  }
 },
 "nbformat": 4,
 "nbformat_minor": 2
}
