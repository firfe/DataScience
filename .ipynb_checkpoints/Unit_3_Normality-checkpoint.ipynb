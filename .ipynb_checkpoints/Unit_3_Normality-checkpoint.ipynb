{
 "cells": [
  {
   "cell_type": "code",
   "execution_count": 18,
   "metadata": {},
   "outputs": [
    {
     "data": {
      "image/png": "[encoded data removed]",
      "text/plain": [
       "<Figure size 432x288 with 1 Axes>"
      ]
     },
     "metadata": {
      "needs_background": "light"
     },
     "output_type": "display_data"
    }
   ],
   "source": [
    "import numpy as np\n",
    "import pandas as pd\n",
    "import matplotlib.pyplot as plt\n",
    "%matplotlib inline\n",
    "\n",
    "testvar = np.random.binomial(50, 0.2, 100)\n",
    "plt.hist(testvar, edgecolor='k')\n",
    "plt.show()"
   ]
  },
  {
   "cell_type": "code",
   "execution_count": 15,
   "metadata": {},
   "outputs": [
    {
     "name": "stdout",
     "output_type": "stream",
     "text": [
      "Standard Deviation is 2.880468711859235 \n",
      "Mean is 10.27\n"
     ]
    }
   ],
   "source": [
    "print('Standard Deviation is', np.std(testvar),'\\nMean is',np.mean(testvar))"
   ]
  },
  {
   "cell_type": "code",
   "execution_count": 19,
   "metadata": {},
   "outputs": [
    {
     "data": {
      "image/png": "[encoded data removed]",
      "text/plain": [
       "<Figure size 432x288 with 1 Axes>"
      ]
     },
     "metadata": {
      "needs_background": "light"
     },
     "output_type": "display_data"
    }
   ],
   "source": [
    "plt.hist(testvar, color='c', edgecolor='k')\n",
    "plt.axvline(np.std(testvar), linestyle='dashed')\n",
    "plt.axvline(np.mean(testvar))\n",
    "plt.show()"
   ]
  },
  {
   "cell_type": "code",
   "execution_count": null,
   "metadata": {},
   "outputs": [],
   "source": [
    "#Question 4: With a larger data having the mean will allow us to accurately gauge generally where the largest majority\n",
    "#of our data lies with the standard deviation showing us the general upper and lower bound of where our 'relevant data' lies.\n",
    "#Although with this data we can see generally where the mean is (due to it being the highest bar in the histogram).\n",
    "#Without the mean the mean it would be harder to gauge where the average data is if the data was more balanced/larger.\n",
    "#With std deviation, it is a very useful tool to show us how compact our data is and without it it'll be much harder to tell\n",
    "#if we have alot of outliers or not from the average."
   ]
  },
  {
   "cell_type": "code",
   "execution_count": 31,
   "metadata": {},
   "outputs": [
    {
     "data": {
      "image/png": "[encoded data removed]",
      "text/plain": [
       "<Figure size 432x288 with 1 Axes>"
      ]
     },
     "metadata": {
      "needs_background": "light"
     },
     "output_type": "display_data"
    }
   ],
   "source": [
    "#Aditionally....\n",
    "meanvar = np.random.normal(5,0.5,size=100) #dataset with a mean of 5 and std deviation of 0.5\n",
    "stdvar = np.random.normal(10,1,size=100) #dataset with a mean of 10 and std deviation of 1\n",
    "total = np.concatenate((meanvar,stdvar))\n",
    "plt.hist(total, color='r', edgecolor='k')\n",
    "plt.axvline(np.std(total), linestyle='dashed')\n",
    "plt.axvline(np.mean(total))\n",
    "plt.show()"
   ]
  },
  {
   "cell_type": "code",
   "execution_count": 32,
   "metadata": {},
   "outputs": [
    {
     "name": "stdout",
     "output_type": "stream",
     "text": [
      "Standard Deviation is 2.6509056003671145 \n",
      "Mean is 7.526290263637617\n"
     ]
    }
   ],
   "source": [
    "print('Standard Deviation is', np.std(total),'\\nMean is',np.mean(total))"
   ]
  },
  {
   "cell_type": "code",
   "execution_count": null,
   "metadata": {},
   "outputs": [],
   "source": [
    "#Question 5: The resulting mean is somewhere half way between 10 and 5, which does make sense since we just added the two\n",
    "#charts together which resulted in the average becoming the halfway point between the first and second graph. The Standard\n",
    "#deviation however became 2.65, which means a higher variance in our data. This makes sense because the data set has nearly\n",
    "#doubled which would naturally result in a higher variance (especially since there is no real commonality between them)"
   ]
  }
 ],
 "metadata": {
  "kernelspec": {
   "display_name": "Python 3",
   "language": "python",
   "name": "python3"
  },
  "language_info": {
   "codemirror_mode": {
    "name": "ipython",
    "version": 3
   },
   "file_extension": ".py",
   "mimetype": "text/x-python",
   "name": "python",
   "nbconvert_exporter": "python",
   "pygments_lexer": "ipython3",
   "version": "3.7.0"
  }
 },
 "nbformat": 4,
 "nbformat_minor": 2
}
