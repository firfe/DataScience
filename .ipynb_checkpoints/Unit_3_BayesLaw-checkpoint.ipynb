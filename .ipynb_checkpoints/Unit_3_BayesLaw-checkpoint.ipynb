{
 "cells": [
  {
   "cell_type": "markdown",
   "metadata": {},
   "source": [
    "#1.The chance of recieving a positive applicant is the chance of a non-sufferer added onto the chance of a sufferer testing\n",
    "for positive. This means .98 * .005 + .1*.995 which becomes a 10.44% chance of a positive testing. \n",
    "\n",
    "#2. The chance of diagnosing a sufferer of Tripshaw is roughly 98%, because there is 98% chance of identifying a a tripshaw applicant if the test is positive.\n",
    "\n",
    "#3. The chance of identifying a non-sufferer of Tripshaw is roughly 90% because there is a 10% chance of the test being false positive for non-sufferers. \n",
    "\n",
    "#4. The chance to misclassify the person is the opposite of the probability of the first with the difference that we test for the chance of . So 1-(.98*.005 + .9*.995), which is 9.96%"
   ]
  }
 ],
 "metadata": {
  "kernelspec": {
   "display_name": "Python 3",
   "language": "python",
   "name": "python3"
  },
  "language_info": {
   "codemirror_mode": {
    "name": "ipython",
    "version": 3
   },
   "file_extension": ".py",
   "mimetype": "text/x-python",
   "name": "python",
   "nbconvert_exporter": "python",
   "pygments_lexer": "ipython3",
   "version": "3.7.0"
  }
 },
 "nbformat": 4,
 "nbformat_minor": 2
}
