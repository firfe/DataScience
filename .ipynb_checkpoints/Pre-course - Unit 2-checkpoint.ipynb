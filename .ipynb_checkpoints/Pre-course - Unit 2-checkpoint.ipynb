{
 "cells": [
  {
   "cell_type": "code",
   "execution_count": 1,
   "metadata": {},
   "outputs": [
    {
     "data": {
      "text/plain": [
       "<matplotlib.axes._subplots.AxesSubplot at 0x1a8df1b9780>"
      ]
     },
     "execution_count": 1,
     "metadata": {},
     "output_type": "execute_result"
    }
   ],
   "source": [
    "import pandas as pd\n",
    "import numpy as np\n",
    "import matplotlib.pyplot as plt\n",
    "#https://www.kaggle.com/city-of-seattle/seattle-use-of-force#use-of-force.csv\n",
    "#https://www.kaggle.com/lava18/google-play-store-apps#googleplaystore.csv\n",
    "def convert_installs(cell):\n",
    "    cell = cell[:-1]\n",
    "    return cell\n",
    "\n",
    "df = pd.read_csv('googleplaystore.csv', nrows=500, converters= {'Installs': convert_installs})\n",
    "#df\n",
    "histogram=df['Rating']\n",
    "histogram.hist(range=(2,5), bins = 50, rwidth=.5)"
   ]
  },
  {
   "cell_type": "code",
   "execution_count": 2,
   "metadata": {},
   "outputs": [
    {
     "data": {
      "text/plain": [
       "<matplotlib.collections.PathCollection at 0x1a8df3b8898>"
      ]
     },
     "execution_count": 2,
     "metadata": {},
     "output_type": "execute_result"
    },
    {
     "data": {
      "image/png": "[encoded data removed]",
      "text/plain": [
       "<Figure size 432x288 with 1 Axes>"
      ]
     },
     "metadata": {
      "needs_background": "light"
     },
     "output_type": "display_data"
    }
   ],
   "source": [
    "#plt.plot(df['Installs'], df['Rating'] )\n",
    "#plt.xticks(df['Installs'], rotation='vertical')\n",
    "plt.scatter(x=df['Installs'],y=df['Rating'])\n",
    "#Messy plot, but using a scatter plot for installs and ratings lets us see if a higher review results in more installs,\n",
    "#or if a "
   ]
  },
  {
   "cell_type": "code",
   "execution_count": null,
   "metadata": {},
   "outputs": [],
   "source": [
    "#categories=df['Category']\n",
    "plt.hist(df['Category'], bins=100)"
   ]
  },
  {
   "cell_type": "code",
   "execution_count": null,
   "metadata": {},
   "outputs": [],
   "source": [
    "plt.subplot(1, 2, 1)\n",
    "plt.plot(df['installs'], color='purple')\n",
    "plt.ylabel('Values')\n",
    "plt.title('Random Series')\n",
    "\n",
    "plt.subplot(1, 2, 2)\n",
    "plt.plot(df['installs'], color='green')\n",
    "plt.ylabel('Shifted Values')\n",
    "plt.title('Shifted Series')\n",
    "plt.show()"
   ]
  },
  {
   "cell_type": "code",
   "execution_count": null,
   "metadata": {},
   "outputs": [],
   "source": []
  }
 ],
 "metadata": {
  "kernelspec": {
   "display_name": "Python 3",
   "language": "python",
   "name": "python3"
  },
  "language_info": {
   "codemirror_mode": {
    "name": "ipython",
    "version": 3
   },
   "file_extension": ".py",
   "mimetype": "text/x-python",
   "name": "python",
   "nbconvert_exporter": "python",
   "pygments_lexer": "ipython3",
   "version": "3.7.0"
  }
 },
 "nbformat": 4,
 "nbformat_minor": 2
}
