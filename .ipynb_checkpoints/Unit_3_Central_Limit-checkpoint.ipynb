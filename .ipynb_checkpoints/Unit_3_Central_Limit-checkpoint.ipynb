{
 "cells": [
  {
   "cell_type": "code",
   "execution_count": 1,
   "metadata": {},
   "outputs": [
    {
     "name": "stdout",
     "output_type": "stream",
     "text": [
      "Standard Deviation of sample1 is: 1.2401209618420295 \n",
      "Mean of sample1 is: 1.89\n",
      "\n",
      "Standard Deviation of sample2 is: 1.7741476826916074 \n",
      "Mean of sample2 is: 4.82\n"
     ]
    }
   ],
   "source": [
    "import numpy as np\n",
    "import pandas as pd\n",
    "import scipy\n",
    "import matplotlib.pyplot as plt\n",
    "%matplotlib inline\n",
    "\n",
    "pop1 = np.random.binomial(10, 0.2, 10000)\n",
    "pop2 = np.random.binomial(10,0.5, 10000) \n",
    "\n",
    "# Let’s make histograms for the two groups. \n",
    "\n",
    "#plt.hist(pop1, alpha=0.5, label='Population 1') \n",
    "#plt.hist(pop2, alpha=0.5, label='Population 2') \n",
    "#plt.legend(loc='upper right') \n",
    "#plt.show()\n",
    "\n",
    "sample1 = np.random.choice(pop1, 100, replace=True)\n",
    "sample2 = np.random.choice(pop2, 100, replace=True)\n",
    "\n",
    "print('Standard Deviation of sample1 is:', np.std(sample1), '\\nMean of sample1 is:', np.mean(sample1))\n",
    "print('\\nStandard Deviation of sample2 is:', np.std(sample2), '\\nMean of sample2 is:', np.mean(sample2))"
   ]
  },
  {
   "cell_type": "code",
   "execution_count": 3,
   "metadata": {},
   "outputs": [
    {
     "data": {
      "image/png": "[encoded data removed]",
      "text/plain": [
       "<Figure size 432x288 with 1 Axes>"
      ]
     },
     "metadata": {
      "needs_background": "light"
     },
     "output_type": "display_data"
    },
    {
     "data": {
      "image/png": "[encoded data removed]",
      "text/plain": [
       "<Figure size 432x288 with 1 Axes>"
      ]
     },
     "metadata": {
      "needs_background": "light"
     },
     "output_type": "display_data"
    }
   ],
   "source": [
    "#Question 1: I believe that increasing the sample size will decrease the standard deviation as there will be more data sets\n",
    "#which would then decrease the variance and influence of outliers on the std deviation, \n",
    "#lowering the sample size will increase the standard deviation as outliers will have a larger sway. For the mean,\n",
    "#it should remain relatively the same without a huge increase or decrease (thought the largest change should be with a lower\n",
    "#data set if there were to be a drastic change)\n",
    "\n",
    "pop11 = np.random.choice(pop1, 1000, replace=True)\n",
    "pop21 = np.random.choice(pop2, 1000, replace=True) \n",
    "pop12 = np.random.choice(pop1, 20, replace=True)\n",
    "pop22 = np.random.choice(pop2, 20, replace=True)\n",
    "\n",
    "plt.subplot(1,2,1)\n",
    "plt.title('Bigger Size')\n",
    "plt.hist(pop11, alpha=0.5, label='Population 1') \n",
    "plt.hist(pop21, alpha=0.5, label='Population 2') \n",
    "plt.legend(loc='upper right') \n",
    "plt.show()\n",
    "\n",
    "plt.subplot(1,2,2)\n",
    "plt.title('Smaller Size')\n",
    "plt.hist(pop12, alpha=0.5, label='Population 1') \n",
    "plt.hist(pop22, alpha=0.5, label='Population 2') \n",
    "plt.legend(loc='upper right') \n",
    "plt.show()"
   ]
  },
  {
   "cell_type": "code",
   "execution_count": 7,
   "metadata": {},
   "outputs": [
    {
     "name": "stdout",
     "output_type": "stream",
     "text": [
      "Standard Deviation of sample 1 large is: 1.252804454015071 \n",
      "Mean is: 1.941\n",
      "\n",
      "Standard Deviation of sample 1 small is: 1.319090595827292 \n",
      "Mean 12 is: 2.4\n",
      "\n",
      "Standard Deviation of sammple 2 large is: 1.6149894736499057 \n",
      "Mean 21 is: 5.053\n",
      "\n",
      "Standard Deviation of sample 2 is: 1.378404875209022 \n",
      "Mean is: 5.0\n"
     ]
    }
   ],
   "source": [
    "print('Standard Deviation of sample 1 large is:', np.std(pop11), '\\nMean is:', np.mean(pop11))\n",
    "print('\\nStandard Deviation of sample 1 small is:', np.std(pop12), '\\nMean 12 is:', np.mean(pop12))\n",
    "print('\\nStandard Deviation of sample 2 large is:', np.std(pop21), '\\nMean 21 is:', np.mean(pop21))\n",
    "print('\\nStandard Deviation of sample 2 is:', np.std(pop22), '\\nMean is:', np.mean(pop22))"
   ]
  },
  {
   "cell_type": "code",
   "execution_count": 37,
   "metadata": {},
   "outputs": [
    {
     "name": "stdout",
     "output_type": "stream",
     "text": [
      "Mean of larger new pop 1: 2.989 \n",
      "Std is: 1.440444028763353\n",
      "Mean of smaller new pop 1: 3.3 \n",
      "Std is: 1.6155494421403513\n",
      "T-Value is: 0.7821112370097624\n"
     ]
    }
   ],
   "source": [
    "#Results: For sample 1, the largest fluctuation was in the mean with a smaller data set\n",
    "#For sample 2, the largest fluctuation was in the standard deviation with a smaller data set\n",
    "newpop1 = np.random.binomial(10, 0.3, 10000)\n",
    "\n",
    "newsample11 = np.random.choice(newpop1, 1000, replace=True)\n",
    "newsample111 = np.random.choice(newpop1, 20, replace=True)\n",
    "\n",
    "print('Mean of larger new pop 1:', newsample11.mean(),'\\nStd is:',newsample11.std())\n",
    "print('Mean of smaller new pop 1:',newsample111.mean(), '\\nStd is:',newsample111.std())\n",
    "\n",
    "diff = newsample111.mean()-newsample11.mean()\n",
    "\n",
    "size = np.array([len(newsample1), len(newsample11), len(newsample111)])\n",
    "sd = np.array([newsample1.std(), newsample11.std(), newsample111.std()])\n",
    "\n",
    "diff_se = (sum(sd ** 2 / size)) ** 0.5  \n",
    "\n",
    "#The difference between the means divided by the standard error: T-value.  \n",
    "print('T-Value is:',abs(diff)/diff_se)"
   ]
  },
  {
   "cell_type": "code",
   "execution_count": 38,
   "metadata": {},
   "outputs": [
    {
     "name": "stdout",
     "output_type": "stream",
     "text": [
      "Mean of larger new pop 1: 4.001 \n",
      "Std is: 1.551450611524582\n",
      "Mean of smaller new pop 1: 3.65 \n",
      "Std is: 1.3518505834595773\n",
      "T-Value is: 1.0161073128879876\n"
     ]
    }
   ],
   "source": [
    "newpop1 = np.random.binomial(10, 0.4, 10000)\n",
    "\n",
    "newsample11 = np.random.choice(newpop1, 1000, replace=True)\n",
    "newsample111 = np.random.choice(newpop1, 20, replace=True)\n",
    "\n",
    "print('Mean of larger new pop 1:', newsample11.mean(),'\\nStd is:',newsample11.std())\n",
    "print('Mean of smaller new pop 1:',newsample111.mean(), '\\nStd is:',newsample111.std())\n",
    "\n",
    "diff = newsample111.mean()-newsample11.mean()\n",
    "\n",
    "size = np.array([len(newsample1), len(newsample11), len(newsample111)])\n",
    "sd = np.array([newsample1.std(), newsample11.std(), newsample111.std()])\n",
    "\n",
    "diff_se = (sum(sd ** 2 / size)) ** 0.5  \n",
    "\n",
    "#The difference between the means divided by the standard error: T-value.  \n",
    "print('T-Value is:',abs(diff)/diff_se)"
   ]
  },
  {
   "cell_type": "code",
   "execution_count": 29,
   "metadata": {},
   "outputs": [],
   "source": [
    "#Mean increases throughout, which shows a higher variance due to a larger P value, while the T value decreases due to a smaller\n",
    "#"
   ]
  },
  {
   "cell_type": "code",
   "execution_count": null,
   "metadata": {},
   "outputs": [],
   "source": []
  }
 ],
 "metadata": {
  "kernelspec": {
   "display_name": "Python 3",
   "language": "python",
   "name": "python3"
  },
  "language_info": {
   "codemirror_mode": {
    "name": "ipython",
    "version": 3
   },
   "file_extension": ".py",
   "mimetype": "text/x-python",
   "name": "python",
   "nbconvert_exporter": "python",
   "pygments_lexer": "ipython3",
   "version": "3.7.0"
  }
 },
 "nbformat": 4,
 "nbformat_minor": 2
}
