{
 "cells": [
  {
   "cell_type": "code",
   "execution_count": 15,
   "metadata": {},
   "outputs": [
    {
     "name": "stdout",
     "output_type": "stream",
     "text": [
      "The chances of getting HTTH, HHHH and TTHH are 0.0625\n"
     ]
    }
   ],
   "source": [
    "#For question 1, the chances of achieving each of the patterns are the same at .5**4, because the results are independent from\n",
    "#one another\n",
    "result = .5**4\n",
    "print('The chances of getting HTTH, HHHH and TTHH are', result)"
   ]
  },
  {
   "cell_type": "code",
   "execution_count": 16,
   "metadata": {},
   "outputs": [
    {
     "name": "stdout",
     "output_type": "stream",
     "text": [
      "The chances of not choosing a man is 0.5333333333333333\n"
     ]
    }
   ],
   "source": [
    "#For question 2, the chances of not choosing a man are the chances of choosing a women, which would be 24/45\n",
    "result = 24/45\n",
    "print('The chances of not choosing a man is', result)"
   ]
  },
  {
   "cell_type": "code",
   "execution_count": 17,
   "metadata": {},
   "outputs": [
    {
     "name": "stdout",
     "output_type": "stream",
     "text": [
      "The chances of Bernice crashing in a plane is 5e-06\n"
     ]
    }
   ],
   "source": [
    "#For question 3, you will need to multiply the chance of Bernice taking the plane AND then crashing in said plane. So therefore\n",
    "#you would multiply the chance of him taking the plane then crashing so...\n",
    "result = .1 * .00005\n",
    "print('The chances of Bernice crashing in a plane is', result)"
   ]
  },
  {
   "cell_type": "code",
   "execution_count": null,
   "metadata": {},
   "outputs": [],
   "source": [
    "#For question 4, the data is skewed heavily by the 5% of people that take said survey, as they will spend much longer normally\n",
    "#then people that do not take the survey"
   ]
  }
 ],
 "metadata": {
  "kernelspec": {
   "display_name": "Python 3",
   "language": "python",
   "name": "python3"
  },
  "language_info": {
   "codemirror_mode": {
    "name": "ipython",
    "version": 3
   },
   "file_extension": ".py",
   "mimetype": "text/x-python",
   "name": "python",
   "nbconvert_exporter": "python",
   "pygments_lexer": "ipython3",
   "version": "3.7.0"
  }
 },
 "nbformat": 4,
 "nbformat_minor": 2
}
