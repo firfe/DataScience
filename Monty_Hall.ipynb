{
 "cells": [
  {
   "cell_type": "markdown",
   "metadata": {},
   "source": [
    "Monty Hall Problem (Disclaimer: I've heard of this this problem before)\n",
    "Question: Does changing your answer after the host gets rid of 1 of the 3 doors increase your chances of picking the right door.\n",
    "Statistically: Yes | Real Life: Not necessarily\n",
    "Why I think the answer is yes, is because if you do not change your choice after the host eliminates one\n",
    "of the doors, then the probability of you choosing the right door is still 1/3 (because when you made the choice originally\n",
    "the chance of you guessing the right door is 1/3, and you not changing the answer keeps that probability at 1/3) but if you\n",
    "change your choice when there are only 2 doors left, then the probability of you choosing the correct door jumps to 1/2 (because\n",
    "when you made the new choice there are only 2 doors and thus the new probability is 1/2)\n",
    "\n",
    "Making no changes to your door choice \n",
    "ans = (1/3) * (1/3)\n",
    "print(ans)\n",
    "bns = (1/3) * (1/2)\n",
    "print(bns)\n",
    "\n",
    "This is what I initially thought as to the answer to the problem. However Bayes theorem applies the idea of the host not choosing a door randomly, which affects the probability of what the correct door will be based on that knowledge."
   ]
  },
  {
   "cell_type": "code",
   "execution_count": null,
   "metadata": {},
   "outputs": [],
   "source": []
  }
 ],
 "metadata": {
  "kernelspec": {
   "display_name": "Python 3",
   "language": "python",
   "name": "python3"
  },
  "language_info": {
   "codemirror_mode": {
    "name": "ipython",
    "version": 3
   },
   "file_extension": ".py",
   "mimetype": "text/x-python",
   "name": "python",
   "nbconvert_exporter": "python",
   "pygments_lexer": "ipython3",
   "version": "3.7.0"
  }
 },
 "nbformat": 4,
 "nbformat_minor": 2
}
